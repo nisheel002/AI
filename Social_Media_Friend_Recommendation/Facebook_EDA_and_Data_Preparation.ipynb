{
 "cells": [
  {
   "cell_type": "code",
   "execution_count": 1,
   "metadata": {},
   "outputs": [],
   "source": [
    "# pandas to create small dataframes \n",
    "import pandas as pd\n",
    "import numpy as np\n",
    "\n",
    "# general purpose packages\n",
    "import os\n",
    "import sys\n",
    "import random\n",
    "from datetime import datetime\n",
    "from itertools import product\n",
    "\n",
    "# visualization related packages\n",
    "import matplotlib.pylab as plt\n",
    "import seaborn as sns\n",
    "sns.set()\n",
    "\n",
    "# model, file saving packages\n",
    "import pickle\n",
    "\n",
    "\n",
    "# Graph package\n",
    "import networkx as nx\n",
    "\n",
    "# singular value decomposition relataed package\n",
    "from scipy.sparse.linalg import svds, eigs\n",
    "\n",
    "# package for partitioning the dataset into train, test\n",
    "from sklearn.model_selection import train_test_split"
   ]
  },
  {
   "cell_type": "markdown",
   "metadata": {},
   "source": [
    "<p style=\"font-size:32px;text-align:center\"> <b>Social network Graph Link Prediction - Facebook Challenge</b> </p>"
   ]
  },
  {
   "cell_type": "markdown",
   "metadata": {},
   "source": [
    "### Problem statement: \n",
    "Given a directed social graph, have to predict missing links to recommend users (Link Prediction in graph)"
   ]
  },
  {
   "cell_type": "markdown",
   "metadata": {},
   "source": [
    "### Data Overview\n",
    "Taken data from facebook's recruting challenge on kaggle https://www.kaggle.com/c/FacebookRecruiting  \n",
    "data contains two columns source and destination eac edge in graph \n",
    "    - Data columns (total 2 columns):  \n",
    "    - source_node         int64  \n",
    "    - destination_node    int64  "
   ]
  },
  {
   "cell_type": "markdown",
   "metadata": {},
   "source": [
    "### Mapping the problem into supervised learning problem:\n",
    "- Generated training samples of good and bad links from given directed graph and for each link got some features like no of followers, is he followed back, page rank, katz score, adar index, some svd fetures of adj matrix, some weight features etc. and trained ml model based on these features to predict link. \n",
    "- Some reference papers and videos :  \n",
    "    - https://www.cs.cornell.edu/home/kleinber/link-pred.pdf\n",
    "    - https://www3.nd.edu/~dial/publications/lichtenwalter2010new.pdf\n",
    "    - https://kaggle2.blob.core.windows.net/forum-message-attachments/2594/supervised_link_prediction.pdf\n",
    "    - https://www.youtube.com/watch?v=2M77Hgy17cg"
   ]
  },
  {
   "cell_type": "markdown",
   "metadata": {},
   "source": [
    "### Business objectives and constraints:  \n",
    "- No low-latency requirement.\n",
    "- Probability of prediction is useful to recommend ighest probability links"
   ]
  },
  {
   "cell_type": "markdown",
   "metadata": {},
   "source": [
    "### Performance metric for supervised learning:  \n",
    "- Both precision and recall is important so F1 score is good choice\n",
    "- Confusion matrix"
   ]
  },
  {
   "cell_type": "markdown",
   "metadata": {},
   "source": [
    "# Configs"
   ]
  },
  {
   "cell_type": "code",
   "execution_count": 2,
   "metadata": {},
   "outputs": [],
   "source": [
    "# path for existing edges & missing edges\n",
    "input_graph_csv_path = '/media/amd_3/20DAD539DAD50BC2/DSET_REPO/DataSets/Facebook/data/train.csv'"
   ]
  },
  {
   "cell_type": "code",
   "execution_count": 3,
   "metadata": {},
   "outputs": [],
   "source": [
    "# The below files will be created if doesnt exist.\n",
    "missing_egde_csv_path = './data/missing_edges.csv'\n",
    "\n",
    "train_labeled_csv_path = './data/Train_labeled.csv'\n",
    "test_labeled_csv_path = './data/Test_labeled.csv'"
   ]
  },
  {
   "cell_type": "code",
   "execution_count": 4,
   "metadata": {},
   "outputs": [],
   "source": [
    "dataset_sample_size = 100000"
   ]
  },
  {
   "cell_type": "markdown",
   "metadata": {},
   "source": [
    "# Create G"
   ]
  },
  {
   "cell_type": "code",
   "execution_count": 5,
   "metadata": {},
   "outputs": [],
   "source": [
    "def create_graph_from_dataframe(graph_df):\n",
    "\n",
    "    # remove duplicates\n",
    "    duplicated_info_series = graph_df.duplicated(subset=['source_node', \n",
    "                                       'destination_node'], \n",
    "                                       keep='first')\n",
    "    \n",
    "    graph_df = graph_df[~duplicated_info_series]\n",
    "    \n",
    "    # create graph\n",
    "    G = nx.from_pandas_edgelist(df=graph_df, source='source_node', \n",
    "                                target='destination_node', \n",
    "                                edge_attr=None, \n",
    "                                create_using=nx.DiGraph())\n",
    "    \n",
    "    # Basic information about this graph\n",
    "    print('Graph basic info:\\n', nx.info(G))\n",
    "    \n",
    "    return G"
   ]
  },
  {
   "cell_type": "code",
   "execution_count": 6,
   "metadata": {},
   "outputs": [
    {
     "name": "stdout",
     "output_type": "stream",
     "text": [
      "Input df shape :  (9437519, 2)\n"
     ]
    },
    {
     "data": {
      "text/html": [
       "<div>\n",
       "<style scoped>\n",
       "    .dataframe tbody tr th:only-of-type {\n",
       "        vertical-align: middle;\n",
       "    }\n",
       "\n",
       "    .dataframe tbody tr th {\n",
       "        vertical-align: top;\n",
       "    }\n",
       "\n",
       "    .dataframe thead th {\n",
       "        text-align: right;\n",
       "    }\n",
       "</style>\n",
       "<table border=\"1\" class=\"dataframe\">\n",
       "  <thead>\n",
       "    <tr style=\"text-align: right;\">\n",
       "      <th></th>\n",
       "      <th>source_node</th>\n",
       "      <th>destination_node</th>\n",
       "    </tr>\n",
       "  </thead>\n",
       "  <tbody>\n",
       "    <tr>\n",
       "      <th>0</th>\n",
       "      <td>1</td>\n",
       "      <td>690569</td>\n",
       "    </tr>\n",
       "    <tr>\n",
       "      <th>1</th>\n",
       "      <td>1</td>\n",
       "      <td>315892</td>\n",
       "    </tr>\n",
       "    <tr>\n",
       "      <th>2</th>\n",
       "      <td>1</td>\n",
       "      <td>189226</td>\n",
       "    </tr>\n",
       "    <tr>\n",
       "      <th>3</th>\n",
       "      <td>2</td>\n",
       "      <td>834328</td>\n",
       "    </tr>\n",
       "    <tr>\n",
       "      <th>4</th>\n",
       "      <td>2</td>\n",
       "      <td>1615927</td>\n",
       "    </tr>\n",
       "  </tbody>\n",
       "</table>\n",
       "</div>"
      ],
      "text/plain": [
       "   source_node  destination_node\n",
       "0            1            690569\n",
       "1            1            315892\n",
       "2            1            189226\n",
       "3            2            834328\n",
       "4            2           1615927"
      ]
     },
     "execution_count": 6,
     "metadata": {},
     "output_type": "execute_result"
    }
   ],
   "source": [
    "input_df = pd.read_csv(input_graph_csv_path, index_col=False)\n",
    "print('Input df shape : ', input_df.shape)\n",
    "input_df.head()"
   ]
  },
  {
   "cell_type": "code",
   "execution_count": 7,
   "metadata": {},
   "outputs": [
    {
     "name": "stdout",
     "output_type": "stream",
     "text": [
      "Graph basic info:\n",
      " Name: \n",
      "Type: DiGraph\n",
      "Number of nodes: 1862220\n",
      "Number of edges: 9437519\n",
      "Average in degree:   5.0679\n",
      "Average out degree:   5.0679\n"
     ]
    }
   ],
   "source": [
    "# create input graph\n",
    "G_input = create_graph_from_dataframe(input_df)"
   ]
  },
  {
   "cell_type": "markdown",
   "metadata": {},
   "source": [
    "## Displaying a subgraph"
   ]
  },
  {
   "cell_type": "code",
   "execution_count": 8,
   "metadata": {},
   "outputs": [
    {
     "name": "stdout",
     "output_type": "stream",
     "text": [
      "Graph basic info:\n",
      " Name: \n",
      "Type: DiGraph\n",
      "Number of nodes: 66\n",
      "Number of edges: 50\n",
      "Average in degree:   0.7576\n",
      "Average out degree:   0.7576\n",
      "Name: \n",
      "Type: DiGraph\n",
      "Number of nodes: 66\n",
      "Number of edges: 50\n",
      "Average in degree:   0.7576\n",
      "Average out degree:   0.7576\n"
     ]
    },
    {
     "data": {
      "image/png": "[encoded data removed]",
      "text/plain": [
       "<Figure size 432x288 with 1 Axes>"
      ]
     },
     "metadata": {},
     "output_type": "display_data"
    }
   ],
   "source": [
    "input_df_sample = input_df.iloc[0:50, :]\n",
    "subgraph = create_graph_from_dataframe(input_df_sample)\n",
    "pos=nx.spring_layout(subgraph)\n",
    "nx.draw(subgraph,pos,node_color='#A0CBE2',edge_color='#00bb5e',width=1,\n",
    "        edge_cmap=plt.cm.Blues, with_labels=True)\n",
    "plt.savefig('./data/graph_sample.pdf')\n",
    "print(nx.info(subgraph))"
   ]
  },
  {
   "cell_type": "markdown",
   "metadata": {},
   "source": [
    "# Exploratory Data Analysis"
   ]
  },
  {
   "cell_type": "code",
   "execution_count": 9,
   "metadata": {},
   "outputs": [
    {
     "name": "stdout",
     "output_type": "stream",
     "text": [
      "The number of unique persons 1862220\n"
     ]
    }
   ],
   "source": [
    "# No of Unique persons \n",
    "print('The number of unique persons',len(G_input.nodes()))"
   ]
  },
  {
   "cell_type": "markdown",
   "metadata": {},
   "source": [
    "## Number of followers of each person"
   ]
  },
  {
   "cell_type": "code",
   "execution_count": 10,
   "metadata": {},
   "outputs": [
    {
     "data": {
      "image/png": "[encoded data removed]",
      "text/plain": [
       "<Figure size 720x432 with 1 Axes>"
      ]
     },
     "metadata": {},
     "output_type": "display_data"
    }
   ],
   "source": [
    "indegree_dist = list(dict(G_input.in_degree()).values())\n",
    "indegree_dist.sort()\n",
    "plt.figure(figsize=(10,6))\n",
    "plt.plot(indegree_dist)\n",
    "plt.xlabel('Index No')\n",
    "plt.ylabel('No Of Followers')\n",
    "plt.title('Number of Followers')\n",
    "plt.show()\n",
    "plt.close()"
   ]
  },
  {
   "cell_type": "code",
   "execution_count": 11,
   "metadata": {},
   "outputs": [
    {
     "data": {
      "image/png": "[encoded data removed]",
      "text/plain": [
       "<Figure size 720x432 with 1 Axes>"
      ]
     },
     "metadata": {},
     "output_type": "display_data"
    }
   ],
   "source": [
    "indegree_dist = list(dict(G_input.in_degree()).values())\n",
    "indegree_dist.sort()\n",
    "plt.figure(figsize=(10,6))\n",
    "plt.plot(indegree_dist[0:1500000])\n",
    "plt.xlabel('Index No')\n",
    "plt.ylabel('No Of Followers')\n",
    "plt.title('Number of Followers - 1.5M Users')\n",
    "plt.show()\n",
    "plt.close()"
   ]
  },
  {
   "cell_type": "code",
   "execution_count": 12,
   "metadata": {},
   "outputs": [
    {
     "data": {
      "image/png": "[encoded data removed]",
      "text/plain": [
       "<Figure size 432x288 with 1 Axes>"
      ]
     },
     "metadata": {},
     "output_type": "display_data"
    }
   ],
   "source": [
    "plt.boxplot(indegree_dist)\n",
    "plt.ylabel('No Of Followers')\n",
    "plt.title('Number of Followers - Boxplot')\n",
    "plt.show()\n",
    "plt.close()"
   ]
  },
  {
   "cell_type": "code",
   "execution_count": 13,
   "metadata": {},
   "outputs": [
    {
     "name": "stdout",
     "output_type": "stream",
     "text": [
      "90 percentile value is 12.0\n",
      "91 percentile value is 13.0\n",
      "92 percentile value is 14.0\n",
      "93 percentile value is 15.0\n",
      "94 percentile value is 17.0\n",
      "95 percentile value is 19.0\n",
      "96 percentile value is 21.0\n",
      "97 percentile value is 24.0\n",
      "98 percentile value is 29.0\n",
      "99 percentile value is 40.0\n",
      "100 percentile value is 552.0\n"
     ]
    }
   ],
   "source": [
    "### 90-100 percentile\n",
    "for i in range(0,11):\n",
    "    print(90+i,'percentile value is',np.percentile(indegree_dist,90+i))"
   ]
  },
  {
   "cell_type": "code",
   "execution_count": 14,
   "metadata": {},
   "outputs": [
    {
     "name": "stdout",
     "output_type": "stream",
     "text": [
      "99.1 percentile value is 42.0\n",
      "99.2 percentile value is 44.0\n",
      "99.3 percentile value is 47.0\n",
      "99.4 percentile value is 50.0\n",
      "99.5 percentile value is 55.0\n",
      "99.6 percentile value is 61.0\n",
      "99.7 percentile value is 70.0\n",
      "99.8 percentile value is 84.0\n",
      "99.9 percentile value is 112.0\n",
      "100.0 percentile value is 552.0\n"
     ]
    }
   ],
   "source": [
    "### 99-100 percentile\n",
    "for i in range(10,110,10):\n",
    "    print(99+(i/100),'percentile value is',np.percentile(indegree_dist,99+(i/100)))"
   ]
  },
  {
   "cell_type": "code",
   "execution_count": 15,
   "metadata": {},
   "outputs": [
    {
     "name": "stderr",
     "output_type": "stream",
     "text": [
      "/home/amd_3/anaconda3/lib/python3.6/site-packages/matplotlib/axes/_axes.py:6462: UserWarning: The 'normed' kwarg is deprecated, and has been replaced by the 'density' kwarg.\n",
      "  warnings.warn(\"The 'normed' kwarg is deprecated, and has been \"\n"
     ]
    },
    {
     "data": {
      "image/png": "[encoded data removed]",
      "text/plain": [
       "<Figure size 842.4x595.44 with 1 Axes>"
      ]
     },
     "metadata": {},
     "output_type": "display_data"
    }
   ],
   "source": [
    "%matplotlib inline\n",
    "sns.set_style('ticks')\n",
    "fig, ax = plt.subplots()\n",
    "fig.set_size_inches(11.7, 8.27)\n",
    "sns.distplot(indegree_dist, color='#16A085')\n",
    "plt.xlabel('PDF of Indegree')\n",
    "plt.ylabel('Probability')\n",
    "plt.title('PDF of Indegree of Followers')\n",
    "sns.despine()\n",
    "plt.show()\n",
    "plt.close()"
   ]
  },
  {
   "cell_type": "markdown",
   "metadata": {},
   "source": [
    "## Number of followees of each person"
   ]
  },
  {
   "cell_type": "code",
   "execution_count": 16,
   "metadata": {},
   "outputs": [
    {
     "data": {
      "image/png": "[encoded data removed]",
      "text/plain": [
       "<Figure size 720x432 with 1 Axes>"
      ]
     },
     "metadata": {},
     "output_type": "display_data"
    }
   ],
   "source": [
    "outdegree_dist = list(dict(G_input.out_degree()).values())\n",
    "outdegree_dist.sort()\n",
    "plt.figure(figsize=(10,6))\n",
    "plt.plot(outdegree_dist)\n",
    "plt.xlabel('Index No')\n",
    "plt.ylabel('No Of people each person is following')\n",
    "plt.title('Number of Followees')\n",
    "plt.show()\n",
    "plt.close()"
   ]
  },
  {
   "cell_type": "code",
   "execution_count": 17,
   "metadata": {},
   "outputs": [
    {
     "data": {
      "image/png": "[encoded data removed]",
      "text/plain": [
       "<Figure size 720x432 with 1 Axes>"
      ]
     },
     "metadata": {},
     "output_type": "display_data"
    }
   ],
   "source": [
    "indegree_dist = list(dict(G_input.in_degree()).values())\n",
    "indegree_dist.sort()\n",
    "plt.figure(figsize=(10,6))\n",
    "plt.plot(outdegree_dist[0:1500000])\n",
    "plt.xlabel('Index No')\n",
    "plt.ylabel('No Of people each person is following')\n",
    "plt.title('Number of Followees- 1.5M Users')\n",
    "plt.show()\n",
    "plt.close()"
   ]
  },
  {
   "cell_type": "code",
   "execution_count": 18,
   "metadata": {},
   "outputs": [
    {
     "data": {
      "image/png": "[encoded data removed]",
      "text/plain": [
       "<Figure size 432x288 with 1 Axes>"
      ]
     },
     "metadata": {},
     "output_type": "display_data"
    }
   ],
   "source": [
    "plt.boxplot(indegree_dist)\n",
    "plt.ylabel('No Of people each person is following')\n",
    "plt.title('Number of Followers- Boxplot')\n",
    "plt.show()\n",
    "plt.close()"
   ]
  },
  {
   "cell_type": "code",
   "execution_count": 19,
   "metadata": {},
   "outputs": [
    {
     "name": "stdout",
     "output_type": "stream",
     "text": [
      "90 percentile value is 12.0\n",
      "91 percentile value is 13.0\n",
      "92 percentile value is 14.0\n",
      "93 percentile value is 15.0\n",
      "94 percentile value is 17.0\n",
      "95 percentile value is 19.0\n",
      "96 percentile value is 21.0\n",
      "97 percentile value is 24.0\n",
      "98 percentile value is 29.0\n",
      "99 percentile value is 40.0\n",
      "100 percentile value is 1566.0\n"
     ]
    }
   ],
   "source": [
    "### 90-100 percentile\n",
    "for i in range(0,11):\n",
    "    print(90+i,'percentile value is',np.percentile(outdegree_dist,90+i))"
   ]
  },
  {
   "cell_type": "code",
   "execution_count": 20,
   "metadata": {},
   "outputs": [
    {
     "name": "stdout",
     "output_type": "stream",
     "text": [
      "99.1 percentile value is 42.0\n",
      "99.2 percentile value is 45.0\n",
      "99.3 percentile value is 48.0\n",
      "99.4 percentile value is 52.0\n",
      "99.5 percentile value is 56.0\n",
      "99.6 percentile value is 63.0\n",
      "99.7 percentile value is 73.0\n",
      "99.8 percentile value is 90.0\n",
      "99.9 percentile value is 123.0\n",
      "100.0 percentile value is 1566.0\n"
     ]
    }
   ],
   "source": [
    "### 99-100 percentile\n",
    "for i in range(10,110,10):\n",
    "    print(99+(i/100),'percentile value is',np.percentile(outdegree_dist,99+(i/100)))"
   ]
  },
  {
   "cell_type": "code",
   "execution_count": 21,
   "metadata": {},
   "outputs": [
    {
     "name": "stderr",
     "output_type": "stream",
     "text": [
      "/home/amd_3/anaconda3/lib/python3.6/site-packages/matplotlib/axes/_axes.py:6462: UserWarning: The 'normed' kwarg is deprecated, and has been replaced by the 'density' kwarg.\n",
      "  warnings.warn(\"The 'normed' kwarg is deprecated, and has been \"\n"
     ]
    },
    {
     "data": {
      "image/png": "[encoded data removed]",
      "text/plain": [
       "<Figure size 842.4x595.44 with 1 Axes>"
      ]
     },
     "metadata": {},
     "output_type": "display_data"
    }
   ],
   "source": [
    "sns.set_style('ticks')\n",
    "fig, ax = plt.subplots()\n",
    "fig.set_size_inches(11.7, 8.27)\n",
    "sns.distplot(outdegree_dist, color='#16A085')\n",
    "plt.xlabel('PDF of Outdegree')\n",
    "plt.ylabel('Probability')\n",
    "sns.despine()\n",
    "plt.title('PDF of Followees')\n",
    "plt.show()\n",
    "plt.close()"
   ]
  },
  {
   "cell_type": "code",
   "execution_count": 22,
   "metadata": {},
   "outputs": [
    {
     "name": "stdout",
     "output_type": "stream",
     "text": [
      "No of persons those are not following anyone are 274512 and % is 14.741115442858524\n"
     ]
    }
   ],
   "source": [
    "print('No of persons those are not following anyone are' ,sum(np.array(outdegree_dist)==0),'and % is',\n",
    "                                sum(np.array(outdegree_dist)==0)*100/len(outdegree_dist) )"
   ]
  },
  {
   "cell_type": "code",
   "execution_count": 23,
   "metadata": {},
   "outputs": [
    {
     "name": "stdout",
     "output_type": "stream",
     "text": [
      "No of persons having zero followers are 188043 and % is 10.097786512871734\n"
     ]
    }
   ],
   "source": [
    "print('No of persons having zero followers are' ,sum(np.array(indegree_dist)==0),'and % is',\n",
    "                                sum(np.array(indegree_dist)==0)*100/len(indegree_dist) )"
   ]
  },
  {
   "cell_type": "code",
   "execution_count": 24,
   "metadata": {},
   "outputs": [
    {
     "name": "stdout",
     "output_type": "stream",
     "text": [
      "No of persons those are not not following anyone and also not having any followers are 0\n"
     ]
    }
   ],
   "source": [
    "count=0\n",
    "for i in G_input.nodes():\n",
    "    if len(list(G_input.predecessors(i)))==0 :\n",
    "        if len(list(G_input.successors(i)))==0:\n",
    "            count+=1\n",
    "print('No of persons those are not not following anyone and also not having any followers are',count)"
   ]
  },
  {
   "cell_type": "markdown",
   "metadata": {},
   "source": [
    "## 3) both followers + following"
   ]
  },
  {
   "cell_type": "code",
   "execution_count": 25,
   "metadata": {},
   "outputs": [],
   "source": [
    "from collections import Counter\n",
    "dict_in = dict(G_input.in_degree())\n",
    "dict_out = dict(G_input.out_degree())\n",
    "d = Counter(dict_in) + Counter(dict_out)\n",
    "in_out_degree = np.array(list(d.values()))"
   ]
  },
  {
   "cell_type": "code",
   "execution_count": 26,
   "metadata": {},
   "outputs": [
    {
     "data": {
      "image/png": "[encoded data removed]",
      "text/plain": [
       "<Figure size 720x432 with 1 Axes>"
      ]
     },
     "metadata": {},
     "output_type": "display_data"
    }
   ],
   "source": [
    "in_out_degree_sort = sorted(in_out_degree)\n",
    "plt.figure(figsize=(10,6))\n",
    "plt.plot(in_out_degree_sort)\n",
    "plt.xlabel('Index No')\n",
    "plt.ylabel('No Of people each person is following + followers')\n",
    "plt.title('Number of Followers + Followee')\n",
    "plt.show()\n",
    "plt.close()"
   ]
  },
  {
   "cell_type": "code",
   "execution_count": 27,
   "metadata": {},
   "outputs": [
    {
     "data": {
      "image/png": "[encoded data removed]",
      "text/plain": [
       "<Figure size 720x432 with 1 Axes>"
      ]
     },
     "metadata": {},
     "output_type": "display_data"
    }
   ],
   "source": [
    "in_out_degree_sort = sorted(in_out_degree)\n",
    "plt.figure(figsize=(10,6))\n",
    "plt.plot(in_out_degree_sort[0:1500000])\n",
    "plt.xlabel('Index No')\n",
    "plt.ylabel('No Of people each person is following + followers')\n",
    "plt.title('Number of Followers + Followee 1.5M Users')\n",
    "plt.show()\n",
    "plt.close()"
   ]
  },
  {
   "cell_type": "code",
   "execution_count": 28,
   "metadata": {},
   "outputs": [
    {
     "name": "stdout",
     "output_type": "stream",
     "text": [
      "90 percentile value is 24.0\n",
      "91 percentile value is 26.0\n",
      "92 percentile value is 28.0\n",
      "93 percentile value is 31.0\n",
      "94 percentile value is 33.0\n",
      "95 percentile value is 37.0\n",
      "96 percentile value is 41.0\n",
      "97 percentile value is 48.0\n",
      "98 percentile value is 58.0\n",
      "99 percentile value is 79.0\n",
      "100 percentile value is 1579.0\n"
     ]
    }
   ],
   "source": [
    "### 90-100 percentile\n",
    "for i in range(0,11):\n",
    "    print(90+i,'percentile value is',np.percentile(in_out_degree_sort,90+i))"
   ]
  },
  {
   "cell_type": "code",
   "execution_count": 29,
   "metadata": {},
   "outputs": [
    {
     "name": "stdout",
     "output_type": "stream",
     "text": [
      "99.1 percentile value is 83.0\n",
      "99.2 percentile value is 87.0\n",
      "99.3 percentile value is 93.0\n",
      "99.4 percentile value is 99.0\n",
      "99.5 percentile value is 108.0\n",
      "99.6 percentile value is 120.0\n",
      "99.7 percentile value is 138.0\n",
      "99.8 percentile value is 168.0\n",
      "99.9 percentile value is 221.0\n",
      "100.0 percentile value is 1579.0\n"
     ]
    }
   ],
   "source": [
    "### 99-100 percentile\n",
    "for i in range(10,110,10):\n",
    "    print(99+(i/100),'percentile value is',np.percentile(in_out_degree_sort,99+(i/100)))"
   ]
  },
  {
   "cell_type": "code",
   "execution_count": 30,
   "metadata": {},
   "outputs": [
    {
     "name": "stdout",
     "output_type": "stream",
     "text": [
      "Min of no of followers + following is 1\n",
      "334291  persons having minimum no of followers + following\n"
     ]
    }
   ],
   "source": [
    "print('Min of no of followers + following is',in_out_degree.min())\n",
    "print(np.sum(in_out_degree==in_out_degree.min()),' persons having minimum no of followers + following')"
   ]
  },
  {
   "cell_type": "code",
   "execution_count": 31,
   "metadata": {},
   "outputs": [
    {
     "name": "stdout",
     "output_type": "stream",
     "text": [
      "Max of no of followers + following is 1579\n",
      "1  persons having maximum no of followers + following\n"
     ]
    }
   ],
   "source": [
    "print('Max of no of followers + following is',in_out_degree.max())\n",
    "print(np.sum(in_out_degree==in_out_degree.max()),' persons having maximum no of followers + following')"
   ]
  },
  {
   "cell_type": "code",
   "execution_count": 32,
   "metadata": {},
   "outputs": [
    {
     "name": "stdout",
     "output_type": "stream",
     "text": [
      "No of persons having followers + following less than 10 are 1320326\n"
     ]
    }
   ],
   "source": [
    "print('No of persons having followers + following less than 10 are',np.sum(in_out_degree<10))"
   ]
  },
  {
   "cell_type": "code",
   "execution_count": 33,
   "metadata": {},
   "outputs": [
    {
     "name": "stdout",
     "output_type": "stream",
     "text": [
      "No of weakly connected components 45558\n",
      "weakly connected components with 2 nodes 32195\n"
     ]
    }
   ],
   "source": [
    "print('No of weakly connected components',\n",
    "      len(list(nx.weakly_connected_components(G_input))))\n",
    "count=0\n",
    "for i in list(nx.weakly_connected_components(G_input)):\n",
    "    if len(i)==2:\n",
    "        count+=1\n",
    "print('weakly connected components with 2 nodes',count)"
   ]
  },
  {
   "cell_type": "markdown",
   "metadata": {},
   "source": [
    "# Generate the edges not present"
   ]
  },
  {
   "cell_type": "code",
   "execution_count": 34,
   "metadata": {},
   "outputs": [],
   "source": [
    "def two_rechable_nodes(G, node):\n",
    "    \n",
    "    # get all the followees of this node in a set\n",
    "    node_followees = set(G.successors(node))\n",
    "    \n",
    "    # get followees followees (i.e. length 2)\n",
    "    for temp_node in node_followees:\n",
    "        node_followees = node_followees.union(set(G.successors(temp_node)))\n",
    "        \n",
    "    # add the node itself in the set\n",
    "    node_followees.add(node)\n",
    "    \n",
    "    return node_followees"
   ]
  },
  {
   "cell_type": "code",
   "execution_count": 35,
   "metadata": {},
   "outputs": [],
   "source": [
    "def get_missing_edges(index_dict, current_node, lb, ub, node_set, num_edges):\n",
    "    \n",
    "    # declare an empty list for adding all the missig edges\n",
    "    selected_edge_list = list()\n",
    "    \n",
    "    while(len(selected_edge_list) < num_edges):\n",
    "        # generate a random index in the range\n",
    "        index = np.random.randint(lb,ub)\n",
    "        # get the node corresponding to this index\n",
    "        index_node = index_dict[index]\n",
    "        \n",
    "        # test the node already present in the node_set\n",
    "        if  index_node in node_set:\n",
    "            continue\n",
    "          \n",
    "        # update the selected edge list\n",
    "        selected_edge_list.append((current_node, index_node,))\n",
    "        \n",
    "    return set(selected_edge_list)"
   ]
  },
  {
   "cell_type": "code",
   "execution_count": 36,
   "metadata": {},
   "outputs": [],
   "source": [
    "def create_missing_edges(G):\n",
    "    \n",
    "    if os.path.isfile(missing_egde_csv_path):\n",
    "        print(datetime.now(), ' Missing edges file already created !!!')\n",
    "        missing_df = pd.read_csv(missing_egde_csv_path, index_col=False)\n",
    "        return missing_df\n",
    "    \n",
    "    print(datetime.now(), ' Started adding the missing edges')\n",
    "    \n",
    "    num_edges = G.number_of_edges()\n",
    "    print(datetime.now(), ' Number of edges present in the graph :', num_edges)\n",
    "    \n",
    "    # separate source nodes, destination edges\n",
    "    src_nodes_set = set([item[0] for item in nx.edges(G)])\n",
    "    dst_nodes_set = set([item[1] for item in  nx.edges(G)])\n",
    "    # compute nodes which are present both in src as well as destination\n",
    "    common_nodes = src_nodes_set.intersection(dst_nodes_set)\n",
    "    \n",
    "    print(datetime.now(), ' Common nodes count ', len(common_nodes))\n",
    "    \n",
    "    # get all nodes of a graph\n",
    "    nodes_set = set(G.nodes)\n",
    "    \n",
    "    # get missing nodes in source , dst positions\n",
    "    missing_src_nodes = nodes_set - src_nodes_set\n",
    "    missing_dst_nodes = nodes_set - dst_nodes_set\n",
    "    \n",
    "    \n",
    "    print(datetime.now(),' Number of missing src nodes', len(missing_src_nodes))\n",
    "    print(datetime.now(), ' Number of missing dst nodes', len(missing_dst_nodes))\n",
    "    \n",
    "\n",
    "    ######### Generate missing edges\n",
    "    \n",
    "    # Get 10% samples from persons who are not following anyone\n",
    "    missing_src_nodes = set(random.sample(missing_src_nodes, 1032))\n",
    "    missing_dst_nodes = set(random.sample(missing_dst_nodes, 1032))\n",
    "    \n",
    "    # CASE 1: Missing src x missing dst (10 % sample)\n",
    "    sampled_missing_edges_case1 = set(product(missing_src_nodes,\n",
    "                                              missing_dst_nodes))\n",
    "    sampled_missing_edges_case1 = set(filter(lambda x : x[0]!=x[1], \n",
    "                                             sampled_missing_edges_case1))\n",
    "    sampled_missing_edges_case1 = set(random.sample(sampled_missing_edges_case1, \n",
    "                                                1000000))\n",
    "    \n",
    "    # CASE 2 : Missing src x dst (10 % sample)\n",
    "    dst_nodes_set_sampled = random.sample(dst_nodes_set, 1032)\n",
    "    sampled_missing_edges_case2 = set(product(missing_src_nodes,\n",
    "                                              dst_nodes_set_sampled))\n",
    "    sampled_missing_edges_case2 = set(filter(lambda x : x[0]!=x[1], \n",
    "                                             sampled_missing_edges_case2))\n",
    "    sampled_missing_edges_case2 = set(random.sample(sampled_missing_edges_case2, \n",
    "                                                1000000))\n",
    "    \n",
    "    \n",
    "    # CASE 3: src x Missing dst (10 % sample)\n",
    "    src_nodes_set_sampled = random.sample(src_nodes_set, 1032)\n",
    "    sampled_missing_edges_case3 = set(product(src_nodes_set_sampled,\n",
    "                                              missing_dst_nodes))\n",
    "    sampled_missing_edges_case3 = set(filter(lambda x : x[0]!=x[1], \n",
    "                                             sampled_missing_edges_case3))\n",
    "    sampled_missing_edges_case3 = set(random.sample(sampled_missing_edges_case3, \n",
    "                                                1000000))\n",
    "    \n",
    "    # find all missing edges\n",
    "    missing_edges_set = sampled_missing_edges_case1.union(sampled_missing_edges_case2)\n",
    "    missing_edges_set = missing_edges_set.union(sampled_missing_edges_case3)\n",
    "    \n",
    "    print(datetime.now(),' Number of missing edges generated from CASE 1 to CASE 3:', \n",
    "          len(missing_edges_set))\n",
    "    \n",
    "    \n",
    "    # CASE 4: Generate 6.4M missing edges from 800K SRC nodes\n",
    "    sampled_src_nodes = set(random.sample(src_nodes_set, 800000))\n",
    "\n",
    "    # declare a dictionary having index and corresponding node name\n",
    "    index_dict = {index:item for index, item in enumerate(common_nodes)}\n",
    "    # declare the number of missing edges to be generated for a node\n",
    "    num_edges_required = 8\n",
    "    \n",
    "    # LB & UB for generating random indices\n",
    "    lb = 0\n",
    "    ub = len(common_nodes)\n",
    "    \n",
    "    # declare a set for saving all generated missing edges\n",
    "    edges_taken_list = list()\n",
    "    \n",
    "    # for each edge in the set test two reachabel condition\n",
    "    for index, node in enumerate(sampled_src_nodes):\n",
    "        \n",
    "        # get all two reachable nodes of this node\n",
    "        two_reachable_nodes_set = two_rechable_nodes(G, node)\n",
    "        # generate the missing edges for this node\n",
    "        node_missing_edges = get_missing_edges(index_dict, node, lb, ub, \n",
    "                                               two_reachable_nodes_set, \n",
    "                                               num_edges_required)\n",
    "    \n",
    "        # add the gerated missing edges to the set\n",
    "        edges_taken_list += list(node_missing_edges)\n",
    "        \n",
    "        if (index+1) % 100000 == 0:\n",
    "            print(datetime.now(),' Added %d missing edges'%((index+1)*num_edges_required,))\n",
    "            \n",
    "    # form the complete set of missing edges\n",
    "    missing_edges_set = set(list(missing_edges_set) + edges_taken_list)\n",
    "    print(datetime.now(), 'Total number of missing edges created: ', \n",
    "          len(missing_edges_set))\n",
    "            \n",
    "    missing_df = pd.DataFrame(list(missing_edges_set), columns=['source_node', \n",
    "                                                            'destination_node'])\n",
    "    \n",
    "    # writing missing DF to disk\n",
    "    missing_df.to_csv(missing_egde_csv_path, index=False)\n",
    "    \n",
    "    print(datetime.now(), ' Creating missing edge graph for verification')\n",
    "           \n",
    "    # create missing edge graph\n",
    "    G_input_missing = create_graph_from_dataframe(missing_df)\n",
    "    \n",
    "     # verify the created graph\n",
    "    print('Number of common edges between input graph & missing edge graph: ',\n",
    "          len(set(nx.edges(G)).intersection(set(nx.edges(G_input_missing)))))\n",
    "\n",
    "            \n",
    "    print(datetime.now(), ' Done !!!')\n",
    "    \n",
    "    return missing_df"
   ]
  },
  {
   "cell_type": "code",
   "execution_count": 37,
   "metadata": {},
   "outputs": [
    {
     "name": "stdout",
     "output_type": "stream",
     "text": [
      "2019-06-22 00:27:43.183990  Missing edges file already created !!!\n"
     ]
    }
   ],
   "source": [
    "# create missing edge df\n",
    "input_missing_edge_df = create_missing_edges(G_input)"
   ]
  },
  {
   "cell_type": "markdown",
   "metadata": {},
   "source": [
    "# Create train test dataset"
   ]
  },
  {
   "cell_type": "code",
   "execution_count": 38,
   "metadata": {},
   "outputs": [],
   "source": [
    "def prepare_train_test_labeled_data(input_df, input_missing_edge_df):\n",
    "    \n",
    "    if os.path.isfile(train_labeled_csv_path) and os.path.isfile(test_labeled_csv_path):\n",
    "        print('Both train, test csv files are present in the path')\n",
    "        return\n",
    "\n",
    "    # add labels\n",
    "    input_df['Label'] = 1\n",
    "    input_missing_edge_df['Label'] = 0\n",
    "    # combine data frames & shuffle it\n",
    "    combined_df = input_df.append(input_missing_edge_df)\n",
    "    combined_df = combined_df.reset_index(drop=True)\n",
    "    \n",
    "    \n",
    "    # train, test split\n",
    "    train_df, test_df = train_test_split(combined_df, test_size=0.30, \n",
    "                                         stratify=combined_df['Label'])\n",
    "    train_df = train_df.reset_index(drop=True)\n",
    "    test_df = test_df.reset_index(drop=True)\n",
    "    \n",
    "    # save the above files\n",
    "    train_df.to_csv(train_labeled_csv_path, index=False)\n",
    "    test_df.to_csv(test_labeled_csv_path, index=False)"
   ]
  },
  {
   "cell_type": "code",
   "execution_count": 39,
   "metadata": {},
   "outputs": [
    {
     "name": "stdout",
     "output_type": "stream",
     "text": [
      "Both train, test csv files are present in the path\n"
     ]
    }
   ],
   "source": [
    "prepare_train_test_labeled_data(input_df, input_missing_edge_df)"
   ]
  },
  {
   "cell_type": "markdown",
   "metadata": {},
   "source": [
    "# Extract Global Params"
   ]
  },
  {
   "cell_type": "code",
   "execution_count": 40,
   "metadata": {},
   "outputs": [],
   "source": [
    "train_df = pd.read_csv(train_labeled_csv_path, index_col=False)\n",
    "train_df_pos = train_df[train_df['Label']==1]"
   ]
  },
  {
   "cell_type": "code",
   "execution_count": 41,
   "metadata": {},
   "outputs": [
    {
     "name": "stdout",
     "output_type": "stream",
     "text": [
      "Graph basic info:\n",
      " Name: \n",
      "Type: DiGraph\n",
      "Number of nodes: 1726788\n",
      "Number of edges: 6606263\n",
      "Average in degree:   3.8258\n",
      "Average out degree:   3.8258\n"
     ]
    }
   ],
   "source": [
    "G_train = create_graph_from_dataframe(train_df_pos)"
   ]
  },
  {
   "cell_type": "code",
   "execution_count": 42,
   "metadata": {},
   "outputs": [],
   "source": [
    "def get_svd_components(G):\n",
    "    \n",
    "    # sort all the nodes present in the graph\n",
    "    sorted_nodes = sorted(G.nodes())\n",
    "    \n",
    "    # assign the nodes with index from 0 to num_nodes\n",
    "    node_index_dict = { val : idx for idx, val in enumerate(sorted_nodes)}\n",
    "    \n",
    "    # create adjancency matrix\n",
    "    Adj = nx.adjacency_matrix(G, nodelist=sorted_nodes).asfptype()\n",
    "\n",
    "    # decompose the adjacency matrix into SVD components\n",
    "    U, s, V = svds(Adj, k = 6)\n",
    "    print('Adjacency matrix Shape', Adj.shape)\n",
    "    print('U Shape', U.shape)\n",
    "    print('V Shape', V.shape)\n",
    "    print('s Shape', s.shape)\n",
    "    \n",
    "    return (U, s, V, node_index_dict, Adj, )"
   ]
  },
  {
   "cell_type": "code",
   "execution_count": 43,
   "metadata": {},
   "outputs": [],
   "source": [
    "def estimate_global_params(G):\n",
    "    \n",
    "    if os.path.isfile('./model/global_params_dict.pkl'):\n",
    "        print('Glboal params dict already exist in the disk !!!')\n",
    "        \n",
    "        param_file = open('./model/global_params_dict.pkl','rb')\n",
    "        global_params_dict = pickle.load( param_file)\n",
    "        param_file.close()\n",
    "        \n",
    "        return global_params_dict\n",
    "    \n",
    "    # compute page rank values\n",
    "    print(datetime.now(), ' Start page rank values')\n",
    "    page_rank = nx.pagerank(G, alpha=0.85)\n",
    "    print(datetime.now(), ' End page rank values')\n",
    "\n",
    "    # compute katz centrality values\n",
    "    print(datetime.now(), ' Start katz centrality values')\n",
    "    katz_values = nx.katz.katz_centrality(G, alpha=0.005,beta=1)\n",
    "    print(datetime.now(), ' End katz centrality values')\n",
    "\n",
    "    # compute hits score to find hubs & authorities\n",
    "    print(datetime.now(), ' Start hits score')\n",
    "    hubs_scores, authorities = nx.hits(G, max_iter=100, tol=1e-08, nstart=None, \n",
    "                                       normalized=True)\n",
    "    print(datetime.now(), ' End hits score')\n",
    "    \n",
    "    \n",
    "    # get components of this graph G\n",
    "    print(datetime.now(), ' Start SVD components of this graph G')\n",
    "    U, s, V, node_index_dict, Adj = get_svd_components(G)\n",
    "    print(datetime.now(), ' End SVD components of this graph G')\n",
    "    \n",
    "    # get list of weekly connected components\n",
    "    print(datetime.now(), ' Start weekly connected components')\n",
    "    wcc_list = list(nx.weakly_connected_components(G))\n",
    "    print(datetime.now(), ' End weekly connected components')\n",
    "    \n",
    "    # create a dictionary of parameters\n",
    "    print(datetime.now(), ' Start global params dictionary')\n",
    "    global_params_dict = {\n",
    "        'Page_Rank': page_rank,\n",
    "        'Kats_Score': katz_values,\n",
    "        'Hubs_Scores': hubs_scores,\n",
    "        'Authorities': authorities,\n",
    "        'Adj_Matrix': Adj,\n",
    "        'U': U,\n",
    "        's': s,\n",
    "        'V': V,\n",
    "        'Node_Index_Dict': node_index_dict,\n",
    "        'WCC': wcc_list\n",
    "        }\n",
    "    \n",
    "    param_file = open('./model/global_params_dict.pkl','wb')\n",
    "    pickle.dump(global_params_dict, param_file)\n",
    "    param_file.close()\n",
    "    print(datetime.now(), ' End global params dictionary')\n",
    "    \n",
    "    print(datetime.now(), ' Done !!!')\n",
    "    return global_params_dict"
   ]
  },
  {
   "cell_type": "code",
   "execution_count": 44,
   "metadata": {},
   "outputs": [
    {
     "name": "stdout",
     "output_type": "stream",
     "text": [
      "Glboal params dict already exist in the disk !!!\n"
     ]
    }
   ],
   "source": [
    "global_params_dict = estimate_global_params(G_train)"
   ]
  },
  {
   "cell_type": "code",
   "execution_count": 45,
   "metadata": {},
   "outputs": [],
   "source": [
    "wcc_list = global_params_dict['WCC']\n",
    "U = global_params_dict['U']\n",
    "s = global_params_dict['s']\n",
    "V = global_params_dict['V']\n",
    "node_index_dict = global_params_dict['Node_Index_Dict']\n",
    "\n",
    "page_rank = global_params_dict['Page_Rank']\n",
    "katz_values = global_params_dict['Kats_Score']\n",
    "hubs_scores = global_params_dict['Hubs_Scores']\n",
    "authorities = global_params_dict['Authorities']"
   ]
  },
  {
   "cell_type": "markdown",
   "metadata": {},
   "source": [
    "# Sampling of Train, Test datasets"
   ]
  },
  {
   "cell_type": "code",
   "execution_count": 46,
   "metadata": {},
   "outputs": [],
   "source": [
    "# sample train df\n",
    "sample_train_df = train_df.sample(n=dataset_sample_size)\n",
    "sample_train_df = sample_train_df.reset_index(drop=True)\n",
    "\n",
    "# sample test df\n",
    "test_df = pd.read_csv(test_labeled_csv_path, index_col=False)\n",
    "sample_test_df = test_df.sample(n=dataset_sample_size)\n",
    "sample_test_df = sample_test_df.reset_index(drop=True)"
   ]
  },
  {
   "cell_type": "markdown",
   "metadata": {},
   "source": [
    "# Feature Extraction"
   ]
  },
  {
   "cell_type": "markdown",
   "metadata": {},
   "source": [
    "## Feature set 1"
   ]
  },
  {
   "cell_type": "code",
   "execution_count": 47,
   "metadata": {},
   "outputs": [],
   "source": [
    "def get_num_followers(G, node):\n",
    "    \n",
    "    try:\n",
    "        followers = set(G.predecessors(node))\n",
    "    except:\n",
    "        followers = set()\n",
    "                        \n",
    "    num_followers = len(followers)\n",
    "    \n",
    "    return num_followers"
   ]
  },
  {
   "cell_type": "code",
   "execution_count": 48,
   "metadata": {},
   "outputs": [],
   "source": [
    "def get_num_followees(G, node):\n",
    "    try:\n",
    "        followees = set(G.successors(node))\n",
    "    except:\n",
    "        followees = set()\n",
    "                    \n",
    "    num_followers = len(followees)\n",
    "                        \n",
    "    return num_followers"
   ]
  },
  {
   "cell_type": "code",
   "execution_count": 49,
   "metadata": {},
   "outputs": [],
   "source": [
    "def mine_node_features(G, node):\n",
    "    \n",
    "    # get successors & predecessors of this node\n",
    "    try:\n",
    "        node_followers = set(G.predecessors(node))\n",
    "    except:\n",
    "        node_followers = set()\n",
    "        \n",
    "    try:\n",
    "        node_followees = set(G.successors(node))\n",
    "    except:\n",
    "        node_followees = set()\n",
    "    \n",
    "    # 1) get number of followers of this node \n",
    "    num_followers = len(node_followers)\n",
    "    # 2) get number of followees of this node\n",
    "    num_followees = len(node_followees)\n",
    "    # 3) get number of common followees & followers\n",
    "    common_nodes_count = len(node_followers.intersection(node_followees))\n",
    "    # 4) compute incoming edge weight\n",
    "    incoming_edge_weight = np.sqrt(1 / (1 + num_followers))\n",
    "    # 5) compute outgoing edge weight\n",
    "    outgoing_edge_weight = np.sqrt(1 / (1 + num_followees))\n",
    "    # 6) Sum of weights\n",
    "    weight_sum = incoming_edge_weight + outgoing_edge_weight\n",
    "    # 7) Product of weights\n",
    "    weight_product = incoming_edge_weight * outgoing_edge_weight\n",
    "    # 8) 2x + y linear sum-1\n",
    "    liner_sum_1 = 2 * incoming_edge_weight + outgoing_edge_weight\n",
    "    # 9) x + 2y linear sum-2\n",
    "    liner_sum_2 = incoming_edge_weight + 2 * outgoing_edge_weight\n",
    "    \n",
    "    \n",
    "    # form the feature tuple\n",
    "    feat_tuple = (num_followers, num_followees, common_nodes_count, incoming_edge_weight, \n",
    "                  outgoing_edge_weight, weight_sum, weight_product, liner_sum_1,\n",
    "                  liner_sum_2)\n",
    "    \n",
    "    return feat_tuple"
   ]
  },
  {
   "cell_type": "code",
   "execution_count": 50,
   "metadata": {},
   "outputs": [],
   "source": [
    "def mine_features_set_1(df, G):\n",
    "    \n",
    "    # set feature name_list\n",
    "    feat_name_list = ['num_followers', 'num_followees', 'common_nodes_count', \n",
    "                      'incoming_edge_weight', 'outgoing_edge_weight', 'weight_sum', \n",
    "                      'weight_product', 'liner_sum_1','liner_sum_2']\n",
    "    \n",
    "    # set reqiored feature names in a list\n",
    "    src_feat_name_list = ['src_' + name for name in feat_name_list]\n",
    "    dst_feat_name_list = ['dst_' + name for name in feat_name_list]\n",
    "    edge_feat_name_list = src_feat_name_list + dst_feat_name_list\n",
    "    \n",
    "    edge_feat_list = list()\n",
    "    \n",
    "    # do for all edges in the graph\n",
    "    for index, row in df.iterrows():\n",
    "        \n",
    "        src_node_features = mine_node_features(G, row['source_node'])\n",
    "        dst_node_features = mine_node_features(G, row['destination_node'])\n",
    "        \n",
    "        # concatenate both nodes features into single vector\n",
    "        edge_featues = src_node_features + dst_node_features\n",
    "        \n",
    "        edge_feat_list.append(edge_featues)\n",
    "        \n",
    "    # create edge name list   \n",
    "    edge_feat_df = pd.DataFrame(edge_feat_list, columns=edge_feat_name_list)\n",
    "    \n",
    "    return edge_feat_df "
   ]
  },
  {
   "cell_type": "markdown",
   "metadata": {},
   "source": [
    "## Feature set 2"
   ]
  },
  {
   "cell_type": "code",
   "execution_count": 51,
   "metadata": {},
   "outputs": [],
   "source": [
    "def follows_back_fn(G, a, b):\n",
    "    \n",
    "    if G.has_edge(b, a):\n",
    "        return 1\n",
    "    return 0"
   ]
  },
  {
   "cell_type": "code",
   "execution_count": 52,
   "metadata": {},
   "outputs": [],
   "source": [
    "def belong_to_same_wcc(wcc_list, a, b):\n",
    "    \n",
    "    for component in wcc_list:\n",
    "        \n",
    "        if ((a in component) and (b in component)):\n",
    "            return 1\n",
    "          \n",
    "    return 0"
   ]
  },
  {
   "cell_type": "code",
   "execution_count": 53,
   "metadata": {},
   "outputs": [],
   "source": [
    "def next_shortest_path(G, a, b):\n",
    "    \n",
    "    # default value for shortest path\n",
    "    shortest_path_length = -1 \n",
    "    \n",
    "    # if edge already exists\n",
    "    if G.has_edge(a, b):\n",
    "        \n",
    "        # remove the edge temporaly\n",
    "        G.remove_edge(a, b)\n",
    "        \n",
    "        try:\n",
    "            # compute the shortest path length\n",
    "            shortest_path_length = nx.shortest_path_length(G, source=a, target=b)\n",
    "        except:\n",
    "            shortest_path_length = -1\n",
    "        finally:\n",
    "            # add the edge back\n",
    "            G.add_edge(a, b)\n",
    "     \n",
    "    # if no edge exists\n",
    "    else:\n",
    "        try:\n",
    "            shortest_path_length = nx.shortest_path_length(G, source=a, target=b)\n",
    "        except:\n",
    "            shortest_path_length = -1\n",
    "            \n",
    "            \n",
    "    # returns the shortest path computed\n",
    "    return shortest_path_length"
   ]
  },
  {
   "cell_type": "code",
   "execution_count": 54,
   "metadata": {},
   "outputs": [],
   "source": [
    "def mine_edge_features(G, wcc_list, a, b):\n",
    "    \n",
    "    # 1) Follows back (followee)\n",
    "    follows_back = follows_back_fn(G, a, b)\n",
    "    \n",
    "    # 2) get next shortest path- remove any existing edge and compute shortest path\n",
    "    next_shortest_path_length = next_shortest_path(G, a, b)\n",
    "    \n",
    "    # 3) belongs to same wcc\n",
    "    same_wcc = belong_to_same_wcc(wcc_list, a, b)\n",
    "    \n",
    "    \n",
    "    # compute followers, sucessors of a, b\n",
    "    try:\n",
    "        a_followers = set(G.predecessors(a))\n",
    "    except:\n",
    "        a_followers = set()\n",
    "         \n",
    "    try:\n",
    "        b_followers = set(G.predecessors(b))\n",
    "    except:\n",
    "        b_followers = set()\n",
    "    \n",
    "    try:\n",
    "        b_followees = set(G.successors(b))\n",
    "    except:\n",
    "        b_followees = set()\n",
    "        \n",
    "    try:\n",
    "        a_followees = set(G.successors(a))\n",
    "    except:\n",
    "        a_followees = set()\n",
    "    \n",
    "    # compute common followers & common successors\n",
    "    common_followers = a_followers.intersection(b_followers)\n",
    "    common_followees = a_followees.intersection(b_followees)\n",
    "    \n",
    "    common_followers_count = len(common_followers)\n",
    "    common_followees_count = len(common_followees)\n",
    "    \n",
    "    \n",
    "    \n",
    "    # compute union of followers & followee\n",
    "    union_followers = a_followers.union(b_followers)\n",
    "    union_followees = a_followees.union(b_followees)\n",
    "    \n",
    "    union_followers_count = len(union_followers)\n",
    "    union_followees_count = len(union_followees)\n",
    "    \n",
    "    # Preferential attachment\n",
    "    pref_attachment_follower = len(a_followers) * len(b_followers)\n",
    "    pref_attachment_followee = len(a_followees) * len(b_followees)\n",
    "    \n",
    "    # Compute similariy matrix such as Jaccard, Cosine, Adar index,\n",
    "\n",
    "    # Compute each similarity matrix\n",
    "    if common_followers_count == 0:\n",
    "        jaccard_sim_follower = 0.0\n",
    "        cosine_sim_follower = 0.0\n",
    "    else:\n",
    "        \n",
    "        # compute jaccard_sim_followee\n",
    "        try:\n",
    "            jaccard_sim_follower =  (common_followers_count /  union_followers_count)\n",
    "        except:\n",
    "            jaccard_sim_follower = 0.0\n",
    "        \n",
    "        # compute cosine_sim_followee\n",
    "        try:\n",
    "            cosine_sim_follower = (common_followers_count / \n",
    "                                   (np.sqrt(len(a_followers)*len(b_followers))))\n",
    "        except:\n",
    "            cosine_sim_follower = 0.0                     \n",
    "        \n",
    "        \n",
    "    if common_followees_count == 0 :\n",
    "        jaccard_sim_followee = 0.0\n",
    "        cosine_sim_followee = 0.0\n",
    "        adar_index = 0.0\n",
    "    else:\n",
    "        \n",
    "        # compute adar index\n",
    "        adar_index = 0.0\n",
    "        \n",
    "        for node in common_followees:\n",
    "            \n",
    "            try:\n",
    "                loc_followers = set(G.predecessors(node))\n",
    "            except:\n",
    "                loc_followers = set()\n",
    "            \n",
    "            if loc_followers:\n",
    "                adar_index += (1/np.log10(len(loc_followers)))\n",
    "                \n",
    "        # compute jaccard_sim_followee\n",
    "        try:\n",
    "            jaccard_sim_followee =  (common_followees_count/union_followees_count)\n",
    "        except:\n",
    "            jaccard_sim_followee = 0.0\n",
    "        \n",
    "        # compute cosine_sim_followee\n",
    "        try:\n",
    "            cosine_sim_followee = (common_followees_count /\n",
    "                                       np.sqrt(len(a_followees)*len(b_followees)))\n",
    "        except:\n",
    "            cosine_sim_followee = 0.0\n",
    "    \n",
    "        \n",
    "     # Form feature tuple\n",
    "    feat_tuple = (follows_back, next_shortest_path_length, same_wcc, adar_index, \n",
    "                  jaccard_sim_follower, cosine_sim_follower, pref_attachment_follower,\n",
    "                  jaccard_sim_followee,cosine_sim_followee,pref_attachment_followee,)\n",
    "    \n",
    "    \n",
    "    return feat_tuple"
   ]
  },
  {
   "cell_type": "code",
   "execution_count": 55,
   "metadata": {},
   "outputs": [],
   "source": [
    "def mine_features_set_2(df, G, wcc_list):\n",
    "    \n",
    "    edge_feat_list = list()\n",
    "    \n",
    "    feat_name_list = ['follows_back', 'next_shortest_path_length', 'same_wcc', \n",
    "                      'adar_index', 'jaccard_sim_follower', 'cosine_sim_follower',\n",
    "                      'pref_attachment_follower','jaccard_sim_followee', \n",
    "                      'cosine_sim_followee', 'pref_attachment_followee']\n",
    "    \n",
    "    \n",
    "    for index, row in df.iterrows():\n",
    "        # edge features\n",
    "        edge_features = mine_edge_features(G, wcc_list, row['source_node'], \n",
    "                                           row['destination_node'])\n",
    "        # update edge feature list\n",
    "        edge_feat_list.append(edge_features)\n",
    "        \n",
    "    # create a data frame using feature vector list    \n",
    "    edge_feat_df = pd.DataFrame(edge_feat_list, columns=feat_name_list)\n",
    "    \n",
    "    return edge_feat_df"
   ]
  },
  {
   "cell_type": "markdown",
   "metadata": {},
   "source": [
    "## Feature Set 3"
   ]
  },
  {
   "cell_type": "code",
   "execution_count": 56,
   "metadata": {},
   "outputs": [],
   "source": [
    "def mine_features_set_3(df, G, page_rank, katz_values, hubs_scores, authorities):\n",
    "    \n",
    "    # form source & destination node list\n",
    "    src_node_list = df['source_node']\n",
    "    dst_node_list = df['destination_node']\n",
    "    \n",
    "    # source node related features\n",
    "    source_page_rank = [page_rank.get(node, 0) for node in src_node_list]\n",
    "    dst_page_rank = [page_rank.get(node, 0) for node in dst_node_list]\n",
    "    \n",
    "    source_katz_values = [katz_values.get(node, 0) for node in src_node_list]\n",
    "    dst_katz_values = [katz_values.get(node, 0) for node in dst_node_list]\n",
    "    \n",
    "    source_hubs_scores = [hubs_scores.get(node, 0) for node in src_node_list]\n",
    "    dst_hubs_scores = [hubs_scores.get(node, 0) for node in dst_node_list]\n",
    "    \n",
    "    source_authorities = [authorities.get(node, 0) for node in src_node_list]\n",
    "    dst_authorities = [authorities.get(node, 0) for node in dst_node_list]\n",
    "    \n",
    "    feat_df = pd.DataFrame({'SRC_PG_RANK' : source_page_rank,\n",
    "                            'DST_PG_RANK' : dst_page_rank,\n",
    "                            'SRC_KATZ_SCORE' : source_katz_values,\n",
    "                            'DST_KATZ_SCORE' : dst_katz_values,\n",
    "                            'SRC_HUBS_SCORE' : source_hubs_scores,\n",
    "                            'DST_HUBS_SCORE' : dst_hubs_scores,\n",
    "                            'SRC_AUTHORITY_SCORE' : source_authorities,\n",
    "                            'DST_AUTHORITY_SCORE' : dst_authorities}, \n",
    "                           index=range(df.shape[0]))\n",
    "    \n",
    "    feat_df = feat_df[['SRC_PG_RANK', 'DST_PG_RANK', 'SRC_KATZ_SCORE', 'DST_KATZ_SCORE',\n",
    "                       'SRC_HUBS_SCORE', 'DST_HUBS_SCORE', 'SRC_AUTHORITY_SCORE', \n",
    "                       'DST_AUTHORITY_SCORE']]\n",
    "    \n",
    "\n",
    "    return feat_df"
   ]
  },
  {
   "cell_type": "markdown",
   "metadata": {},
   "source": [
    "# Featue Set 4"
   ]
  },
  {
   "cell_type": "code",
   "execution_count": 57,
   "metadata": {},
   "outputs": [],
   "source": [
    "def svd(Matrix, node_number):\n",
    "    try:\n",
    "        z = node_index_dict[node_number]\n",
    "        return Matrix[z]\n",
    "    except:\n",
    "        return ([0] * 6)"
   ]
  },
  {
   "cell_type": "code",
   "execution_count": 58,
   "metadata": {},
   "outputs": [],
   "source": [
    "def mine_features_set_4(df, U, s, V):\n",
    "    \n",
    "    print(df.head())\n",
    "     \n",
    "    # get feature vectors from U matrix\n",
    "    u_src_cols = ['svd_u_s_1', 'svd_u_s_2','svd_u_s_3', \n",
    "                  'svd_u_s_4', 'svd_u_s_5', 'svd_u_s_6']\n",
    "    u_dst_cols = ['svd_u_d_1', 'svd_u_d_2', 'svd_u_d_3', \n",
    "                  'svd_u_d_4', 'svd_u_d_5','svd_u_d_6']\n",
    "    \n",
    "    # source node\n",
    "    U_src_array = df['source_node'].apply(lambda node_number: svd(U, node_number))\n",
    "    U_src_array = [list(item) for item in list(U_src_array)]\n",
    "    U_src_array = pd.DataFrame(U_src_array, columns=u_src_cols)\n",
    "    # destination node\n",
    "    U_dst_array = df['destination_node'].apply(lambda node_number: svd(U, node_number))\n",
    "    U_dst_array = [list(item) for item in list(U_dst_array)]\n",
    "    U_dst_array = pd.DataFrame(U_dst_array, columns=u_dst_cols)\n",
    "\n",
    "    \n",
    "    # get feature vectors from V matrix\n",
    "    v_src_cols = ['svd_v_s_1','svd_v_s_2', 'svd_v_s_3', \n",
    "                  'svd_v_s_4', 'svd_v_s_5', 'svd_v_s_6']\n",
    "    v_dst_cols = ['svd_v_d_1', 'svd_v_d_2', 'svd_v_d_3', \n",
    "                  'svd_v_d_4','svd_v_d_5','svd_v_d_6']\n",
    "    \n",
    "    \n",
    "    # source node\n",
    "    V_src_array = df['source_node'].apply(lambda node_number: svd(V.T, node_number))\n",
    "    V_src_array = [list(item) for item in list(V_src_array)]\n",
    "    V_src_array = pd.DataFrame(V_src_array, columns=v_src_cols)\n",
    "    \n",
    "    # destination\n",
    "    V_dst_array = df['destination_node'].apply(lambda node_number: svd(V.T, node_number))\n",
    "    V_dst_array = [list(item) for item in list(V_dst_array)]\n",
    "    V_dst_array = pd.DataFrame(V_dst_array, columns=v_dst_cols)\n",
    "    \n",
    "    # create SVD featue Dataframe\n",
    "    svd_feature_df = pd.concat([U_src_array, U_dst_array, V_src_array, V_dst_array], axis=1)\n",
    "    \n",
    "    # add dot product of svd featrues\n",
    "    svd_feature_df['U_DOT'] = svd_feature_df.apply(lambda x : np.dot(x[u_src_cols],\n",
    "                                            x[u_dst_cols]), axis=1)\n",
    "    svd_feature_df['V_DOT'] = svd_feature_df.apply(lambda x : np.dot(x[v_src_cols],\n",
    "                                            x[v_dst_cols]), axis=1)\n",
    "    \n",
    "    \n",
    "    return svd_feature_df"
   ]
  },
  {
   "cell_type": "markdown",
   "metadata": {},
   "source": [
    "# Graph Mining - Feature Extraction"
   ]
  },
  {
   "cell_type": "code",
   "execution_count": 59,
   "metadata": {},
   "outputs": [],
   "source": [
    "def mine_features(df, G):\n",
    "    \n",
    "    # mine feature set -1 \n",
    "    print(datetime.now(), ' Started mine_features_set_1')\n",
    "    feat_df_1 = mine_features_set_1(df, G)\n",
    "    print(datetime.now(), ' mine_features_set_1 completed !!!')\n",
    "\n",
    "    # mine feature set-2\n",
    "    print(datetime.now(), ' Started mine_features_set_2')\n",
    "    feat_df_2 = mine_features_set_2(df, G, wcc_list)\n",
    "    print(datetime.now(), ' mine_features_set_2 completed !!!')\n",
    "\n",
    "    # mine feature set-3\n",
    "    print(datetime.now(), '  Started mine_features_set_3')\n",
    "    feat_df_3 = mine_features_set_3(df, G, page_rank, katz_values, \n",
    "                                    hubs_scores, authorities)\n",
    "    print(datetime.now(), ' mine_features_set_3 completed !!!')\n",
    "\n",
    "    # mine featue set-4\n",
    "    print(datetime.now(), ' Started mine_features_set_4')\n",
    "    feat_df_4 = mine_features_set_4(df, U, s, V)\n",
    "    print(datetime.now(), ' mine_features_set_4 completed !!!')\n",
    "\n",
    "    # create final data frame\n",
    "    final_features_df = pd.concat([feat_df_1, feat_df_2, \n",
    "                                   feat_df_3, feat_df_4], axis=1)\n",
    "    \n",
    "    # add label colum to the dataset\n",
    "    final_features_df['Label'] = df['Label']\n",
    "    \n",
    "    print('Final feature df shape:', final_features_df.shape)\n",
    "    \n",
    "    print(datetime.now(), ' Featurization completed !!!')\n",
    "    \n",
    "    return final_features_df     "
   ]
  },
  {
   "cell_type": "markdown",
   "metadata": {},
   "source": [
    "# Save final ML dataset"
   ]
  },
  {
   "cell_type": "code",
   "execution_count": 60,
   "metadata": {},
   "outputs": [
    {
     "name": "stdout",
     "output_type": "stream",
     "text": [
      "2019-06-22 00:28:38.257715  Started mine_features_set_1\n",
      "2019-06-22 00:28:46.949583  mine_features_set_1 completed !!!\n",
      "2019-06-22 00:28:46.949685  Started mine_features_set_2\n",
      "2019-06-22 00:30:41.871410  mine_features_set_2 completed !!!\n",
      "2019-06-22 00:30:41.871516   Started mine_features_set_3\n",
      "2019-06-22 00:30:42.835645  mine_features_set_3 completed !!!\n",
      "2019-06-22 00:30:42.835762  Started mine_features_set_4\n",
      "   source_node  destination_node  Label\n",
      "0      1663332            517966      0\n",
      "1       888857            914745      0\n",
      "2      1350917            280693      0\n",
      "3       233770           1624840      0\n",
      "4       538698           1076250      1\n",
      "2019-06-22 00:34:48.922123  mine_features_set_4 completed !!!\n",
      "Final feature df shape: (100000, 63)\n",
      "2019-06-22 00:34:48.933873  Featurization completed !!!\n",
      "2019-06-22 00:34:48.934123  Started mine_features_set_1\n",
      "2019-06-22 00:34:57.756905  mine_features_set_1 completed !!!\n",
      "2019-06-22 00:34:57.756996  Started mine_features_set_2\n",
      "2019-06-22 00:36:58.492786  mine_features_set_2 completed !!!\n",
      "2019-06-22 00:36:58.492876   Started mine_features_set_3\n",
      "2019-06-22 00:36:59.148978  mine_features_set_3 completed !!!\n",
      "2019-06-22 00:36:59.149098  Started mine_features_set_4\n",
      "   source_node  destination_node  Label\n",
      "0      1311734            608284      0\n",
      "1       204267            422639      0\n",
      "2       570292            225447      1\n",
      "3      1649996            422952      1\n",
      "4      1234538            909373      0\n",
      "2019-06-22 00:40:54.812781  mine_features_set_4 completed !!!\n",
      "Final feature df shape: (100000, 63)\n",
      "2019-06-22 00:40:54.824774  Featurization completed !!!\n"
     ]
    }
   ],
   "source": [
    "final_train_features_df = mine_features(sample_train_df, G_train)\n",
    "final_test_features_df = mine_features(sample_test_df, G_train)"
   ]
  },
  {
   "cell_type": "code",
   "execution_count": 61,
   "metadata": {},
   "outputs": [],
   "source": [
    "final_train_features_df.to_csv('./data/Final_graph_train_features.csv', index=False)\n",
    "final_test_features_df.to_csv('./data/Final_graph_test_features.csv', index=False)"
   ]
  },
  {
   "cell_type": "markdown",
   "metadata": {},
   "source": [
    "# Procedure Summary"
   ]
  },
  {
   "cell_type": "markdown",
   "metadata": {},
   "source": [
    "<ul>\n",
    "<li> Basic EDA on degree of vertex, followees, followers, followees + followers is done on the dataset </li>\n",
    "<li> Generated the missing edges from the dataset by considering only those missing edges with shortest path > 2 </li>\n",
    "<li> Added the featue set by grpah mining methods such as page rank, hits score, adar index, follows back, cosine distance, jaccard distance etc. </li>\n",
    "<li> Added svd features of follower as well as followee </li>\n",
    "<li> Added an engineered feature of svd dot </li>\n",
    "<li> Added preferential attachment feature </li>\n",
    "<li> Saved the train, test feature sets</li>\n",
    "</ul>"
   ]
  },
  {
   "cell_type": "markdown",
   "metadata": {},
   "source": [
    "# Conclusion"
   ]
  },
  {
   "cell_type": "markdown",
   "metadata": {},
   "source": [
    "<ul>\n",
    "<li> Graph mining is done on the social media dataset </li>\n",
    "<li> Generated train, test sets for the ML model </li>\n",
    "</ul>"
   ]
  }
 ],
 "metadata": {
  "kernelspec": {
   "display_name": "Python 3",
   "language": "python",
   "name": "python3"
  },
  "language_info": {
   "codemirror_mode": {
    "name": "ipython",
    "version": 3
   },
   "file_extension": ".py",
   "mimetype": "text/x-python",
   "name": "python",
   "nbconvert_exporter": "python",
   "pygments_lexer": "ipython3",
   "version": "3.6.5"
  }
 },
 "nbformat": 4,
 "nbformat_minor": 2
}
