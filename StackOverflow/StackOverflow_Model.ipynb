{
 "cells": [
  {
   "cell_type": "code",
   "execution_count": 1,
   "metadata": {},
   "outputs": [],
   "source": [
    "# general purpose packages\n",
    "import pandas as pd\n",
    "import numpy as np\n",
    "import os\n",
    "from datetime import datetime\n",
    "import pickle\n",
    "\n",
    "# visualization related packages\n",
    "import matplotlib.pyplot as plt\n",
    "import seaborn as sns\n",
    "sns.set()\n",
    "\n",
    "from sklearn.model_selection import GridSearchCV\n",
    "\n",
    "# Classifier Evaluation\n",
    "from sklearn.metrics import confusion_matrix\n",
    "from sklearn.metrics import precision_recall_fscore_support\n",
    "from sklearn.metrics import hamming_loss\n",
    "from sklearn.metrics import accuracy_score\n",
    "from sklearn.metrics import make_scorer\n",
    "from sklearn.metrics import f1_score\n",
    "\n",
    "# data preprocessing\n",
    "from sklearn.preprocessing import MinMaxScaler\n",
    "from sklearn.preprocessing import StandardScaler\n",
    "from sklearn.preprocessing import normalize\n",
    "\n",
    "from sklearn.feature_extraction.text import CountVectorizer\n",
    "from wordcloud import WordCloud\n",
    "\n",
    "# Model related packages\n",
    "from sklearn.linear_model import SGDClassifier\n",
    "from sklearn.linear_model import LogisticRegression\n",
    "#from sklearn.linear_model import \n",
    "from sklearn.multiclass import OneVsRestClassifier\n",
    "\n",
    "# Presenting Results\n",
    "from prettytable import PrettyTable\n",
    "\n",
    "# for loading the sparse matrix features\n",
    "import scipy.sparse"
   ]
  },
  {
   "cell_type": "markdown",
   "metadata": {},
   "source": [
    "# Configs"
   ]
  },
  {
   "cell_type": "code",
   "execution_count": 2,
   "metadata": {},
   "outputs": [],
   "source": [
    "# set sample size\n",
    "sample_size = -1 # set -1 for full size\n",
    "\n",
    "# path for train, test\n",
    "df_train_label_path = './data/Final_train_df_label.csv'\n",
    "df_test_label_path = './data/Final_test_df_label.csv'\n",
    "# path of final features frames\n",
    "final_train_feat_path = './data/train_feat_sparse_matrix.npz'\n",
    "final_test_feat_path = './data/test_feat_sparse_matrix.npz'"
   ]
  },
  {
   "cell_type": "markdown",
   "metadata": {},
   "source": [
    "# Util Functions"
   ]
  },
  {
   "cell_type": "code",
   "execution_count": 3,
   "metadata": {},
   "outputs": [],
   "source": [
    "def evaluate_model(model, X, y, title_suffix=str()):\n",
    "    \n",
    "    # get prediction and its probability\n",
    "    predicted_labels = model.predict(X)\n",
    "    #predicted_probs = model.predict_proba(X)\n",
    "    \n",
    "    # get evaluation scores (micro averaged)\n",
    "    micro_eval_array = precision_recall_fscore_support(y, predicted_labels,\n",
    "                                                       average='micro')[0:-1]\n",
    "    \n",
    "    \n",
    "    # get evaluation scores (macro averaged)\n",
    "    macro_eval_array = precision_recall_fscore_support(y, predicted_labels,\n",
    "                                                       average='macro')[0:-1]\n",
    "    \n",
    "    eval_df = pd.DataFrame([micro_eval_array, macro_eval_array], \n",
    "                           columns=['Precision', 'Recall', 'F1_Score'])\n",
    "    eval_df.index = ['Micro-Averaged', 'Macro-Averaged']\n",
    "    \n",
    "    # convert it to percentage\n",
    "    eval_df *= 100.0\n",
    "    \n",
    "    # plot the classification report\n",
    "    sns.heatmap(eval_df, annot=True, annot_kws={'size': 16}, fmt='.4f', cmap='YlGnBu',\n",
    "                   cbar_kws={'label': 'Percentage', 'format':'%.2f'})\n",
    "    plt.yticks(rotation=0)\n",
    "    plt.xticks(rotation=90)\n",
    "    \n",
    "    plt.xlabel('Metrics')\n",
    "    plt.ylabel('Average Type')\n",
    "    plt.title('Classification Report -' + title_suffix)\n",
    "    plt.show()\n",
    "    \n",
    "    # get the performace metrics\n",
    "    micro_f1_score = '{0:.4f}'.format(eval_df.loc['Micro-Averaged', 'F1_Score'])\n",
    "    macro_f1_score = '{0:.4f}'.format(eval_df.loc['Macro-Averaged', 'F1_Score'])\n",
    "    \n",
    "    # get accuracy & haming loss\n",
    "    accuracy = accuracy_score(y, predicted_labels)\n",
    "    ham_loss = hamming_loss(y, predicted_labels)\n",
    "    \n",
    "    print('Accuracy : %f \\t Hamming loss : %f'%(accuracy, ham_loss,))\n",
    "    \n",
    "    return (ham_loss, micro_f1_score,)"
   ]
  },
  {
   "cell_type": "markdown",
   "metadata": {},
   "source": [
    "# Data"
   ]
  },
  {
   "cell_type": "code",
   "execution_count": 4,
   "metadata": {},
   "outputs": [
    {
     "name": "stdout",
     "output_type": "stream",
     "text": [
      "Shape of train features shape : (210000, 12526)\n",
      "Shape of features shape : (90000, 12526)\n"
     ]
    }
   ],
   "source": [
    "# Read label inforamtion\n",
    "df_train = pd.read_csv(df_train_label_path, index_col=False)\n",
    "df_test = pd.read_csv(df_test_label_path, index_col=False)\n",
    "\n",
    "# read featue data\n",
    "X_train = scipy.sparse.load_npz(final_train_feat_path)\n",
    "X_test = scipy.sparse.load_npz(final_test_feat_path)\n",
    "\n",
    "if sample_size > 0:\n",
    "    # set sample for train\n",
    "    df_train = df_train.iloc[0:sample_size]\n",
    "    df_train = df_train.reset_index(drop=True)\n",
    "    # set sample for test\n",
    "    df_test = df_test.iloc[0:sample_size]\n",
    "    df_test = df_test.reset_index(drop=True)\n",
    "    # sample features\n",
    "    X_train = X_train[0:sample_size, :]\n",
    "    X_test = X_test[0:sample_size, :]\n",
    "    \n",
    "    \n",
    "    \n",
    "print('Shape of train features shape :', X_train.shape)\n",
    "print('Shape of features shape :', X_test.shape)"
   ]
  },
  {
   "cell_type": "code",
   "execution_count": 5,
   "metadata": {},
   "outputs": [
    {
     "name": "stdout",
     "output_type": "stream",
     "text": [
      "Multilabel list ['application', 'architecture', 'arraylist', 'arrays', 'asp-classic', 'asp.net', 'asp.net-mvc', 'asp.net-mvc-2', 'asp.net-mvc-3', 'asp.net-mvc-4']\n"
     ]
    }
   ],
   "source": [
    "# load the label names from the pickle file\n",
    "#load model from disk\n",
    "pickle_in = open(\"./data/so_multilabels.pkl\",\"rb\")\n",
    "labels_list = pickle.load(pickle_in)\n",
    "pickle_in.close()\n",
    "print('Multilabel list', labels_list[30:40])"
   ]
  },
  {
   "cell_type": "markdown",
   "metadata": {},
   "source": [
    "## Convert labels to One Hot Encoded Format"
   ]
  },
  {
   "cell_type": "code",
   "execution_count": 6,
   "metadata": {},
   "outputs": [],
   "source": [
    "vectorizer = CountVectorizer(tokenizer=lambda x: x.split(), binary='true')\n",
    "vectorizer.fit([' '.join(labels_list)])\n",
    "label_names_list = list(vectorizer.get_feature_names())"
   ]
  },
  {
   "cell_type": "code",
   "execution_count": 7,
   "metadata": {},
   "outputs": [
    {
     "data": {
      "text/html": [
       "<div>\n",
       "<style scoped>\n",
       "    .dataframe tbody tr th:only-of-type {\n",
       "        vertical-align: middle;\n",
       "    }\n",
       "\n",
       "    .dataframe tbody tr th {\n",
       "        vertical-align: top;\n",
       "    }\n",
       "\n",
       "    .dataframe thead th {\n",
       "        text-align: right;\n",
       "    }\n",
       "</style>\n",
       "<table border=\"1\" class=\"dataframe\">\n",
       "  <thead>\n",
       "    <tr style=\"text-align: right;\">\n",
       "      <th></th>\n",
       "      <th>.htaccess</th>\n",
       "      <th>.net</th>\n",
       "      <th>.net-3.5</th>\n",
       "      <th>.net-4.0</th>\n",
       "      <th>2010</th>\n",
       "      <th>3d</th>\n",
       "      <th>abstract-algebra</th>\n",
       "      <th>actionscript</th>\n",
       "      <th>actionscript-3</th>\n",
       "      <th>active-directory</th>\n",
       "      <th>...</th>\n",
       "      <th>wpf</th>\n",
       "      <th>xaml</th>\n",
       "      <th>xcode</th>\n",
       "      <th>xcode4</th>\n",
       "      <th>xhtml</th>\n",
       "      <th>xml</th>\n",
       "      <th>xpath</th>\n",
       "      <th>xslt</th>\n",
       "      <th>youtube</th>\n",
       "      <th>zend-framework</th>\n",
       "    </tr>\n",
       "  </thead>\n",
       "  <tbody>\n",
       "    <tr>\n",
       "      <th>0</th>\n",
       "      <td>0</td>\n",
       "      <td>0</td>\n",
       "      <td>0</td>\n",
       "      <td>0</td>\n",
       "      <td>0</td>\n",
       "      <td>0</td>\n",
       "      <td>0</td>\n",
       "      <td>0</td>\n",
       "      <td>0</td>\n",
       "      <td>0</td>\n",
       "      <td>...</td>\n",
       "      <td>0</td>\n",
       "      <td>0</td>\n",
       "      <td>0</td>\n",
       "      <td>0</td>\n",
       "      <td>0</td>\n",
       "      <td>0</td>\n",
       "      <td>0</td>\n",
       "      <td>0</td>\n",
       "      <td>0</td>\n",
       "      <td>0</td>\n",
       "    </tr>\n",
       "    <tr>\n",
       "      <th>1</th>\n",
       "      <td>0</td>\n",
       "      <td>0</td>\n",
       "      <td>0</td>\n",
       "      <td>0</td>\n",
       "      <td>0</td>\n",
       "      <td>0</td>\n",
       "      <td>0</td>\n",
       "      <td>0</td>\n",
       "      <td>0</td>\n",
       "      <td>0</td>\n",
       "      <td>...</td>\n",
       "      <td>0</td>\n",
       "      <td>0</td>\n",
       "      <td>0</td>\n",
       "      <td>0</td>\n",
       "      <td>0</td>\n",
       "      <td>0</td>\n",
       "      <td>0</td>\n",
       "      <td>0</td>\n",
       "      <td>0</td>\n",
       "      <td>0</td>\n",
       "    </tr>\n",
       "    <tr>\n",
       "      <th>2</th>\n",
       "      <td>0</td>\n",
       "      <td>0</td>\n",
       "      <td>0</td>\n",
       "      <td>0</td>\n",
       "      <td>0</td>\n",
       "      <td>0</td>\n",
       "      <td>0</td>\n",
       "      <td>0</td>\n",
       "      <td>0</td>\n",
       "      <td>0</td>\n",
       "      <td>...</td>\n",
       "      <td>0</td>\n",
       "      <td>0</td>\n",
       "      <td>0</td>\n",
       "      <td>0</td>\n",
       "      <td>0</td>\n",
       "      <td>0</td>\n",
       "      <td>0</td>\n",
       "      <td>0</td>\n",
       "      <td>0</td>\n",
       "      <td>0</td>\n",
       "    </tr>\n",
       "    <tr>\n",
       "      <th>3</th>\n",
       "      <td>0</td>\n",
       "      <td>0</td>\n",
       "      <td>0</td>\n",
       "      <td>0</td>\n",
       "      <td>0</td>\n",
       "      <td>0</td>\n",
       "      <td>0</td>\n",
       "      <td>0</td>\n",
       "      <td>0</td>\n",
       "      <td>0</td>\n",
       "      <td>...</td>\n",
       "      <td>0</td>\n",
       "      <td>0</td>\n",
       "      <td>0</td>\n",
       "      <td>0</td>\n",
       "      <td>0</td>\n",
       "      <td>0</td>\n",
       "      <td>0</td>\n",
       "      <td>0</td>\n",
       "      <td>0</td>\n",
       "      <td>0</td>\n",
       "    </tr>\n",
       "    <tr>\n",
       "      <th>4</th>\n",
       "      <td>0</td>\n",
       "      <td>0</td>\n",
       "      <td>0</td>\n",
       "      <td>0</td>\n",
       "      <td>0</td>\n",
       "      <td>0</td>\n",
       "      <td>0</td>\n",
       "      <td>0</td>\n",
       "      <td>0</td>\n",
       "      <td>0</td>\n",
       "      <td>...</td>\n",
       "      <td>0</td>\n",
       "      <td>0</td>\n",
       "      <td>0</td>\n",
       "      <td>0</td>\n",
       "      <td>0</td>\n",
       "      <td>0</td>\n",
       "      <td>0</td>\n",
       "      <td>0</td>\n",
       "      <td>0</td>\n",
       "      <td>0</td>\n",
       "    </tr>\n",
       "  </tbody>\n",
       "</table>\n",
       "<p>5 rows × 500 columns</p>\n",
       "</div>"
      ],
      "text/plain": [
       "   .htaccess  .net  .net-3.5  .net-4.0  2010  3d  abstract-algebra  \\\n",
       "0          0     0         0         0     0   0                 0   \n",
       "1          0     0         0         0     0   0                 0   \n",
       "2          0     0         0         0     0   0                 0   \n",
       "3          0     0         0         0     0   0                 0   \n",
       "4          0     0         0         0     0   0                 0   \n",
       "\n",
       "   actionscript  actionscript-3  active-directory       ...        wpf  xaml  \\\n",
       "0             0               0                 0       ...          0     0   \n",
       "1             0               0                 0       ...          0     0   \n",
       "2             0               0                 0       ...          0     0   \n",
       "3             0               0                 0       ...          0     0   \n",
       "4             0               0                 0       ...          0     0   \n",
       "\n",
       "   xcode  xcode4  xhtml  xml  xpath  xslt  youtube  zend-framework  \n",
       "0      0       0      0    0      0     0        0               0  \n",
       "1      0       0      0    0      0     0        0               0  \n",
       "2      0       0      0    0      0     0        0               0  \n",
       "3      0       0      0    0      0     0        0               0  \n",
       "4      0       0      0    0      0     0        0               0  \n",
       "\n",
       "[5 rows x 500 columns]"
      ]
     },
     "execution_count": 7,
     "metadata": {},
     "output_type": "execute_result"
    }
   ],
   "source": [
    "# transform the feature columns\n",
    "y_train = vectorizer.transform(df_train['Tags'])\n",
    "y_test = vectorizer.transform(df_test['Tags'])\n",
    "\n",
    "# prepare train test features data frames \n",
    "y_train = pd.DataFrame(y_train.toarray(), columns=label_names_list)\n",
    "y_test = pd.DataFrame(y_test.toarray(), columns=label_names_list)\n",
    "\n",
    "# sample y_train\n",
    "y_train.head()"
   ]
  },
  {
   "cell_type": "code",
   "execution_count": 8,
   "metadata": {},
   "outputs": [
    {
     "data": {
      "text/plain": [
       "171"
      ]
     },
     "execution_count": 8,
     "metadata": {},
     "output_type": "execute_result"
    }
   ],
   "source": [
    "y_train.sum(axis=0).min()"
   ]
  },
  {
   "cell_type": "code",
   "execution_count": 9,
   "metadata": {},
   "outputs": [
    {
     "data": {
      "text/plain": [
       "69"
      ]
     },
     "execution_count": 9,
     "metadata": {},
     "output_type": "execute_result"
    }
   ],
   "source": [
    "y_test.sum(axis=0).min()"
   ]
  },
  {
   "cell_type": "markdown",
   "metadata": {},
   "source": [
    "# Models"
   ]
  },
  {
   "cell_type": "markdown",
   "metadata": {},
   "source": [
    "## A) Logistic regression(OvR)"
   ]
  },
  {
   "cell_type": "code",
   "execution_count": 10,
   "metadata": {},
   "outputs": [],
   "source": [
    "def get_best_hyperparam_OVR_LogisticRegression(param_dict, X, y, random_search=False):\n",
    "    \n",
    "    # set the scoring function\n",
    "    final_scorer = 'f1-micro'\n",
    "    \n",
    "    # declare a scoring dictionary\n",
    "    score_dict = {\n",
    "        'f1-micro': make_scorer(score_func=f1_score, greater_is_better=True,\n",
    "                                     needs_proba=False, needs_threshold=False, average='micro')\n",
    "    }\n",
    "        \n",
    "    \n",
    "     #Declare the metric as  'minimization' or 'maximization'\n",
    "    optimization_dict = {\n",
    "        'f1-micro' : 'maximization'\n",
    "    }\n",
    "    \n",
    "    # Set a data partitioning strategy\n",
    "    cv_data = 3\n",
    "        \n",
    "     \n",
    "    # declare model\n",
    "    #log_reg = LogisticRegression()\n",
    "    log_reg = SGDClassifier(loss='log', penalty='l1', max_iter=1e+03, tol=1e-03)\n",
    "    model = OneVsRestClassifier(log_reg)\n",
    "    \n",
    "    if random_search:\n",
    "        search_cv = RandomizedSearchCV(estimator=model, param_distributions=param_dict, \n",
    "                                       cv=cv_data, scoring=score_dict, refit=False, \n",
    "                                       return_train_score=True, n_iter=6, n_jobs=-1)\n",
    "        \n",
    "    else:\n",
    "        # declare grid search CV object\n",
    "        search_cv = GridSearchCV(estimator=model, param_grid=param_dict, cv=cv_data,\n",
    "                                 scoring=score_dict, refit=False, \n",
    "                                 return_train_score=True, n_jobs=-1)\n",
    "    \n",
    "    # fit to the data\n",
    "    search_cv.fit(X, y)\n",
    "    \n",
    "    \n",
    "    # get total number of param settings\n",
    "    param_list = list(param_dict.keys())\n",
    "    param_field_list = ['param_' + item for item in param_list]\n",
    "    \n",
    "    # get list of train metric list\n",
    "    train_metric_list = ['mean_train_' + item for item in score_dict.keys()]\n",
    "    # get list of test metric list\n",
    "    test_metric_list = ['mean_test_' + item for item in score_dict.keys()]\n",
    "    \n",
    "    # get number of rows in the search cv data frame\n",
    "    num_rows = len(search_cv.cv_results_['params'])\n",
    "        \n",
    "    # create the grid search info df  \n",
    "    grid_info_df = pd.DataFrame(search_cv.cv_results_, index=range(num_rows))\n",
    "    \n",
    "    # prepare a list of reqired columns\n",
    "    required_columns = ['params'] + param_field_list + train_metric_list + \\\n",
    "                       test_metric_list\n",
    "    \n",
    "    # slice the data frame to only required columns\n",
    "    grid_info_df = grid_info_df[required_columns]\n",
    "    \n",
    "    # process individual metrics\n",
    "    for metric, optimization in optimization_dict.items():\n",
    "        if optimization == 'minimization':\n",
    "            grid_info_df['mean_train_' + metric] *= -1\n",
    "            grid_info_df['mean_test_' + metric] *= -1\n",
    "            \n",
    "            \n",
    "    # Find the best hyperparam & its corresponding scores\n",
    "    if optimization_dict[final_scorer] == 'minimization':\n",
    "        best_hyperparam_record = grid_info_df.loc[grid_info_df[\n",
    "                                   'mean_test_'+ final_scorer].idxmin(),:] \n",
    "    else:\n",
    "        best_hyperparam_record = grid_info_df.loc[grid_info_df[\n",
    "                                   'mean_test_'+ final_scorer].idxmax(),:]\n",
    "        \n",
    "    # best hyperparam & corresponding scores\n",
    "    best_hyperparam = best_hyperparam_record['params']\n",
    "    best_train_score = best_hyperparam_record['mean_train_'+ final_scorer]\n",
    "    best_validation_score = best_hyperparam_record['mean_test_'+ final_scorer]\n",
    "    \n",
    "    # plot the hyper params \n",
    "    if len(param_list) == 1:\n",
    "        \n",
    "        # extract individual fiedls\n",
    "        x_vals = np.log10(grid_info_df[param_field_list[0]].tolist())\n",
    "        y_vals_tr = grid_info_df['mean_train_' + final_scorer].tolist()\n",
    "        y_vals_val = grid_info_df['mean_test_' + final_scorer].tolist()\n",
    "        \n",
    "        # plot train, validation performances\n",
    "        plt.plot(x_vals, y_vals_tr, label='Train', color='r', marker='o', linestyle='-')\n",
    "        plt.plot(x_vals, y_vals_val, label='Validation', color='b', marker='o', linestyle='-')\n",
    "        plt.xlabel('Log Hyper Params -' + param_list[0])\n",
    "        plt.ylabel(final_scorer)\n",
    "        plt.legend()\n",
    "        plt.title('LogisticRegression OvR - Hyperparam Train v/s Validation Scores')\n",
    "        plt.show()\n",
    "        \n",
    "        \n",
    "    # Heatmap plot for pair of hyperparam values  \n",
    "    elif len(param_list) == 2:\n",
    "        # get pivoted table\n",
    "        train_hyp_df = pd.pivot_table(data=grid_info_df, index=param_field_list[0], \n",
    "                                      columns=param_field_list[1],\n",
    "                                      values='mean_train_' + final_scorer , \n",
    "                                      fill_value=np.inf)\n",
    "        sns.heatmap(train_hyp_df, annot=True, cmap='YlGnBu', fmt='.4f',\n",
    "                   cbar_kws={'label': final_scorer, 'format':'%.2f'})\n",
    "        plt.xlabel(param_list[1])\n",
    "        plt.ylabel(param_list[0])\n",
    "        plt.title('LogisticRegression OvR - Hyperparams Scores - Train')\n",
    "        plt.show()\n",
    "        \n",
    "        print('\\n'*3)\n",
    "        \n",
    "        # Test hyperparam\n",
    "        \n",
    "        # get pivoted table\n",
    "        train_hyp_df = pd.pivot_table(data=grid_info_df, index=param_field_list[0], \n",
    "                                      columns=param_field_list[1],\n",
    "                                      values='mean_test_' + final_scorer, fill_value=np.inf)\n",
    "        sns.heatmap(train_hyp_df, annot=True, cmap='YlGnBu', fmt='.4f',\n",
    "                   cbar_kws={'label': final_scorer, 'format':'%.2f'})\n",
    "        plt.xlabel(param_list[1])\n",
    "        plt.ylabel(param_list[0])\n",
    "        plt.title('LogisticRegression OvR - Hyperparams Scores - Validation')\n",
    "        plt.show()\n",
    "        \n",
    "    else:\n",
    "        print(grid_info_df)\n",
    "    \n",
    "    print('Best hyperparam value: ', best_hyperparam, 'Best Train Score: ', best_train_score, \n",
    "          'Best Validation Score: ', best_validation_score)\n",
    "   \n",
    "          \n",
    "    #best_mse_train = best_hyperparam_record['mean_train_MSE']\n",
    "    #best_mse_validation = best_hyperparam_record['mean_test_MSE']\n",
    "    \n",
    "    # return tuple\n",
    "    ret_tuple = (best_hyperparam, best_train_score, best_validation_score,)\n",
    "    \n",
    "    \n",
    "    return ret_tuple"
   ]
  },
  {
   "cell_type": "markdown",
   "metadata": {},
   "source": [
    "### 1. Find the best Hyperparam"
   ]
  },
  {
   "cell_type": "code",
   "execution_count": 11,
   "metadata": {},
   "outputs": [
    {
     "name": "stdout",
     "output_type": "stream",
     "text": [
      "2019-06-27 00:47:18.744195  Hyperparam Tuning of Logistic Regression OvR started\n"
     ]
    },
    {
     "name": "stderr",
     "output_type": "stream",
     "text": [
      "/home/amd_3/anaconda3/lib/python3.6/site-packages/sklearn/metrics/classification.py:1135: UndefinedMetricWarning: F-score is ill-defined and being set to 0.0 due to no predicted samples.\n",
      "  'precision', 'predicted', average, warn_for)\n",
      "/home/amd_3/anaconda3/lib/python3.6/site-packages/sklearn/metrics/classification.py:1135: UndefinedMetricWarning: F-score is ill-defined and being set to 0.0 due to no predicted samples.\n",
      "  'precision', 'predicted', average, warn_for)\n",
      "/home/amd_3/anaconda3/lib/python3.6/site-packages/sklearn/metrics/classification.py:1135: UndefinedMetricWarning: F-score is ill-defined and being set to 0.0 due to no predicted samples.\n",
      "  'precision', 'predicted', average, warn_for)\n",
      "/home/amd_3/anaconda3/lib/python3.6/site-packages/sklearn/metrics/classification.py:1135: UndefinedMetricWarning: F-score is ill-defined and being set to 0.0 due to no predicted samples.\n",
      "  'precision', 'predicted', average, warn_for)\n",
      "/home/amd_3/anaconda3/lib/python3.6/site-packages/sklearn/metrics/classification.py:1135: UndefinedMetricWarning: F-score is ill-defined and being set to 0.0 due to no predicted samples.\n",
      "  'precision', 'predicted', average, warn_for)\n",
      "/home/amd_3/anaconda3/lib/python3.6/site-packages/sklearn/metrics/classification.py:1135: UndefinedMetricWarning: F-score is ill-defined and being set to 0.0 due to no predicted samples.\n",
      "  'precision', 'predicted', average, warn_for)\n",
      "/home/amd_3/anaconda3/lib/python3.6/site-packages/sklearn/metrics/classification.py:1135: UndefinedMetricWarning: F-score is ill-defined and being set to 0.0 due to no predicted samples.\n",
      "  'precision', 'predicted', average, warn_for)\n",
      "/home/amd_3/anaconda3/lib/python3.6/site-packages/sklearn/metrics/classification.py:1135: UndefinedMetricWarning: F-score is ill-defined and being set to 0.0 due to no predicted samples.\n",
      "  'precision', 'predicted', average, warn_for)\n",
      "/home/amd_3/anaconda3/lib/python3.6/site-packages/sklearn/metrics/classification.py:1135: UndefinedMetricWarning: F-score is ill-defined and being set to 0.0 due to no predicted samples.\n",
      "  'precision', 'predicted', average, warn_for)\n",
      "/home/amd_3/anaconda3/lib/python3.6/site-packages/sklearn/metrics/classification.py:1135: UndefinedMetricWarning: F-score is ill-defined and being set to 0.0 due to no predicted samples.\n",
      "  'precision', 'predicted', average, warn_for)\n",
      "/home/amd_3/anaconda3/lib/python3.6/site-packages/sklearn/metrics/classification.py:1135: UndefinedMetricWarning: F-score is ill-defined and being set to 0.0 due to no predicted samples.\n",
      "  'precision', 'predicted', average, warn_for)\n",
      "/home/amd_3/anaconda3/lib/python3.6/site-packages/sklearn/metrics/classification.py:1135: UndefinedMetricWarning: F-score is ill-defined and being set to 0.0 due to no predicted samples.\n",
      "  'precision', 'predicted', average, warn_for)\n"
     ]
    },
    {
     "data": {
      "image/png": "[encoded data removed]",
      "text/plain": [
       "<Figure size 432x288 with 1 Axes>"
      ]
     },
     "metadata": {},
     "output_type": "display_data"
    },
    {
     "name": "stdout",
     "output_type": "stream",
     "text": [
      "Best hyperparam value:  {'estimator__alpha': 0.001} Best Train Score:  0.4689696589260479 Best Validation Score:  0.4642311287828081\n",
      "2019-06-27 01:15:04.100310  Hyperparam Tuning of Logistic Regression OvR completed\n"
     ]
    }
   ],
   "source": [
    "param_dict_lr_ovr = {'estimator__alpha': [1e-03, 1e-02, 1e-01, 1e+00, 1e+01]}\n",
    "print(datetime.now() ,' Hyperparam Tuning of Logistic Regression OvR started')\n",
    "hyp_tuned_info_lgr = get_best_hyperparam_OVR_LogisticRegression(param_dict_lr_ovr, \n",
    "                                                            X_train, y_train)\n",
    "print(datetime.now() ,' Hyperparam Tuning of Logistic Regression OvR completed')\n",
    "best_hyp_lgr, best_tr_score_lgr, best_val_score_lgr = hyp_tuned_info_lgr"
   ]
  },
  {
   "cell_type": "markdown",
   "metadata": {},
   "source": [
    "### 2. Train the model with best hyperparam"
   ]
  },
  {
   "cell_type": "code",
   "execution_count": 12,
   "metadata": {},
   "outputs": [
    {
     "name": "stdout",
     "output_type": "stream",
     "text": [
      "2019-06-27 01:15:04.107993  Training of Logistic Regression OvR completed\n",
      "2019-06-27 01:20:09.674191  Training of Logistic Regression OvR completed\n"
     ]
    }
   ],
   "source": [
    "log_reg = SGDClassifier(loss='log', alpha=best_hyp_lgr['estimator__alpha'], penalty='l1', \n",
    "                        max_iter=1e+03, tol=1e-03)\n",
    "log_reg_ovr = OneVsRestClassifier(log_reg, n_jobs=-1)\n",
    "\n",
    "print(datetime.now() ,' Training of Logistic Regression OvR completed')\n",
    "log_reg_ovr.fit(X_train, y_train)\n",
    "print(datetime.now() ,' Training of Logistic Regression OvR completed')\n",
    "\n",
    "# save model to disk\n",
    "pickle_out = open(\"./model/logistic_regression_ovr.pkl\",\"wb\")\n",
    "pickle.dump(log_reg_ovr, pickle_out)\n",
    "pickle_out.close()"
   ]
  },
  {
   "cell_type": "code",
   "execution_count": 13,
   "metadata": {},
   "outputs": [
    {
     "name": "stderr",
     "output_type": "stream",
     "text": [
      "/home/amd_3/anaconda3/lib/python3.6/site-packages/sklearn/metrics/classification.py:1135: UndefinedMetricWarning: Precision and F-score are ill-defined and being set to 0.0 in labels with no predicted samples.\n",
      "  'precision', 'predicted', average, warn_for)\n"
     ]
    },
    {
     "data": {
      "image/png": "[encoded data removed]",
      "text/plain": [
       "<Figure size 432x288 with 2 Axes>"
      ]
     },
     "metadata": {},
     "output_type": "display_data"
    },
    {
     "name": "stdout",
     "output_type": "stream",
     "text": [
      "Accuracy : 0.157210 \t Hamming loss : 0.003309\n"
     ]
    }
   ],
   "source": [
    "#load model from disk\n",
    "pickle_in = open(\"./model/logistic_regression_ovr.pkl\",\"rb\")\n",
    "log_reg_ovr = pickle.load(pickle_in)\n",
    "pickle_in.close()\n",
    "\n",
    "# evaluate the trained model on train data\n",
    "table_entry_train_lgr = evaluate_model(log_reg_ovr, X_train, y_train, 'Train Metrics')"
   ]
  },
  {
   "cell_type": "markdown",
   "metadata": {},
   "source": [
    "### 3. Test the model"
   ]
  },
  {
   "cell_type": "code",
   "execution_count": 14,
   "metadata": {},
   "outputs": [
    {
     "name": "stderr",
     "output_type": "stream",
     "text": [
      "/home/amd_3/anaconda3/lib/python3.6/site-packages/sklearn/metrics/classification.py:1135: UndefinedMetricWarning: Precision and F-score are ill-defined and being set to 0.0 in labels with no predicted samples.\n",
      "  'precision', 'predicted', average, warn_for)\n"
     ]
    },
    {
     "data": {
      "image/png": "[encoded data removed]",
      "text/plain": [
       "<Figure size 432x288 with 2 Axes>"
      ]
     },
     "metadata": {},
     "output_type": "display_data"
    },
    {
     "name": "stdout",
     "output_type": "stream",
     "text": [
      "Accuracy : 0.154867 \t Hamming loss : 0.003327\n"
     ]
    }
   ],
   "source": [
    "# evaluate the trained model on test data\n",
    "table_entry_test_lgr = evaluate_model(log_reg_ovr, X_test, y_test, 'Test Metrics')"
   ]
  },
  {
   "cell_type": "code",
   "execution_count": 15,
   "metadata": {},
   "outputs": [],
   "source": [
    "table_entry_lgr = ('Logistic Regression (OvR)', best_hyp_lgr,) + \\\n",
    "                  (table_entry_train_lgr[1],) + (table_entry_test_lgr[1],)"
   ]
  },
  {
   "cell_type": "markdown",
   "metadata": {},
   "source": [
    "## B) Linear SVM (OvR)"
   ]
  },
  {
   "cell_type": "code",
   "execution_count": 16,
   "metadata": {},
   "outputs": [],
   "source": [
    "def get_best_hyperparam_OVR_SVC(param_dict, X, y, random_search=False):\n",
    "    \n",
    "    # set the scoring function\n",
    "    final_scorer = 'f1-micro'\n",
    "    \n",
    "    # declare a scoring dictionary\n",
    "    score_dict = {\n",
    "        'f1-micro': make_scorer(score_func=f1_score, greater_is_better=True,\n",
    "                                     needs_proba=False, needs_threshold=False, average='micro')\n",
    "    }\n",
    "        \n",
    "    \n",
    "     #Declare the metric as  'minimization' or 'maximization'\n",
    "    optimization_dict = {\n",
    "        'f1-micro' : 'maximization'\n",
    "    }\n",
    "    \n",
    "    \n",
    "    # Set a data partitioning strategy\n",
    "    cv_data = 3\n",
    "        \n",
    "     \n",
    "    # declare model\n",
    "    svm = SGDClassifier(loss='hinge', penalty='l1', max_iter=1e+03, tol=1e-03)\n",
    "    model = OneVsRestClassifier(svm)\n",
    "    \n",
    "    if random_search:\n",
    "        search_cv = RandomizedSearchCV(estimator=model, param_distributions=param_dict, \n",
    "                                       cv=cv_data, scoring=score_dict, refit=False, \n",
    "                                       return_train_score=True, n_iter=6, n_jobs=-1)\n",
    "        \n",
    "    else:\n",
    "        # declare grid search CV object\n",
    "        search_cv = GridSearchCV(estimator=model, param_grid=param_dict, cv=cv_data,\n",
    "                                 scoring=score_dict, refit=False, \n",
    "                                 return_train_score=True, n_jobs=-1)\n",
    "    \n",
    "    # fit to the data\n",
    "    search_cv.fit(X, y)\n",
    "    \n",
    "    \n",
    "    # get total number of param settings\n",
    "    param_list = list(param_dict.keys())\n",
    "    param_field_list = ['param_' + item for item in param_list]\n",
    "    \n",
    "    # get list of train metric list\n",
    "    train_metric_list = ['mean_train_' + item for item in score_dict.keys()]\n",
    "    # get list of test metric list\n",
    "    test_metric_list = ['mean_test_' + item for item in score_dict.keys()]\n",
    "    \n",
    "    # get number of rows in the search cv data frame\n",
    "    num_rows = len(search_cv.cv_results_['params'])\n",
    "        \n",
    "    # create the grid search info df  \n",
    "    grid_info_df = pd.DataFrame(search_cv.cv_results_, index=range(num_rows))\n",
    "    \n",
    "    # prepare a list of reqired columns\n",
    "    required_columns = ['params'] + param_field_list + train_metric_list + \\\n",
    "                       test_metric_list\n",
    "    \n",
    "    # slice the data frame to only required columns\n",
    "    grid_info_df = grid_info_df[required_columns]\n",
    "    \n",
    "    # process individual metrics\n",
    "    for metric, optimization in optimization_dict.items():\n",
    "        if optimization == 'minimization':\n",
    "            grid_info_df['mean_train_' + metric] *= -1\n",
    "            grid_info_df['mean_test_' + metric] *= -1\n",
    "            \n",
    "            \n",
    "    # Find the best hyperparam & its corresponding scores\n",
    "    if optimization_dict[final_scorer] == 'minimization':\n",
    "        best_hyperparam_record = grid_info_df.loc[grid_info_df[\n",
    "                                   'mean_test_'+ final_scorer].idxmin(),:] \n",
    "    else:\n",
    "        best_hyperparam_record = grid_info_df.loc[grid_info_df[\n",
    "                                   'mean_test_'+ final_scorer].idxmax(),:]\n",
    "        \n",
    "    # best hyperparam & corresponding scores\n",
    "    best_hyperparam = best_hyperparam_record['params']\n",
    "    best_train_score = best_hyperparam_record['mean_train_'+ final_scorer]\n",
    "    best_validation_score = best_hyperparam_record['mean_test_'+ final_scorer]\n",
    "    \n",
    "    # plot the hyper params \n",
    "    if len(param_list) == 1:\n",
    "        \n",
    "        # extract individual fiedls\n",
    "        x_vals = np.log10(grid_info_df[param_field_list[0]].tolist())\n",
    "        y_vals_tr = grid_info_df['mean_train_' + final_scorer].tolist()\n",
    "        y_vals_val = grid_info_df['mean_test_' + final_scorer].tolist()\n",
    "        \n",
    "        # plot train, validation performances\n",
    "        plt.plot(x_vals, y_vals_tr, label='Train', color='r', marker='o', linestyle='-')\n",
    "        plt.plot(x_vals, y_vals_val, label='Validation', color='b', marker='o', linestyle='-')\n",
    "        plt.xlabel('Log Hyper Params -' + param_list[0])\n",
    "        plt.ylabel(final_scorer)\n",
    "        plt.legend()\n",
    "        plt.title('SVC OvR - Hyperparam Train v/s Validation Scores')\n",
    "        plt.show()\n",
    "        \n",
    "        \n",
    "    # Heatmap plot for pair of hyperparam values  \n",
    "    elif len(param_list) == 2:\n",
    "        # get pivoted table\n",
    "        train_hyp_df = pd.pivot_table(data=grid_info_df, index=param_field_list[0], \n",
    "                                      columns=param_field_list[1],\n",
    "                                      values='mean_train_' + final_scorer , \n",
    "                                      fill_value=np.inf)\n",
    "        sns.heatmap(train_hyp_df, annot=True, cmap='YlGnBu', fmt='.4f',\n",
    "                   cbar_kws={'label': final_scorer, 'format':'%.2f'})\n",
    "        plt.xlabel(param_list[1])\n",
    "        plt.ylabel(param_list[0])\n",
    "        plt.title('SVC OvR - Hyperparams Scores - Train')\n",
    "        plt.show()\n",
    "        \n",
    "        print('\\n'*3)\n",
    "        \n",
    "        # Test hyperparam\n",
    "        \n",
    "        # get pivoted table\n",
    "        train_hyp_df = pd.pivot_table(data=grid_info_df, index=param_field_list[0], \n",
    "                                      columns=param_field_list[1],\n",
    "                                      values='mean_test_' + final_scorer, fill_value=np.inf)\n",
    "        sns.heatmap(train_hyp_df, annot=True, cmap='YlGnBu', fmt='.4f',\n",
    "                   cbar_kws={'label': final_scorer, 'format':'%.2f'})\n",
    "        plt.xlabel(param_list[1])\n",
    "        plt.ylabel(param_list[0])\n",
    "        plt.title('SVC OvR - Hyperparams Scores - Validation')\n",
    "        plt.show()\n",
    "        \n",
    "    else:\n",
    "        print(grid_info_df)\n",
    "    \n",
    "    print('Best hyperparam value: ', best_hyperparam, 'Best Train Score: ', best_train_score, \n",
    "          'Best Validation Score: ', best_validation_score)\n",
    "   \n",
    "          \n",
    "    #best_mse_train = best_hyperparam_record['mean_train_MSE']\n",
    "    #best_mse_validation = best_hyperparam_record['mean_test_MSE']\n",
    "    \n",
    "    # return tuple\n",
    "    ret_tuple = (best_hyperparam, best_train_score, best_validation_score,)\n",
    "    \n",
    "    \n",
    "    return ret_tuple"
   ]
  },
  {
   "cell_type": "markdown",
   "metadata": {},
   "source": [
    "### 1. Find the best Hyperparam"
   ]
  },
  {
   "cell_type": "code",
   "execution_count": 17,
   "metadata": {},
   "outputs": [
    {
     "name": "stdout",
     "output_type": "stream",
     "text": [
      "2019-06-27 01:21:06.445062  Hyperparam Tuning of SVC OvR started\n"
     ]
    },
    {
     "name": "stderr",
     "output_type": "stream",
     "text": [
      "/home/amd_3/anaconda3/lib/python3.6/site-packages/sklearn/metrics/classification.py:1135: UndefinedMetricWarning: F-score is ill-defined and being set to 0.0 due to no predicted samples.\n",
      "  'precision', 'predicted', average, warn_for)\n",
      "/home/amd_3/anaconda3/lib/python3.6/site-packages/sklearn/metrics/classification.py:1135: UndefinedMetricWarning: F-score is ill-defined and being set to 0.0 due to no predicted samples.\n",
      "  'precision', 'predicted', average, warn_for)\n",
      "/home/amd_3/anaconda3/lib/python3.6/site-packages/sklearn/metrics/classification.py:1135: UndefinedMetricWarning: F-score is ill-defined and being set to 0.0 due to no predicted samples.\n",
      "  'precision', 'predicted', average, warn_for)\n",
      "/home/amd_3/anaconda3/lib/python3.6/site-packages/sklearn/metrics/classification.py:1135: UndefinedMetricWarning: F-score is ill-defined and being set to 0.0 due to no predicted samples.\n",
      "  'precision', 'predicted', average, warn_for)\n",
      "/home/amd_3/anaconda3/lib/python3.6/site-packages/sklearn/metrics/classification.py:1135: UndefinedMetricWarning: F-score is ill-defined and being set to 0.0 due to no predicted samples.\n",
      "  'precision', 'predicted', average, warn_for)\n",
      "/home/amd_3/anaconda3/lib/python3.6/site-packages/sklearn/metrics/classification.py:1135: UndefinedMetricWarning: F-score is ill-defined and being set to 0.0 due to no predicted samples.\n",
      "  'precision', 'predicted', average, warn_for)\n",
      "/home/amd_3/anaconda3/lib/python3.6/site-packages/sklearn/metrics/classification.py:1135: UndefinedMetricWarning: F-score is ill-defined and being set to 0.0 due to no predicted samples.\n",
      "  'precision', 'predicted', average, warn_for)\n",
      "/home/amd_3/anaconda3/lib/python3.6/site-packages/sklearn/metrics/classification.py:1135: UndefinedMetricWarning: F-score is ill-defined and being set to 0.0 due to no predicted samples.\n",
      "  'precision', 'predicted', average, warn_for)\n",
      "/home/amd_3/anaconda3/lib/python3.6/site-packages/sklearn/metrics/classification.py:1135: UndefinedMetricWarning: F-score is ill-defined and being set to 0.0 due to no predicted samples.\n",
      "  'precision', 'predicted', average, warn_for)\n",
      "/home/amd_3/anaconda3/lib/python3.6/site-packages/sklearn/metrics/classification.py:1135: UndefinedMetricWarning: F-score is ill-defined and being set to 0.0 due to no predicted samples.\n",
      "  'precision', 'predicted', average, warn_for)\n",
      "/home/amd_3/anaconda3/lib/python3.6/site-packages/sklearn/metrics/classification.py:1135: UndefinedMetricWarning: F-score is ill-defined and being set to 0.0 due to no predicted samples.\n",
      "  'precision', 'predicted', average, warn_for)\n",
      "/home/amd_3/anaconda3/lib/python3.6/site-packages/sklearn/metrics/classification.py:1135: UndefinedMetricWarning: F-score is ill-defined and being set to 0.0 due to no predicted samples.\n",
      "  'precision', 'predicted', average, warn_for)\n"
     ]
    },
    {
     "data": {
      "image/png": "[encoded data removed]",
      "text/plain": [
       "<Figure size 432x288 with 1 Axes>"
      ]
     },
     "metadata": {},
     "output_type": "display_data"
    },
    {
     "name": "stdout",
     "output_type": "stream",
     "text": [
      "Best hyperparam value:  {'estimator__alpha': 0.001} Best Train Score:  0.4599030081943924 Best Validation Score:  0.4562269375232664\n",
      "2019-06-27 02:00:50.698555  Hyperparam Tuning of SVC OvR completed\n"
     ]
    }
   ],
   "source": [
    "param_dict_svm_ovr = {'estimator__alpha': [1e-03, 1e-02, 1e-01, 1e+00, 1e+01]}\n",
    "\n",
    "print(datetime.now() ,' Hyperparam Tuning of SVC OvR started')\n",
    "hyp_tuned_info = get_best_hyperparam_OVR_SVC(param_dict_svm_ovr, X_train, y_train)\n",
    "print(datetime.now() ,' Hyperparam Tuning of SVC OvR completed')\n",
    "\n",
    "\n",
    "best_hyp_svm, best_tr_score_svm, best_val_score_svm = hyp_tuned_info"
   ]
  },
  {
   "cell_type": "markdown",
   "metadata": {},
   "source": [
    "### 2. Train the model with best hyperparam"
   ]
  },
  {
   "cell_type": "code",
   "execution_count": 18,
   "metadata": {},
   "outputs": [
    {
     "name": "stdout",
     "output_type": "stream",
     "text": [
      "2019-06-27 02:00:50.706338  Training of SVC OvR started\n",
      "2019-06-27 02:05:53.997662  Training of SVC OvR completed\n"
     ]
    }
   ],
   "source": [
    "svm = SGDClassifier(loss='log', alpha=best_hyp_svm['estimator__alpha'], penalty='l1', \n",
    "                        max_iter=1e+03, tol=1e-03)\n",
    "svm_ovr = OneVsRestClassifier(svm, n_jobs=-1)\n",
    "\n",
    "print(datetime.now() ,' Training of SVC OvR started')\n",
    "svm_ovr.fit(X_train, y_train)\n",
    "print(datetime.now() ,' Training of SVC OvR completed')\n",
    "\n",
    "# save model to disk\n",
    "pickle_out = open(\"./model/svc_ovr.pkl\",\"wb\")\n",
    "pickle.dump(svm_ovr, pickle_out)\n",
    "pickle_out.close()"
   ]
  },
  {
   "cell_type": "code",
   "execution_count": 19,
   "metadata": {},
   "outputs": [
    {
     "name": "stderr",
     "output_type": "stream",
     "text": [
      "/home/amd_3/anaconda3/lib/python3.6/site-packages/sklearn/metrics/classification.py:1135: UndefinedMetricWarning: Precision and F-score are ill-defined and being set to 0.0 in labels with no predicted samples.\n",
      "  'precision', 'predicted', average, warn_for)\n"
     ]
    },
    {
     "data": {
      "image/png": "[encoded data removed]",
      "text/plain": [
       "<Figure size 432x288 with 2 Axes>"
      ]
     },
     "metadata": {},
     "output_type": "display_data"
    },
    {
     "name": "stdout",
     "output_type": "stream",
     "text": [
      "Accuracy : 0.158486 \t Hamming loss : 0.003303\n"
     ]
    }
   ],
   "source": [
    "#load model from disk\n",
    "pickle_in = open(\"./model/svc_ovr.pkl\",\"rb\")\n",
    "svm_ovr = pickle.load(pickle_in)\n",
    "pickle_in.close()\n",
    "\n",
    "# evaluate the trained model on train data\n",
    "table_entry_train_svm = evaluate_model(svm_ovr, X_train, y_train, 'Train Metrics')"
   ]
  },
  {
   "cell_type": "markdown",
   "metadata": {},
   "source": [
    "### 3. Test the model"
   ]
  },
  {
   "cell_type": "code",
   "execution_count": 20,
   "metadata": {},
   "outputs": [
    {
     "name": "stderr",
     "output_type": "stream",
     "text": [
      "/home/amd_3/anaconda3/lib/python3.6/site-packages/sklearn/metrics/classification.py:1135: UndefinedMetricWarning: Precision and F-score are ill-defined and being set to 0.0 in labels with no predicted samples.\n",
      "  'precision', 'predicted', average, warn_for)\n"
     ]
    },
    {
     "data": {
      "image/png": "[encoded data removed]",
      "text/plain": [
       "<Figure size 432x288 with 2 Axes>"
      ]
     },
     "metadata": {},
     "output_type": "display_data"
    },
    {
     "name": "stdout",
     "output_type": "stream",
     "text": [
      "Accuracy : 0.156033 \t Hamming loss : 0.003317\n"
     ]
    }
   ],
   "source": [
    "# evaluate the trained model on test data\n",
    "table_entry_test_svm = evaluate_model(svm_ovr, X_test, y_test, 'Test Metrics')"
   ]
  },
  {
   "cell_type": "code",
   "execution_count": 21,
   "metadata": {},
   "outputs": [],
   "source": [
    "table_entry_svm = ('SVM Classifier (OvR)', best_hyp_svm,) + \\\n",
    "                  (table_entry_train_svm[1],) + (table_entry_test_svm[1],)"
   ]
  },
  {
   "cell_type": "markdown",
   "metadata": {},
   "source": [
    "# Results"
   ]
  },
  {
   "cell_type": "code",
   "execution_count": 22,
   "metadata": {},
   "outputs": [
    {
     "name": "stdout",
     "output_type": "stream",
     "text": [
      "+----------------------------------------------------------------------------------------------------+\n",
      "|                              Multilabelled Classifier Results Summary                              |\n",
      "+---------------------------+-----------------------------+---------------------+--------------------+\n",
      "|           Model           |          Hyperparam         | Micro-Avg-F1(Train) | Micro-Avg-F1(Test) |\n",
      "+---------------------------+-----------------------------+---------------------+--------------------+\n",
      "| Logistic Regression (OvR) | {'estimator__alpha': 0.001} |       46.8609       |      46.4472       |\n",
      "|    SVM Classifier (OvR)   | {'estimator__alpha': 0.001} |       47.0059       |      46.6557       |\n",
      "+---------------------------+-----------------------------+---------------------+--------------------+\n"
     ]
    }
   ],
   "source": [
    "Pret_table = PrettyTable()\n",
    "Pret_table.field_names = ['Model', 'Hyperparam', \n",
    "                          'Micro-Avg-F1(Train)', \n",
    "                          'Micro-Avg-F1(Test)']\n",
    "\n",
    "Pret_table.title = 'Multilabelled Classifier Results Summary'\n",
    "\n",
    "# add model results\n",
    "Pret_table.add_row(table_entry_lgr)\n",
    "Pret_table.add_row(table_entry_svm)\n",
    "print(Pret_table)"
   ]
  },
  {
   "cell_type": "markdown",
   "metadata": {},
   "source": [
    "# Procedure Summary"
   ]
  },
  {
   "cell_type": "markdown",
   "metadata": {},
   "source": [
    "<ul>\n",
    "<li> Class label is enoded in a format suitable for One vs Rest classification </li>\n",
    "<li> Hyperparameter is tuned for each of the One Vs Rest Classsifiers</li>\n",
    "<li> Each classifier is trained with the best hyperpatam setting obtained </li>\n",
    "<li> Two models are evaluated on a test dataset </li>\n",
    "</ul>"
   ]
  },
  {
   "cell_type": "markdown",
   "metadata": {},
   "source": [
    "# Conclusion"
   ]
  },
  {
   "cell_type": "markdown",
   "metadata": {},
   "source": [
    "<ul>\n",
    "<li> The best model obtaind is the SVM OvR classifier with 46.6557 micro f1-score</li>\n",
    "<li> The performace of the Logistic classifier (with 46.4472 micro f1-score) is also very close to SVM </li>\n",
    "<li> The difference between the train, test f1-scores are very less for both the model, this is an\n",
    "     indication that the model is generalizing well </li>\n",
    "<li> More feature engineering methods can be tried to improve the score furhter </li>\n",
    "</ul>"
   ]
  }
 ],
 "metadata": {
  "kernelspec": {
   "display_name": "Python 3",
   "language": "python",
   "name": "python3"
  },
  "language_info": {
   "codemirror_mode": {
    "name": "ipython",
    "version": 3
   },
   "file_extension": ".py",
   "mimetype": "text/x-python",
   "name": "python",
   "nbconvert_exporter": "python",
   "pygments_lexer": "ipython3",
   "version": "3.6.5"
  }
 },
 "nbformat": 4,
 "nbformat_minor": 2
}
