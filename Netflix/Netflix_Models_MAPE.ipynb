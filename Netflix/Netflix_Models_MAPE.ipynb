{
 "cells": [
  {
   "cell_type": "code",
   "execution_count": 1,
   "metadata": {},
   "outputs": [],
   "source": [
    "import pandas as pd\n",
    "import numpy as np\n",
    "from datetime import datetime\n",
    "import pickle\n",
    "\n",
    "import matplotlib.pyplot as plt\n",
    "import seaborn as sns\n",
    "sns.set()"
   ]
  },
  {
   "cell_type": "code",
   "execution_count": 2,
   "metadata": {},
   "outputs": [],
   "source": [
    "from sklearn.model_selection import GridSearchCV\n",
    "from sklearn.model_selection import RandomizedSearchCV\n",
    "from sklearn.model_selection import TimeSeriesSplit\n",
    "from sklearn.model_selection import train_test_split\n",
    "\n",
    "# Model evaluation related packages\n",
    "from sklearn.metrics import make_scorer\n",
    "from sklearn.metrics import mean_squared_error\n",
    "\n",
    "\n",
    "# Surprise libray related packages\n",
    "from surprise import Reader, Dataset\n",
    "from surprise import BaselineOnly \n",
    "from surprise import KNNBaseline\n",
    "from surprise import SVD\n",
    "from surprise import SVDpp\n",
    "\n",
    "# XGB Models\n",
    "from xgboost import XGBRegressor\n",
    "import xgboost\n",
    "\n",
    "#\n",
    "from prettytable import PrettyTable"
   ]
  },
  {
   "cell_type": "markdown",
   "metadata": {},
   "source": [
    "# Configs"
   ]
  },
  {
   "cell_type": "code",
   "execution_count": 3,
   "metadata": {},
   "outputs": [],
   "source": [
    "sample_size = -1 # set -1 if you want to use full size\n",
    "\n",
    "df_train_path = './data/Final_Train.csv'\n",
    "df_test_path =  './data/Final_Test.csv'"
   ]
  },
  {
   "cell_type": "markdown",
   "metadata": {},
   "source": [
    "# UTIL functions"
   ]
  },
  {
   "cell_type": "code",
   "execution_count": 4,
   "metadata": {},
   "outputs": [],
   "source": [
    "def get_ratings(predictions):\n",
    "    \n",
    "    # get the actual labels\n",
    "    actual = np.array([pred.r_ui for pred in predictions])\n",
    "    \n",
    "    # get the predicted labels\n",
    "    pred = np.array([pred.est for pred in predictions])\n",
    "    \n",
    "    return (actual, pred,)"
   ]
  },
  {
   "cell_type": "code",
   "execution_count": 5,
   "metadata": {},
   "outputs": [],
   "source": [
    "def compute_mape(actual, predicted):\n",
    "\n",
    "    # compute MAPE error\n",
    "    try:\n",
    "        mape = np.mean(abs(actual - predicted)/actual)\n",
    "    except ZeroDivisionError:\n",
    "        print('Division by zero error in MAPE')\n",
    "        mape = np.inf\n",
    "    except:\n",
    "        print('Exception in computing MAPE value')\n",
    "        mape = np.inf\n",
    "    \n",
    "    # get percentage value & return\n",
    "    return mape * 100"
   ]
  },
  {
   "cell_type": "code",
   "execution_count": 6,
   "metadata": {},
   "outputs": [],
   "source": [
    "def evaluate_model(model, X, y, prefix=str()):\n",
    "    \n",
    "    # get predicted values\n",
    "    pred_values = model.predict(X)\n",
    "    \n",
    "    # compute mean squared error\n",
    "    mse = mean_squared_error(y, pred_values)\n",
    "    \n",
    "    # compute mape\n",
    "    mape = compute_mape(y, pred_values)\n",
    "    \n",
    "    # round off the value to 4 decimal places\n",
    "    mse = round(mse, 4)\n",
    "    mape = round(mape, 4)\n",
    "    \n",
    "    print(prefix + ' -> MSE:%f \\t MAPE:%f'%(mse, mape,))\n",
    "    \n",
    "    return (mse, mape,)"
   ]
  },
  {
   "cell_type": "markdown",
   "metadata": {},
   "source": [
    "# Data"
   ]
  },
  {
   "cell_type": "code",
   "execution_count": 7,
   "metadata": {},
   "outputs": [
    {
     "name": "stdout",
     "output_type": "stream",
     "text": [
      "Shape of train df : (696736, 17)\n",
      "Shape of test df : (174185, 17)\n"
     ]
    }
   ],
   "source": [
    "# read the dataframes\n",
    "df_train = pd.read_csv(df_train_path, index_col=False)\n",
    "df_test = pd.read_csv(df_test_path, index_col=False)\n",
    "\n",
    "# sort the records by date\n",
    "df_train['date'] = pd.to_datetime(df_train['date'], format='%Y-%m-%d')\n",
    "df_test['date'] = pd.to_datetime(df_test['date'], format='%Y-%m-%d')\n",
    "\n",
    "# sort the datafrmaes in ascending order of timestamp\n",
    "df_train = df_train.sort_values(['date'], ascending=True)\n",
    "df_train = df_train.reset_index(drop=True)\n",
    "df_test = df_test.sort_values(['date'], ascending=True)\n",
    "df_test = df_test.reset_index(drop=True)\n",
    "\n",
    "# sample the dataframe\n",
    "if sample_size > 0:\n",
    "    df_train = df_train.iloc[0:sample_size,] \n",
    "    df_test = df_test.iloc[0:sample_size,] \n",
    "    \n",
    "print('Shape of train df :', df_train.shape)\n",
    "print('Shape of test df :', df_test.shape)"
   ]
  },
  {
   "cell_type": "code",
   "execution_count": 8,
   "metadata": {},
   "outputs": [
    {
     "data": {
      "text/html": [
       "<div>\n",
       "<style scoped>\n",
       "    .dataframe tbody tr th:only-of-type {\n",
       "        vertical-align: middle;\n",
       "    }\n",
       "\n",
       "    .dataframe tbody tr th {\n",
       "        vertical-align: top;\n",
       "    }\n",
       "\n",
       "    .dataframe thead th {\n",
       "        text-align: right;\n",
       "    }\n",
       "</style>\n",
       "<table border=\"1\" class=\"dataframe\">\n",
       "  <thead>\n",
       "    <tr style=\"text-align: right;\">\n",
       "      <th></th>\n",
       "      <th>date</th>\n",
       "      <th>user</th>\n",
       "      <th>movie</th>\n",
       "      <th>sur1</th>\n",
       "      <th>sur2</th>\n",
       "      <th>sur3</th>\n",
       "      <th>sur4</th>\n",
       "      <th>sur5</th>\n",
       "      <th>smr1</th>\n",
       "      <th>smr2</th>\n",
       "      <th>smr3</th>\n",
       "      <th>smr4</th>\n",
       "      <th>smr5</th>\n",
       "      <th>Gavg</th>\n",
       "      <th>UAvg</th>\n",
       "      <th>MAvg</th>\n",
       "      <th>rating</th>\n",
       "    </tr>\n",
       "  </thead>\n",
       "  <tbody>\n",
       "    <tr>\n",
       "      <th>0</th>\n",
       "      <td>1999-11-11</td>\n",
       "      <td>510180</td>\n",
       "      <td>2866</td>\n",
       "      <td>3</td>\n",
       "      <td>3</td>\n",
       "      <td>3</td>\n",
       "      <td>3</td>\n",
       "      <td>3</td>\n",
       "      <td>3</td>\n",
       "      <td>3</td>\n",
       "      <td>5</td>\n",
       "      <td>3</td>\n",
       "      <td>4</td>\n",
       "      <td>3.586035</td>\n",
       "      <td>3.44</td>\n",
       "      <td>3.230769</td>\n",
       "      <td>3</td>\n",
       "    </tr>\n",
       "    <tr>\n",
       "      <th>1</th>\n",
       "      <td>1999-11-11</td>\n",
       "      <td>510180</td>\n",
       "      <td>3870</td>\n",
       "      <td>3</td>\n",
       "      <td>3</td>\n",
       "      <td>1</td>\n",
       "      <td>3</td>\n",
       "      <td>3</td>\n",
       "      <td>3</td>\n",
       "      <td>3</td>\n",
       "      <td>3</td>\n",
       "      <td>3</td>\n",
       "      <td>3</td>\n",
       "      <td>3.586035</td>\n",
       "      <td>3.44</td>\n",
       "      <td>3.145320</td>\n",
       "      <td>2</td>\n",
       "    </tr>\n",
       "    <tr>\n",
       "      <th>2</th>\n",
       "      <td>1999-11-11</td>\n",
       "      <td>510180</td>\n",
       "      <td>14660</td>\n",
       "      <td>3</td>\n",
       "      <td>3</td>\n",
       "      <td>2</td>\n",
       "      <td>1</td>\n",
       "      <td>3</td>\n",
       "      <td>1</td>\n",
       "      <td>3</td>\n",
       "      <td>3</td>\n",
       "      <td>3</td>\n",
       "      <td>4</td>\n",
       "      <td>3.586035</td>\n",
       "      <td>3.44</td>\n",
       "      <td>3.000000</td>\n",
       "      <td>2</td>\n",
       "    </tr>\n",
       "    <tr>\n",
       "      <th>3</th>\n",
       "      <td>1999-11-11</td>\n",
       "      <td>510180</td>\n",
       "      <td>11234</td>\n",
       "      <td>3</td>\n",
       "      <td>3</td>\n",
       "      <td>3</td>\n",
       "      <td>3</td>\n",
       "      <td>3</td>\n",
       "      <td>3</td>\n",
       "      <td>2</td>\n",
       "      <td>3</td>\n",
       "      <td>5</td>\n",
       "      <td>1</td>\n",
       "      <td>3.586035</td>\n",
       "      <td>3.44</td>\n",
       "      <td>3.555556</td>\n",
       "      <td>5</td>\n",
       "    </tr>\n",
       "    <tr>\n",
       "      <th>4</th>\n",
       "      <td>1999-12-06</td>\n",
       "      <td>510180</td>\n",
       "      <td>9536</td>\n",
       "      <td>4</td>\n",
       "      <td>4</td>\n",
       "      <td>4</td>\n",
       "      <td>4</td>\n",
       "      <td>4</td>\n",
       "      <td>3</td>\n",
       "      <td>2</td>\n",
       "      <td>3</td>\n",
       "      <td>2</td>\n",
       "      <td>5</td>\n",
       "      <td>3.586035</td>\n",
       "      <td>3.44</td>\n",
       "      <td>4.000000</td>\n",
       "      <td>5</td>\n",
       "    </tr>\n",
       "  </tbody>\n",
       "</table>\n",
       "</div>"
      ],
      "text/plain": [
       "        date    user  movie  sur1  sur2  sur3  sur4  sur5  smr1  smr2  smr3  \\\n",
       "0 1999-11-11  510180   2866     3     3     3     3     3     3     3     5   \n",
       "1 1999-11-11  510180   3870     3     3     1     3     3     3     3     3   \n",
       "2 1999-11-11  510180  14660     3     3     2     1     3     1     3     3   \n",
       "3 1999-11-11  510180  11234     3     3     3     3     3     3     2     3   \n",
       "4 1999-12-06  510180   9536     4     4     4     4     4     3     2     3   \n",
       "\n",
       "   smr4  smr5      Gavg  UAvg      MAvg  rating  \n",
       "0     3     4  3.586035  3.44  3.230769       3  \n",
       "1     3     3  3.586035  3.44  3.145320       2  \n",
       "2     3     4  3.586035  3.44  3.000000       2  \n",
       "3     5     1  3.586035  3.44  3.555556       5  \n",
       "4     2     5  3.586035  3.44  4.000000       5  "
      ]
     },
     "execution_count": 8,
     "metadata": {},
     "output_type": "execute_result"
    }
   ],
   "source": [
    "df_train.head()"
   ]
  },
  {
   "cell_type": "code",
   "execution_count": 9,
   "metadata": {},
   "outputs": [
    {
     "data": {
      "text/html": [
       "<div>\n",
       "<style scoped>\n",
       "    .dataframe tbody tr th:only-of-type {\n",
       "        vertical-align: middle;\n",
       "    }\n",
       "\n",
       "    .dataframe tbody tr th {\n",
       "        vertical-align: top;\n",
       "    }\n",
       "\n",
       "    .dataframe thead th {\n",
       "        text-align: right;\n",
       "    }\n",
       "</style>\n",
       "<table border=\"1\" class=\"dataframe\">\n",
       "  <thead>\n",
       "    <tr style=\"text-align: right;\">\n",
       "      <th></th>\n",
       "      <th>date</th>\n",
       "      <th>user</th>\n",
       "      <th>movie</th>\n",
       "      <th>sur1</th>\n",
       "      <th>sur2</th>\n",
       "      <th>sur3</th>\n",
       "      <th>sur4</th>\n",
       "      <th>sur5</th>\n",
       "      <th>smr1</th>\n",
       "      <th>smr2</th>\n",
       "      <th>smr3</th>\n",
       "      <th>smr4</th>\n",
       "      <th>smr5</th>\n",
       "      <th>Gavg</th>\n",
       "      <th>UAvg</th>\n",
       "      <th>MAvg</th>\n",
       "      <th>rating</th>\n",
       "    </tr>\n",
       "  </thead>\n",
       "  <tbody>\n",
       "    <tr>\n",
       "      <th>174180</th>\n",
       "      <td>2005-12-31</td>\n",
       "      <td>1088143</td>\n",
       "      <td>10729</td>\n",
       "      <td>3.586035</td>\n",
       "      <td>3.586035</td>\n",
       "      <td>3.586035</td>\n",
       "      <td>3.586035</td>\n",
       "      <td>3.586035</td>\n",
       "      <td>4.193548</td>\n",
       "      <td>4.045793</td>\n",
       "      <td>3.968914</td>\n",
       "      <td>3.838843</td>\n",
       "      <td>4.018973</td>\n",
       "      <td>3.586035</td>\n",
       "      <td>3.586035</td>\n",
       "      <td>3.943820</td>\n",
       "      <td>3</td>\n",
       "    </tr>\n",
       "    <tr>\n",
       "      <th>174181</th>\n",
       "      <td>2005-12-31</td>\n",
       "      <td>1427836</td>\n",
       "      <td>6386</td>\n",
       "      <td>3.586035</td>\n",
       "      <td>3.586035</td>\n",
       "      <td>3.586035</td>\n",
       "      <td>3.586035</td>\n",
       "      <td>3.586035</td>\n",
       "      <td>3.585621</td>\n",
       "      <td>3.409039</td>\n",
       "      <td>3.256491</td>\n",
       "      <td>3.690944</td>\n",
       "      <td>3.823619</td>\n",
       "      <td>3.586035</td>\n",
       "      <td>3.586035</td>\n",
       "      <td>3.255159</td>\n",
       "      <td>4</td>\n",
       "    </tr>\n",
       "    <tr>\n",
       "      <th>174182</th>\n",
       "      <td>2005-12-31</td>\n",
       "      <td>1427836</td>\n",
       "      <td>13651</td>\n",
       "      <td>3.586035</td>\n",
       "      <td>3.586035</td>\n",
       "      <td>3.586035</td>\n",
       "      <td>3.586035</td>\n",
       "      <td>3.586035</td>\n",
       "      <td>3.409039</td>\n",
       "      <td>3.690944</td>\n",
       "      <td>3.741748</td>\n",
       "      <td>3.765557</td>\n",
       "      <td>3.330142</td>\n",
       "      <td>3.586035</td>\n",
       "      <td>3.586035</td>\n",
       "      <td>3.692144</td>\n",
       "      <td>4</td>\n",
       "    </tr>\n",
       "    <tr>\n",
       "      <th>174183</th>\n",
       "      <td>2005-12-31</td>\n",
       "      <td>1427836</td>\n",
       "      <td>2913</td>\n",
       "      <td>3.586035</td>\n",
       "      <td>3.586035</td>\n",
       "      <td>3.586035</td>\n",
       "      <td>3.586035</td>\n",
       "      <td>3.586035</td>\n",
       "      <td>4.328924</td>\n",
       "      <td>3.589595</td>\n",
       "      <td>4.145440</td>\n",
       "      <td>3.374704</td>\n",
       "      <td>4.416130</td>\n",
       "      <td>3.586035</td>\n",
       "      <td>3.586035</td>\n",
       "      <td>4.045169</td>\n",
       "      <td>4</td>\n",
       "    </tr>\n",
       "    <tr>\n",
       "      <th>174184</th>\n",
       "      <td>2005-12-31</td>\n",
       "      <td>239139</td>\n",
       "      <td>12034</td>\n",
       "      <td>3.586035</td>\n",
       "      <td>3.586035</td>\n",
       "      <td>3.586035</td>\n",
       "      <td>3.586035</td>\n",
       "      <td>3.586035</td>\n",
       "      <td>4.134667</td>\n",
       "      <td>3.645894</td>\n",
       "      <td>3.954266</td>\n",
       "      <td>4.391037</td>\n",
       "      <td>4.128524</td>\n",
       "      <td>3.586035</td>\n",
       "      <td>3.586035</td>\n",
       "      <td>4.080811</td>\n",
       "      <td>3</td>\n",
       "    </tr>\n",
       "  </tbody>\n",
       "</table>\n",
       "</div>"
      ],
      "text/plain": [
       "             date     user  movie      sur1      sur2      sur3      sur4  \\\n",
       "174180 2005-12-31  1088143  10729  3.586035  3.586035  3.586035  3.586035   \n",
       "174181 2005-12-31  1427836   6386  3.586035  3.586035  3.586035  3.586035   \n",
       "174182 2005-12-31  1427836  13651  3.586035  3.586035  3.586035  3.586035   \n",
       "174183 2005-12-31  1427836   2913  3.586035  3.586035  3.586035  3.586035   \n",
       "174184 2005-12-31   239139  12034  3.586035  3.586035  3.586035  3.586035   \n",
       "\n",
       "            sur5      smr1      smr2      smr3      smr4      smr5      Gavg  \\\n",
       "174180  3.586035  4.193548  4.045793  3.968914  3.838843  4.018973  3.586035   \n",
       "174181  3.586035  3.585621  3.409039  3.256491  3.690944  3.823619  3.586035   \n",
       "174182  3.586035  3.409039  3.690944  3.741748  3.765557  3.330142  3.586035   \n",
       "174183  3.586035  4.328924  3.589595  4.145440  3.374704  4.416130  3.586035   \n",
       "174184  3.586035  4.134667  3.645894  3.954266  4.391037  4.128524  3.586035   \n",
       "\n",
       "            UAvg      MAvg  rating  \n",
       "174180  3.586035  3.943820       3  \n",
       "174181  3.586035  3.255159       4  \n",
       "174182  3.586035  3.692144       4  \n",
       "174183  3.586035  4.045169       4  \n",
       "174184  3.586035  4.080811       3  "
      ]
     },
     "execution_count": 9,
     "metadata": {},
     "output_type": "execute_result"
    }
   ],
   "source": [
    "df_test.tail()"
   ]
  },
  {
   "cell_type": "code",
   "execution_count": 10,
   "metadata": {},
   "outputs": [],
   "source": [
    "# Extract features and labels separately\n",
    "X_train = df_train.drop(['date', 'user', 'movie', 'Gavg', 'rating'], axis=1)\n",
    "y_train = df_train['rating']\n",
    "\n",
    "X_test = df_test.drop(['date', 'user', 'movie', 'Gavg', 'rating'], axis=1)\n",
    "y_test = df_test['rating']"
   ]
  },
  {
   "cell_type": "code",
   "execution_count": 11,
   "metadata": {},
   "outputs": [
    {
     "data": {
      "text/html": [
       "<div>\n",
       "<style scoped>\n",
       "    .dataframe tbody tr th:only-of-type {\n",
       "        vertical-align: middle;\n",
       "    }\n",
       "\n",
       "    .dataframe tbody tr th {\n",
       "        vertical-align: top;\n",
       "    }\n",
       "\n",
       "    .dataframe thead th {\n",
       "        text-align: right;\n",
       "    }\n",
       "</style>\n",
       "<table border=\"1\" class=\"dataframe\">\n",
       "  <thead>\n",
       "    <tr style=\"text-align: right;\">\n",
       "      <th></th>\n",
       "      <th>sur1</th>\n",
       "      <th>sur2</th>\n",
       "      <th>sur3</th>\n",
       "      <th>sur4</th>\n",
       "      <th>sur5</th>\n",
       "      <th>smr1</th>\n",
       "      <th>smr2</th>\n",
       "      <th>smr3</th>\n",
       "      <th>smr4</th>\n",
       "      <th>smr5</th>\n",
       "      <th>UAvg</th>\n",
       "      <th>MAvg</th>\n",
       "    </tr>\n",
       "  </thead>\n",
       "  <tbody>\n",
       "    <tr>\n",
       "      <th>0</th>\n",
       "      <td>3.0</td>\n",
       "      <td>3.0</td>\n",
       "      <td>3.0</td>\n",
       "      <td>3.0</td>\n",
       "      <td>3.0</td>\n",
       "      <td>3.0</td>\n",
       "      <td>3.0</td>\n",
       "      <td>3.0</td>\n",
       "      <td>3.0</td>\n",
       "      <td>3.0</td>\n",
       "      <td>3.500000</td>\n",
       "      <td>3.409039</td>\n",
       "    </tr>\n",
       "    <tr>\n",
       "      <th>1</th>\n",
       "      <td>3.0</td>\n",
       "      <td>3.0</td>\n",
       "      <td>3.0</td>\n",
       "      <td>3.0</td>\n",
       "      <td>3.0</td>\n",
       "      <td>3.0</td>\n",
       "      <td>2.0</td>\n",
       "      <td>2.0</td>\n",
       "      <td>2.0</td>\n",
       "      <td>2.0</td>\n",
       "      <td>2.978261</td>\n",
       "      <td>3.821851</td>\n",
       "    </tr>\n",
       "    <tr>\n",
       "      <th>2</th>\n",
       "      <td>4.0</td>\n",
       "      <td>4.0</td>\n",
       "      <td>4.0</td>\n",
       "      <td>5.0</td>\n",
       "      <td>4.0</td>\n",
       "      <td>5.0</td>\n",
       "      <td>2.0</td>\n",
       "      <td>2.0</td>\n",
       "      <td>5.0</td>\n",
       "      <td>2.0</td>\n",
       "      <td>2.978261</td>\n",
       "      <td>4.080811</td>\n",
       "    </tr>\n",
       "    <tr>\n",
       "      <th>3</th>\n",
       "      <td>3.0</td>\n",
       "      <td>4.0</td>\n",
       "      <td>2.0</td>\n",
       "      <td>3.0</td>\n",
       "      <td>3.0</td>\n",
       "      <td>3.0</td>\n",
       "      <td>4.0</td>\n",
       "      <td>4.0</td>\n",
       "      <td>5.0</td>\n",
       "      <td>4.0</td>\n",
       "      <td>4.000000</td>\n",
       "      <td>3.617293</td>\n",
       "    </tr>\n",
       "    <tr>\n",
       "      <th>4</th>\n",
       "      <td>2.0</td>\n",
       "      <td>3.0</td>\n",
       "      <td>2.0</td>\n",
       "      <td>2.0</td>\n",
       "      <td>2.0</td>\n",
       "      <td>3.0</td>\n",
       "      <td>3.0</td>\n",
       "      <td>3.0</td>\n",
       "      <td>3.0</td>\n",
       "      <td>3.0</td>\n",
       "      <td>3.914894</td>\n",
       "      <td>2.854015</td>\n",
       "    </tr>\n",
       "  </tbody>\n",
       "</table>\n",
       "</div>"
      ],
      "text/plain": [
       "   sur1  sur2  sur3  sur4  sur5  smr1  smr2  smr3  smr4  smr5      UAvg  \\\n",
       "0   3.0   3.0   3.0   3.0   3.0   3.0   3.0   3.0   3.0   3.0  3.500000   \n",
       "1   3.0   3.0   3.0   3.0   3.0   3.0   2.0   2.0   2.0   2.0  2.978261   \n",
       "2   4.0   4.0   4.0   5.0   4.0   5.0   2.0   2.0   5.0   2.0  2.978261   \n",
       "3   3.0   4.0   2.0   3.0   3.0   3.0   4.0   4.0   5.0   4.0  4.000000   \n",
       "4   2.0   3.0   2.0   2.0   2.0   3.0   3.0   3.0   3.0   3.0  3.914894   \n",
       "\n",
       "       MAvg  \n",
       "0  3.409039  \n",
       "1  3.821851  \n",
       "2  4.080811  \n",
       "3  3.617293  \n",
       "4  2.854015  "
      ]
     },
     "execution_count": 11,
     "metadata": {},
     "output_type": "execute_result"
    }
   ],
   "source": [
    "X_test.head()"
   ]
  },
  {
   "cell_type": "markdown",
   "metadata": {},
   "source": [
    "# A) Surprise Library Models"
   ]
  },
  {
   "cell_type": "code",
   "execution_count": 12,
   "metadata": {},
   "outputs": [],
   "source": [
    "def run_surprise_model(algo, train_df, test_df, verbose=True): \n",
    "    \"\"\"\n",
    "        return train_dict, test_dict\n",
    "    \n",
    "        It returns two dictionaries, one for train and the other is for test\n",
    "        Each of them have 3 key-value pairs, which specify ''rmse'', ''mape'', and ''predicted ratings''.\n",
    "    \"\"\"\n",
    "    \n",
    "    \n",
    "    reader = Reader(rating_scale=(1,5))\n",
    "\n",
    "    # create the traindata from the dataframe...\n",
    "    train_data = Dataset.load_from_df(train_df[['user', 'movie', 'rating']], reader)\n",
    "    test_data = Dataset.load_from_df(test_df[['user', 'movie', 'rating']], reader)\n",
    "\n",
    "    # build the trainset from traindata.., It is of dataset format from surprise library..\n",
    "    trainset = train_data.build_full_trainset()\n",
    "    testset = test_data.build_full_trainset()\n",
    "    \n",
    "    # dictionaries that stores metrics for train and test..\n",
    "    evaluation_dict = dict()\n",
    "    \n",
    "\n",
    "    # ==================== Train Stage ===================================\n",
    "    print(datetime.now(), 'Training Stage ...')\n",
    "    # fit to data\n",
    "    algo.fit(trainset)\n",
    "    # predict on train data set \n",
    "    train_pred_tuples = algo.test(trainset.build_testset())\n",
    "    # get the mean squared error & mape\n",
    "    actual, predicted = get_ratings(train_pred_tuples)\n",
    "    mse = mean_squared_error(actual, predicted)\n",
    "    mape = compute_mape(actual, predicted)\n",
    "    \n",
    "    # round off values upto 4 decimal places\n",
    "    mse = round(mse, 4)\n",
    "    mape = round(mape, 4)\n",
    "    \n",
    "    evaluation_dict['train'] = {'mse':mse, 'mape':mape, 'predictions':predicted}\n",
    "    print(datetime.now(), 'Training Stage Done !!!')\n",
    "    \n",
    "    \n",
    "    # ==================== Evaluating Test data ==========================\n",
    "    \n",
    "    print(datetime.now(), 'Test Stage ...')\n",
    "    \n",
    "    # predict on train data set \n",
    "    test_pred_tuples = algo.test(testset.build_testset())\n",
    "    # get the mean squared error & mape\n",
    "    actual, predicted = get_ratings(test_pred_tuples)\n",
    "    mse = mean_squared_error(actual, predicted)\n",
    "    mape = compute_mape(actual, predicted)\n",
    "    \n",
    "    # round off values upto 4 decimal places\n",
    "    mse = round(mse, 4)\n",
    "    mape = round(mape, 4)\n",
    "    \n",
    "    evaluation_dict['test'] = {'mse':mse, 'mape':mape, 'predictions':predicted}\n",
    "    print(datetime.now(), 'Testing Stage Done !!!')\n",
    "    \n",
    "    \n",
    "    print('---------------------- Evaluation results --------------------')\n",
    "    print('Train data : MSE:%f, MAPE:%f'%(evaluation_dict['train']['mse'], \n",
    "                                          evaluation_dict['train']['mape'],))\n",
    "    print('Test data : MSE:%f, MAPE:%f'%(evaluation_dict['test']['mse'], \n",
    "                                          evaluation_dict['test']['mape'],))\n",
    "    \n",
    "    return evaluation_dict"
   ]
  },
  {
   "cell_type": "markdown",
   "metadata": {},
   "source": [
    "## A1) Surprise BaselineOnly Model"
   ]
  },
  {
   "cell_type": "code",
   "execution_count": 13,
   "metadata": {},
   "outputs": [],
   "source": [
    "# options are to specify.., how to compute those user and item biases\n",
    "bsl_options = {'method': 'sgd',\n",
    "               'learning_rate': 0.001\n",
    "               }\n",
    "bsl_algo = BaselineOnly(bsl_options=bsl_options)"
   ]
  },
  {
   "cell_type": "code",
   "execution_count": 14,
   "metadata": {},
   "outputs": [
    {
     "name": "stdout",
     "output_type": "stream",
     "text": [
      "2019-06-25 10:36:20.107312 Training Stage ...\n",
      "Estimating biases using sgd...\n",
      "2019-06-25 10:36:27.842645 Training Stage Done !!!\n",
      "2019-06-25 10:36:27.842908 Test Stage ...\n",
      "2019-06-25 10:36:29.007775 Testing Stage Done !!!\n",
      "---------------------- Evaluation results --------------------\n",
      "Train data : MSE:0.861500, MAPE:28.872600\n",
      "Test data : MSE:1.045800, MAPE:32.111800\n"
     ]
    }
   ],
   "source": [
    "results_dict_bsl = run_surprise_model(bsl_algo, df_train, df_test)"
   ]
  },
  {
   "cell_type": "markdown",
   "metadata": {},
   "source": [
    "## A2) Surprise KNN Base Line Model"
   ]
  },
  {
   "cell_type": "code",
   "execution_count": 15,
   "metadata": {},
   "outputs": [],
   "source": [
    "# we specify , how to compute similarities and what to consider with sim_options to our algorithm\n",
    "sim_options = {'user_based' : True,\n",
    "               'name': 'pearson_baseline',\n",
    "               'shrinkage': 100,\n",
    "               'min_support': 2\n",
    "              } \n",
    "# we keep other parameters like regularization parameter and learning_rate as default values.\n",
    "bsl_options = {'method': 'sgd'}\n",
    "\n",
    "# create model object\n",
    "knn_bsl_u = KNNBaseline(k=40, sim_options = sim_options, bsl_options = bsl_options)"
   ]
  },
  {
   "cell_type": "code",
   "execution_count": 16,
   "metadata": {},
   "outputs": [
    {
     "name": "stdout",
     "output_type": "stream",
     "text": [
      "2019-06-25 10:36:30.523481 Training Stage ...\n",
      "Estimating biases using sgd...\n",
      "Computing the pearson_baseline similarity matrix...\n",
      "Done computing similarity matrix.\n",
      "2019-06-25 11:04:15.379397 Training Stage Done !!!\n",
      "2019-06-25 11:04:15.395576 Test Stage ...\n",
      "2019-06-25 11:06:17.264291 Testing Stage Done !!!\n",
      "---------------------- Evaluation results --------------------\n",
      "Train data : MSE:0.201900, MAPE:12.744700\n",
      "Test data : MSE:1.029900, MAPE:31.580100\n"
     ]
    }
   ],
   "source": [
    "results_dict_knn_bsl_u = run_surprise_model(knn_bsl_u, df_train, df_test)"
   ]
  },
  {
   "cell_type": "code",
   "execution_count": 17,
   "metadata": {},
   "outputs": [],
   "source": [
    "sim_options = {'user_based' : False,\n",
    "               'name': 'pearson_baseline',\n",
    "               'shrinkage': 100,\n",
    "               'min_support': 2\n",
    "              } \n",
    "# we keep other parameters like regularization parameter and learning_rate as default values.\n",
    "bsl_options = {'method': 'sgd'}\n",
    "\n",
    "# create model object\n",
    "knn_bsl_m = KNNBaseline(k=40, sim_options = sim_options, bsl_options = bsl_options)"
   ]
  },
  {
   "cell_type": "code",
   "execution_count": 18,
   "metadata": {},
   "outputs": [
    {
     "name": "stdout",
     "output_type": "stream",
     "text": [
      "2019-06-25 11:06:31.133016 Training Stage ...\n",
      "Estimating biases using sgd...\n",
      "Computing the pearson_baseline similarity matrix...\n",
      "Done computing similarity matrix.\n",
      "2019-06-25 11:07:55.231868 Training Stage Done !!!\n",
      "2019-06-25 11:07:55.231948 Test Stage ...\n",
      "2019-06-25 11:08:03.424434 Testing Stage Done !!!\n",
      "---------------------- Evaluation results --------------------\n",
      "Train data : MSE:0.247800, MAPE:14.042600\n",
      "Test data : MSE:1.064300, MAPE:31.723400\n"
     ]
    }
   ],
   "source": [
    "results_dict_knn_bsl_m = run_surprise_model(knn_bsl_m, df_train, df_test)"
   ]
  },
  {
   "cell_type": "markdown",
   "metadata": {},
   "source": [
    "## A3) Surprise Model SVD"
   ]
  },
  {
   "cell_type": "code",
   "execution_count": 19,
   "metadata": {},
   "outputs": [],
   "source": [
    "svd = SVD(n_factors=100, biased=True, random_state=15, verbose=True)"
   ]
  },
  {
   "cell_type": "code",
   "execution_count": 20,
   "metadata": {},
   "outputs": [
    {
     "name": "stdout",
     "output_type": "stream",
     "text": [
      "2019-06-25 11:08:05.272483 Training Stage ...\n",
      "Processing epoch 0\n",
      "Processing epoch 1\n",
      "Processing epoch 2\n",
      "Processing epoch 3\n",
      "Processing epoch 4\n",
      "Processing epoch 5\n",
      "Processing epoch 6\n",
      "Processing epoch 7\n",
      "Processing epoch 8\n",
      "Processing epoch 9\n",
      "Processing epoch 10\n",
      "Processing epoch 11\n",
      "Processing epoch 12\n",
      "Processing epoch 13\n",
      "Processing epoch 14\n",
      "Processing epoch 15\n",
      "Processing epoch 16\n",
      "Processing epoch 17\n",
      "Processing epoch 18\n",
      "Processing epoch 19\n",
      "2019-06-25 11:08:44.433132 Training Stage Done !!!\n",
      "2019-06-25 11:08:44.433227 Test Stage ...\n",
      "2019-06-25 11:08:46.039565 Testing Stage Done !!!\n",
      "---------------------- Evaluation results --------------------\n",
      "Train data : MSE:0.454300, MAPE:20.095700\n",
      "Test data : MSE:1.033400, MAPE:31.385700\n"
     ]
    }
   ],
   "source": [
    "results_dict_svd = run_surprise_model(svd, df_train, df_test)"
   ]
  },
  {
   "cell_type": "markdown",
   "metadata": {},
   "source": [
    "## A4) Surprise Model SVDpp"
   ]
  },
  {
   "cell_type": "code",
   "execution_count": 21,
   "metadata": {},
   "outputs": [],
   "source": [
    "svdpp = SVDpp(n_factors=50, random_state=15, verbose=True)"
   ]
  },
  {
   "cell_type": "code",
   "execution_count": 22,
   "metadata": {},
   "outputs": [
    {
     "name": "stdout",
     "output_type": "stream",
     "text": [
      "2019-06-25 11:08:47.677612 Training Stage ...\n",
      " processing epoch 0\n",
      " processing epoch 1\n",
      " processing epoch 2\n",
      " processing epoch 3\n",
      " processing epoch 4\n",
      " processing epoch 5\n",
      " processing epoch 6\n",
      " processing epoch 7\n",
      " processing epoch 8\n",
      " processing epoch 9\n",
      " processing epoch 10\n",
      " processing epoch 11\n",
      " processing epoch 12\n",
      " processing epoch 13\n",
      " processing epoch 14\n",
      " processing epoch 15\n",
      " processing epoch 16\n",
      " processing epoch 17\n",
      " processing epoch 18\n",
      " processing epoch 19\n",
      "2019-06-25 11:34:40.168822 Training Stage Done !!!\n",
      "2019-06-25 11:34:40.168915 Test Stage ...\n",
      "2019-06-25 11:34:47.404024 Testing Stage Done !!!\n",
      "---------------------- Evaluation results --------------------\n",
      "Train data : MSE:0.436400, MAPE:19.367800\n",
      "Test data : MSE:1.035500, MAPE:31.128500\n"
     ]
    }
   ],
   "source": [
    "results_dict_svdpp = run_surprise_model(svdpp, df_train, df_test)"
   ]
  },
  {
   "cell_type": "markdown",
   "metadata": {},
   "source": [
    "# B) XGB Model"
   ]
  },
  {
   "cell_type": "code",
   "execution_count": 23,
   "metadata": {},
   "outputs": [],
   "source": [
    "def get_best_hyperparam_XGBRegressor(param_dict, X, y, random_search=False):\n",
    "    \n",
    "    # set the scoring function\n",
    "    final_scorer = 'MAPE'\n",
    "    \n",
    "    # declare a scoring dictionary\n",
    "    score_dict = {\n",
    "        'MAPE': make_scorer(score_func=compute_mape, greater_is_better=False,\n",
    "                                     needs_proba=False, needs_threshold=False),\n",
    "        'MSE' : make_scorer(score_func=mean_squared_error, greater_is_better=False,\n",
    "                                     needs_proba=False, needs_threshold=False)\n",
    "    }\n",
    "    \n",
    "     #Declare the metric as  'minimization' or 'maximization'\n",
    "    optimization_dict = {\n",
    "        'MAPE' : 'minimization',\n",
    "        'MSE' : 'minimization'\n",
    "    }\n",
    "    \n",
    "    # Time Series split\n",
    "    cv_data = TimeSeriesSplit(n_splits=3)\n",
    "    \n",
    "    # =========================================================================================\n",
    "        \n",
    "     \n",
    "    # declare model\n",
    "    model = XGBRegressor()\n",
    "    \n",
    "    if random_search:\n",
    "        search_cv = RandomizedSearchCV(estimator=model, param_distribution=param_dict, \n",
    "                                       cv=cv_data, scoring=score_dict, refit=False, \n",
    "                                       return_train_score=True, n_iter=6, n_jobs=-1)\n",
    "        \n",
    "    else:\n",
    "        # declare grid search CV object\n",
    "        search_cv = GridSearchCV(estimator=model, param_grid=param_dict, cv=cv_data,\n",
    "                                 scoring=score_dict, refit=False, \n",
    "                                 return_train_score=True, n_jobs=-1)\n",
    "    \n",
    "    # fit to the data\n",
    "    search_cv.fit(X, y)\n",
    "    \n",
    "    \n",
    "    # get total number of param settings\n",
    "    param_list = list(param_dict.keys())\n",
    "    param_field_list = ['param_' + item for item in param_list]\n",
    "    \n",
    "    # get list of train metric list\n",
    "    train_metric_list = ['mean_train_' + item for item in score_dict.keys()]\n",
    "    # get list of test metric list\n",
    "    test_metric_list = ['mean_test_' + item for item in score_dict.keys()]\n",
    "    \n",
    "    # get number of rows in the search cv data frame\n",
    "    num_rows = len(search_cv.cv_results_['params'])\n",
    "        \n",
    "    # create the grid search info df  \n",
    "    grid_info_df = pd.DataFrame(search_cv.cv_results_, index=range(num_rows))\n",
    "    \n",
    "    # prepare a list of reqired columns\n",
    "    required_columns = ['params'] + param_field_list + train_metric_list + \\\n",
    "                       test_metric_list\n",
    "    \n",
    "    # slice the data frame to only required columns\n",
    "    grid_info_df = grid_info_df[required_columns]\n",
    "    \n",
    "    # process individual metrics\n",
    "    for metric, optimization in optimization_dict.items():\n",
    "        if optimization == 'minimization':\n",
    "            grid_info_df['mean_train_' + metric] *= -1\n",
    "            grid_info_df['mean_test_' + metric] *= -1\n",
    "            \n",
    "    # Find the best hyperparam & its corresponding scores\n",
    "    if optimization_dict[final_scorer] == 'minimization':\n",
    "        best_hyperparam_record = grid_info_df.loc[grid_info_df[\n",
    "                                   'mean_test_'+ final_scorer].idxmin(),:] \n",
    "    else:\n",
    "        best_hyperparam_record = grid_info_df.loc[grid_info_df[\n",
    "                                   'mean_test_'+ final_scorer].idxmax(),:]\n",
    "        \n",
    "    # best hyperparam & corresponding scores\n",
    "    best_hyperparam = best_hyperparam_record['params']\n",
    "    best_train_score = best_hyperparam_record['mean_train_'+ final_scorer]\n",
    "    best_validation_score = best_hyperparam_record['mean_test_'+ final_scorer]\n",
    "    \n",
    "    # plot the hyper params \n",
    "    if len(param_list) == 1:\n",
    "        # extract individual fiedls\n",
    "        x_vals = grid_info_df[param_field_list[0]].tolist()\n",
    "        y_vals_tr = grid_info_df['mean_train_' + final_scorer].tolist()\n",
    "        y_vals_val = grid_info_df['mean_test_' + final_scorer].tolist()\n",
    "        \n",
    "        # plot train, validation performances\n",
    "        plt.plot(x_vals, y_vals_tr, label='Train', color='r', marker='o', linestyle='-')\n",
    "        plt.plot(x_vals, y_vals_val, label='Validation', color='b', marker='o', linestyle='-')\n",
    "        plt.xlabel('Hyper Params -' + param_list[0])\n",
    "        plt.ylabel(final_scorer)\n",
    "        plt.legend()\n",
    "        plt.title('XGB Regression - Hyperparam Train v/s Validation Scores')\n",
    "        plt.show()\n",
    "        \n",
    "    # Heatmap plot for pair of hyperparam values  \n",
    "    elif len(param_list) == 2:\n",
    "        # get pivoted table\n",
    "        train_hyp_df = pd.pivot_table(data=grid_info_df, index=param_field_list[0], \n",
    "                                      columns=param_field_list[1],\n",
    "                                      values='mean_train_' + final_scorer , \n",
    "                                      fill_value=np.inf)\n",
    "        sns.heatmap(train_hyp_df, annot=True, cmap='YlGnBu', fmt='.4f',\n",
    "                   cbar_kws={'label': final_scorer, 'format':'%.2f'})\n",
    "        plt.xlabel(param_list[1])\n",
    "        plt.ylabel(param_list[0])\n",
    "        plt.title('XGB Regression - Hyperparams Scores - Train')\n",
    "        plt.show()\n",
    "        \n",
    "        print('\\n'*3)\n",
    "        \n",
    "        # Test hyperparam\n",
    "        \n",
    "        # get pivoted table\n",
    "        train_hyp_df = pd.pivot_table(data=grid_info_df, index=param_field_list[0], \n",
    "                                      columns=param_field_list[1],\n",
    "                                      values='mean_test_' + final_scorer, fill_value=np.inf)\n",
    "        sns.heatmap(train_hyp_df, annot=True, cmap='YlGnBu', fmt='.4f',\n",
    "                   cbar_kws={'label': final_scorer, 'format':'%.2f'})\n",
    "        plt.xlabel(param_list[1])\n",
    "        plt.ylabel(param_list[0])\n",
    "        plt.title('XGB Regression - Hyperparams Scores - Validation')\n",
    "        plt.show()\n",
    "    \n",
    "    else:\n",
    "        print(grid_info_df)\n",
    "    \n",
    "    print('Best hyperparam value: ', best_hyperparam, 'Best Train Score: ', best_train_score, \n",
    "          'Best Validation Score: ', best_validation_score)\n",
    "   \n",
    "          \n",
    "    best_mse_train = best_hyperparam_record['mean_train_MSE']\n",
    "    best_mse_validation = best_hyperparam_record['mean_test_MSE']\n",
    "    \n",
    "    # return tuple\n",
    "    ret_tuple = (best_hyperparam, best_train_score, best_validation_score, \n",
    "                 best_mse_train, best_mse_validation)\n",
    "    \n",
    "    \n",
    "    return ret_tuple"
   ]
  },
  {
   "cell_type": "markdown",
   "metadata": {},
   "source": [
    "##  B1) XGB with First 13 Features"
   ]
  },
  {
   "cell_type": "markdown",
   "metadata": {},
   "source": [
    "### Step 1. Find best hyperparameter"
   ]
  },
  {
   "cell_type": "code",
   "execution_count": 24,
   "metadata": {},
   "outputs": [
    {
     "name": "stdout",
     "output_type": "stream",
     "text": [
      "2019-06-25 11:34:50.414381  Hyperparam Tuning of XGB started\n"
     ]
    },
    {
     "data": {
      "image/png": "[encoded data removed]",
      "text/plain": [
       "<Figure size 432x288 with 2 Axes>"
      ]
     },
     "metadata": {},
     "output_type": "display_data"
    },
    {
     "name": "stdout",
     "output_type": "stream",
     "text": [
      "\n",
      "\n",
      "\n",
      "\n"
     ]
    },
    {
     "data": {
      "image/png": "[encoded data removed]",
      "text/plain": [
       "<Figure size 432x288 with 2 Axes>"
      ]
     },
     "metadata": {},
     "output_type": "display_data"
    },
    {
     "name": "stdout",
     "output_type": "stream",
     "text": [
      "Best hyperparam value:  {'max_depth': 10, 'n_estimators': 160} Best Train Score:  24.148336549599964 Best Validation Score:  25.122276941935223\n",
      "2019-06-25 16:10:02.010315  Hyperparam Tuning of XGB completed\n"
     ]
    }
   ],
   "source": [
    "param_dict_xgb_1 = {'n_estimators':[5, 20, 80, 160, 250], \n",
    "                    'max_depth':[2, 10, 30, 120, 200]}\n",
    "\n",
    "print(datetime.now() ,' Hyperparam Tuning of XGB started')\n",
    "hyp_tuned_info_xgb_1 = get_best_hyperparam_XGBRegressor(param_dict_xgb_1, X_train, y_train)\n",
    "print(datetime.now() ,' Hyperparam Tuning of XGB completed')"
   ]
  },
  {
   "cell_type": "code",
   "execution_count": 25,
   "metadata": {},
   "outputs": [],
   "source": [
    "best_hyp_xgb_1, best_train_score, best_validation_score, best_mse_train, best_mse_validation = hyp_tuned_info_xgb_1"
   ]
  },
  {
   "cell_type": "markdown",
   "metadata": {},
   "source": [
    "### Step 2 : Train model with best hyperparam"
   ]
  },
  {
   "cell_type": "code",
   "execution_count": 26,
   "metadata": {},
   "outputs": [
    {
     "name": "stdout",
     "output_type": "stream",
     "text": [
      "2019-06-25 16:10:02.517546  Training of XGB started\n",
      "2019-06-25 16:12:55.171481  Training of XGB completed\n"
     ]
    }
   ],
   "source": [
    "# declare model\n",
    "print(datetime.now() ,' Training of XGB started')\n",
    "xgb_model_1 = XGBRegressor(n_estimators=best_hyp_xgb_1['n_estimators'], \n",
    "                           max_depth=best_hyp_xgb_1['max_depth'])\n",
    "xgb_model_1.fit(X_train, y_train)\n",
    "print(datetime.now() ,' Training of XGB completed')\n",
    "\n",
    "# save model to disk\n",
    "pickle_out = open(\"./model/xgb_reg1.pkl\",\"wb\")\n",
    "pickle.dump(xgb_model_1, pickle_out)\n",
    "pickle_out.close()"
   ]
  },
  {
   "cell_type": "markdown",
   "metadata": {},
   "source": [
    "### Step 3 : Evaluate model"
   ]
  },
  {
   "cell_type": "code",
   "execution_count": 27,
   "metadata": {},
   "outputs": [
    {
     "name": "stdout",
     "output_type": "stream",
     "text": [
      "Train -> MSE:0.651300 \t MAPE:24.019100\n",
      "Test -> MSE:1.148000 \t MAPE:32.749500\n"
     ]
    }
   ],
   "source": [
    "#load model from disk\n",
    "pickle_in = open(\"./model/xgb_reg1.pkl\",\"rb\")\n",
    "xgb_model_1 = pickle.load(pickle_in)\n",
    "pickle_in.close()\n",
    "\n",
    "# performace of model\n",
    "train_mse_xgb_1, train_mape_xgb_1 = evaluate_model(xgb_model_1, X_train, y_train, prefix='Train')\n",
    "test_mse_xgb_1, test_mape_xgb_1 = evaluate_model(xgb_model_1, X_test, y_test, prefix='Test')"
   ]
  },
  {
   "cell_type": "markdown",
   "metadata": {},
   "source": [
    "## Plot Feature Importance"
   ]
  },
  {
   "cell_type": "code",
   "execution_count": 28,
   "metadata": {},
   "outputs": [
    {
     "data": {
      "image/png": "[encoded data removed]",
      "text/plain": [
       "<Figure size 432x288 with 1 Axes>"
      ]
     },
     "metadata": {},
     "output_type": "display_data"
    }
   ],
   "source": [
    "xgboost.plot_importance(xgb_model_1, title='Feature Importance XGB Model-%d'%(1,), \n",
    "                        xlabel='Feature Score',)\n",
    "plt.show()"
   ]
  },
  {
   "cell_type": "markdown",
   "metadata": {},
   "source": [
    "## B2) XGB with 13 features + BaselineOnly feature"
   ]
  },
  {
   "cell_type": "markdown",
   "metadata": {},
   "source": [
    "### Adding the  as feature to X_train, X_test"
   ]
  },
  {
   "cell_type": "code",
   "execution_count": 29,
   "metadata": {},
   "outputs": [
    {
     "data": {
      "text/html": [
       "<div>\n",
       "<style scoped>\n",
       "    .dataframe tbody tr th:only-of-type {\n",
       "        vertical-align: middle;\n",
       "    }\n",
       "\n",
       "    .dataframe tbody tr th {\n",
       "        vertical-align: top;\n",
       "    }\n",
       "\n",
       "    .dataframe thead th {\n",
       "        text-align: right;\n",
       "    }\n",
       "</style>\n",
       "<table border=\"1\" class=\"dataframe\">\n",
       "  <thead>\n",
       "    <tr style=\"text-align: right;\">\n",
       "      <th></th>\n",
       "      <th>sur1</th>\n",
       "      <th>sur2</th>\n",
       "      <th>sur3</th>\n",
       "      <th>sur4</th>\n",
       "      <th>sur5</th>\n",
       "      <th>smr1</th>\n",
       "      <th>smr2</th>\n",
       "      <th>smr3</th>\n",
       "      <th>smr4</th>\n",
       "      <th>smr5</th>\n",
       "      <th>UAvg</th>\n",
       "      <th>MAvg</th>\n",
       "      <th>F_BaselineOnly</th>\n",
       "    </tr>\n",
       "  </thead>\n",
       "  <tbody>\n",
       "    <tr>\n",
       "      <th>0</th>\n",
       "      <td>3.0</td>\n",
       "      <td>3.0</td>\n",
       "      <td>3.0</td>\n",
       "      <td>3.0</td>\n",
       "      <td>3.0</td>\n",
       "      <td>3.0</td>\n",
       "      <td>3.0</td>\n",
       "      <td>3.0</td>\n",
       "      <td>3.0</td>\n",
       "      <td>3.0</td>\n",
       "      <td>3.500000</td>\n",
       "      <td>3.409039</td>\n",
       "      <td>3.476408</td>\n",
       "    </tr>\n",
       "    <tr>\n",
       "      <th>1</th>\n",
       "      <td>3.0</td>\n",
       "      <td>3.0</td>\n",
       "      <td>3.0</td>\n",
       "      <td>3.0</td>\n",
       "      <td>3.0</td>\n",
       "      <td>3.0</td>\n",
       "      <td>2.0</td>\n",
       "      <td>2.0</td>\n",
       "      <td>2.0</td>\n",
       "      <td>2.0</td>\n",
       "      <td>2.978261</td>\n",
       "      <td>3.821851</td>\n",
       "      <td>3.822106</td>\n",
       "    </tr>\n",
       "    <tr>\n",
       "      <th>2</th>\n",
       "      <td>4.0</td>\n",
       "      <td>4.0</td>\n",
       "      <td>4.0</td>\n",
       "      <td>5.0</td>\n",
       "      <td>4.0</td>\n",
       "      <td>5.0</td>\n",
       "      <td>2.0</td>\n",
       "      <td>2.0</td>\n",
       "      <td>5.0</td>\n",
       "      <td>2.0</td>\n",
       "      <td>2.978261</td>\n",
       "      <td>4.080811</td>\n",
       "      <td>3.980199</td>\n",
       "    </tr>\n",
       "    <tr>\n",
       "      <th>3</th>\n",
       "      <td>3.0</td>\n",
       "      <td>4.0</td>\n",
       "      <td>2.0</td>\n",
       "      <td>3.0</td>\n",
       "      <td>3.0</td>\n",
       "      <td>3.0</td>\n",
       "      <td>4.0</td>\n",
       "      <td>4.0</td>\n",
       "      <td>5.0</td>\n",
       "      <td>4.0</td>\n",
       "      <td>4.000000</td>\n",
       "      <td>3.617293</td>\n",
       "      <td>4.271171</td>\n",
       "    </tr>\n",
       "    <tr>\n",
       "      <th>4</th>\n",
       "      <td>2.0</td>\n",
       "      <td>3.0</td>\n",
       "      <td>2.0</td>\n",
       "      <td>2.0</td>\n",
       "      <td>2.0</td>\n",
       "      <td>3.0</td>\n",
       "      <td>3.0</td>\n",
       "      <td>3.0</td>\n",
       "      <td>3.0</td>\n",
       "      <td>3.0</td>\n",
       "      <td>3.914894</td>\n",
       "      <td>2.854015</td>\n",
       "      <td>3.377190</td>\n",
       "    </tr>\n",
       "  </tbody>\n",
       "</table>\n",
       "</div>"
      ],
      "text/plain": [
       "   sur1  sur2  sur3  sur4  sur5  smr1  smr2  smr3  smr4  smr5      UAvg  \\\n",
       "0   3.0   3.0   3.0   3.0   3.0   3.0   3.0   3.0   3.0   3.0  3.500000   \n",
       "1   3.0   3.0   3.0   3.0   3.0   3.0   2.0   2.0   2.0   2.0  2.978261   \n",
       "2   4.0   4.0   4.0   5.0   4.0   5.0   2.0   2.0   5.0   2.0  2.978261   \n",
       "3   3.0   4.0   2.0   3.0   3.0   3.0   4.0   4.0   5.0   4.0  4.000000   \n",
       "4   2.0   3.0   2.0   2.0   2.0   3.0   3.0   3.0   3.0   3.0  3.914894   \n",
       "\n",
       "       MAvg  F_BaselineOnly  \n",
       "0  3.409039        3.476408  \n",
       "1  3.821851        3.822106  \n",
       "2  4.080811        3.980199  \n",
       "3  3.617293        4.271171  \n",
       "4  2.854015        3.377190  "
      ]
     },
     "execution_count": 29,
     "metadata": {},
     "output_type": "execute_result"
    }
   ],
   "source": [
    "# Surprise baseline model predictions\n",
    "X_train['F_BaselineOnly'] = results_dict_bsl['train']['predictions']\n",
    "X_test['F_BaselineOnly'] = results_dict_bsl['test']['predictions']\n",
    "X_test.head()"
   ]
  },
  {
   "cell_type": "markdown",
   "metadata": {},
   "source": [
    "### Step 1. Find best hyperparameter"
   ]
  },
  {
   "cell_type": "code",
   "execution_count": 30,
   "metadata": {},
   "outputs": [
    {
     "name": "stdout",
     "output_type": "stream",
     "text": [
      "2019-06-25 16:13:13.338634  Hyperparam Tuning of XGB started\n"
     ]
    },
    {
     "data": {
      "image/png": "[encoded data removed]",
      "text/plain": [
       "<Figure size 432x288 with 2 Axes>"
      ]
     },
     "metadata": {},
     "output_type": "display_data"
    },
    {
     "name": "stdout",
     "output_type": "stream",
     "text": [
      "\n",
      "\n",
      "\n",
      "\n"
     ]
    },
    {
     "data": {
      "image/png": "[encoded data removed]",
      "text/plain": [
       "<Figure size 432x288 with 2 Axes>"
      ]
     },
     "metadata": {},
     "output_type": "display_data"
    },
    {
     "name": "stdout",
     "output_type": "stream",
     "text": [
      "Best hyperparam value:  {'max_depth': 10, 'n_estimators': 160} Best Train Score:  24.03871814409892 Best Validation Score:  25.13616681098938\n",
      "2019-06-25 21:23:07.745464  Hyperparam Tuning of XGB completed\n"
     ]
    }
   ],
   "source": [
    "param_dict_xgb_2 = {'n_estimators':[5, 20, 80, 160, 250], \n",
    "                    'max_depth':[2, 10, 30, 120, 200]}\n",
    "\n",
    "print(datetime.now() ,' Hyperparam Tuning of XGB started')\n",
    "hyp_tuned_info_xgb_2 = get_best_hyperparam_XGBRegressor(param_dict_xgb_2, X_train, y_train)\n",
    "print(datetime.now() ,' Hyperparam Tuning of XGB completed')"
   ]
  },
  {
   "cell_type": "code",
   "execution_count": 31,
   "metadata": {},
   "outputs": [],
   "source": [
    "best_hyp_xgb_2, best_train_score, best_validation_score, best_mse_train, best_mse_validation = hyp_tuned_info_xgb_2"
   ]
  },
  {
   "cell_type": "markdown",
   "metadata": {},
   "source": [
    "### Step 2 : Train model with best hyperparam"
   ]
  },
  {
   "cell_type": "code",
   "execution_count": 32,
   "metadata": {},
   "outputs": [
    {
     "name": "stdout",
     "output_type": "stream",
     "text": [
      "2019-06-25 21:23:10.089463   Training of XGB started\n",
      "2019-06-25 21:26:30.019260   Training of XGB completed\n"
     ]
    }
   ],
   "source": [
    "# declare model\n",
    "print(datetime.now() ,'  Training of XGB started')\n",
    "xgb_model_2 = XGBRegressor(n_estimators=best_hyp_xgb_2['n_estimators'], \n",
    "                           max_depth=best_hyp_xgb_2['max_depth'])\n",
    "xgb_model_2.fit(X_train, y_train)\n",
    "print(datetime.now() ,'  Training of XGB completed')\n",
    "\n",
    "\n",
    "# save model to disk\n",
    "pickle_out = open(\"./model/xgb_reg2.pkl\",\"wb\")\n",
    "pickle.dump(xgb_model_2, pickle_out)\n",
    "pickle_out.close()"
   ]
  },
  {
   "cell_type": "markdown",
   "metadata": {},
   "source": [
    "### Step 3 : Evaluate model"
   ]
  },
  {
   "cell_type": "code",
   "execution_count": 33,
   "metadata": {},
   "outputs": [
    {
     "name": "stdout",
     "output_type": "stream",
     "text": [
      "Train -> MSE:0.649600 \t MAPE:24.008800\n",
      "Test -> MSE:1.141800 \t MAPE:32.713600\n"
     ]
    }
   ],
   "source": [
    "#load model from disk\n",
    "pickle_in = open(\"./model/xgb_reg2.pkl\",\"rb\")\n",
    "xgb_model_2 = pickle.load(pickle_in)\n",
    "pickle_in.close()\n",
    "\n",
    "# performace of model\n",
    "train_mse_xgb_2, train_mape_xgb_2 = evaluate_model(xgb_model_2, X_train, y_train, prefix='Train')\n",
    "test_mse_xgb_2, test_mape_xgb_2 = evaluate_model(xgb_model_2, X_test, y_test, prefix='Test')"
   ]
  },
  {
   "cell_type": "markdown",
   "metadata": {},
   "source": [
    "## Plot Feature Importance"
   ]
  },
  {
   "cell_type": "code",
   "execution_count": 34,
   "metadata": {},
   "outputs": [
    {
     "data": {
      "image/png": "[encoded data removed]",
      "text/plain": [
       "<Figure size 432x288 with 1 Axes>"
      ]
     },
     "metadata": {},
     "output_type": "display_data"
    }
   ],
   "source": [
    "xgboost.plot_importance(xgb_model_2, title='Feature Importance XGB Model-%d'%(2,), \n",
    "                        xlabel='Feature Score',)\n",
    "plt.show()"
   ]
  },
  {
   "cell_type": "markdown",
   "metadata": {},
   "source": [
    "## B3) XGB with 13 features + BaselineOnly +  KNN Base Line features"
   ]
  },
  {
   "cell_type": "markdown",
   "metadata": {},
   "source": [
    "### Adding the  as feature to X_train, X_test"
   ]
  },
  {
   "cell_type": "code",
   "execution_count": 35,
   "metadata": {},
   "outputs": [
    {
     "data": {
      "text/html": [
       "<div>\n",
       "<style scoped>\n",
       "    .dataframe tbody tr th:only-of-type {\n",
       "        vertical-align: middle;\n",
       "    }\n",
       "\n",
       "    .dataframe tbody tr th {\n",
       "        vertical-align: top;\n",
       "    }\n",
       "\n",
       "    .dataframe thead th {\n",
       "        text-align: right;\n",
       "    }\n",
       "</style>\n",
       "<table border=\"1\" class=\"dataframe\">\n",
       "  <thead>\n",
       "    <tr style=\"text-align: right;\">\n",
       "      <th></th>\n",
       "      <th>sur1</th>\n",
       "      <th>sur2</th>\n",
       "      <th>sur3</th>\n",
       "      <th>sur4</th>\n",
       "      <th>sur5</th>\n",
       "      <th>smr1</th>\n",
       "      <th>smr2</th>\n",
       "      <th>smr3</th>\n",
       "      <th>smr4</th>\n",
       "      <th>smr5</th>\n",
       "      <th>UAvg</th>\n",
       "      <th>MAvg</th>\n",
       "      <th>F_BaselineOnly</th>\n",
       "      <th>F_KNN_Baseline</th>\n",
       "    </tr>\n",
       "  </thead>\n",
       "  <tbody>\n",
       "    <tr>\n",
       "      <th>0</th>\n",
       "      <td>3.0</td>\n",
       "      <td>3.0</td>\n",
       "      <td>3.0</td>\n",
       "      <td>3.0</td>\n",
       "      <td>3.0</td>\n",
       "      <td>3.0</td>\n",
       "      <td>3.0</td>\n",
       "      <td>3.0</td>\n",
       "      <td>3.0</td>\n",
       "      <td>3.0</td>\n",
       "      <td>3.500000</td>\n",
       "      <td>3.409039</td>\n",
       "      <td>3.476408</td>\n",
       "      <td>2.285921</td>\n",
       "    </tr>\n",
       "    <tr>\n",
       "      <th>1</th>\n",
       "      <td>3.0</td>\n",
       "      <td>3.0</td>\n",
       "      <td>3.0</td>\n",
       "      <td>3.0</td>\n",
       "      <td>3.0</td>\n",
       "      <td>3.0</td>\n",
       "      <td>2.0</td>\n",
       "      <td>2.0</td>\n",
       "      <td>2.0</td>\n",
       "      <td>2.0</td>\n",
       "      <td>2.978261</td>\n",
       "      <td>3.821851</td>\n",
       "      <td>3.822106</td>\n",
       "      <td>2.570363</td>\n",
       "    </tr>\n",
       "    <tr>\n",
       "      <th>2</th>\n",
       "      <td>4.0</td>\n",
       "      <td>4.0</td>\n",
       "      <td>4.0</td>\n",
       "      <td>5.0</td>\n",
       "      <td>4.0</td>\n",
       "      <td>5.0</td>\n",
       "      <td>2.0</td>\n",
       "      <td>2.0</td>\n",
       "      <td>5.0</td>\n",
       "      <td>2.0</td>\n",
       "      <td>2.978261</td>\n",
       "      <td>4.080811</td>\n",
       "      <td>3.980199</td>\n",
       "      <td>2.702690</td>\n",
       "    </tr>\n",
       "    <tr>\n",
       "      <th>3</th>\n",
       "      <td>3.0</td>\n",
       "      <td>4.0</td>\n",
       "      <td>2.0</td>\n",
       "      <td>3.0</td>\n",
       "      <td>3.0</td>\n",
       "      <td>3.0</td>\n",
       "      <td>4.0</td>\n",
       "      <td>4.0</td>\n",
       "      <td>5.0</td>\n",
       "      <td>4.0</td>\n",
       "      <td>4.000000</td>\n",
       "      <td>3.617293</td>\n",
       "      <td>4.271171</td>\n",
       "      <td>3.074824</td>\n",
       "    </tr>\n",
       "    <tr>\n",
       "      <th>4</th>\n",
       "      <td>2.0</td>\n",
       "      <td>3.0</td>\n",
       "      <td>2.0</td>\n",
       "      <td>2.0</td>\n",
       "      <td>2.0</td>\n",
       "      <td>3.0</td>\n",
       "      <td>3.0</td>\n",
       "      <td>3.0</td>\n",
       "      <td>3.0</td>\n",
       "      <td>3.0</td>\n",
       "      <td>3.914894</td>\n",
       "      <td>2.854015</td>\n",
       "      <td>3.377190</td>\n",
       "      <td>2.192587</td>\n",
       "    </tr>\n",
       "  </tbody>\n",
       "</table>\n",
       "</div>"
      ],
      "text/plain": [
       "   sur1  sur2  sur3  sur4  sur5  smr1  smr2  smr3  smr4  smr5      UAvg  \\\n",
       "0   3.0   3.0   3.0   3.0   3.0   3.0   3.0   3.0   3.0   3.0  3.500000   \n",
       "1   3.0   3.0   3.0   3.0   3.0   3.0   2.0   2.0   2.0   2.0  2.978261   \n",
       "2   4.0   4.0   4.0   5.0   4.0   5.0   2.0   2.0   5.0   2.0  2.978261   \n",
       "3   3.0   4.0   2.0   3.0   3.0   3.0   4.0   4.0   5.0   4.0  4.000000   \n",
       "4   2.0   3.0   2.0   2.0   2.0   3.0   3.0   3.0   3.0   3.0  3.914894   \n",
       "\n",
       "       MAvg  F_BaselineOnly  F_KNN_Baseline  \n",
       "0  3.409039        3.476408        2.285921  \n",
       "1  3.821851        3.822106        2.570363  \n",
       "2  4.080811        3.980199        2.702690  \n",
       "3  3.617293        4.271171        3.074824  \n",
       "4  2.854015        3.377190        2.192587  "
      ]
     },
     "execution_count": 35,
     "metadata": {},
     "output_type": "execute_result"
    }
   ],
   "source": [
    "# Surprise baseline model predictions\n",
    "X_train['F_KNN_Baseline'] = results_dict_knn_bsl_m['train']['predictions']\n",
    "X_test['F_KNN_Baseline'] = results_dict_knn_bsl_m['test']['predictions']\n",
    "X_test.head()"
   ]
  },
  {
   "cell_type": "markdown",
   "metadata": {},
   "source": [
    "### Step 1. Find best hyperparameter"
   ]
  },
  {
   "cell_type": "code",
   "execution_count": 36,
   "metadata": {},
   "outputs": [
    {
     "name": "stdout",
     "output_type": "stream",
     "text": [
      "2019-06-25 21:26:47.122800  Hyperparam Tuning of XGB started\n"
     ]
    },
    {
     "data": {
      "image/png": "[encoded data removed]",
      "text/plain": [
       "<Figure size 432x288 with 2 Axes>"
      ]
     },
     "metadata": {},
     "output_type": "display_data"
    },
    {
     "name": "stdout",
     "output_type": "stream",
     "text": [
      "\n",
      "\n",
      "\n",
      "\n"
     ]
    },
    {
     "data": {
      "image/png": "[encoded data removed]",
      "text/plain": [
       "<Figure size 432x288 with 2 Axes>"
      ]
     },
     "metadata": {},
     "output_type": "display_data"
    },
    {
     "name": "stdout",
     "output_type": "stream",
     "text": [
      "Best hyperparam value:  {'max_depth': 10, 'n_estimators': 160} Best Train Score:  23.86511166890462 Best Validation Score:  25.16142924626668\n",
      "2019-06-26 02:46:49.042587  Hyperparam Tuning of XGB completed\n"
     ]
    }
   ],
   "source": [
    "param_dict_xgb_3 = {'n_estimators':[5, 20, 80, 160, 250], \n",
    "                    'max_depth':[2, 10, 30, 120, 200]}\n",
    "\n",
    "print(datetime.now() ,' Hyperparam Tuning of XGB started')\n",
    "hyp_tuned_info_xgb_3 = get_best_hyperparam_XGBRegressor(param_dict_xgb_3, X_train, y_train)\n",
    "print(datetime.now() ,' Hyperparam Tuning of XGB completed')"
   ]
  },
  {
   "cell_type": "code",
   "execution_count": 37,
   "metadata": {},
   "outputs": [],
   "source": [
    "best_hyp_xgb_3, best_train_score, best_validation_score, best_mse_train, best_mse_validation = hyp_tuned_info_xgb_3"
   ]
  },
  {
   "cell_type": "markdown",
   "metadata": {},
   "source": [
    "### Step 2 : Train model with best hyperparam"
   ]
  },
  {
   "cell_type": "code",
   "execution_count": 38,
   "metadata": {},
   "outputs": [
    {
     "name": "stdout",
     "output_type": "stream",
     "text": [
      "2019-06-26 02:46:51.286078  Training of XGB started\n",
      "2019-06-26 02:50:40.667285  Training of XGB completed\n"
     ]
    }
   ],
   "source": [
    "# declare model\n",
    "print(datetime.now() ,' Training of XGB started')\n",
    "xgb_model_3 = XGBRegressor(n_estimators=best_hyp_xgb_3['n_estimators'], \n",
    "                           max_depth=best_hyp_xgb_3['max_depth'])\n",
    "xgb_model_3.fit(X_train, y_train)\n",
    "print(datetime.now() ,' Training of XGB completed')\n",
    "\n",
    "# save model to disk\n",
    "pickle_out = open(\"./model/xgb_reg3.pkl\",\"wb\")\n",
    "pickle.dump(xgb_model_3, pickle_out)\n",
    "pickle_out.close()"
   ]
  },
  {
   "cell_type": "markdown",
   "metadata": {},
   "source": [
    "### Step 3 : Evaluate model"
   ]
  },
  {
   "cell_type": "code",
   "execution_count": 39,
   "metadata": {},
   "outputs": [
    {
     "name": "stdout",
     "output_type": "stream",
     "text": [
      "Train -> MSE:0.646500 \t MAPE:23.951900\n",
      "Test -> MSE:1.143700 \t MAPE:32.750300\n"
     ]
    }
   ],
   "source": [
    "#load model from disk\n",
    "pickle_in = open(\"./model/xgb_reg3.pkl\",\"rb\")\n",
    "xgb_model_3 = pickle.load(pickle_in)\n",
    "pickle_in.close()\n",
    "\n",
    "# performace of model\n",
    "train_mse_xgb_3, train_mape_xgb_3 = evaluate_model(xgb_model_3, X_train, y_train, prefix='Train')\n",
    "test_mse_xgb_3, test_mape_xgb_3 = evaluate_model(xgb_model_3, X_test, y_test, prefix='Test')"
   ]
  },
  {
   "cell_type": "markdown",
   "metadata": {},
   "source": [
    "## Plot Feature Importance"
   ]
  },
  {
   "cell_type": "code",
   "execution_count": 40,
   "metadata": {},
   "outputs": [
    {
     "data": {
      "image/png": "[encoded data removed]",
      "text/plain": [
       "<Figure size 432x288 with 1 Axes>"
      ]
     },
     "metadata": {},
     "output_type": "display_data"
    }
   ],
   "source": [
    "xgboost.plot_importance(xgb_model_3, title='Feature Importance XGB Model-%d'%(3,), \n",
    "                        xlabel='Feature Score',)\n",
    "plt.show()"
   ]
  },
  {
   "cell_type": "markdown",
   "metadata": {},
   "source": [
    "## B4) XGB with 13 features + BaselineOnly +  KNN Base Line + SVD Features"
   ]
  },
  {
   "cell_type": "markdown",
   "metadata": {},
   "source": [
    "### Adding the  as feature to X_train, X_test"
   ]
  },
  {
   "cell_type": "code",
   "execution_count": 41,
   "metadata": {},
   "outputs": [
    {
     "data": {
      "text/html": [
       "<div>\n",
       "<style scoped>\n",
       "    .dataframe tbody tr th:only-of-type {\n",
       "        vertical-align: middle;\n",
       "    }\n",
       "\n",
       "    .dataframe tbody tr th {\n",
       "        vertical-align: top;\n",
       "    }\n",
       "\n",
       "    .dataframe thead th {\n",
       "        text-align: right;\n",
       "    }\n",
       "</style>\n",
       "<table border=\"1\" class=\"dataframe\">\n",
       "  <thead>\n",
       "    <tr style=\"text-align: right;\">\n",
       "      <th></th>\n",
       "      <th>sur1</th>\n",
       "      <th>sur2</th>\n",
       "      <th>sur3</th>\n",
       "      <th>sur4</th>\n",
       "      <th>sur5</th>\n",
       "      <th>smr1</th>\n",
       "      <th>smr2</th>\n",
       "      <th>smr3</th>\n",
       "      <th>smr4</th>\n",
       "      <th>smr5</th>\n",
       "      <th>UAvg</th>\n",
       "      <th>MAvg</th>\n",
       "      <th>F_BaselineOnly</th>\n",
       "      <th>F_KNN_Baseline</th>\n",
       "      <th>F_SVD</th>\n",
       "    </tr>\n",
       "  </thead>\n",
       "  <tbody>\n",
       "    <tr>\n",
       "      <th>0</th>\n",
       "      <td>3.0</td>\n",
       "      <td>3.0</td>\n",
       "      <td>3.0</td>\n",
       "      <td>3.0</td>\n",
       "      <td>3.0</td>\n",
       "      <td>3.0</td>\n",
       "      <td>3.0</td>\n",
       "      <td>3.0</td>\n",
       "      <td>3.0</td>\n",
       "      <td>3.0</td>\n",
       "      <td>3.500000</td>\n",
       "      <td>3.409039</td>\n",
       "      <td>3.476408</td>\n",
       "      <td>2.285921</td>\n",
       "      <td>3.370094</td>\n",
       "    </tr>\n",
       "    <tr>\n",
       "      <th>1</th>\n",
       "      <td>3.0</td>\n",
       "      <td>3.0</td>\n",
       "      <td>3.0</td>\n",
       "      <td>3.0</td>\n",
       "      <td>3.0</td>\n",
       "      <td>3.0</td>\n",
       "      <td>2.0</td>\n",
       "      <td>2.0</td>\n",
       "      <td>2.0</td>\n",
       "      <td>2.0</td>\n",
       "      <td>2.978261</td>\n",
       "      <td>3.821851</td>\n",
       "      <td>3.822106</td>\n",
       "      <td>2.570363</td>\n",
       "      <td>3.803793</td>\n",
       "    </tr>\n",
       "    <tr>\n",
       "      <th>2</th>\n",
       "      <td>4.0</td>\n",
       "      <td>4.0</td>\n",
       "      <td>4.0</td>\n",
       "      <td>5.0</td>\n",
       "      <td>4.0</td>\n",
       "      <td>5.0</td>\n",
       "      <td>2.0</td>\n",
       "      <td>2.0</td>\n",
       "      <td>5.0</td>\n",
       "      <td>2.0</td>\n",
       "      <td>2.978261</td>\n",
       "      <td>4.080811</td>\n",
       "      <td>3.980199</td>\n",
       "      <td>2.702690</td>\n",
       "      <td>3.960326</td>\n",
       "    </tr>\n",
       "    <tr>\n",
       "      <th>3</th>\n",
       "      <td>3.0</td>\n",
       "      <td>4.0</td>\n",
       "      <td>2.0</td>\n",
       "      <td>3.0</td>\n",
       "      <td>3.0</td>\n",
       "      <td>3.0</td>\n",
       "      <td>4.0</td>\n",
       "      <td>4.0</td>\n",
       "      <td>5.0</td>\n",
       "      <td>4.0</td>\n",
       "      <td>4.000000</td>\n",
       "      <td>3.617293</td>\n",
       "      <td>4.271171</td>\n",
       "      <td>3.074824</td>\n",
       "      <td>4.344987</td>\n",
       "    </tr>\n",
       "    <tr>\n",
       "      <th>4</th>\n",
       "      <td>2.0</td>\n",
       "      <td>3.0</td>\n",
       "      <td>2.0</td>\n",
       "      <td>2.0</td>\n",
       "      <td>2.0</td>\n",
       "      <td>3.0</td>\n",
       "      <td>3.0</td>\n",
       "      <td>3.0</td>\n",
       "      <td>3.0</td>\n",
       "      <td>3.0</td>\n",
       "      <td>3.914894</td>\n",
       "      <td>2.854015</td>\n",
       "      <td>3.377190</td>\n",
       "      <td>2.192587</td>\n",
       "      <td>3.003624</td>\n",
       "    </tr>\n",
       "  </tbody>\n",
       "</table>\n",
       "</div>"
      ],
      "text/plain": [
       "   sur1  sur2  sur3  sur4  sur5  smr1  smr2  smr3  smr4  smr5      UAvg  \\\n",
       "0   3.0   3.0   3.0   3.0   3.0   3.0   3.0   3.0   3.0   3.0  3.500000   \n",
       "1   3.0   3.0   3.0   3.0   3.0   3.0   2.0   2.0   2.0   2.0  2.978261   \n",
       "2   4.0   4.0   4.0   5.0   4.0   5.0   2.0   2.0   5.0   2.0  2.978261   \n",
       "3   3.0   4.0   2.0   3.0   3.0   3.0   4.0   4.0   5.0   4.0  4.000000   \n",
       "4   2.0   3.0   2.0   2.0   2.0   3.0   3.0   3.0   3.0   3.0  3.914894   \n",
       "\n",
       "       MAvg  F_BaselineOnly  F_KNN_Baseline     F_SVD  \n",
       "0  3.409039        3.476408        2.285921  3.370094  \n",
       "1  3.821851        3.822106        2.570363  3.803793  \n",
       "2  4.080811        3.980199        2.702690  3.960326  \n",
       "3  3.617293        4.271171        3.074824  4.344987  \n",
       "4  2.854015        3.377190        2.192587  3.003624  "
      ]
     },
     "execution_count": 41,
     "metadata": {},
     "output_type": "execute_result"
    }
   ],
   "source": [
    "# Surprise baseline model predictions\n",
    "X_train['F_SVD'] = results_dict_svd['train']['predictions']\n",
    "X_test['F_SVD'] = results_dict_svd['test']['predictions']\n",
    "X_test.head() "
   ]
  },
  {
   "cell_type": "markdown",
   "metadata": {},
   "source": [
    "### Step 1. Find best hyperparameter"
   ]
  },
  {
   "cell_type": "code",
   "execution_count": 42,
   "metadata": {},
   "outputs": [
    {
     "name": "stdout",
     "output_type": "stream",
     "text": [
      "2019-06-26 02:50:59.575304  Hyperparam Tuning of XGB started\n"
     ]
    },
    {
     "data": {
      "image/png": "[encoded data removed]",
      "text/plain": [
       "<Figure size 432x288 with 2 Axes>"
      ]
     },
     "metadata": {},
     "output_type": "display_data"
    },
    {
     "name": "stdout",
     "output_type": "stream",
     "text": [
      "\n",
      "\n",
      "\n",
      "\n"
     ]
    },
    {
     "data": {
      "image/png": "[encoded data removed]",
      "text/plain": [
       "<Figure size 432x288 with 2 Axes>"
      ]
     },
     "metadata": {},
     "output_type": "display_data"
    },
    {
     "name": "stdout",
     "output_type": "stream",
     "text": [
      "Best hyperparam value:  {'max_depth': 10, 'n_estimators': 160} Best Train Score:  23.805558681488037 Best Validation Score:  25.174277027448017\n",
      "2019-06-26 08:28:27.502578  Hyperparam Tuning of XGB completed\n"
     ]
    }
   ],
   "source": [
    "param_dict_xgb_4 = {'n_estimators':[5, 20, 80, 160, 250], \n",
    "                    'max_depth':[2, 10, 30, 120, 200]}\n",
    "\n",
    "print(datetime.now() ,' Hyperparam Tuning of XGB started')\n",
    "hyp_tuned_info_xgb_4 = get_best_hyperparam_XGBRegressor(param_dict_xgb_4, X_train, y_train)\n",
    "print(datetime.now() ,' Hyperparam Tuning of XGB completed')"
   ]
  },
  {
   "cell_type": "code",
   "execution_count": 43,
   "metadata": {},
   "outputs": [],
   "source": [
    "best_hyp_xgb_4, best_train_score, best_validation_score, best_mse_train, best_mse_validation = hyp_tuned_info_xgb_4"
   ]
  },
  {
   "cell_type": "markdown",
   "metadata": {},
   "source": [
    "### Step 2 : Train model with best hyperparam"
   ]
  },
  {
   "cell_type": "code",
   "execution_count": 44,
   "metadata": {},
   "outputs": [
    {
     "name": "stdout",
     "output_type": "stream",
     "text": [
      "2019-06-26 08:28:29.759600  Training of XGB started\n",
      "2019-06-26 08:32:50.148239  Training of XGB completed\n"
     ]
    }
   ],
   "source": [
    "# declare model\n",
    "print(datetime.now() ,' Training of XGB started')\n",
    "xgb_model_4 = XGBRegressor(n_estimators=best_hyp_xgb_4['n_estimators'], \n",
    "                           max_depth=best_hyp_xgb_4['max_depth'])\n",
    "xgb_model_4.fit(X_train, y_train)\n",
    "print(datetime.now() ,' Training of XGB completed')\n",
    "\n",
    "# save model to disk\n",
    "pickle_out = open(\"./model/xgb_reg4.pkl\",\"wb\")\n",
    "pickle.dump(xgb_model_4, pickle_out)\n",
    "pickle_out.close()"
   ]
  },
  {
   "cell_type": "markdown",
   "metadata": {},
   "source": [
    "### Step 3 : Evaluate model"
   ]
  },
  {
   "cell_type": "code",
   "execution_count": 45,
   "metadata": {},
   "outputs": [
    {
     "name": "stdout",
     "output_type": "stream",
     "text": [
      "Train -> MSE:0.643700 \t MAPE:23.901200\n",
      "Test -> MSE:1.142700 \t MAPE:32.731100\n"
     ]
    }
   ],
   "source": [
    "# save model to disk\n",
    "pickle_in = open(\"./model/xgb_reg4.pkl\",\"rb\")\n",
    "xgb_model_4 = pickle.load(pickle_in)\n",
    "pickle_in.close()\n",
    "\n",
    "# performace of model\n",
    "train_mse_xgb_4, train_mape_xgb_4 = evaluate_model(xgb_model_4, X_train, y_train, prefix='Train')\n",
    "test_mse_xgb_4, test_mape_xgb_4 = evaluate_model(xgb_model_4, X_test, y_test, prefix='Test')"
   ]
  },
  {
   "cell_type": "markdown",
   "metadata": {},
   "source": [
    "## Plot Feature Importance"
   ]
  },
  {
   "cell_type": "code",
   "execution_count": 46,
   "metadata": {},
   "outputs": [
    {
     "data": {
      "image/png": "[encoded data removed]",
      "text/plain": [
       "<Figure size 432x288 with 1 Axes>"
      ]
     },
     "metadata": {},
     "output_type": "display_data"
    }
   ],
   "source": [
    "xgboost.plot_importance(xgb_model_4, title='Feature Importance XGB Model-%d'%(4,), \n",
    "                        xlabel='Feature Score',)\n",
    "plt.show()"
   ]
  },
  {
   "cell_type": "markdown",
   "metadata": {},
   "source": [
    "## B5) XGB with 13 features + BaselineOnly +  KNN Base Line + SVD + SVDpp features"
   ]
  },
  {
   "cell_type": "markdown",
   "metadata": {},
   "source": [
    "### Adding the  as feature to X_train, X_test"
   ]
  },
  {
   "cell_type": "code",
   "execution_count": 47,
   "metadata": {},
   "outputs": [
    {
     "data": {
      "text/html": [
       "<div>\n",
       "<style scoped>\n",
       "    .dataframe tbody tr th:only-of-type {\n",
       "        vertical-align: middle;\n",
       "    }\n",
       "\n",
       "    .dataframe tbody tr th {\n",
       "        vertical-align: top;\n",
       "    }\n",
       "\n",
       "    .dataframe thead th {\n",
       "        text-align: right;\n",
       "    }\n",
       "</style>\n",
       "<table border=\"1\" class=\"dataframe\">\n",
       "  <thead>\n",
       "    <tr style=\"text-align: right;\">\n",
       "      <th></th>\n",
       "      <th>sur1</th>\n",
       "      <th>sur2</th>\n",
       "      <th>sur3</th>\n",
       "      <th>sur4</th>\n",
       "      <th>sur5</th>\n",
       "      <th>smr1</th>\n",
       "      <th>smr2</th>\n",
       "      <th>smr3</th>\n",
       "      <th>smr4</th>\n",
       "      <th>smr5</th>\n",
       "      <th>UAvg</th>\n",
       "      <th>MAvg</th>\n",
       "      <th>F_BaselineOnly</th>\n",
       "      <th>F_KNN_Baseline</th>\n",
       "      <th>F_SVD</th>\n",
       "      <th>F_SVDpp</th>\n",
       "    </tr>\n",
       "  </thead>\n",
       "  <tbody>\n",
       "    <tr>\n",
       "      <th>0</th>\n",
       "      <td>3.0</td>\n",
       "      <td>3.0</td>\n",
       "      <td>3.0</td>\n",
       "      <td>3.0</td>\n",
       "      <td>3.0</td>\n",
       "      <td>3.0</td>\n",
       "      <td>3.0</td>\n",
       "      <td>3.0</td>\n",
       "      <td>3.0</td>\n",
       "      <td>3.0</td>\n",
       "      <td>3.500000</td>\n",
       "      <td>3.409039</td>\n",
       "      <td>3.476408</td>\n",
       "      <td>2.285921</td>\n",
       "      <td>3.370094</td>\n",
       "      <td>3.391509</td>\n",
       "    </tr>\n",
       "    <tr>\n",
       "      <th>1</th>\n",
       "      <td>3.0</td>\n",
       "      <td>3.0</td>\n",
       "      <td>3.0</td>\n",
       "      <td>3.0</td>\n",
       "      <td>3.0</td>\n",
       "      <td>3.0</td>\n",
       "      <td>2.0</td>\n",
       "      <td>2.0</td>\n",
       "      <td>2.0</td>\n",
       "      <td>2.0</td>\n",
       "      <td>2.978261</td>\n",
       "      <td>3.821851</td>\n",
       "      <td>3.822106</td>\n",
       "      <td>2.570363</td>\n",
       "      <td>3.803793</td>\n",
       "      <td>3.559892</td>\n",
       "    </tr>\n",
       "    <tr>\n",
       "      <th>2</th>\n",
       "      <td>4.0</td>\n",
       "      <td>4.0</td>\n",
       "      <td>4.0</td>\n",
       "      <td>5.0</td>\n",
       "      <td>4.0</td>\n",
       "      <td>5.0</td>\n",
       "      <td>2.0</td>\n",
       "      <td>2.0</td>\n",
       "      <td>5.0</td>\n",
       "      <td>2.0</td>\n",
       "      <td>2.978261</td>\n",
       "      <td>4.080811</td>\n",
       "      <td>3.980199</td>\n",
       "      <td>2.702690</td>\n",
       "      <td>3.960326</td>\n",
       "      <td>4.114547</td>\n",
       "    </tr>\n",
       "    <tr>\n",
       "      <th>3</th>\n",
       "      <td>3.0</td>\n",
       "      <td>4.0</td>\n",
       "      <td>2.0</td>\n",
       "      <td>3.0</td>\n",
       "      <td>3.0</td>\n",
       "      <td>3.0</td>\n",
       "      <td>4.0</td>\n",
       "      <td>4.0</td>\n",
       "      <td>5.0</td>\n",
       "      <td>4.0</td>\n",
       "      <td>4.000000</td>\n",
       "      <td>3.617293</td>\n",
       "      <td>4.271171</td>\n",
       "      <td>3.074824</td>\n",
       "      <td>4.344987</td>\n",
       "      <td>4.131854</td>\n",
       "    </tr>\n",
       "    <tr>\n",
       "      <th>4</th>\n",
       "      <td>2.0</td>\n",
       "      <td>3.0</td>\n",
       "      <td>2.0</td>\n",
       "      <td>2.0</td>\n",
       "      <td>2.0</td>\n",
       "      <td>3.0</td>\n",
       "      <td>3.0</td>\n",
       "      <td>3.0</td>\n",
       "      <td>3.0</td>\n",
       "      <td>3.0</td>\n",
       "      <td>3.914894</td>\n",
       "      <td>2.854015</td>\n",
       "      <td>3.377190</td>\n",
       "      <td>2.192587</td>\n",
       "      <td>3.003624</td>\n",
       "      <td>3.194473</td>\n",
       "    </tr>\n",
       "  </tbody>\n",
       "</table>\n",
       "</div>"
      ],
      "text/plain": [
       "   sur1  sur2  sur3  sur4  sur5  smr1  smr2  smr3  smr4  smr5      UAvg  \\\n",
       "0   3.0   3.0   3.0   3.0   3.0   3.0   3.0   3.0   3.0   3.0  3.500000   \n",
       "1   3.0   3.0   3.0   3.0   3.0   3.0   2.0   2.0   2.0   2.0  2.978261   \n",
       "2   4.0   4.0   4.0   5.0   4.0   5.0   2.0   2.0   5.0   2.0  2.978261   \n",
       "3   3.0   4.0   2.0   3.0   3.0   3.0   4.0   4.0   5.0   4.0  4.000000   \n",
       "4   2.0   3.0   2.0   2.0   2.0   3.0   3.0   3.0   3.0   3.0  3.914894   \n",
       "\n",
       "       MAvg  F_BaselineOnly  F_KNN_Baseline     F_SVD   F_SVDpp  \n",
       "0  3.409039        3.476408        2.285921  3.370094  3.391509  \n",
       "1  3.821851        3.822106        2.570363  3.803793  3.559892  \n",
       "2  4.080811        3.980199        2.702690  3.960326  4.114547  \n",
       "3  3.617293        4.271171        3.074824  4.344987  4.131854  \n",
       "4  2.854015        3.377190        2.192587  3.003624  3.194473  "
      ]
     },
     "execution_count": 47,
     "metadata": {},
     "output_type": "execute_result"
    }
   ],
   "source": [
    "# Surprise baseline model predictions\n",
    "X_train['F_SVDpp'] = results_dict_svdpp['train']['predictions']\n",
    "X_test['F_SVDpp'] = results_dict_svdpp['test']['predictions']\n",
    "X_test.head() "
   ]
  },
  {
   "cell_type": "markdown",
   "metadata": {},
   "source": [
    "### Step 1. Find best hyperparameter"
   ]
  },
  {
   "cell_type": "code",
   "execution_count": 48,
   "metadata": {},
   "outputs": [
    {
     "name": "stdout",
     "output_type": "stream",
     "text": [
      "2019-06-26 08:33:09.068359  Hyperparam Tuning of XGB started\n"
     ]
    },
    {
     "data": {
      "image/png": "[encoded data removed]",
      "text/plain": [
       "<Figure size 432x288 with 2 Axes>"
      ]
     },
     "metadata": {},
     "output_type": "display_data"
    },
    {
     "name": "stdout",
     "output_type": "stream",
     "text": [
      "\n",
      "\n",
      "\n",
      "\n"
     ]
    },
    {
     "data": {
      "image/png": "[encoded data removed]",
      "text/plain": [
       "<Figure size 432x288 with 2 Axes>"
      ]
     },
     "metadata": {},
     "output_type": "display_data"
    },
    {
     "name": "stdout",
     "output_type": "stream",
     "text": [
      "Best hyperparam value:  {'max_depth': 10, 'n_estimators': 160} Best Train Score:  23.714058597882588 Best Validation Score:  25.18907090028127\n",
      "2019-06-26 14:32:35.548926  Hyperparam Tuning of XGB completed\n"
     ]
    }
   ],
   "source": [
    "param_dict_xgb_5 = {'n_estimators':[5, 20, 80, 160, 250], \n",
    "                    'max_depth':[2, 10, 30, 120, 200]}\n",
    "\n",
    "print(datetime.now() ,' Hyperparam Tuning of XGB started')\n",
    "hyp_tuned_info_xgb_5 = get_best_hyperparam_XGBRegressor(param_dict_xgb_5, X_train, \n",
    "                                                        y_train)\n",
    "print(datetime.now() ,' Hyperparam Tuning of XGB completed')"
   ]
  },
  {
   "cell_type": "code",
   "execution_count": 49,
   "metadata": {},
   "outputs": [],
   "source": [
    "best_hyp_xgb_5, best_train_score, best_validation_score, best_mse_train, best_mse_validation = hyp_tuned_info_xgb_5"
   ]
  },
  {
   "cell_type": "markdown",
   "metadata": {},
   "source": [
    "### Step 2 : Train model with best hyperparam"
   ]
  },
  {
   "cell_type": "code",
   "execution_count": 50,
   "metadata": {},
   "outputs": [
    {
     "name": "stdout",
     "output_type": "stream",
     "text": [
      "2019-06-26 14:32:37.800396  Training of XGB started\n",
      "2019-06-26 14:37:32.455250  Training of XGB completed\n"
     ]
    }
   ],
   "source": [
    "# declare model\n",
    "print(datetime.now() ,' Training of XGB started')\n",
    "xgb_model_5 = XGBRegressor(n_estimators=best_hyp_xgb_5['n_estimators'], \n",
    "                           max_depth=best_hyp_xgb_5['max_depth'])\n",
    "xgb_model_5.fit(X_train, y_train)\n",
    "print(datetime.now() ,' Training of XGB completed')\n",
    "\n",
    "# save model to disk\n",
    "pickle_out = open(\"./model/xgb_reg5.pkl\",\"wb\")\n",
    "pickle.dump(xgb_model_5, pickle_out)\n",
    "pickle_out.close()"
   ]
  },
  {
   "cell_type": "markdown",
   "metadata": {},
   "source": [
    "### Step 3 : Evaluate model"
   ]
  },
  {
   "cell_type": "code",
   "execution_count": 51,
   "metadata": {},
   "outputs": [
    {
     "name": "stdout",
     "output_type": "stream",
     "text": [
      "Train -> MSE:0.644500 \t MAPE:23.926400\n",
      "Test -> MSE:1.142200 \t MAPE:32.738500\n"
     ]
    }
   ],
   "source": [
    "#load model from disk\n",
    "pickle_in = open(\"./model/xgb_reg5.pkl\",\"rb\")\n",
    "xgb_model_5 = pickle.load(pickle_in)\n",
    "pickle_in.close()\n",
    "\n",
    "# performace of model\n",
    "train_mse_xgb_5, train_mape_xgb_5 = evaluate_model(xgb_model_5, X_train, \n",
    "                                                   y_train, prefix='Train')\n",
    "test_mse_xgb_5, test_mape_xgb_5 = evaluate_model(xgb_model_5, X_test,\n",
    "                                                  y_test, prefix='Test')"
   ]
  },
  {
   "cell_type": "markdown",
   "metadata": {},
   "source": [
    "## Plot Feature Importance"
   ]
  },
  {
   "cell_type": "code",
   "execution_count": 52,
   "metadata": {},
   "outputs": [
    {
     "data": {
      "image/png": "[encoded data removed]",
      "text/plain": [
       "<Figure size 432x288 with 1 Axes>"
      ]
     },
     "metadata": {},
     "output_type": "display_data"
    }
   ],
   "source": [
    "xgboost.plot_importance(xgb_model_5, title='Feature Importance XGB Model-%d'%(5,), \n",
    "                        xlabel='Feature Score',)\n",
    "plt.show()"
   ]
  },
  {
   "cell_type": "markdown",
   "metadata": {},
   "source": [
    "# Results"
   ]
  },
  {
   "cell_type": "code",
   "execution_count": 53,
   "metadata": {},
   "outputs": [
    {
     "name": "stdout",
     "output_type": "stream",
     "text": [
      "+---------------------------------------------------------------------------------------------------+\n",
      "|                                   Movie Ratings Results Summary                                   |\n",
      "+--------------+-----------------------+------------+-----------+----------+------------+-----------+\n",
      "|    Model     |       Hyperparam      | # Features | Train MSE | Test MSE | Train MAPE | Test MAPE |\n",
      "+--------------+-----------------------+------------+-----------+----------+------------+-----------+\n",
      "| BaselineOnly |           --          |     13     |   0.8615  |  1.0458  |  28.8726   |  32.1118  |\n",
      "| KNN Baseline |           --          |     13     |   0.2478  |  1.0643  |  14.0426   |  31.7234  |\n",
      "|     SVD      |           --          |     13     |   0.4543  |  1.0334  |  20.0957   |  31.3857  |\n",
      "|    SVDpp     |           --          |     13     |   0.4364  |  1.0355  |  19.3678   |  31.1285  |\n",
      "|     XGB      |    {'max_depth': 10   |     13     |   0.6513  |  1.148   |  24.0191   |  32.7495  |\n",
      "|              |  'n_estimators': 160} |            |           |          |            |           |\n",
      "|     XGB      |    {'max_depth': 10   |     14     |   0.6496  |  1.1418  |  24.0088   |  32.7136  |\n",
      "|              |  'n_estimators': 160} |            |           |          |            |           |\n",
      "|     XGB      |    {'max_depth': 10   |     15     |   0.6465  |  1.1437  |  23.9519   |  32.7503  |\n",
      "|              |  'n_estimators': 160} |            |           |          |            |           |\n",
      "|     XGB      |    {'max_depth': 10   |     16     |   0.6437  |  1.1427  |  23.9012   |  32.7311  |\n",
      "|              |  'n_estimators': 160} |            |           |          |            |           |\n",
      "|     XGB      |    {'max_depth': 10   |     17     |   0.6445  |  1.1422  |  23.9264   |  32.7385  |\n",
      "|              |  'n_estimators': 160} |            |           |          |            |           |\n",
      "+--------------+-----------------------+------------+-----------+----------+------------+-----------+\n"
     ]
    }
   ],
   "source": [
    "Pret_table = PrettyTable()\n",
    "Pret_table.field_names = ['Model', 'Hyperparam', '# Features', 'Train MSE', 'Test MSE', \n",
    "                          'Train MAPE', 'Test MAPE']\n",
    "Pret_table.title = 'Movie Ratings Results Summary'\n",
    "\n",
    "# surprise model results\n",
    "Pret_table.add_row(['BaselineOnly', '--', 13 , \n",
    "                    results_dict_bsl['train']['mse'], \n",
    "                    results_dict_bsl['test']['mse'], \n",
    "                    results_dict_bsl['train']['mape'],\n",
    "                    results_dict_bsl['test']['mape']])\n",
    "Pret_table.add_row(['KNN Baseline', '--', 13 ,\n",
    "                    results_dict_knn_bsl_m['train']['mse'], \n",
    "                    results_dict_knn_bsl_m['test']['mse'], \n",
    "                    results_dict_knn_bsl_m['train']['mape'],\n",
    "                    results_dict_knn_bsl_m['test']['mape']])\n",
    "Pret_table.add_row(['SVD', '--', 13 , \n",
    "                    results_dict_svd['train']['mse'], \n",
    "                    results_dict_svd['test']['mse'], \n",
    "                    results_dict_svd['train']['mape'],\n",
    "                    results_dict_svd['test']['mape']])\n",
    "Pret_table.add_row(['SVDpp', '--', 13 , \n",
    "                    results_dict_svdpp['train']['mse'], \n",
    "                    results_dict_svdpp['test']['mse'], \n",
    "                    results_dict_svdpp['train']['mape'],\n",
    "                    results_dict_svdpp['test']['mape']])\n",
    "\n",
    "# XGB model results\n",
    "\n",
    "best_hyp_xgb_1 = '\\n'.join(str(best_hyp_xgb_1).split(','))\n",
    "best_hyp_xgb_2 = '\\n'.join(str(best_hyp_xgb_2).split(','))\n",
    "best_hyp_xgb_3 = '\\n'.join(str(best_hyp_xgb_3).split(','))\n",
    "best_hyp_xgb_4 = '\\n'.join(str(best_hyp_xgb_4).split(','))\n",
    "best_hyp_xgb_5 = '\\n'.join(str(best_hyp_xgb_5).split(','))\n",
    "\n",
    "\n",
    "Pret_table.add_row(['XGB', best_hyp_xgb_1, 13,\n",
    "                    train_mse_xgb_1, test_mse_xgb_1, \n",
    "                    train_mape_xgb_1, test_mape_xgb_1])\n",
    "Pret_table.add_row(['XGB', best_hyp_xgb_2, 14,\n",
    "                    train_mse_xgb_2, test_mse_xgb_2, \n",
    "                    train_mape_xgb_2, test_mape_xgb_2])\n",
    "Pret_table.add_row(['XGB', best_hyp_xgb_3, 15,\n",
    "                    train_mse_xgb_3, test_mse_xgb_3, \n",
    "                    train_mape_xgb_3, test_mape_xgb_3])\n",
    "Pret_table.add_row(['XGB', best_hyp_xgb_4, 16,\n",
    "                    train_mse_xgb_4, test_mse_xgb_4, \n",
    "                    train_mape_xgb_4, test_mape_xgb_4])\n",
    "Pret_table.add_row(['XGB', best_hyp_xgb_5, 17,\n",
    "                    train_mse_xgb_5, test_mse_xgb_5, \n",
    "                    train_mape_xgb_5, test_mape_xgb_5])\n",
    "\n",
    "# \n",
    "print(Pret_table)"
   ]
  },
  {
   "cell_type": "markdown",
   "metadata": {},
   "source": [
    "# Procedure Summary"
   ]
  },
  {
   "cell_type": "markdown",
   "metadata": {},
   "source": [
    "<ul>\n",
    "<li> Surprise library model is used as a baseline model </li>\n",
    "<li> Multiple datasets are constructed by getting the predictions from surprise libray models </li>\n",
    "<li> Hyperparameter tuning is done for XGB models on all the datasets created </li>\n",
    "<li> XGB models are trained with the best hyperparam values </li>\n",
    "<li> XGB models performace evaluated using the test dataset </li>\n",
    "</ul>"
   ]
  },
  {
   "cell_type": "markdown",
   "metadata": {},
   "source": [
    "# Conclusion"
   ]
  },
  {
   "cell_type": "markdown",
   "metadata": {},
   "source": [
    "<ul>\n",
    "<li> The best MAPE value obatined is 31.1285 from baseline SVDpp </li>\n",
    "<li> The best XGB model gave 32.7136 MAPE with 14 features dataset </li>\n",
    "<li> More feature engineering can be done to improve XGB models output further </li>\n",
    "<li> Other models can be tried instead of XGB models </li>\n",
    "</ul>"
   ]
  }
 ],
 "metadata": {
  "kernelspec": {
   "display_name": "Python 3",
   "language": "python",
   "name": "python3"
  },
  "language_info": {
   "codemirror_mode": {
    "name": "ipython",
    "version": 3
   },
   "file_extension": ".py",
   "mimetype": "text/x-python",
   "name": "python",
   "nbconvert_exporter": "python",
   "pygments_lexer": "ipython3",
   "version": "3.6.5"
  }
 },
 "nbformat": 4,
 "nbformat_minor": 2
}
