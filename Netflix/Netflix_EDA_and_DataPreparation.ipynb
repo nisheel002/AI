{
 "cells": [
  {
   "cell_type": "markdown",
   "metadata": {},
   "source": [
    "<h1>1. Business Problem </h1>"
   ]
  },
  {
   "cell_type": "markdown",
   "metadata": {},
   "source": [
    "<h2> 1.1 Problem Description </h2>"
   ]
  },
  {
   "cell_type": "markdown",
   "metadata": {},
   "source": [
    "<p>\n",
    "Netflix is all about connecting people to the movies they love. To help customers find those movies, they developed world-class movie recommendation system: CinematchSM. Its job is to predict whether someone will enjoy a movie based on how much they liked or disliked other movies. Netflix use those predictions to make personal movie recommendations based on each customer’s unique tastes. And while <b>Cinematch</b> is doing pretty well, it can always be made better.\n",
    "</p>\n",
    "<p>Now there are a lot of interesting alternative approaches to how Cinematch works that netflix haven’t tried. Some are described in the literature, some aren’t. We’re curious whether any of these can beat Cinematch by making better predictions. Because, frankly, if there is a much better approach it could make a big difference to our customers and our business.</p>\n",
    "<p> Credits: https://www.netflixprize.com/rules.html </p>"
   ]
  },
  {
   "cell_type": "markdown",
   "metadata": {},
   "source": [
    "<h2> 1.2 Problem Statement </h2>"
   ]
  },
  {
   "cell_type": "markdown",
   "metadata": {},
   "source": [
    "<p>\n",
    "Netflix provided a lot of anonymous rating data, and a prediction accuracy bar that is 10% better than what Cinematch can do on the same training data set. (Accuracy is a measurement of how closely predicted ratings of movies match subsequent actual ratings.) \n",
    "</p>"
   ]
  },
  {
   "cell_type": "markdown",
   "metadata": {},
   "source": [
    "<h2> 1.3 Sources </h2>"
   ]
  },
  {
   "cell_type": "markdown",
   "metadata": {},
   "source": [
    "<ul>\n",
    "<li> https://www.netflixprize.com/rules.html</li>\n",
    "<li> https://www.kaggle.com/netflix-inc/netflix-prize-data</li>\n",
    "<li> Netflix blog: https://medium.com/netflix-techblog/netflix-recommendations-beyond-the-5-stars-part-1-55838468f429 (very nice blog)</li>\n",
    "<li>surprise library: http://surpriselib.com/ (we use many models from this library)</li>\n",
    "<li>surprise library doc: http://surprise.readthedocs.io/en/stable/getting_started.html (we use many models from this library)</li>\n",
    "<li>installing surprise: https://github.com/NicolasHug/Surprise#installation </li>\n",
    "<li> Research paper: http://courses.ischool.berkeley.edu/i290-dm/s11/SECURE/a1-koren.pdf (most of our work was inspired by this paper)</li>\n",
    "<li> SVD Decomposition : https://www.youtube.com/watch?v=P5mlg91as1c </li>\n",
    "</ul>"
   ]
  },
  {
   "cell_type": "markdown",
   "metadata": {},
   "source": [
    "<h2>1.4 Real world/Business Objectives and constraints  </h2>"
   ]
  },
  {
   "cell_type": "markdown",
   "metadata": {},
   "source": [
    "Objectives:\n",
    "1. Predict the rating that a user would give to a movie that he ahs not yet rated.\n",
    "2. Minimize the difference between predicted and actual rating (RMSE and MAPE)\n",
    "<br>\n",
    "\n",
    "Constraints:\n",
    "1. Some form of interpretability."
   ]
  },
  {
   "cell_type": "markdown",
   "metadata": {},
   "source": [
    "<h1> 2. Machine Learning Problem </h1>"
   ]
  },
  {
   "cell_type": "markdown",
   "metadata": {},
   "source": [
    "<h2>2.1 Data </h2>"
   ]
  },
  {
   "cell_type": "markdown",
   "metadata": {},
   "source": [
    "<h3> 2.1.1 Data Overview </h3>"
   ]
  },
  {
   "cell_type": "markdown",
   "metadata": {},
   "source": [
    "<p> Get the data from : https://www.kaggle.com/netflix-inc/netflix-prize-data/data </p>\n",
    "<p> Data files : \n",
    "<ul> \n",
    "<li> combined_data_1.txt </li>\n",
    "<li> combined_data_2.txt </li>\n",
    "<li> combined_data_3.txt </li>\n",
    "<li> combined_data_4.txt </li>\n",
    "<li> movie_titles.csv </li>\n",
    "</ul>\n",
    "<pre>  \n",
    "The first line of each file [combined_data_1.txt, combined_data_2.txt, combined_data_3.txt, combined_data_4.txt] contains the movie id followed by a colon. Each subsequent line in the file corresponds to a rating from a customer and its date in the following format:\n",
    "\n",
    "CustomerID,Rating,Date\n",
    "\n",
    "MovieIDs range from 1 to 17770 sequentially.\n",
    "CustomerIDs range from 1 to 2649429, with gaps. There are 480189 users.\n",
    "Ratings are on a five star (integral) scale from 1 to 5.\n",
    "Dates have the format YYYY-MM-DD.\n",
    "</pre>"
   ]
  },
  {
   "cell_type": "markdown",
   "metadata": {},
   "source": [
    "<h3> 2.1.2 Example Data point </h3>"
   ]
  },
  {
   "cell_type": "markdown",
   "metadata": {},
   "source": [
    "<pre>\n",
    "1:\n",
    "1488844,3,2005-09-06\n",
    "822109,5,2005-05-13\n",
    "885013,4,2005-10-19\n",
    "30878,4,2005-12-26\n",
    "823519,3,2004-05-03\n",
    "893988,3,2005-11-17\n",
    "124105,4,2004-08-05\n",
    "1248029,3,2004-04-22\n",
    "1842128,4,2004-05-09\n",
    "2238063,3,2005-05-11\n",
    "1503895,4,2005-05-19\n",
    "2207774,5,2005-06-06\n",
    "2590061,3,2004-08-12\n",
    "2442,3,2004-04-14\n",
    "543865,4,2004-05-28\n",
    "1209119,4,2004-03-23\n",
    "804919,4,2004-06-10\n",
    "1086807,3,2004-12-28\n",
    "1711859,4,2005-05-08\n",
    "372233,5,2005-11-23\n",
    "1080361,3,2005-03-28\n",
    "1245640,3,2005-12-19\n",
    "558634,4,2004-12-14\n",
    "2165002,4,2004-04-06\n",
    "1181550,3,2004-02-01\n",
    "1227322,4,2004-02-06\n",
    "427928,4,2004-02-26\n",
    "814701,5,2005-09-29\n",
    "808731,4,2005-10-31\n",
    "662870,5,2005-08-24\n",
    "337541,5,2005-03-23\n",
    "786312,3,2004-11-16\n",
    "1133214,4,2004-03-07\n",
    "1537427,4,2004-03-29\n",
    "1209954,5,2005-05-09\n",
    "2381599,3,2005-09-12\n",
    "525356,2,2004-07-11\n",
    "1910569,4,2004-04-12\n",
    "2263586,4,2004-08-20\n",
    "2421815,2,2004-02-26\n",
    "1009622,1,2005-01-19\n",
    "1481961,2,2005-05-24\n",
    "401047,4,2005-06-03\n",
    "2179073,3,2004-08-29\n",
    "1434636,3,2004-05-01\n",
    "93986,5,2005-10-06\n",
    "1308744,5,2005-10-29\n",
    "2647871,4,2005-12-30\n",
    "1905581,5,2005-08-16\n",
    "2508819,3,2004-05-18\n",
    "1578279,1,2005-05-19\n",
    "1159695,4,2005-02-15\n",
    "2588432,3,2005-03-31\n",
    "2423091,3,2005-09-12\n",
    "470232,4,2004-04-08\n",
    "2148699,2,2004-06-05\n",
    "1342007,3,2004-07-16\n",
    "466135,4,2004-07-13\n",
    "2472440,3,2005-08-13\n",
    "1283744,3,2004-04-17\n",
    "1927580,4,2004-11-08\n",
    "716874,5,2005-05-06\n",
    "4326,4,2005-10-29\n",
    "</pre>"
   ]
  },
  {
   "cell_type": "markdown",
   "metadata": {},
   "source": [
    "<h2>2.2 Mapping the real world problem to a Machine Learning Problem </h2>"
   ]
  },
  {
   "cell_type": "markdown",
   "metadata": {},
   "source": [
    "<h3> 2.2.1 Type of Machine Learning Problem </h3>"
   ]
  },
  {
   "cell_type": "markdown",
   "metadata": {},
   "source": [
    "<pre>\n",
    "For a given movie and user we need to predict the rating would be given by him/her to the movie. \n",
    "The given problem is a Recommendation problem \n",
    "It can also seen as a Regression problem \n",
    "</pre>"
   ]
  },
  {
   "cell_type": "markdown",
   "metadata": {},
   "source": [
    "<h3> 2.2.2 Performance metric </h3>"
   ]
  },
  {
   "cell_type": "markdown",
   "metadata": {},
   "source": [
    "<ul>\n",
    "<li> Mean Absolute Percentage Error: https://en.wikipedia.org/wiki/Mean_absolute_percentage_error </li>\n",
    "<li> Root Mean Square Error: https://en.wikipedia.org/wiki/Root-mean-square_deviation </li>\n",
    "</ul>\n"
   ]
  },
  {
   "cell_type": "markdown",
   "metadata": {},
   "source": [
    "<h3> 2.2.3 Machine Learning Objective and Constraints </h3>"
   ]
  },
  {
   "cell_type": "markdown",
   "metadata": {},
   "source": [
    "1. Minimize RMSE.\n",
    "2. Try to provide some interpretability."
   ]
  },
  {
   "cell_type": "code",
   "execution_count": 112,
   "metadata": {},
   "outputs": [],
   "source": [
    "# this is just to know how much time will it take to run this entire ipython notebook \n",
    "from datetime import datetime\n",
    "import pandas as pd\n",
    "import numpy as np\n",
    "import random\n",
    "\n",
    "import matplotlib\n",
    "import matplotlib.pyplot as plt\n",
    "import seaborn as sns\n",
    "sns.set()\n",
    "sns.set_style('whitegrid')\n",
    "\n",
    "import os\n",
    "from scipy import sparse\n",
    "from scipy.sparse import csr_matrix\n",
    "import pickle\n",
    "\n",
    "from sklearn.metrics.pairwise import cosine_similarity\n",
    "\n",
    "from sklearn.model_selection import train_test_split"
   ]
  },
  {
   "cell_type": "markdown",
   "metadata": {},
   "source": [
    "# Configs"
   ]
  },
  {
   "cell_type": "code",
   "execution_count": 2,
   "metadata": {},
   "outputs": [],
   "source": [
    "base_dir = '/media/amd_3/20DAD539DAD50BC2/DSET_REPO/DataSets/CS05_NETFLIX_MOVIE_RECOMMEND'\n",
    "# set path for the structured cleaned data csv file\n",
    "df_path = './data/movie_data.csv'\n",
    "\n",
    "df_size = -1 # set -1 if you wnt to consider the entire size\n",
    "\n",
    "# sample the dataset by selecting subset of users, movies randomly\n",
    "num_users = 25000\n",
    "num_movies = 3000"
   ]
  },
  {
   "cell_type": "markdown",
   "metadata": {},
   "source": [
    "<h1> 3. Exploratory Data Analysis </h1>"
   ]
  },
  {
   "cell_type": "markdown",
   "metadata": {},
   "source": [
    "<h2> 3.1 Preprocessing</h2> "
   ]
  },
  {
   "cell_type": "markdown",
   "metadata": {},
   "source": [
    "<h3>3.1.1 Converting / Merging whole data to required format: u_i, m_j, r_ij</h3>"
   ]
  },
  {
   "cell_type": "code",
   "execution_count": 3,
   "metadata": {},
   "outputs": [],
   "source": [
    "def get_dataframe(base_dir):\n",
    "    \n",
    "    if os.path.isfile('./data/movie_data.csv'):\n",
    "        print('File already exists in the path')\n",
    "        return\n",
    "\n",
    "        \n",
    "    start = datetime.now()\n",
    "    \n",
    "    # list of file names\n",
    "    file_name_list = ['combined_data_1.txt','combined_data_2.txt', \n",
    "                      'combined_data_3.txt', 'combined_data_4.txt']\n",
    "    \n",
    "    # a csv file for structured data\n",
    "    data = open('./data/movie_data.csv', mode='w')\n",
    "    \n",
    "    # process file by file\n",
    "    for fname in file_name_list:\n",
    "        print('Reading data from file: ', fname)\n",
    "        \n",
    "        # form absolute path of file\n",
    "        abs_path = os.path.join(base_dir, fname)\n",
    "        \n",
    "        # open file and extract required fields\n",
    "        with open(abs_path) as f:\n",
    "            \n",
    "            # process a single file\n",
    "            for line in f:\n",
    "                \n",
    "                # strip the whitespaces\n",
    "                line = line.strip()\n",
    "                \n",
    "                if ',' in line:\n",
    "                    row = [x for x in line.split(',')]\n",
    "                    data.write(','.join([movie_id] + row))\n",
    "                    data.write('\\n')\n",
    "                elif ':' in line:\n",
    "                    movie_id = line.replace(':', '')\n",
    "                else:\n",
    "                    print('Invalid line found !!!')\n",
    "    \n",
    "    # close the file\n",
    "    data.close()\n",
    "    print('Time taken :', datetime.now() - start)"
   ]
  },
  {
   "cell_type": "code",
   "execution_count": 4,
   "metadata": {},
   "outputs": [
    {
     "name": "stdout",
     "output_type": "stream",
     "text": [
      "File already exists in the path\n"
     ]
    }
   ],
   "source": [
    "get_dataframe(base_dir)"
   ]
  },
  {
   "cell_type": "code",
   "execution_count": 5,
   "metadata": {},
   "outputs": [],
   "source": [
    "def dedupe_dataframe(df_path):\n",
    "    \n",
    "    if os.path.exists('./data/deduped_movie_data.csv'):\n",
    "        df = pd.read_csv('./data/deduped_movie_data.csv', \n",
    "                         names=['movie', 'user','rating','date'],\n",
    "                         delimiter=',')\n",
    "        return df\n",
    "\n",
    "    print(\"creating the dataframe from data.csv file..\")\n",
    "    df = pd.read_csv(df_path,  names=['movie', 'user','rating','date'],\n",
    "                     delimiter=',')\n",
    "    df['date'] = pd.to_datetime(df['date'], format='%Y-%m-%d')\n",
    "\n",
    "    # we are arranging the ratings according to time.\n",
    "    print(datetime.now(),  ' Sorting the dataframe by date..')\n",
    "    df = df.sort_values(by='date')\n",
    "    print(datetime.now(),  ' Sorting of data frame completed')\n",
    "         \n",
    "    # dedupe the data frames\n",
    "    print(datetime.now(), ' Removing duplicates ...')\n",
    "    df = df.drop_duplicates(subset=['movie','user','rating', 'date'], \n",
    "                            keep='last')\n",
    "    print(datetime.now(), ' Duplicates removed  ...')\n",
    "\n",
    "    print(\"Total data \")\n",
    "    print(\"-\"*50)\n",
    "    print(\"\\nTotal no of ratings :\",df.shape[0])\n",
    "    print(\"Total No of Users   :\", len(np.unique(df.user)))\n",
    "    print(\"Total No of movies  :\", len(np.unique(df.movie)))\n",
    "    \n",
    "    df.to_csv('./data/deduped_movie_data.csv', index=False)\n",
    "    \n",
    "    return df"
   ]
  },
  {
   "cell_type": "code",
   "execution_count": 6,
   "metadata": {},
   "outputs": [
    {
     "name": "stderr",
     "output_type": "stream",
     "text": [
      "/home/amd_3/anaconda3/lib/python3.6/site-packages/IPython/core/interactiveshell.py:2903: DtypeWarning: Columns (0,1,2) have mixed types. Specify dtype option on import or set low_memory=False.\n",
      "  if self.run_code(code, result):\n"
     ]
    }
   ],
   "source": [
    "df = dedupe_dataframe(df_path)\n",
    "\n",
    "# just for the test purpose\n",
    "if df_size > 0:\n",
    "    print('Dataset size will be set to a limit of ', df_size)\n",
    "    df = df.tail(n=df_size)"
   ]
  },
  {
   "cell_type": "markdown",
   "metadata": {},
   "source": [
    " ##  3.1 Basic Statistics of the Data"
   ]
  },
  {
   "cell_type": "code",
   "execution_count": 7,
   "metadata": {},
   "outputs": [
    {
     "name": "stdout",
     "output_type": "stream",
     "text": [
      "Total data\n",
      "--------------------------------------------------\n",
      "\n",
      "Total no of ratings : 100480508\n",
      "Total No of Users   : 481961\n",
      "Total No of movies  : 20273\n"
     ]
    }
   ],
   "source": [
    "print('Total data')\n",
    "print(\"-\"*50)\n",
    "print('\\nTotal no of ratings :', df.shape[0])\n",
    "print('Total No of Users   :', len(set(df['user'])))\n",
    "print('Total No of movies  :', len(set(df['movie'])))"
   ]
  },
  {
   "cell_type": "code",
   "execution_count": 8,
   "metadata": {},
   "outputs": [],
   "source": [
    "# method to make y-axis more readable\n",
    "def human(num, units = 'M'):\n",
    "    \n",
    "    units = units.lower()\n",
    "    num = float(num)\n",
    "    \n",
    "    if units == 'k':\n",
    "        return str(num/10**3) + \" K\"\n",
    "    elif units == 'm':\n",
    "        return str(num/10**6) + \" M\"\n",
    "    elif units == 'b':\n",
    "        return str(num/10**9) +  \" B\""
   ]
  },
  {
   "cell_type": "code",
   "execution_count": 9,
   "metadata": {},
   "outputs": [],
   "source": [
    "def basic_analysis(df, prefix_name):\n",
    "    \n",
    "    # set start time\n",
    "    start = datetime.now()\n",
    "    \n",
    "    print('-'*50)\n",
    "    print(prefix_name + ' Total no of ratings :', df.shape[0])\n",
    "    print(prefix_name + ' Total No of Users   :', len(set(df['user'])))\n",
    "    print(prefix_name + ' Total No of movies  : ', len(set(df['movie'])))\n",
    "    \n",
    "    # add day of week\n",
    "    df['date'] = pd.to_datetime(df['date'], format='%Y-%m-%d')\n",
    "    df['day_of_week'] = df.date.dt.weekday_name \n",
    "          \n",
    "    # 1. Distribution of ratings\n",
    "    plt.title(prefix_name + ' - Distribution of ratings', fontsize=15)\n",
    "    sns.countplot(df.rating)\n",
    "    plt.ylabel('Count')\n",
    "    plt.xlabel('Rating')\n",
    "    plt.show()\n",
    "    plt.close()\n",
    "          \n",
    "    # 2. Number of ratings per Month\n",
    "    ax = df.resample('m', on='date')['rating'].count().plot()\n",
    "    ax.set_title(prefix_name + ' No of ratings per month')\n",
    "    plt.xlabel('Month')\n",
    "    plt.ylabel('No of ratings(per month)')\n",
    "    ax.set_yticklabels([human(item, 'M') for item in ax.get_yticks()])\n",
    "    plt.show()\n",
    "    plt.close()\n",
    "          \n",
    "    # 3. Analysis on the Ratings given by user \n",
    "    no_of_rated_movies_per_user = df.groupby(by='user')['rating'].count().sort_values(ascending=False)\n",
    "          \n",
    "    fig = plt.figure(figsize=plt.figaspect(.5))\n",
    "    ax1 = plt.subplot(121)\n",
    "    sns.kdeplot(no_of_rated_movies_per_user, shade=True, ax=ax1)\n",
    "    plt.xlabel('No of ratings by user')\n",
    "    plt.title(prefix_name + '- PDF')\n",
    "    ax2 = plt.subplot(122)\n",
    "    sns.kdeplot(no_of_rated_movies_per_user, shade=True, cumulative=True,ax=ax2)\n",
    "    plt.xlabel('No of ratings by user')\n",
    "    plt.title(prefix_name + ' CDF')\n",
    "    plt.show()\n",
    "    plt.close()\n",
    "          \n",
    "    print(prefix_name + ' Describe information :\\n' \\\n",
    "          + str(no_of_rated_movies_per_user.describe()))\n",
    "          \n",
    "    # Qunatile analysis   \n",
    "    quantiles = no_of_rated_movies_per_user.quantile(np.arange(0,1.01,0.01), \n",
    "                                                     interpolation='higher')\n",
    "    plt.title(prefix_name + ' Quantiles and their Values')\n",
    "    quantiles.plot()\n",
    "    # quantiles with 0.05 difference\n",
    "    plt.scatter(x=quantiles.index[::5], y=quantiles.values[::5], c='orange', \n",
    "                label='quantiles with 0.05 intervals')\n",
    "    # quantiles with 0.25 difference\n",
    "    plt.scatter(x=quantiles.index[::25], y=quantiles.values[::25], c='m', \n",
    "                label = 'quantiles with 0.25 intervals')\n",
    "    plt.ylabel('No of ratings by user')\n",
    "    plt.xlabel('Value at the quantile')\n",
    "    plt.legend(loc='best')\n",
    "\n",
    "    # annotate the 25th, 50th, 75th and 100th percentile values....\n",
    "    for x,y in zip(quantiles.index[::25], quantiles[::25]):\n",
    "        plt.annotate(s=\"({} , {})\".format(x,y), xy=(x,y), xytext=(x-0.05, y+500)\n",
    "                    ,fontweight='bold')\n",
    "    plt.show()\n",
    "    plt.close()\n",
    "       \n",
    "       \n",
    "    no_of_ratings_per_movie = df.groupby(by='movie')['rating'].count().sort_values(ascending=False)\n",
    "\n",
    "    fig = plt.figure(figsize=plt.figaspect(.5))\n",
    "    ax = plt.gca()\n",
    "    plt.plot(no_of_ratings_per_movie.values)\n",
    "    plt.title(prefix_name + ' - # RATINGS per Movie')\n",
    "    plt.xlabel('Movie')\n",
    "    plt.ylabel('No of Users who rated a movie')\n",
    "    ax.set_xticklabels([])\n",
    "    plt.show()\n",
    "    plt.close()\n",
    "          \n",
    "          \n",
    "    fig, ax = plt.subplots()\n",
    "    sns.countplot(x='day_of_week', data=df, ax=ax)\n",
    "    plt.title(prefix_name + ' No of ratings on each day...')\n",
    "    plt.ylabel('Total no of ratings')\n",
    "    plt.xlabel('Day')\n",
    "    ax.set_yticklabels([human(item, 'M') for item in ax.get_yticks()])\n",
    "    plt.show()\n",
    "    plt.close()\n",
    "          \n",
    "    fig = plt.figure(figsize=plt.figaspect(.45))\n",
    "    sns.boxplot(y='rating', x='day_of_week', data=df)\n",
    "    plt.show()\n",
    "    plt.close()\n",
    "    \n",
    "    print('Total time for plot : ', datetime.now() - start)\n",
    "    \n",
    "    # add day of week column\n",
    "    print(prefix_name + ' - Average ratings per week day')     \n",
    "    avg_week_df = df.groupby(by=['day_of_week'])['rating'].mean()\n",
    "    print(\" AVerage ratings\")\n",
    "    print(\"-\"*30)\n",
    "    print(avg_week_df)\n",
    "    print('\\n')"
   ]
  },
  {
   "cell_type": "markdown",
   "metadata": {},
   "source": [
    "# Sample the data"
   ]
  },
  {
   "cell_type": "code",
   "execution_count": 10,
   "metadata": {},
   "outputs": [],
   "source": [
    "def sample_the_data_frame(df, num_users, num_movies):\n",
    "    \n",
    "    if os.path.exists('./data/Sampled_Deduped_Data.csv'):\n",
    "        df = pd.read_csv('./data/Sampled_Deduped_Data.csv', index_col=False)\n",
    "        return df\n",
    "        \n",
    "    \n",
    "    # get unique movies & users from the data frame\n",
    "    users_set = set(df['user'].tolist())\n",
    "    movies_set = set(df['movie'].tolist())\n",
    "    \n",
    "    # sample desired number of users & movies from the data frame\n",
    "    selected_users = list(set(random.sample(users_set, num_users)))\n",
    "    selected_movies = list(set(random.sample(movies_set, num_movies)))\n",
    "    \n",
    "    print('Number of sampled users:%d, number of sample movies:%d'%(len(selected_users),\n",
    "                                                                    len(selected_movies),))\n",
    "    \n",
    "    # 1. select based on users\n",
    "    #df_or = df[(df['user'].isin(selected_users)) | (df['movie'].isin(selected_movies))]\n",
    "    df_and = df[(df['user'].isin(selected_users)) & (df['movie'].isin(selected_movies))]\n",
    "    \n",
    "    df_and = df_and.sort_values(['date'], ascending=True)\n",
    "    \n",
    "    # write sampled data to disk\n",
    "    df_and.to_csv('./data/Sampled_Deduped_Data.csv', index=False)\n",
    "    \n",
    "    # \n",
    "    return df_and  "
   ]
  },
  {
   "cell_type": "code",
   "execution_count": 11,
   "metadata": {},
   "outputs": [],
   "source": [
    "df = sample_the_data_frame(df, num_users, num_movies)"
   ]
  },
  {
   "cell_type": "markdown",
   "metadata": {},
   "source": [
    "<h2>3.2 Spliting data into Train and Test(80:20) </h2>"
   ]
  },
  {
   "cell_type": "code",
   "execution_count": 12,
   "metadata": {},
   "outputs": [],
   "source": [
    "if os.path.exists('./data/DF_train.csv') and os.path.exists('./data/DF_test.csv'):\n",
    "    print('Train , Test files already exists !!!')\n",
    "    df_train = pd.read_csv('./data/DF_train.csv', index_col=False)\n",
    "    df_test = pd.read_csv('./data/DF_test.csv', index_col=False)\n",
    "else:\n",
    "    df_train, df_test = train_test_split(df, test_size=0.20, shuffle=False)\n",
    "    df_train.to_csv('./data/DF_train.csv', index=False)\n",
    "    df_test.to_csv('./data/DF_test.csv', index=False)"
   ]
  },
  {
   "cell_type": "markdown",
   "metadata": {},
   "source": [
    "<h3>3.2.1 Basic Statistics in Train data (#Ratings, #Users, and #Movies)</h3>"
   ]
  },
  {
   "cell_type": "code",
   "execution_count": 13,
   "metadata": {},
   "outputs": [
    {
     "name": "stdout",
     "output_type": "stream",
     "text": [
      "--------------------------------------------------\n",
      "Train Data Total no of ratings : 696736\n",
      "Train Data Total No of Users   : 20515\n",
      "Train Data Total No of movies  :  2726\n"
     ]
    },
    {
     "name": "stderr",
     "output_type": "stream",
     "text": [
      "/home/amd_3/anaconda3/lib/python3.6/site-packages/ipykernel_launcher.py:12: SettingWithCopyWarning: \n",
      "A value is trying to be set on a copy of a slice from a DataFrame.\n",
      "Try using .loc[row_indexer,col_indexer] = value instead\n",
      "\n",
      "See the caveats in the documentation: http://pandas.pydata.org/pandas-docs/stable/indexing.html#indexing-view-versus-copy\n",
      "  if sys.path[0] == '':\n",
      "/home/amd_3/anaconda3/lib/python3.6/site-packages/ipykernel_launcher.py:13: SettingWithCopyWarning: \n",
      "A value is trying to be set on a copy of a slice from a DataFrame.\n",
      "Try using .loc[row_indexer,col_indexer] = value instead\n",
      "\n",
      "See the caveats in the documentation: http://pandas.pydata.org/pandas-docs/stable/indexing.html#indexing-view-versus-copy\n",
      "  del sys.path[0]\n"
     ]
    },
    {
     "data": {
      "image/png": "[encoded data removed]",
      "text/plain": [
       "<Figure size 432x288 with 1 Axes>"
      ]
     },
     "metadata": {},
     "output_type": "display_data"
    },
    {
     "data": {
      "image/png": "[encoded data removed]",
      "text/plain": [
       "<Figure size 432x288 with 1 Axes>"
      ]
     },
     "metadata": {},
     "output_type": "display_data"
    },
    {
     "data": {
      "image/png": "[encoded data removed]",
      "text/plain": [
       "<Figure size 576x288 with 2 Axes>"
      ]
     },
     "metadata": {},
     "output_type": "display_data"
    },
    {
     "name": "stdout",
     "output_type": "stream",
     "text": [
      "Train Data Describe information :\n",
      "count    20515.000000\n",
      "mean        33.962272\n",
      "std         48.224927\n",
      "min          1.000000\n",
      "25%          6.000000\n",
      "50%         16.000000\n",
      "75%         42.000000\n",
      "max       1112.000000\n",
      "Name: rating, dtype: float64\n"
     ]
    },
    {
     "data": {
      "image/png": "[encoded data removed]",
      "text/plain": [
       "<Figure size 432x288 with 1 Axes>"
      ]
     },
     "metadata": {},
     "output_type": "display_data"
    },
    {
     "data": {
      "image/png": "[encoded data removed]",
      "text/plain": [
       "<Figure size 576x288 with 1 Axes>"
      ]
     },
     "metadata": {},
     "output_type": "display_data"
    },
    {
     "data": {
      "image/png": "[encoded data removed]",
      "text/plain": [
       "<Figure size 432x288 with 1 Axes>"
      ]
     },
     "metadata": {},
     "output_type": "display_data"
    },
    {
     "data": {
      "image/png": "[encoded data removed]",
      "text/plain": [
       "<Figure size 640x288 with 1 Axes>"
      ]
     },
     "metadata": {},
     "output_type": "display_data"
    },
    {
     "name": "stdout",
     "output_type": "stream",
     "text": [
      "Total time for plot :  0:00:38.845502\n",
      "Train Data - Average ratings per week day\n",
      " AVerage ratings\n",
      "------------------------------\n",
      "day_of_week\n",
      "Friday       3.581220\n",
      "Monday       3.580953\n",
      "Saturday     3.609983\n",
      "Sunday       3.592532\n",
      "Thursday     3.589330\n",
      "Tuesday      3.568810\n",
      "Wednesday    3.592213\n",
      "Name: rating, dtype: float64\n",
      "\n",
      "\n"
     ]
    }
   ],
   "source": [
    "basic_analysis(df_train, 'Train Data')"
   ]
  },
  {
   "cell_type": "markdown",
   "metadata": {},
   "source": [
    "<h3>3.2.2 Basic Statistics in Test data (#Ratings, #Users, and #Movies)</h3>"
   ]
  },
  {
   "cell_type": "code",
   "execution_count": 14,
   "metadata": {},
   "outputs": [
    {
     "name": "stdout",
     "output_type": "stream",
     "text": [
      "--------------------------------------------------\n",
      "Test Data Total no of ratings : 174185\n",
      "Test Data Total No of Users   : 14910\n",
      "Test Data Total No of movies  :  2348\n"
     ]
    },
    {
     "name": "stderr",
     "output_type": "stream",
     "text": [
      "/home/amd_3/anaconda3/lib/python3.6/site-packages/ipykernel_launcher.py:12: SettingWithCopyWarning: \n",
      "A value is trying to be set on a copy of a slice from a DataFrame.\n",
      "Try using .loc[row_indexer,col_indexer] = value instead\n",
      "\n",
      "See the caveats in the documentation: http://pandas.pydata.org/pandas-docs/stable/indexing.html#indexing-view-versus-copy\n",
      "  if sys.path[0] == '':\n",
      "/home/amd_3/anaconda3/lib/python3.6/site-packages/ipykernel_launcher.py:13: SettingWithCopyWarning: \n",
      "A value is trying to be set on a copy of a slice from a DataFrame.\n",
      "Try using .loc[row_indexer,col_indexer] = value instead\n",
      "\n",
      "See the caveats in the documentation: http://pandas.pydata.org/pandas-docs/stable/indexing.html#indexing-view-versus-copy\n",
      "  del sys.path[0]\n"
     ]
    },
    {
     "data": {
      "image/png": "[encoded data removed]",
      "text/plain": [
       "<Figure size 432x288 with 1 Axes>"
      ]
     },
     "metadata": {},
     "output_type": "display_data"
    },
    {
     "data": {
      "image/png": "[encoded data removed]",
      "text/plain": [
       "<Figure size 432x288 with 1 Axes>"
      ]
     },
     "metadata": {},
     "output_type": "display_data"
    },
    {
     "data": {
      "image/png": "[encoded data removed]",
      "text/plain": [
       "<Figure size 576x288 with 2 Axes>"
      ]
     },
     "metadata": {},
     "output_type": "display_data"
    },
    {
     "name": "stdout",
     "output_type": "stream",
     "text": [
      "Test Data Describe information :\n",
      "count    14910.000000\n",
      "mean        11.682428\n",
      "std         19.556655\n",
      "min          1.000000\n",
      "25%          3.000000\n",
      "50%          6.000000\n",
      "75%         12.000000\n",
      "max        793.000000\n",
      "Name: rating, dtype: float64\n"
     ]
    },
    {
     "data": {
      "image/png": "[encoded data removed]",
      "text/plain": [
       "<Figure size 432x288 with 1 Axes>"
      ]
     },
     "metadata": {},
     "output_type": "display_data"
    },
    {
     "data": {
      "image/png": "[encoded data removed]",
      "text/plain": [
       "<Figure size 576x288 with 1 Axes>"
      ]
     },
     "metadata": {},
     "output_type": "display_data"
    },
    {
     "data": {
      "image/png": "[encoded data removed]",
      "text/plain": [
       "<Figure size 432x288 with 1 Axes>"
      ]
     },
     "metadata": {},
     "output_type": "display_data"
    },
    {
     "data": {
      "image/png": "[encoded data removed]",
      "text/plain": [
       "<Figure size 640x288 with 1 Axes>"
      ]
     },
     "metadata": {},
     "output_type": "display_data"
    },
    {
     "name": "stdout",
     "output_type": "stream",
     "text": [
      "Total time for plot :  0:00:02.146961\n",
      "Test Data - Average ratings per week day\n",
      " AVerage ratings\n",
      "------------------------------\n",
      "day_of_week\n",
      "Friday       3.640968\n",
      "Monday       3.665373\n",
      "Saturday     3.689816\n",
      "Sunday       3.682455\n",
      "Thursday     3.674987\n",
      "Tuesday      3.655318\n",
      "Wednesday    3.678616\n",
      "Name: rating, dtype: float64\n",
      "\n",
      "\n"
     ]
    }
   ],
   "source": [
    "basic_analysis(df_test, 'Test Data')"
   ]
  },
  {
   "cell_type": "markdown",
   "metadata": {},
   "source": [
    "<h1> 3.3.8 Cold Start problem </h1>"
   ]
  },
  {
   "cell_type": "markdown",
   "metadata": {},
   "source": [
    "<h4> 3.3.8.1 Cold Start problem with Users</h4>"
   ]
  },
  {
   "cell_type": "code",
   "execution_count": 15,
   "metadata": {},
   "outputs": [
    {
     "name": "stdout",
     "output_type": "stream",
     "text": [
      "Number of unique users in the test dataset : 14910\n",
      "Number of new users (users present only in test data) :  4002\n",
      "Percentage of new users :  26.841046277665995\n"
     ]
    }
   ],
   "source": [
    "users_set_test = set(df_test['user'])\n",
    "new_users = users_set_test - set(df_train['user'])\n",
    "print('Number of unique users in the test dataset :', len(users_set_test))\n",
    "print('Number of new users (users present only in test data) : ', len(new_users))\n",
    "print('Percentage of new users : ', (len(new_users) * 100.0)/len(users_set_test))"
   ]
  },
  {
   "cell_type": "markdown",
   "metadata": {},
   "source": [
    "> We might have to handle __new users__ ( ___4002___ ) who didn't appear in train data."
   ]
  },
  {
   "cell_type": "markdown",
   "metadata": {},
   "source": [
    "<h4> 3.3.8.2 Cold Start problem with Movies</h4>"
   ]
  },
  {
   "cell_type": "code",
   "execution_count": 16,
   "metadata": {},
   "outputs": [
    {
     "name": "stdout",
     "output_type": "stream",
     "text": [
      "Number of unique movies in the test dataset : 2348\n",
      "Number of new movies (movies present only in test data) :  81\n",
      "Percentage of new movies :  3.4497444633730834\n"
     ]
    }
   ],
   "source": [
    "movies_set_test = set(df_test['movie'])\n",
    "new_movies = movies_set_test - set(df_train['movie'])\n",
    "print('Number of unique movies in the test dataset :', len(movies_set_test))\n",
    "print('Number of new movies (movies present only in test data) : ', len(new_movies))\n",
    "print('Percentage of new movies : ', (len(new_movies) * 100.0)/len(movies_set_test))"
   ]
  },
  {
   "cell_type": "markdown",
   "metadata": {},
   "source": [
    "> We might have to handle __81 movies__ (small comparatively) in test data"
   ]
  },
  {
   "cell_type": "markdown",
   "metadata": {},
   "source": [
    " <h1> 4.  Featurization </h1>"
   ]
  },
  {
   "cell_type": "markdown",
   "metadata": {},
   "source": [
    "-----------------------\n",
    "\n",
    "- __GAvg__ : Average rating of all the ratings \n",
    "\n",
    "\n",
    "- __Similar users rating of this movie__:\n",
    "    - sur1, sur2, sur3, sur4, sur5 ( top 5 similar users who rated that movie.. )\n",
    "    \n",
    "\n",
    "\n",
    "- __Similar movies rated by this user__:\n",
    "    - smr1, smr2, smr3, smr4, smr5 ( top 5 similar movies rated by this movie.. )\n",
    "\n",
    "\n",
    "- __UAvg__ : User's Average rating\n",
    "\n",
    "\n",
    "- __MAvg__ : Average rating of this movie\n",
    "\n",
    "\n",
    "- __rating__ : Rating of this movie by this user.\n",
    "\n",
    "-----------------------"
   ]
  },
  {
   "cell_type": "markdown",
   "metadata": {},
   "source": [
    "## Compute average dictionaries from the train data"
   ]
  },
  {
   "cell_type": "code",
   "execution_count": 116,
   "metadata": {},
   "outputs": [],
   "source": [
    "# 1. Global average  single scalar value eg: 3.7\n",
    "global_average = df_train['rating'].mean()\n",
    "\n",
    "# 2. Movie Wise average rating {movie_1 : 3.5, movie_9: 3.9 ...}\n",
    "movie_dict = dict(df_train.groupby(['movie'])['rating'].mean())\n",
    "\n",
    "# 3. User Wise average rating {user_1 : 3.1, user_9: 4.2 ... }\n",
    "user_dict = dict(df_train.groupby(['user'])['rating'].mean())\n",
    "\n",
    "# Get sparse matrix of train data\n",
    "train_sparse_matrix = sparse.csr_matrix((df_train.rating.values, \n",
    "                                        (df_train.user.values,\n",
    "                                         df_train.movie.values)),)"
   ]
  },
  {
   "cell_type": "code",
   "execution_count": 117,
   "metadata": {},
   "outputs": [],
   "source": [
    "def get_top_five_similar(similar_arg_array, key_elem):\n",
    "    \n",
    "    # declare a list for holding similar argument values\n",
    "    top_similar_args = list()\n",
    "    \n",
    "    for arg in similar_arg_array[::-1]:\n",
    "        # skip the element which is same as key element\n",
    "        if arg == key_elem:\n",
    "            continue\n",
    "        \n",
    "        # stop when we have found 5 elements\n",
    "        if len(top_similar_args) == 5:\n",
    "            return np.array(top_similar_args)\n",
    "        \n",
    "        # consider this arg as similar\n",
    "        else:\n",
    "            top_similar_args.append(arg)\n",
    "            \n",
    "            \n",
    "    return np.array(top_similar_args)"
   ]
  },
  {
   "cell_type": "code",
   "execution_count": 121,
   "metadata": {},
   "outputs": [],
   "source": [
    "def get_top_similar_entity(train_sparse_matrix, user_dict, movie_dict):\n",
    "    \n",
    "    # set path for similar entity dictioanry\n",
    "    sim_users_dict_path = './data/train_sim_users_dictionary.pkl'\n",
    "    sim_movies_dict_path = './data/train_sim_movies_dictionary.pkl'\n",
    "    \n",
    "    # if similar users dictionary exists return it\n",
    "    if os.path.exists(sim_users_dict_path):\n",
    "        print('Similar users dictioary pre exist !!!')\n",
    "        \n",
    "        #load model from disk\n",
    "        pickle_in = open(sim_users_dict_path, \"rb\")\n",
    "        sim_users_dict = pickle.load(pickle_in)\n",
    "        pickle_in.close()\n",
    "    \n",
    "    else:\n",
    "        \n",
    "        sim_users_dict = dict()\n",
    "        print(datetime.now(), 'Start time')\n",
    "\n",
    "        for index, user in enumerate(list(user_dict.keys())):\n",
    "            sim_user_array = cosine_similarity(train_sparse_matrix[user], \n",
    "                                               train_sparse_matrix).flatten()\n",
    "            sorted_arg_array = sim_user_array.argsort()\n",
    "            sim_users_dict[user] = get_top_five_similar(sorted_arg_array, user)\n",
    "            \n",
    "            if (index + 1) % 500 == 0:\n",
    "                print(datetime.now(), 'Processed %d users'%((index+1)*500,))\n",
    "\n",
    "        print(datetime.now(), 'End time')\n",
    "                      \n",
    "        # save model to disk\n",
    "        pickle_out = open(sim_users_dict_path,\"wb\")\n",
    "        pickle.dump(sim_users_dict, pickle_out)\n",
    "        pickle_out.close()\n",
    "        \n",
    "        \n",
    "    # if similar users dictionary exists return it\n",
    "    if os.path.exists(sim_movies_dict_path):\n",
    "        \n",
    "        print('Similar movies dictioary pre exist !!!')\n",
    "        \n",
    "        #load model from disk\n",
    "        pickle_in = open(sim_movies_dict_path, \"rb\")\n",
    "        sim_movies_dict = pickle.load(pickle_in)\n",
    "        pickle_in.close()\n",
    "        \n",
    "    else:\n",
    "                      \n",
    "        # Get movie similarity matrix\n",
    "        movie_sim_matrix = cosine_similarity(train_sparse_matrix.T)\n",
    "\n",
    "        # Get the indices of top 5 similar movies for each movie\n",
    "        movie_sim_matrix = movie_sim_matrix.argsort(axis=1)\n",
    "                      \n",
    "        sim_movies_dict = dict()\n",
    "                      \n",
    "        for movie in list(movie_dict.keys()):\n",
    "            sim_movies_dict[movie] = get_top_five_similar(movie_sim_matrix[movie], \n",
    "                                                          movie)\n",
    "                      \n",
    "        # save model to disk\n",
    "        pickle_out = open(sim_movies_dict_path, \"wb\")\n",
    "        pickle.dump(sim_movies_dict, pickle_out)\n",
    "        pickle_out.close()\n",
    "                      \n",
    "                      \n",
    "    return (sim_users_dict, sim_movies_dict,)"
   ]
  },
  {
   "cell_type": "code",
   "execution_count": 122,
   "metadata": {},
   "outputs": [
    {
     "name": "stdout",
     "output_type": "stream",
     "text": [
      "Similar users dictioary pre exist !!!\n",
      "Similar movies dictioary pre exist !!!\n"
     ]
    }
   ],
   "source": [
    "sim_users_dict, sim_movies_dict = get_top_similar_entity(train_sparse_matrix, user_dict, movie_dict)"
   ]
  },
  {
   "cell_type": "markdown",
   "metadata": {},
   "source": [
    "%%HTML\n",
    "<ol>\n",
    "<li> new user & new movie </li>\n",
    "<li> new user & old movie </li>\n",
    "<li> old user & new movie </li>\n",
    "<li> old user & old movie # this is the best case </li>\n",
    "</ol>\n",
    "\n",
    "<ul>\n",
    "<li> If user is present we can get his/her most similar users</li>\n",
    "<li> If movie is present we can get its most similar movies </li>\n",
    "<li> Inorder to create featue vector we need both the user & movie present in the train data. If either of\n",
    "     is missing, we can substitute the avergae rating values of user, movie.</li>\n",
    "</ul>"
   ]
  },
  {
   "cell_type": "code",
   "execution_count": 126,
   "metadata": {},
   "outputs": [],
   "source": [
    "def featurize_movie_data(df, partition, train_sparse_matrix):\n",
    "    \n",
    "    if os.path.exists('./data/Final_' + partition + '.csv'):\n",
    "        print('File: ' + './data/Final_' + partition + '.csv already created !!!')\n",
    "        return\n",
    "    \n",
    "    # open the file for final train data\n",
    "    reg_file = open('./data/Final_' + partition + '.csv', mode='w')\n",
    "    \n",
    "    print('Shape of input data :', df.shape)\n",
    "    \n",
    "    users_df_count = 0\n",
    "    \n",
    "    # do by grouping on user # this is to speedup the computation\n",
    "    for user, user_df in df.groupby(['user']):\n",
    "        \n",
    "        # check user, movie is present or not\n",
    "        try:\n",
    "            avg_user_rating = user_dict[user]\n",
    "            user_present = True\n",
    "            # get the top 5 similar users of this user\n",
    "            top_similar_users = sim_users_dict[user]\n",
    "            \n",
    "        except KeyError: # IndexError\n",
    "            user_present = False\n",
    "            \n",
    "        except:\n",
    "            print('Error in processing user : ', user)\n",
    "            continue     \n",
    "            \n",
    "        # iterate over each row in the user data frame\n",
    "        for index, row in user_df.iterrows():\n",
    "            \n",
    "            # test whether the movie is present or not\n",
    "            try:\n",
    "                avg_movie_rating = movie_dict[row.movie]\n",
    "                movie_present = True\n",
    "                top_similar_movies = sim_movies_dict[row.movie]\n",
    "            except KeyError: # IndexError\n",
    "                movie_present = False\n",
    "            except:\n",
    "                print('Error in processing movie : ', row.movie)\n",
    "                continue\n",
    "                \n",
    "            # Proceed based on user present, movie present\n",
    "\n",
    "            # Case 1: both user & movie not present\n",
    "            if (not user_present) and (not movie_present):\n",
    "                # substitute global average irrespective of user, movie\n",
    "                top_sim_user_ratings = [global_average] * 5\n",
    "                top_sim_movie_ratings = [global_average] * 5\n",
    "                avg_movie_rating = global_average\n",
    "                avg_user_rating = global_average\n",
    "\n",
    "            # Case 2: user present but movie not present\n",
    "            elif (user_present) and (not movie_present):\n",
    "                # substitute sim user rating with avg rating of its similar users to any movie\n",
    "                top_sim_user_ratings = [user_dict.get(sim_user, global_average) for \n",
    "                                        sim_user in top_similar_users]\n",
    "                top_sim_movie_ratings = [global_average] * 5\n",
    "                avg_movie_rating = global_average\n",
    "\n",
    "            # Case 3: user not present but movie present\n",
    "            elif (not user_present) and (movie_present):\n",
    "                # substitute sim movies rating with avg rating of its similar movies by any user\n",
    "                top_sim_movie_ratings = [movie_dict.get(sim_movie, global_average) for \n",
    "                                         sim_movie in top_similar_movies]\n",
    "                top_sim_user_ratings = [global_average] * 5\n",
    "                avg_user_rating = global_average\n",
    "\n",
    "            # Case 4: user present & movie present (best case)\n",
    "            else:\n",
    "                # ========== Get top user based rating feature ==========================\n",
    "                # get the ratings of most similar users for this movie\n",
    "                top_sim_user_ratings = train_sparse_matrix[top_similar_users, \n",
    "                                                           row.movie].toarray().flatten()\n",
    "\n",
    "                # repalce zero ratings by the average rating for that movie by all users\n",
    "                top_sim_user_ratings[top_sim_user_ratings==0] = movie_dict[row.movie]\n",
    "\n",
    "\n",
    "                # ========== Get top movie based rating feature ==========================\n",
    "                top_sim_movie_ratings = train_sparse_matrix[user, \n",
    "                                            top_similar_movies].toarray().flatten()\n",
    "\n",
    "                # repalce zero ratings by the average rating for that movie by all users\n",
    "                top_sim_movie_ratings[top_sim_movie_ratings==0] = user_dict[user]\n",
    "                \n",
    "                # convert to list\n",
    "                top_sim_user_ratings = list(top_sim_user_ratings)\n",
    "                top_sim_movie_ratings = list(top_sim_movie_ratings)\n",
    "                \n",
    "               \n",
    "            \n",
    "            # Prepare the vector\n",
    "            feat_vector = [row.date, row.user, row.movie] + \\\n",
    "                          top_sim_user_ratings + \\\n",
    "                          top_sim_movie_ratings + \\\n",
    "                          [global_average, avg_user_rating, \n",
    "                          avg_movie_rating, row.rating]\n",
    "            \n",
    "            \n",
    "            feat_vector = [str(item) for item in feat_vector]\n",
    "            current_row = (','.join(feat_vector)) + '\\n' \n",
    "            \n",
    "            # write the row to disk\n",
    "            reg_file.write(current_row)\n",
    "        \n",
    "        # update the user count\n",
    "        users_df_count = users_df_count + 1\n",
    "            \n",
    "        if (users_df_count % 4000) == 0:\n",
    "            print(datetime.now(), ' Processed %d users '%(users_df_count,))\n",
    "           \n",
    "\n",
    "    # close the file to complete the writing\n",
    "    reg_file.close()\n",
    "    \n",
    "    # set column names\n",
    "    col_names = ['date', 'user', 'movie', 'sur1', 'sur2', 'sur3', 'sur4', 'sur5', \n",
    "                 'smr1', 'smr2', 'smr3', 'smr4', 'smr5', \n",
    "                 'Gavg','UAvg', 'MAvg', 'rating']\n",
    "    \n",
    "    # read dataframe from disk\n",
    "    df = pd.read_csv('./data/Final_' + partition + '.csv', \n",
    "                       index_col=False , names=col_names)\n",
    "    \n",
    "    # write to disk\n",
    "    df.to_csv('./data/Final_' + partition + '.csv', index=False)\n",
    "    \n",
    "    print('Sample data frame ' + partition + ':\\n', df.head())\n",
    "    \n",
    "    \n",
    "    print(datetime.now(), ' Created final ' + partition + ' data !!!')"
   ]
  },
  {
   "cell_type": "code",
   "execution_count": 128,
   "metadata": {},
   "outputs": [
    {
     "name": "stdout",
     "output_type": "stream",
     "text": [
      "Shape of input data : (696736, 5)\n",
      "2019-06-23 23:41:31.567885  Processed 4000 users \n",
      "2019-06-23 23:43:58.308912  Processed 8000 users \n",
      "2019-06-23 23:46:11.615666  Processed 12000 users \n",
      "2019-06-23 23:48:27.946312  Processed 16000 users \n",
      "2019-06-23 23:50:35.842992  Processed 20000 users \n",
      "Sample data frame Train:\n",
      "                   date  user  movie  sur1  sur2  sur3  sur4  sur5  smr1  smr2  \\\n",
      "0  2005-06-13 00:00:00   296   4640     4     4     3     4     5     3     3   \n",
      "1  2005-06-13 00:00:00   296   6902     3     3     3     3     3     3     3   \n",
      "2  2005-06-13 00:00:00   296  10359     5     3     3     3     3     3     3   \n",
      "3  2005-02-07 00:00:00   308  13471     3     3     3     4     3     2     2   \n",
      "4  2005-02-07 00:00:00   308   7635     3     4     4     2     2     2     2   \n",
      "\n",
      "   smr3  smr4  smr5      Gavg      UAvg      MAvg  rating  \n",
      "0     3     3     3  3.586035  3.333333  4.110700       5  \n",
      "1     3     3     3  3.586035  3.333333  3.755409       2  \n",
      "2     3     3     3  3.586035  3.333333  3.256491       3  \n",
      "3     2     2     2  3.586035  2.666667  3.421661       2  \n",
      "4     2     2     2  3.586035  2.666667  2.865879       3  \n",
      "2019-06-23 23:51:05.985469  Created final Train data !!!\n"
     ]
    }
   ],
   "source": [
    "# prepare train data\n",
    "featurize_movie_data(df_train, 'Train', train_sparse_matrix)"
   ]
  },
  {
   "cell_type": "code",
   "execution_count": 129,
   "metadata": {},
   "outputs": [
    {
     "name": "stdout",
     "output_type": "stream",
     "text": [
      "Shape of input data : (174185, 5)\n",
      "2019-06-23 23:51:36.627871  Processed 4000 users \n",
      "2019-06-23 23:52:07.239045  Processed 8000 users \n",
      "2019-06-23 23:52:37.075862  Processed 12000 users \n",
      "Sample data frame Test:\n",
      "                   date  user  movie      sur1      sur2      sur3      sur4  \\\n",
      "0  2005-12-16 00:00:00   177  12470  3.586035  3.586035  3.586035  3.586035   \n",
      "1  2005-12-16 00:00:00   177  10359  3.586035  3.586035  3.586035  3.586035   \n",
      "2  2005-12-16 00:00:00   177  17169  3.586035  3.586035  3.586035  3.586035   \n",
      "3  2005-12-16 00:00:00   177  13651  3.586035  3.586035  3.586035  3.586035   \n",
      "4  2005-12-16 00:00:00   177  17324  3.586035  3.586035  3.586035  3.586035   \n",
      "\n",
      "       sur5      smr1      smr2      smr3      smr4      smr5      Gavg  \\\n",
      "0  3.586035  3.690944  3.451161  3.692144  3.358638  3.330142  3.586035   \n",
      "1  3.586035  3.823619  3.545988  3.255159  3.585621  3.539228  3.586035   \n",
      "2  3.586035  3.945255  4.328924  4.145440  3.374704  3.589595  3.586035   \n",
      "3  3.586035  3.409039  3.690944  3.741748  3.765557  3.330142  3.586035   \n",
      "4  3.586035  3.912706  3.589595  3.308271  4.112702  3.129618  3.586035   \n",
      "\n",
      "       UAvg      MAvg  rating  \n",
      "0  3.586035  3.409039       3  \n",
      "1  3.586035  3.256491       3  \n",
      "2  3.586035  3.912706       4  \n",
      "3  3.586035  3.692144       3  \n",
      "4  3.586035  3.945255       3  \n",
      "2019-06-23 23:53:04.333774  Created final Test data !!!\n"
     ]
    }
   ],
   "source": [
    "# prepare test data\n",
    "featurize_movie_data(df_test, 'Test', train_sparse_matrix)"
   ]
  },
  {
   "cell_type": "markdown",
   "metadata": {},
   "source": [
    "# Procedure Summary"
   ]
  },
  {
   "cell_type": "markdown",
   "metadata": {},
   "source": [
    "<ul>\n",
    "<li> Dataframe is preapraed from the raw text files </li>\n",
    "<li> Basic EDA such as distribution, count statistics is done on the prepared dataset </li>\n",
    "<li> Sample of 25K users & 3K movies is taken </li>\n",
    "<li> Dataset is partitioned into train, test set based on time stamp </li>\n",
    "<li> Cold start problem is handled by substituting the global average value & based on other similarity \n",
    "     information </li>\n",
    "<li> Features are created using the similarity metrics</li>\n",
    "</ul>"
   ]
  },
  {
   "cell_type": "markdown",
   "metadata": {},
   "source": [
    "# Conclusion"
   ]
  },
  {
   "cell_type": "markdown",
   "metadata": {},
   "source": [
    "<ul>\n",
    "<li> The train, test dataset is prepared using the similarity features </li>\n",
    "<li> Cold start problem is handled by similarity metric & global average rating value </li>\n",
    "</ul>"
   ]
  }
 ],
 "metadata": {
  "kernelspec": {
   "display_name": "Python 3",
   "language": "python",
   "name": "python3"
  },
  "language_info": {
   "codemirror_mode": {
    "name": "ipython",
    "version": 3
   },
   "file_extension": ".py",
   "mimetype": "text/x-python",
   "name": "python",
   "nbconvert_exporter": "python",
   "pygments_lexer": "ipython3",
   "version": "3.6.5"
  }
 },
 "nbformat": 4,
 "nbformat_minor": 2
}
