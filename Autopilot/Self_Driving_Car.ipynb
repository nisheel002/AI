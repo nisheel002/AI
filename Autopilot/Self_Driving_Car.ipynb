{
 "cells": [
  {
   "cell_type": "code",
   "execution_count": 1,
   "metadata": {
    "scrolled": true
   },
   "outputs": [],
   "source": [
    "# import general purpose models\n",
    "import pandas as pd\n",
    "import numpy as np\n",
    "import os\n",
    "import math\n",
    "from datetime import datetime\n",
    "\n",
    "# package for train and test split\n",
    "from sklearn.model_selection import train_test_split\n",
    "\n",
    "# model evaluation package\n",
    "from sklearn.metrics import mean_squared_error\n",
    "\n",
    "# import model related packages\n",
    "import tensorflow as tf\n",
    "from tensorflow.core.protobuf import saver_pb2\n",
    "import cv2\n",
    "\n",
    "# plot related packages\n",
    "import matplotlib.pyplot as plt\n",
    "import seaborn as sns\n",
    "sns.set()\n",
    "\n",
    "# for preparing tables for Results\n",
    "from prettytable import PrettyTable"
   ]
  },
  {
   "cell_type": "markdown",
   "metadata": {},
   "source": [
    "# Configs"
   ]
  },
  {
   "cell_type": "code",
   "execution_count": 2,
   "metadata": {},
   "outputs": [],
   "source": [
    "base_dir = '/media/amd_3/20DAD539DAD50BC2/DSET_REPO/DataSets/CS09_SELF_DRIVING_CAR/driving_dataset'\n",
    "# op to write logs to Tensorboard\n",
    "logs_dir = './model/logs'\n",
    "save_dir = './model/save'\n",
    "\n",
    "# set number of epochs & batch size\n",
    "num_epochs = 50\n",
    "batch_size = 128\n",
    "\n",
    "# set the number of samples for train\n",
    "data_set_size = -1 # -1 for entire dataset\n",
    "\n",
    "mp4_output_name = './results/driving_video.mp4'"
   ]
  },
  {
   "cell_type": "markdown",
   "metadata": {},
   "source": [
    "# Load dataset"
   ]
  },
  {
   "cell_type": "code",
   "execution_count": 3,
   "metadata": {},
   "outputs": [],
   "source": [
    "def create_path_df(base_dir):\n",
    "\n",
    "    # declare two lists for input path, label value\n",
    "    xs = list()\n",
    "    ys = list()\n",
    "    \n",
    "    #read data.txt\n",
    "    with open(os.path.join(base_dir, 'data.txt')) as f:\n",
    "        for line in f:\n",
    "            # get the image path\n",
    "            xs.append(os.path.join(base_dir, line.split()[0]))\n",
    "            # convert the angle to radian value\n",
    "            ys.append(float(line.split()[1]))\n",
    "\n",
    "    # create a path df and order its column\n",
    "    path_df = pd.DataFrame({'Path' : xs, 'Label' : ys}, index=range(len(ys)))\n",
    "    path_df = path_df[['Path', 'Label']]\n",
    "    \n",
    "\n",
    "    print('Total images: ', path_df.shape[0])\n",
    "\n",
    "    return path_df"
   ]
  },
  {
   "cell_type": "code",
   "execution_count": 4,
   "metadata": {},
   "outputs": [],
   "source": [
    "def load_batch(df, batch_index, batch_size):\n",
    "    \n",
    "    # declare a list for holding input images\n",
    "    x_out = list()\n",
    "    \n",
    "    # slice the data frame to required images\n",
    "    start_index = batch_index * batch_size\n",
    "    end_index = start_index + batch_size\n",
    "    \n",
    "    #print('Start & End index', start_index, end_index)\n",
    "    \n",
    "    temp_df = df.iloc[start_index : end_index, :]\n",
    "    \n",
    "    # load the images corresponding to the path in the temp_df\n",
    "    y_out = temp_df['Label'].tolist()\n",
    "    \n",
    "    # fetch images one by one\n",
    "    for index, row in temp_df.iterrows():\n",
    "        # read the image & crop it\n",
    "        #img = scipy.misc.imread(row.Path)[-150:]\n",
    "        img = cv2.imread(row.Path)[-150:]\n",
    "        # resize image & normalize it\n",
    "        #img = scipy.misc.imresize(img, [66, 200]) / 255.0\n",
    "        img = cv2.resize(img, (200, 66,)) / 255.0\n",
    "        # append to list\n",
    "        x_out.append(img)\n",
    "        \n",
    "    return x_out, y_out   "
   ]
  },
  {
   "cell_type": "code",
   "execution_count": 5,
   "metadata": {},
   "outputs": [
    {
     "name": "stdout",
     "output_type": "stream",
     "text": [
      "Total images:  45406\n"
     ]
    },
    {
     "data": {
      "text/html": [
       "<div>\n",
       "<style scoped>\n",
       "    .dataframe tbody tr th:only-of-type {\n",
       "        vertical-align: middle;\n",
       "    }\n",
       "\n",
       "    .dataframe tbody tr th {\n",
       "        vertical-align: top;\n",
       "    }\n",
       "\n",
       "    .dataframe thead th {\n",
       "        text-align: right;\n",
       "    }\n",
       "</style>\n",
       "<table border=\"1\" class=\"dataframe\">\n",
       "  <thead>\n",
       "    <tr style=\"text-align: right;\">\n",
       "      <th></th>\n",
       "      <th>Path</th>\n",
       "      <th>Label</th>\n",
       "    </tr>\n",
       "  </thead>\n",
       "  <tbody>\n",
       "    <tr>\n",
       "      <th>0</th>\n",
       "      <td>/media/amd_3/20DAD539DAD50BC2/DSET_REPO/DataSe...</td>\n",
       "      <td>0.0</td>\n",
       "    </tr>\n",
       "    <tr>\n",
       "      <th>1</th>\n",
       "      <td>/media/amd_3/20DAD539DAD50BC2/DSET_REPO/DataSe...</td>\n",
       "      <td>0.0</td>\n",
       "    </tr>\n",
       "    <tr>\n",
       "      <th>2</th>\n",
       "      <td>/media/amd_3/20DAD539DAD50BC2/DSET_REPO/DataSe...</td>\n",
       "      <td>0.0</td>\n",
       "    </tr>\n",
       "    <tr>\n",
       "      <th>3</th>\n",
       "      <td>/media/amd_3/20DAD539DAD50BC2/DSET_REPO/DataSe...</td>\n",
       "      <td>0.0</td>\n",
       "    </tr>\n",
       "    <tr>\n",
       "      <th>4</th>\n",
       "      <td>/media/amd_3/20DAD539DAD50BC2/DSET_REPO/DataSe...</td>\n",
       "      <td>0.0</td>\n",
       "    </tr>\n",
       "  </tbody>\n",
       "</table>\n",
       "</div>"
      ],
      "text/plain": [
       "                                                Path  Label\n",
       "0  /media/amd_3/20DAD539DAD50BC2/DSET_REPO/DataSe...    0.0\n",
       "1  /media/amd_3/20DAD539DAD50BC2/DSET_REPO/DataSe...    0.0\n",
       "2  /media/amd_3/20DAD539DAD50BC2/DSET_REPO/DataSe...    0.0\n",
       "3  /media/amd_3/20DAD539DAD50BC2/DSET_REPO/DataSe...    0.0\n",
       "4  /media/amd_3/20DAD539DAD50BC2/DSET_REPO/DataSe...    0.0"
      ]
     },
     "execution_count": 5,
     "metadata": {},
     "output_type": "execute_result"
    }
   ],
   "source": [
    "path_df = create_path_df(base_dir)\n",
    "path_df.head()"
   ]
  },
  {
   "cell_type": "code",
   "execution_count": 6,
   "metadata": {},
   "outputs": [
    {
     "name": "stdout",
     "output_type": "stream",
     "text": [
      "Angles in (Degree) Minimum : -159.930000, Maximum : 501.780000\n"
     ]
    }
   ],
   "source": [
    "print('Angles in (Degree) Minimum : %f, Maximum : %f'%(path_df['Label'].min(), \n",
    "                                                       path_df['Label'].max()))"
   ]
  },
  {
   "cell_type": "code",
   "execution_count": 7,
   "metadata": {},
   "outputs": [
    {
     "data": {
      "image/png": "[encoded data removed]",
      "text/plain": [
       "<Figure size 432x288 with 1 Axes>"
      ]
     },
     "metadata": {},
     "output_type": "display_data"
    }
   ],
   "source": [
    "plt.plot(path_df['Label'])\n",
    "plt.xlabel('Image Number')\n",
    "plt.ylabel('Angle (in Degrees)')\n",
    "plt.title('Distribution of Angle (in Degrees)')\n",
    "plt.show()"
   ]
  },
  {
   "cell_type": "code",
   "execution_count": 8,
   "metadata": {},
   "outputs": [
    {
     "data": {
      "image/png": "[encoded data removed]",
      "text/plain": [
       "<Figure size 432x288 with 1 Axes>"
      ]
     },
     "metadata": {},
     "output_type": "display_data"
    }
   ],
   "source": [
    "# pick only those angles which is less than 720 degrees (2 rounds of rotation)\n",
    "path_df = path_df[abs(path_df['Label']) <= 720]\n",
    "sns.boxplot(data = path_df, y='Label')\n",
    "plt.ylabel('Angle (Degree)')\n",
    "plt.title('Quantiles of Angle')\n",
    "plt.show()"
   ]
  },
  {
   "cell_type": "code",
   "execution_count": 9,
   "metadata": {},
   "outputs": [
    {
     "name": "stdout",
     "output_type": "stream",
     "text": [
      " 0.000000 Percentile = -159.930000\n",
      " 10.000000 Percentile = -18.660000\n",
      " 20.000000 Percentile = -9.380000\n",
      " 30.000000 Percentile = -2.320000\n",
      " 40.000000 Percentile = 0.000000\n",
      " 50.000000 Percentile = 1.010000\n",
      " 60.000000 Percentile = 2.420000\n",
      " 70.000000 Percentile = 6.350000\n",
      " 80.000000 Percentile = 11.500000\n",
      " 90.000000 Percentile = 21.980000\n"
     ]
    }
   ],
   "source": [
    "angle_series = path_df['Label']\n",
    "for percentile in np.arange(0, 1, 0.1):\n",
    "    per_value = angle_series.quantile(q=percentile)\n",
    "    print(' %f Percentile = %f'%(percentile * 100.0, per_value,))"
   ]
  },
  {
   "cell_type": "code",
   "execution_count": 10,
   "metadata": {},
   "outputs": [
    {
     "name": "stdout",
     "output_type": "stream",
     "text": [
      " 90.000000 Percentile = 21.980000\n",
      " 91.000000 Percentile = 23.700000\n",
      " 92.000000 Percentile = 25.920000\n",
      " 93.000000 Percentile = 27.930000\n",
      " 94.000000 Percentile = 30.026000\n",
      " 95.000000 Percentile = 34.590000\n",
      " 96.000000 Percentile = 42.760000\n",
      " 97.000000 Percentile = 51.030000\n",
      " 98.000000 Percentile = 65.850000\n",
      " 99.000000 Percentile = 99.605000\n"
     ]
    }
   ],
   "source": [
    "angle_series = path_df['Label']\n",
    "for percentile in np.arange(0.9, 1.0, 0.01):\n",
    "    per_value = angle_series.quantile(q=percentile)\n",
    "    print(' %f Percentile = %f'%(percentile * 100.0, per_value,))"
   ]
  },
  {
   "cell_type": "code",
   "execution_count": 11,
   "metadata": {},
   "outputs": [
    {
     "name": "stdout",
     "output_type": "stream",
     "text": [
      " 99.000000 Percentile = 99.605000\n",
      " 99.100000 Percentile = 113.414550\n",
      " 99.200000 Percentile = 136.121600\n",
      " 99.300000 Percentile = 149.750000\n",
      " 99.400000 Percentile = 166.690000\n",
      " 99.500000 Percentile = 177.768250\n",
      " 99.600000 Percentile = 190.690000\n",
      " 99.700000 Percentile = 200.648500\n",
      " 99.800000 Percentile = 217.820000\n",
      " 99.900000 Percentile = 245.760900\n",
      " 100.000000 Percentile = 501.780000\n"
     ]
    }
   ],
   "source": [
    "angle_series = path_df['Label']\n",
    "for percentile in np.arange(0.99, 1.0, 0.001):\n",
    "    per_value = angle_series.quantile(q=percentile)\n",
    "    print(' %f Percentile = %f'%(percentile * 100.0, per_value,))"
   ]
  },
  {
   "cell_type": "markdown",
   "metadata": {},
   "source": [
    "<h3> Observations </h3>\n",
    "<ul>\n",
    "<li> The steering angles at the begining is very large compared to the other . This is expected as the \n",
    "     vehicle just stated to move </li>\n",
    "</ul>"
   ]
  },
  {
   "cell_type": "markdown",
   "metadata": {},
   "source": [
    "# Convert Angle from Degree to Radian "
   ]
  },
  {
   "cell_type": "code",
   "execution_count": 12,
   "metadata": {},
   "outputs": [],
   "source": [
    "# convert the data to radian\n",
    "scaling_factor = np.pi / 180\n",
    "path_df['Label'] = path_df['Label'] * scaling_factor"
   ]
  },
  {
   "cell_type": "markdown",
   "metadata": {},
   "source": [
    "# Train , Validation, Test split of the Data"
   ]
  },
  {
   "cell_type": "code",
   "execution_count": 13,
   "metadata": {},
   "outputs": [],
   "source": [
    "if data_set_size > 0:\n",
    "    path_df = path_df.iloc[0:data_set_size]\n",
    "    \n",
    "train_df, test_df = train_test_split(path_df, test_size=0.30, shuffle=False)\n",
    "train_df, val_df = train_test_split(train_df, test_size=0.20, shuffle=False)"
   ]
  },
  {
   "cell_type": "code",
   "execution_count": 14,
   "metadata": {},
   "outputs": [
    {
     "name": "stdout",
     "output_type": "stream",
     "text": [
      "Number of samples in train data:  25427\n",
      "Number of samples in  validation data:  6357\n",
      "Number of samples in  test data:  13622\n"
     ]
    }
   ],
   "source": [
    "print('Number of samples in train data: ', train_df.shape[0])\n",
    "print('Number of samples in  validation data: ', val_df.shape[0])\n",
    "print('Number of samples in  test data: ', test_df.shape[0])"
   ]
  },
  {
   "cell_type": "code",
   "execution_count": 15,
   "metadata": {},
   "outputs": [
    {
     "data": {
      "text/html": [
       "<div>\n",
       "<style scoped>\n",
       "    .dataframe tbody tr th:only-of-type {\n",
       "        vertical-align: middle;\n",
       "    }\n",
       "\n",
       "    .dataframe tbody tr th {\n",
       "        vertical-align: top;\n",
       "    }\n",
       "\n",
       "    .dataframe thead th {\n",
       "        text-align: right;\n",
       "    }\n",
       "</style>\n",
       "<table border=\"1\" class=\"dataframe\">\n",
       "  <thead>\n",
       "    <tr style=\"text-align: right;\">\n",
       "      <th></th>\n",
       "      <th>Path</th>\n",
       "      <th>Label</th>\n",
       "    </tr>\n",
       "  </thead>\n",
       "  <tbody>\n",
       "    <tr>\n",
       "      <th>0</th>\n",
       "      <td>/media/amd_3/20DAD539DAD50BC2/DSET_REPO/DataSe...</td>\n",
       "      <td>0.0</td>\n",
       "    </tr>\n",
       "    <tr>\n",
       "      <th>1</th>\n",
       "      <td>/media/amd_3/20DAD539DAD50BC2/DSET_REPO/DataSe...</td>\n",
       "      <td>0.0</td>\n",
       "    </tr>\n",
       "    <tr>\n",
       "      <th>2</th>\n",
       "      <td>/media/amd_3/20DAD539DAD50BC2/DSET_REPO/DataSe...</td>\n",
       "      <td>0.0</td>\n",
       "    </tr>\n",
       "    <tr>\n",
       "      <th>3</th>\n",
       "      <td>/media/amd_3/20DAD539DAD50BC2/DSET_REPO/DataSe...</td>\n",
       "      <td>0.0</td>\n",
       "    </tr>\n",
       "    <tr>\n",
       "      <th>4</th>\n",
       "      <td>/media/amd_3/20DAD539DAD50BC2/DSET_REPO/DataSe...</td>\n",
       "      <td>0.0</td>\n",
       "    </tr>\n",
       "  </tbody>\n",
       "</table>\n",
       "</div>"
      ],
      "text/plain": [
       "                                                Path  Label\n",
       "0  /media/amd_3/20DAD539DAD50BC2/DSET_REPO/DataSe...    0.0\n",
       "1  /media/amd_3/20DAD539DAD50BC2/DSET_REPO/DataSe...    0.0\n",
       "2  /media/amd_3/20DAD539DAD50BC2/DSET_REPO/DataSe...    0.0\n",
       "3  /media/amd_3/20DAD539DAD50BC2/DSET_REPO/DataSe...    0.0\n",
       "4  /media/amd_3/20DAD539DAD50BC2/DSET_REPO/DataSe...    0.0"
      ]
     },
     "execution_count": 15,
     "metadata": {},
     "output_type": "execute_result"
    }
   ],
   "source": [
    "train_df.head()"
   ]
  },
  {
   "cell_type": "code",
   "execution_count": 16,
   "metadata": {},
   "outputs": [
    {
     "data": {
      "text/html": [
       "<div>\n",
       "<style scoped>\n",
       "    .dataframe tbody tr th:only-of-type {\n",
       "        vertical-align: middle;\n",
       "    }\n",
       "\n",
       "    .dataframe tbody tr th {\n",
       "        vertical-align: top;\n",
       "    }\n",
       "\n",
       "    .dataframe thead th {\n",
       "        text-align: right;\n",
       "    }\n",
       "</style>\n",
       "<table border=\"1\" class=\"dataframe\">\n",
       "  <thead>\n",
       "    <tr style=\"text-align: right;\">\n",
       "      <th></th>\n",
       "      <th>Path</th>\n",
       "      <th>Label</th>\n",
       "    </tr>\n",
       "  </thead>\n",
       "  <tbody>\n",
       "    <tr>\n",
       "      <th>25427</th>\n",
       "      <td>/media/amd_3/20DAD539DAD50BC2/DSET_REPO/DataSe...</td>\n",
       "      <td>-0.144339</td>\n",
       "    </tr>\n",
       "    <tr>\n",
       "      <th>25428</th>\n",
       "      <td>/media/amd_3/20DAD539DAD50BC2/DSET_REPO/DataSe...</td>\n",
       "      <td>-0.140848</td>\n",
       "    </tr>\n",
       "    <tr>\n",
       "      <th>25429</th>\n",
       "      <td>/media/amd_3/20DAD539DAD50BC2/DSET_REPO/DataSe...</td>\n",
       "      <td>-0.140848</td>\n",
       "    </tr>\n",
       "    <tr>\n",
       "      <th>25430</th>\n",
       "      <td>/media/amd_3/20DAD539DAD50BC2/DSET_REPO/DataSe...</td>\n",
       "      <td>-0.139103</td>\n",
       "    </tr>\n",
       "    <tr>\n",
       "      <th>25431</th>\n",
       "      <td>/media/amd_3/20DAD539DAD50BC2/DSET_REPO/DataSe...</td>\n",
       "      <td>-0.139103</td>\n",
       "    </tr>\n",
       "  </tbody>\n",
       "</table>\n",
       "</div>"
      ],
      "text/plain": [
       "                                                    Path     Label\n",
       "25427  /media/amd_3/20DAD539DAD50BC2/DSET_REPO/DataSe... -0.144339\n",
       "25428  /media/amd_3/20DAD539DAD50BC2/DSET_REPO/DataSe... -0.140848\n",
       "25429  /media/amd_3/20DAD539DAD50BC2/DSET_REPO/DataSe... -0.140848\n",
       "25430  /media/amd_3/20DAD539DAD50BC2/DSET_REPO/DataSe... -0.139103\n",
       "25431  /media/amd_3/20DAD539DAD50BC2/DSET_REPO/DataSe... -0.139103"
      ]
     },
     "execution_count": 16,
     "metadata": {},
     "output_type": "execute_result"
    }
   ],
   "source": [
    "val_df.head()"
   ]
  },
  {
   "cell_type": "code",
   "execution_count": 17,
   "metadata": {},
   "outputs": [
    {
     "data": {
      "text/html": [
       "<div>\n",
       "<style scoped>\n",
       "    .dataframe tbody tr th:only-of-type {\n",
       "        vertical-align: middle;\n",
       "    }\n",
       "\n",
       "    .dataframe tbody tr th {\n",
       "        vertical-align: top;\n",
       "    }\n",
       "\n",
       "    .dataframe thead th {\n",
       "        text-align: right;\n",
       "    }\n",
       "</style>\n",
       "<table border=\"1\" class=\"dataframe\">\n",
       "  <thead>\n",
       "    <tr style=\"text-align: right;\">\n",
       "      <th></th>\n",
       "      <th>Path</th>\n",
       "      <th>Label</th>\n",
       "    </tr>\n",
       "  </thead>\n",
       "  <tbody>\n",
       "    <tr>\n",
       "      <th>31784</th>\n",
       "      <td>/media/amd_3/20DAD539DAD50BC2/DSET_REPO/DataSe...</td>\n",
       "      <td>-0.478744</td>\n",
       "    </tr>\n",
       "    <tr>\n",
       "      <th>31785</th>\n",
       "      <td>/media/amd_3/20DAD539DAD50BC2/DSET_REPO/DataSe...</td>\n",
       "      <td>-0.494626</td>\n",
       "    </tr>\n",
       "    <tr>\n",
       "      <th>31786</th>\n",
       "      <td>/media/amd_3/20DAD539DAD50BC2/DSET_REPO/DataSe...</td>\n",
       "      <td>-0.503353</td>\n",
       "    </tr>\n",
       "    <tr>\n",
       "      <th>31787</th>\n",
       "      <td>/media/amd_3/20DAD539DAD50BC2/DSET_REPO/DataSe...</td>\n",
       "      <td>-0.519235</td>\n",
       "    </tr>\n",
       "    <tr>\n",
       "      <th>31788</th>\n",
       "      <td>/media/amd_3/20DAD539DAD50BC2/DSET_REPO/DataSe...</td>\n",
       "      <td>-0.542099</td>\n",
       "    </tr>\n",
       "  </tbody>\n",
       "</table>\n",
       "</div>"
      ],
      "text/plain": [
       "                                                    Path     Label\n",
       "31784  /media/amd_3/20DAD539DAD50BC2/DSET_REPO/DataSe... -0.478744\n",
       "31785  /media/amd_3/20DAD539DAD50BC2/DSET_REPO/DataSe... -0.494626\n",
       "31786  /media/amd_3/20DAD539DAD50BC2/DSET_REPO/DataSe... -0.503353\n",
       "31787  /media/amd_3/20DAD539DAD50BC2/DSET_REPO/DataSe... -0.519235\n",
       "31788  /media/amd_3/20DAD539DAD50BC2/DSET_REPO/DataSe... -0.542099"
      ]
     },
     "execution_count": 17,
     "metadata": {},
     "output_type": "execute_result"
    }
   ],
   "source": [
    "test_df.head()"
   ]
  },
  {
   "cell_type": "markdown",
   "metadata": {},
   "source": [
    "# Baseline Time Series Models"
   ]
  },
  {
   "cell_type": "markdown",
   "metadata": {},
   "source": [
    "## UTILS Functions"
   ]
  },
  {
   "cell_type": "markdown",
   "metadata": {},
   "source": [
    "## A1) Mean Model"
   ]
  },
  {
   "cell_type": "code",
   "execution_count": 18,
   "metadata": {},
   "outputs": [],
   "source": [
    "# get the mean angle from train data\n",
    "mean_angle_train = train_df['Label'].mean()"
   ]
  },
  {
   "cell_type": "markdown",
   "metadata": {},
   "source": [
    "## A2) Simple Moving Average Model"
   ]
  },
  {
   "cell_type": "code",
   "execution_count": 19,
   "metadata": {},
   "outputs": [],
   "source": [
    "def Simple_MA_Prediction(value_array, window_size):\n",
    "    \n",
    "    # if size less than 2 return as it is\n",
    "    if len(value_array) < 2:\n",
    "        return value_array\n",
    "    \n",
    "    # initialize predicted value list as empty\n",
    "    predicted_values = list()\n",
    "    \n",
    "    # # process each element in the value list\n",
    "    for index, value in enumerate(value_array):\n",
    "        \n",
    "       # case 1: We have already made atleast window_size predictions\n",
    "        if index >=  window_size:\n",
    "            predicted_value = np.mean(value_array[index - window_size : index])\n",
    "            \n",
    "        # case 2: We have just started prediction\n",
    "        else:\n",
    "            if index == 0:\n",
    "                predicted_value = value\n",
    "            else:\n",
    "                predicted_value = np.mean(value_array[0 : index])\n",
    "        \n",
    "        # update the list\n",
    "        predicted_values.append(predicted_value)\n",
    "        \n",
    "    # round the values to integers\n",
    "    predicted_values = np.array([int(round(item)) for item in predicted_values])\n",
    "        \n",
    "        \n",
    "    return np.array(predicted_values)   "
   ]
  },
  {
   "cell_type": "markdown",
   "metadata": {},
   "source": [
    "## A3) Weighted Moving Average"
   ]
  },
  {
   "cell_type": "code",
   "execution_count": 20,
   "metadata": {},
   "outputs": [],
   "source": [
    "def WMA_Predictions(value_array, window_size):\n",
    "    \n",
    "    # if size less than 2 return as it is\n",
    "    if len(value_array) < 2:\n",
    "        return value_array\n",
    "    \n",
    "    # set the denominator\n",
    "    denominator = (( window_size) * ( window_size + 1)) / 2\n",
    "    \n",
    "    # weights array\n",
    "    window_weight_array = np.array(range(1, window_size + 1)) / denominator\n",
    "    \n",
    "    # initialize the predicted value with first element of value list\n",
    "    predicted_values = list()\n",
    "    \n",
    "    # process each element in the value list\n",
    "    for index, val in enumerate(value_array):\n",
    "        \n",
    "        # case 1: we have already made atleast window_size predictions\n",
    "        if index >=  window_size:\n",
    "            predicted_value = np.mean(window_weight_array * value_array[index - window_size : index])\n",
    "            \n",
    "        # case 2: we have just started prediction\n",
    "        else:\n",
    "            \n",
    "            if index == 0:\n",
    "                predicted_value = val\n",
    "            else:\n",
    "                # set the denominator\n",
    "                denominator = (index * (index + 1)) / 2\n",
    "                # weights array\n",
    "                temp_weight_array = np.array(range(1, index + 1)) / denominator\n",
    "\n",
    "                predicted_value = np.mean(temp_weight_array * value_array[0 : index])\n",
    "        \n",
    "        # update the list\n",
    "        predicted_values.append(predicted_value)\n",
    "        \n",
    "    # round the values to integers\n",
    "    predicted_values = np.array([int(round(item)) for item in predicted_values])\n",
    "        \n",
    "    return predicted_values"
   ]
  },
  {
   "cell_type": "markdown",
   "metadata": {},
   "source": [
    "## A4) Exponentially Weighted Moving Average"
   ]
  },
  {
   "cell_type": "code",
   "execution_count": 21,
   "metadata": {},
   "outputs": [],
   "source": [
    "def exp_weighted_MA_Predictions(value_array, alpha):\n",
    "    \n",
    "    # if size less than 2 return as it is\n",
    "    if len(value_array) < 2:\n",
    "        return value_array\n",
    "    \n",
    "    # initialize as empty\n",
    "    predicted_values = list()\n",
    "    \n",
    "    # predict for every time step\n",
    "    for index, value in enumerate(value_array):\n",
    "        \n",
    "        if index > 0:\n",
    "            predicted = alpha * value_array[index-1] + (1-alpha) * predicted_values[-1]\n",
    "        else:\n",
    "            predicted = value_array[0]\n",
    "         \n",
    "        # update list\n",
    "        predicted_values.append(predicted)\n",
    "        \n",
    "    # round the values to integers\n",
    "    predicted_values = np.array([int(round(item)) for item in predicted_values])\n",
    "        \n",
    "    return predicted_values"
   ]
  },
  {
   "cell_type": "markdown",
   "metadata": {},
   "source": [
    "### Hyperparam Tuning Util Functions"
   ]
  },
  {
   "cell_type": "code",
   "execution_count": 22,
   "metadata": {},
   "outputs": [],
   "source": [
    "def timeseries_model_prediction(df, window_size_sim, window_size_weight, alpha):\n",
    "    \n",
    "    # get the angles as a numpy array\n",
    "    inp_array = df['Label'].values\n",
    "    \n",
    "    # get average predictions from all three methods\n",
    "    \n",
    "    # get simple moving average prediction\n",
    "    simp_avg_pred = Simple_MA_Prediction(inp_array, window_size_sim)\n",
    "\n",
    "    # get weighted moving average prediction\n",
    "    weighted_avg_pred = WMA_Predictions(inp_array, window_size_weight)\n",
    "\n",
    "    # get exponentially weighted moving average prediction\n",
    "    exp_weighted_avg_pred = exp_weighted_MA_Predictions(inp_array, alpha)\n",
    "    \n",
    "    # form a return tuple\n",
    "    ret_tuple = (simp_avg_pred, weighted_avg_pred, exp_weighted_avg_pred,)\n",
    "    \n",
    "    return ret_tuple"
   ]
  },
  {
   "cell_type": "code",
   "execution_count": 23,
   "metadata": {},
   "outputs": [],
   "source": [
    "def find_best_hyperparam(df):\n",
    "    \n",
    "    # try 10 different window sizes from 1 to 10\n",
    "    window_size_list = list(range(1, 11))\n",
    "\n",
    "    # try differnt alpah values from 0.3 to 0.99\n",
    "    alpha_val_list = [0.20, 0.30, 0.40, 0.50, 0.65, \n",
    "                      0.75, 0.82, 0.90, 0.95, 0.99]\n",
    "    \n",
    "    hyp_info_list = list()\n",
    "\n",
    "    # evaluate each hyp value\n",
    "    for window_size, alpha in zip(window_size_list, alpha_val_list):\n",
    "        \n",
    "        # predict using this hyperparam\n",
    "        pred_info_tup = timeseries_model_prediction(df, window_size, window_size, alpha)\n",
    "        \n",
    "        # get actual values list\n",
    "        actual_values_list = df['Label'].values\n",
    "        \n",
    "        # get predicted values list\n",
    "        predicted_values_list_sma = pred_info_tup[0]\n",
    "        predicted_values_list_wma = pred_info_tup[1]\n",
    "        predicted_values_list_exp = pred_info_tup[2]\n",
    "        \n",
    "        # evaluate three models on this hyperparam\n",
    "        sim_mse = mean_squared_error(actual_values_list, predicted_values_list_sma)\n",
    "        wm_mse = mean_squared_error(actual_values_list, predicted_values_list_wma)\n",
    "        exp_mse = mean_squared_error(actual_values_list, predicted_values_list_exp)\n",
    "        \n",
    "        # update hyp info list\n",
    "        hyp_info_list.append((window_size, alpha, sim_mse, wm_mse, exp_mse,))\n",
    "        \n",
    "    # create the evaluation df\n",
    "    eval_df = pd.DataFrame(hyp_info_list, columns=['Window', 'Alpha', \n",
    "                                        'SIM_MSE', 'WM_MSE','EXP_MSE'])\n",
    "    \n",
    "    # best index\n",
    "    sim_model_best_index = eval_df['SIM_MSE'].idxmin()\n",
    "    weight_model_best_index = eval_df['WM_MSE'].idxmin()\n",
    "    exp_model_best_index = eval_df['EXP_MSE'].idxmin()\n",
    "    \n",
    "    print(\"\"\"Hyper params (Window  for simple, weighted MA,\n",
    "             Alpha for Exponentailly weighted model) scores df: \\n\\n\\n\"\"\", eval_df)\n",
    "    \n",
    "    # get the best hyperparam based on the MAPE lowest value\n",
    "    sim_best_window = eval_df.loc[sim_model_best_index, 'Window']\n",
    "    weight_best_window = eval_df.loc[weight_model_best_index, 'Window']\n",
    "    exp_best_alpha = eval_df.loc[exp_model_best_index, 'Alpha']\n",
    "    \n",
    "    print('\\n'*2)\n",
    "    \n",
    "    print('Best Window Size (Hyperparam) for Simple Moiving Average: ', sim_best_window)\n",
    "    print('Best Window Size (Hyperparam) for Weighted Moiving Average: ', weight_best_window)\n",
    "    print('Best Alpha (Hyperparam) for Exp. Weighted Moiving Average: ', exp_best_alpha)\n",
    "    \n",
    "    \n",
    "    \n",
    "    return (sim_best_window, weight_best_window, exp_best_alpha,)"
   ]
  },
  {
   "cell_type": "markdown",
   "metadata": {},
   "source": [
    "## Run each Base Model"
   ]
  },
  {
   "cell_type": "markdown",
   "metadata": {},
   "source": [
    "### Run A1"
   ]
  },
  {
   "cell_type": "code",
   "execution_count": 24,
   "metadata": {},
   "outputs": [
    {
     "name": "stdout",
     "output_type": "stream",
     "text": [
      "Train loss: 0.310709, Validation Loss : 0.320283, Test Loss : 0.242241\n"
     ]
    }
   ],
   "source": [
    "# compute validation & test loss\n",
    "predicted_train = [mean_angle_train] * train_df.shape[0]\n",
    "predicted_vals = [mean_angle_train] * val_df.shape[0]\n",
    "predicted_test = [mean_angle_train] * test_df.shape[0]\n",
    "\n",
    "# compute MSE from the mean model\n",
    "mean_model_train_loss = round(mean_squared_error(train_df['Label'], predicted_train), 8)\n",
    "mean_model_val_loss = round(mean_squared_error(val_df['Label'], predicted_vals), 8)\n",
    "mean_model_test_loss = round(mean_squared_error(test_df['Label'], predicted_test), 8)\n",
    "\n",
    "print('Train loss: %f, Validation Loss : %f, Test Loss : %f'%(mean_model_train_loss, \n",
    "                                                              mean_model_val_loss, \n",
    "                                                              mean_model_test_loss))"
   ]
  },
  {
   "cell_type": "markdown",
   "metadata": {},
   "source": [
    "### Run A2, A3, A4"
   ]
  },
  {
   "cell_type": "markdown",
   "metadata": {},
   "source": [
    "### Step 1 : Find best window size"
   ]
  },
  {
   "cell_type": "code",
   "execution_count": 25,
   "metadata": {},
   "outputs": [
    {
     "name": "stdout",
     "output_type": "stream",
     "text": [
      "Hyper params (Window  for simple, weighted MA,\n",
      "             Alpha for Exponentailly weighted model) scores df: \n",
      "\n",
      "\n",
      "    Window  Alpha   SIM_MSE    WM_MSE   EXP_MSE\n",
      "0       1   0.20  0.052800  0.052800  0.052793\n",
      "1       2   0.30  0.049725  0.113120  0.049386\n",
      "2       3   0.40  0.048355  0.166240  0.049105\n",
      "3       4   0.50  0.048976  0.199472  0.048947\n",
      "4       5   0.65  0.050010  0.220973  0.049268\n",
      "5       6   0.75  0.050239  0.248035  0.050020\n",
      "6       7   0.82  0.051470  0.272031  0.050854\n",
      "7       8   0.90  0.052359  0.290254  0.052300\n",
      "8       9   0.95  0.053458  0.297474  0.052915\n",
      "9      10   0.99  0.054986  0.298939  0.052816\n",
      "\n",
      "\n",
      "\n",
      "Best Window Size (Hyperparam) for Simple Moiving Average:  3\n",
      "Best Window Size (Hyperparam) for Weighted Moiving Average:  1\n",
      "Best Alpha (Hyperparam) for Exp. Weighted Moiving Average:  0.5\n"
     ]
    }
   ],
   "source": [
    "sim_best_window, weight_best_window, exp_best_alpha = find_best_hyperparam(train_df)"
   ]
  },
  {
   "cell_type": "markdown",
   "metadata": {},
   "source": [
    "### Step 2 : Predict using best window size"
   ]
  },
  {
   "cell_type": "code",
   "execution_count": 26,
   "metadata": {},
   "outputs": [],
   "source": [
    "# Predict on Valiation Data\n",
    "train_actual = train_df['Label'].values\n",
    "train_predicted_sma = Simple_MA_Prediction(train_actual, sim_best_window)\n",
    "train_predicted_wma = WMA_Predictions(train_actual, weight_best_window)\n",
    "train_predicted_ewma = exp_weighted_MA_Predictions(train_actual, exp_best_alpha)\n",
    "\n",
    "\n",
    "# Predict on Valiation Data\n",
    "val_actual = val_df['Label'].values\n",
    "val_predicted_sma = Simple_MA_Prediction(val_actual, sim_best_window)\n",
    "val_predicted_wma = WMA_Predictions(val_actual, weight_best_window)\n",
    "val_predicted_ewma = exp_weighted_MA_Predictions(val_actual, exp_best_alpha)\n",
    "\n",
    "# Predict on Test Data\n",
    "test_actual = test_df['Label'].values\n",
    "test_predicted_sma = Simple_MA_Prediction(test_actual, sim_best_window)\n",
    "test_predicted_wma = WMA_Predictions(test_actual, weight_best_window)\n",
    "test_predicted_ewma = exp_weighted_MA_Predictions(test_actual, exp_best_alpha)"
   ]
  },
  {
   "cell_type": "markdown",
   "metadata": {},
   "source": [
    "### Step 3 : Evaluate the performace"
   ]
  },
  {
   "cell_type": "code",
   "execution_count": 27,
   "metadata": {},
   "outputs": [
    {
     "name": "stdout",
     "output_type": "stream",
     "text": [
      "MSE of train data from Models SMA : 0.048355, WMA : 0.052800, EWMA : 0.048947\n",
      "MSE of validation data from Models SMA : 0.071728, WMA : 0.075981, EWMA : 0.071352\n",
      "MSE of test data from Models SMA : 0.052458, WMA : 0.055134, EWMA : 0.053156\n"
     ]
    }
   ],
   "source": [
    "# Compute the MSE on train data\n",
    "train_mse_sma = round(mean_squared_error(train_actual, train_predicted_sma), 8)\n",
    "train_mse_wma = round(mean_squared_error(train_actual, train_predicted_wma), 8)\n",
    "train_mse_ewma = round(mean_squared_error(train_actual, train_predicted_ewma), 8)\n",
    "print('MSE of train data from Models SMA : %f, WMA : %f, EWMA : %f'%(train_mse_sma, \n",
    "                                            train_mse_wma, train_mse_ewma,))\n",
    "\n",
    "# Compute the MSE on validation data\n",
    "val_mse_sma = round(mean_squared_error(val_actual, val_predicted_sma), 8)\n",
    "val_mse_wma = round(mean_squared_error(val_actual, val_predicted_wma), 8)\n",
    "val_mse_ewma = round(mean_squared_error(val_actual, val_predicted_ewma), 8)\n",
    "print('MSE of validation data from Models SMA : %f, WMA : %f, EWMA : %f'%(val_mse_sma, \n",
    "                                            val_mse_wma, val_mse_ewma,))\n",
    "\n",
    "# Compute the MSE on test data\n",
    "test_mse_sma = round(mean_squared_error(test_actual, test_predicted_sma), 8)\n",
    "test_mse_wma = round(mean_squared_error(test_actual, test_predicted_wma), 8)\n",
    "test_mse_ewma = round(mean_squared_error(test_actual, test_predicted_ewma), 8)\n",
    "print('MSE of test data from Models SMA : %f, WMA : %f, EWMA : %f'%(test_mse_sma, \n",
    "                                            test_mse_wma, test_mse_ewma,))"
   ]
  },
  {
   "cell_type": "code",
   "execution_count": 28,
   "metadata": {},
   "outputs": [],
   "source": [
    "row_sma_model = ('Simple-MA', 'Window=%d'%(sim_best_window,), train_mse_sma, \n",
    "                 val_mse_sma, test_mse_sma,)\n",
    "row_wma_model = ('Weighted-MA', 'Window=%d'%(weight_best_window,), train_mse_wma, \n",
    "                 val_mse_wma, test_mse_wma,)\n",
    "row_ewma_model = ('Exp-WMA', 'Alpha=%f'%(exp_best_alpha,) ,train_mse_ewma, \n",
    "                  val_mse_ewma, test_mse_ewma,)"
   ]
  },
  {
   "cell_type": "markdown",
   "metadata": {},
   "source": [
    "# B) CNN Model"
   ]
  },
  {
   "cell_type": "markdown",
   "metadata": {},
   "source": [
    "## Model Architecture"
   ]
  },
  {
   "cell_type": "code",
   "execution_count": 29,
   "metadata": {},
   "outputs": [],
   "source": [
    "def build_model(X, keep_prob):\n",
    "\n",
    "    # First convolutional layer\n",
    "    W_conv1 = tf.Variable(tf.truncated_normal([5, 5, 3, 24], stddev=0.1))\n",
    "    b_conv1 = tf.Variable(tf.truncated_normal([24], stddev=0.1))\n",
    "    net_conv1 = tf.nn.conv2d(X, W_conv1, strides=[1, 2, 2, 1], padding='VALID') + b_conv1\n",
    "    h_conv1 = tf.nn.relu(net_conv1)\n",
    "\n",
    "\n",
    "    # Second convolutional layer\n",
    "    W_conv2 = tf.Variable(tf.truncated_normal([5, 5, 24, 36], stddev=0.1))\n",
    "    b_conv2 = tf.Variable(tf.truncated_normal([36], stddev=0.1))\n",
    "    net_conv2 = tf.nn.conv2d(h_conv1, W_conv2, strides=[1, 2, 2, 1], padding='VALID') + b_conv2\n",
    "    h_conv2 = tf.nn.relu(net_conv2)\n",
    "\n",
    "\n",
    "    # Third convolutional layer\n",
    "    W_conv3 = tf.Variable(tf.truncated_normal([5, 5, 36, 48], stddev=0.1))\n",
    "    b_conv3 = tf.Variable(tf.truncated_normal([48], stddev=0.1))\n",
    "    net_conv3 = tf.nn.conv2d(h_conv2, W_conv3, strides=[1, 2, 2, 1], padding='VALID') + b_conv3\n",
    "    h_conv3 = tf.nn.relu(net_conv3)\n",
    "\n",
    "    # Fourth convolutional layer\n",
    "    W_conv4 = tf.Variable(tf.truncated_normal([3, 3, 48, 64], stddev=0.1))\n",
    "    b_conv4 = tf.Variable(tf.truncated_normal([64], stddev=0.1))\n",
    "    net_conv4 = tf.nn.conv2d(h_conv3, W_conv4, strides=[1, 1, 1, 1], padding='VALID') + b_conv4\n",
    "    h_conv4 = tf.nn.relu(net_conv4)\n",
    "\n",
    "    # Fifth convolutional layer\n",
    "    W_conv5 = tf.Variable(tf.truncated_normal([3, 3, 64, 64], stddev=0.1))\n",
    "    b_conv5 = tf.Variable(tf.truncated_normal([64], stddev=0.1))\n",
    "    net_conv5 = tf.nn.conv2d(h_conv4, W_conv5, strides=[1, 1, 1, 1], padding='VALID') + b_conv5 \n",
    "    h_conv5 = tf.nn.relu(net_conv5)\n",
    "\n",
    "    # flatten the output layer\n",
    "    h_conv5_flat = tf.reshape(h_conv5, [-1, 1152])\n",
    "\n",
    "\n",
    "    #FCL 1\n",
    "    W_fc1 = tf.Variable(tf.truncated_normal([1152, 1164], stddev=0.1))\n",
    "    b_fc1 = tf.Variable(tf.truncated_normal([1164], stddev=0.1))\n",
    "    net_fc1 = tf.matmul(h_conv5_flat, W_fc1) + b_fc1\n",
    "    h_fc1 = tf.nn.relu(net_fc1)\n",
    "    h_fc1_drop = tf.nn.dropout(h_fc1, keep_prob)\n",
    "\n",
    "    #FCL 2\n",
    "    W_fc2 = tf.Variable(tf.truncated_normal([1164, 100], stddev=0.1))\n",
    "    b_fc2 = tf.Variable(tf.truncated_normal([100], stddev=0.1))\n",
    "    net_fc2 = tf.matmul(h_fc1_drop, W_fc2) + b_fc2\n",
    "    h_fc2 = tf.nn.relu(net_fc2)\n",
    "    h_fc2_drop = tf.nn.dropout(h_fc2, keep_prob)\n",
    "\n",
    "    #FCL 3\n",
    "    W_fc3 = tf.Variable(tf.truncated_normal([100, 50], stddev=0.1))\n",
    "    b_fc3 = tf.Variable(tf.truncated_normal([50], stddev=0.1))\n",
    "    net_fc3 = tf.matmul(h_fc2_drop, W_fc3) + b_fc3\n",
    "    h_fc3 = tf.nn.relu(net_fc3)\n",
    "    h_fc3_drop = tf.nn.dropout(h_fc3, keep_prob)\n",
    "\n",
    "\n",
    "    #FCL 4\n",
    "    W_fc4 = tf.Variable(tf.truncated_normal([50, 10], stddev=0.1))\n",
    "    b_fc4 = tf.Variable(tf.truncated_normal([10], stddev=0.1))\n",
    "    net_fc4 = tf.matmul(h_fc3_drop, W_fc4) + b_fc4\n",
    "    h_fc4 = tf.nn.relu(net_fc4)\n",
    "    h_fc4_drop = tf.nn.dropout(h_fc4, keep_prob)\n",
    "\n",
    "\n",
    "    #Output\n",
    "    W_fc5 = tf.Variable(tf.truncated_normal([10, 1], stddev=0.1))\n",
    "    b_fc5 = tf.Variable(tf.truncated_normal([1], stddev=0.1))\n",
    "    net_fc5 = tf.matmul(h_fc4_drop, W_fc5) + b_fc5\n",
    "\n",
    "\n",
    "    # declare final output layer\n",
    "    #y_ = tf.atan(net_fc5) * 2 #scale the atan output\n",
    "    y_ = net_fc5\n",
    "    \n",
    "    return y_"
   ]
  },
  {
   "cell_type": "code",
   "execution_count": 30,
   "metadata": {},
   "outputs": [],
   "source": [
    "def train_model(train_df, val_df):\n",
    "    \n",
    "    # Declare input, output layers size\n",
    "    X = tf.placeholder(tf.float32, shape=[None, 66, 200, 3])\n",
    "    y = tf.placeholder(tf.float32, shape=[None, 1]) # since it is a regression problem\n",
    "    \n",
    "    # declare dropout var\n",
    "    keep_prob = tf.placeholder(tf.float32)\n",
    "\n",
    "    # load the model architecture\n",
    "    y_ = build_model(X, keep_prob)\n",
    "    \n",
    "    # define loss\n",
    "    loss = tf.reduce_mean(tf.square(tf.subtract(y, y_))) \n",
    "    \n",
    "    print('X', X)\n",
    "    print('y', y)\n",
    "    print('keep_prob', keep_prob)\n",
    "    print('y_', y_)\n",
    "    print('loss', loss)\n",
    "    \n",
    "\n",
    "    # declare a train step\n",
    "    train_step = tf.train.AdamOptimizer(1e-3).minimize(loss)\n",
    "\n",
    "    # declare a saver for saving the checkpoints (save only the best model)\n",
    "    saver =  tf.train.Saver(write_version = saver_pb2.SaverDef.V1)\n",
    "    \n",
    "    # compute the number of batches\n",
    "    num_train_batches = math.ceil(train_df.shape[0] / batch_size)\n",
    "    num_val_batches = math.ceil(val_df.shape[0] / batch_size)\n",
    "    \n",
    "\n",
    "    print('Number of train batches: %d, validation batches : %d\\n\\n'%(num_train_batches, \n",
    "                                                                  num_val_batches,))\n",
    "    \n",
    "    \n",
    "    print('=' * 40 ,datetime.now(),  ' Training Started ', '='*40, '\\n\\n')\n",
    "    \n",
    "    # initialize mean validation loss\n",
    "    prev_mean_val_loss = np.inf\n",
    "    \n",
    "    global_step = 0\n",
    "    \n",
    "    # open a session and run the graph\n",
    "    with tf.Session() as sess:\n",
    "        \n",
    "        # initialize all variables\n",
    "        sess.run(tf.global_variables_initializer())\n",
    "        \n",
    "        # declare two lists for saving losess train & validation (epoch-wise)\n",
    "        epoch_train_loss_list = list()\n",
    "        epoch_val_loss_list = list()\n",
    "\n",
    "        # run each training epoch\n",
    "        for epoch in range(num_epochs):\n",
    "            \n",
    "            print(datetime.now(), ' Training epoch: {}'.format(epoch + 1))\n",
    "            \n",
    "            \n",
    "            # declare two lists for saving losess train & validation (batch-wise)\n",
    "            batch_train_loss_list = list()\n",
    "            batch_val_loss_list = list()\n",
    "            \n",
    "            # set validation id as zero\n",
    "            val_batch_id = 0\n",
    "            \n",
    "            # run for every batch in this epoch\n",
    "            for tr_batch_id in range(num_train_batches):\n",
    "                \n",
    "                # load train batch data & train it\n",
    "                xs, ys = load_batch(train_df, tr_batch_id, batch_size)\n",
    "                ys = list(np.array(ys).reshape(-1,1))\n",
    "                \n",
    "                # trian on this batch\n",
    "                _ , tr_loss = sess.run([train_step, loss], \n",
    "                             feed_dict={X: xs, y: ys, keep_prob: 0.8})\n",
    "                \n",
    "                # increment global step count\n",
    "                global_step = global_step + 1\n",
    "                \n",
    "                # insert the loss to train loss list\n",
    "                batch_train_loss_list.append(tr_loss)\n",
    "           \n",
    "            # compute the mean train loss\n",
    "            mean_train_loss = np.mean(batch_train_loss_list)\n",
    "        \n",
    "            # Evaluate validation loss batch-wise\n",
    "            for val_batch_id in range(num_val_batches):\n",
    "                \n",
    "                # load train batch data & train it\n",
    "                xs, ys = load_batch(val_df, val_batch_id, batch_size)\n",
    "                ys = list(np.array(ys).reshape(-1,1))\n",
    "                \n",
    "                # trian on this batch\n",
    "                val_loss = sess.run([loss], feed_dict={X: xs, y: ys, keep_prob: 1.0})\n",
    "                \n",
    "                # insert the loss to train loss list\n",
    "                batch_val_loss_list.append(val_loss)\n",
    "                \n",
    "            # compute the mean train loss\n",
    "            mean_val_loss = np.mean(batch_val_loss_list)\n",
    "            \n",
    "            \n",
    "            # update the loss list declared for epochs\n",
    "            epoch_train_loss_list.append(mean_train_loss)\n",
    "            epoch_val_loss_list.append(mean_val_loss)\n",
    "            \n",
    "            \n",
    "            # check if validation score improved or not, if yes save the model    \n",
    "            if mean_val_loss < prev_mean_val_loss: \n",
    "                # update previous mean val loss\n",
    "                prev_mean_val_loss = mean_val_loss\n",
    "\n",
    "                # write the checkpoint files to disk\n",
    "                checkpoint_path = os.path.join(save_dir, 'model.ckpt')\n",
    "                filename = saver.save(sess, checkpoint_path)\n",
    "                print(datetime.now(),' Validation loss improved, Model saved in file: %s'%(filename,))\n",
    "        \n",
    "\n",
    "    return (epoch_train_loss_list, epoch_val_loss_list,)"
   ]
  },
  {
   "cell_type": "code",
   "execution_count": 31,
   "metadata": {},
   "outputs": [],
   "source": [
    "def test_model(test_df):\n",
    "    \n",
    "    # set the number of batches\n",
    "    num_test_batches = math.ceil(test_df.shape[0] / batch_size) \n",
    "    \n",
    "    # Evaluate the model on Test dataset\n",
    "    batch_test_loss_list = list()\n",
    "    predicted_list = list()\n",
    "     \n",
    "    # open a session\n",
    "    with tf.Session() as sess:  \n",
    "        \n",
    "        #First let's load meta graph and restore weights\n",
    "        saver = tf.train.import_meta_graph(os.path.join(save_dir, 'model.ckpt.meta'))\n",
    "        saver.restore(sess, tf.train.latest_checkpoint(save_dir))\n",
    "\n",
    "        print('Model restored successfully ...')\n",
    "        \n",
    "        # get input & output\n",
    "        graph = tf.get_default_graph()\n",
    "        X = graph.get_tensor_by_name('Placeholder:0')\n",
    "        y = graph.get_tensor_by_name('Placeholder_1:0')\n",
    "        keep_prob = graph.get_tensor_by_name('Placeholder_2:0')\n",
    "        y_ = graph.get_tensor_by_name('add_9:0')\n",
    "        loss = graph.get_tensor_by_name('Mean:0')\n",
    "        \n",
    "        print('Fetching All tensors Completed ...')\n",
    "        \n",
    "        # run test batch by batch                                   \n",
    "        for test_batch_id in range(num_test_batches):\n",
    "\n",
    "            # load train batch data & train it\n",
    "            xs, ys = load_batch(test_df, test_batch_id, batch_size)\n",
    "            ys = list(np.array(ys).reshape(-1,1))\n",
    "                                           \n",
    "            # trian on this batch\n",
    "            test_predicted, test_loss = sess.run([y_, loss], feed_dict={X: xs, y: ys, \n",
    "                                                                        keep_prob: 1.0})\n",
    "            \n",
    "            predicted_list.extend(list(test_predicted.flatten()))\n",
    "\n",
    "            # insert the loss to train loss list\n",
    "            batch_test_loss_list.append(test_loss)\n",
    "\n",
    "        # compute the mean train loss\n",
    "        mean_test_loss = np.mean(batch_test_loss_list)\n",
    "        print('Test loss (MSE) mean of all batches: ', mean_test_loss)\n",
    "        \n",
    "        print('Done !!!')\n",
    "        \n",
    "        return (mean_test_loss, predicted_list,)"
   ]
  },
  {
   "cell_type": "code",
   "execution_count": 32,
   "metadata": {},
   "outputs": [
    {
     "name": "stdout",
     "output_type": "stream",
     "text": [
      "X Tensor(\"Placeholder:0\", shape=(?, 66, 200, 3), dtype=float32)\n",
      "y Tensor(\"Placeholder_1:0\", shape=(?, 1), dtype=float32)\n",
      "keep_prob Tensor(\"Placeholder_2:0\", dtype=float32)\n",
      "y_ Tensor(\"add_9:0\", shape=(?, 1), dtype=float32)\n",
      "loss Tensor(\"Mean:0\", shape=(), dtype=float32)\n",
      "Number of train batches: 199, validation batches : 50\n",
      "\n",
      "\n",
      "======================================== 2019-06-23 01:42:15.779995  Training Started  ======================================== \n",
      "\n",
      "\n",
      "2019-06-23 01:42:15.860833  Training epoch: 1\n",
      "WARNING:tensorflow:*******************************************************\n",
      "WARNING:tensorflow:TensorFlow's V1 checkpoint format has been deprecated.\n",
      "WARNING:tensorflow:Consider switching to the more efficient V2 format:\n",
      "WARNING:tensorflow:   `tf.train.Saver(write_version=tf.train.SaverDef.V2)`\n",
      "WARNING:tensorflow:now on by default.\n",
      "WARNING:tensorflow:*******************************************************\n",
      "2019-06-23 02:01:16.126146  Validation loss improved, Model saved in file: ./model/save/model.ckpt\n",
      "2019-06-23 02:01:16.126377  Training epoch: 2\n",
      "2019-06-23 02:05:58.203249  Training epoch: 3\n",
      "2019-06-23 02:10:40.169323  Training epoch: 4\n",
      "2019-06-23 02:15:22.087529  Training epoch: 5\n",
      "2019-06-23 02:20:04.020628  Training epoch: 6\n",
      "2019-06-23 02:24:46.210286  Training epoch: 7\n",
      "2019-06-23 02:29:29.537741  Training epoch: 8\n",
      "2019-06-23 02:34:11.284825  Training epoch: 9\n",
      "2019-06-23 02:38:53.408465  Training epoch: 10\n",
      "2019-06-23 02:43:38.063824  Training epoch: 11\n",
      "2019-06-23 02:48:21.829722  Training epoch: 12\n",
      "2019-06-23 02:53:04.528596  Training epoch: 13\n",
      "2019-06-23 02:57:45.923086  Training epoch: 14\n",
      "2019-06-23 03:02:28.514844  Training epoch: 15\n",
      "2019-06-23 03:07:09.935979  Training epoch: 16\n",
      "2019-06-23 03:11:52.528969  Training epoch: 17\n",
      "2019-06-23 03:16:33.882348  Training epoch: 18\n",
      "2019-06-23 03:21:16.301000  Training epoch: 19\n",
      "2019-06-23 03:25:57.546858  Training epoch: 20\n",
      "2019-06-23 03:30:39.893613  Training epoch: 21\n",
      "2019-06-23 03:35:21.299538  Training epoch: 22\n",
      "2019-06-23 03:40:03.874281  Training epoch: 23\n",
      "2019-06-23 03:44:45.300449  Training epoch: 24\n",
      "2019-06-23 03:49:27.899014  Training epoch: 25\n",
      "2019-06-23 03:54:09.472686  Training epoch: 26\n",
      "2019-06-23 03:58:52.036918  Training epoch: 27\n",
      "2019-06-23 04:03:33.375882  Training epoch: 28\n",
      "2019-06-23 04:08:15.925852  Training epoch: 29\n",
      "2019-06-23 04:12:57.333068  Training epoch: 30\n",
      "2019-06-23 04:17:39.806784  Training epoch: 31\n",
      "2019-06-23 04:22:21.062941  Training epoch: 32\n",
      "2019-06-23 04:27:03.418157  Training epoch: 33\n",
      "2019-06-23 04:31:44.570691  Training epoch: 34\n",
      "2019-06-23 04:36:27.082862  Training epoch: 35\n",
      "2019-06-23 04:41:08.424885  Training epoch: 36\n",
      "2019-06-23 04:45:50.906094  Training epoch: 37\n",
      "2019-06-23 04:50:32.257147  Training epoch: 38\n",
      "2019-06-23 04:55:14.602202  Training epoch: 39\n",
      "2019-06-23 04:59:55.686838  Training epoch: 40\n",
      "2019-06-23 05:04:38.214084  Training epoch: 41\n",
      "2019-06-23 05:09:19.377030  Training epoch: 42\n",
      "2019-06-23 05:14:01.749569  Training epoch: 43\n",
      "2019-06-23 05:18:42.956870  Training epoch: 44\n",
      "2019-06-23 05:23:25.364501  Training epoch: 45\n",
      "2019-06-23 05:28:06.573913  Training epoch: 46\n",
      "2019-06-23 05:32:49.122646  Training epoch: 47\n",
      "2019-06-23 05:37:30.374801  Training epoch: 48\n",
      "2019-06-23 05:42:12.845136  Training epoch: 49\n",
      "2019-06-23 05:46:54.208547  Training epoch: 50\n"
     ]
    }
   ],
   "source": [
    "cnn_tr_loss_list, cnn_val_loss_list = train_model(train_df, val_df)"
   ]
  },
  {
   "cell_type": "code",
   "execution_count": 33,
   "metadata": {},
   "outputs": [
    {
     "name": "stdout",
     "output_type": "stream",
     "text": [
      "INFO:tensorflow:Restoring parameters from ./model/save/model.ckpt\n",
      "Model restored successfully ...\n",
      "Fetching All tensors Completed ...\n",
      "Test loss (MSE) mean of all batches:  0.23867664\n",
      "Done !!!\n"
     ]
    }
   ],
   "source": [
    "cnn_test_loss, cnn_predicted_list_test = test_model(test_df)\n",
    "cnn_test_loss = round(cnn_test_loss, 8)"
   ]
  },
  {
   "cell_type": "markdown",
   "metadata": {},
   "source": [
    "# Plot Train vs Validation losess"
   ]
  },
  {
   "cell_type": "code",
   "execution_count": 34,
   "metadata": {},
   "outputs": [
    {
     "data": {
      "image/png": "[encoded data removed]",
      "text/plain": [
       "<Figure size 432x288 with 1 Axes>"
      ]
     },
     "metadata": {},
     "output_type": "display_data"
    }
   ],
   "source": [
    "plt.plot(list(range(len(cnn_tr_loss_list))), cnn_tr_loss_list, label='Train Loss', color='r')\n",
    "plt.plot(list(range(len(cnn_val_loss_list))), cnn_val_loss_list, label='Validation Loss', color='b')\n",
    "plt.legend()\n",
    "plt.xlabel('Epochs')\n",
    "plt.ylabel('MSE Loss')\n",
    "plt.title('CNN Train Vs Validation Loss')\n",
    "plt.show()"
   ]
  },
  {
   "cell_type": "markdown",
   "metadata": {},
   "source": [
    "<h3> Observations </h3>\n",
    "<ul>\n",
    "<li> Validation loss tends plateau after epoch 10</li>\n",
    "<li> Train loss keeps decreasing over epoch </li>\n",
    "<li> Early stopping is used to pick the best model, the model is saved only if the loss is improved </li>\n",
    "</ul>"
   ]
  },
  {
   "cell_type": "markdown",
   "metadata": {},
   "source": [
    "# Save Driving Video File"
   ]
  },
  {
   "cell_type": "code",
   "execution_count": 35,
   "metadata": {},
   "outputs": [
    {
     "name": "stdout",
     "output_type": "stream",
     "text": [
      "Number of predicted angles 13622\n",
      "Test df shape (13622, 2)\n"
     ]
    }
   ],
   "source": [
    "test_df = test_df[['Path', 'Label']]\n",
    "print('Number of predicted angles', len(cnn_predicted_list_test))\n",
    "print('Test df shape', test_df.shape)"
   ]
  },
  {
   "cell_type": "markdown",
   "metadata": {},
   "source": [
    "### Add the predicted labels to the data frame"
   ]
  },
  {
   "cell_type": "code",
   "execution_count": 36,
   "metadata": {},
   "outputs": [
    {
     "data": {
      "text/html": [
       "<div>\n",
       "<style scoped>\n",
       "    .dataframe tbody tr th:only-of-type {\n",
       "        vertical-align: middle;\n",
       "    }\n",
       "\n",
       "    .dataframe tbody tr th {\n",
       "        vertical-align: top;\n",
       "    }\n",
       "\n",
       "    .dataframe thead th {\n",
       "        text-align: right;\n",
       "    }\n",
       "</style>\n",
       "<table border=\"1\" class=\"dataframe\">\n",
       "  <thead>\n",
       "    <tr style=\"text-align: right;\">\n",
       "      <th></th>\n",
       "      <th>Path</th>\n",
       "      <th>Label</th>\n",
       "      <th>Predicted_Radian</th>\n",
       "      <th>Predicted_Degree</th>\n",
       "    </tr>\n",
       "  </thead>\n",
       "  <tbody>\n",
       "    <tr>\n",
       "      <th>31784</th>\n",
       "      <td>/media/amd_3/20DAD539DAD50BC2/DSET_REPO/DataSe...</td>\n",
       "      <td>-0.478744</td>\n",
       "      <td>0.015313</td>\n",
       "      <td>0.877369</td>\n",
       "    </tr>\n",
       "    <tr>\n",
       "      <th>31785</th>\n",
       "      <td>/media/amd_3/20DAD539DAD50BC2/DSET_REPO/DataSe...</td>\n",
       "      <td>-0.494626</td>\n",
       "      <td>0.014013</td>\n",
       "      <td>0.802885</td>\n",
       "    </tr>\n",
       "    <tr>\n",
       "      <th>31786</th>\n",
       "      <td>/media/amd_3/20DAD539DAD50BC2/DSET_REPO/DataSe...</td>\n",
       "      <td>-0.503353</td>\n",
       "      <td>0.011122</td>\n",
       "      <td>0.637258</td>\n",
       "    </tr>\n",
       "    <tr>\n",
       "      <th>31787</th>\n",
       "      <td>/media/amd_3/20DAD539DAD50BC2/DSET_REPO/DataSe...</td>\n",
       "      <td>-0.519235</td>\n",
       "      <td>0.016339</td>\n",
       "      <td>0.936142</td>\n",
       "    </tr>\n",
       "    <tr>\n",
       "      <th>31788</th>\n",
       "      <td>/media/amd_3/20DAD539DAD50BC2/DSET_REPO/DataSe...</td>\n",
       "      <td>-0.542099</td>\n",
       "      <td>0.014668</td>\n",
       "      <td>0.840434</td>\n",
       "    </tr>\n",
       "  </tbody>\n",
       "</table>\n",
       "</div>"
      ],
      "text/plain": [
       "                                                    Path     Label  \\\n",
       "31784  /media/amd_3/20DAD539DAD50BC2/DSET_REPO/DataSe... -0.478744   \n",
       "31785  /media/amd_3/20DAD539DAD50BC2/DSET_REPO/DataSe... -0.494626   \n",
       "31786  /media/amd_3/20DAD539DAD50BC2/DSET_REPO/DataSe... -0.503353   \n",
       "31787  /media/amd_3/20DAD539DAD50BC2/DSET_REPO/DataSe... -0.519235   \n",
       "31788  /media/amd_3/20DAD539DAD50BC2/DSET_REPO/DataSe... -0.542099   \n",
       "\n",
       "       Predicted_Radian  Predicted_Degree  \n",
       "31784          0.015313          0.877369  \n",
       "31785          0.014013          0.802885  \n",
       "31786          0.011122          0.637258  \n",
       "31787          0.016339          0.936142  \n",
       "31788          0.014668          0.840434  "
      ]
     },
     "execution_count": 36,
     "metadata": {},
     "output_type": "execute_result"
    }
   ],
   "source": [
    "test_df['Predicted_Radian'] = cnn_predicted_list_test\n",
    "# convertt to angle\n",
    "test_df['Predicted_Degree'] = test_df['Predicted_Radian'] * (180 / np.pi) \n",
    "test_df.head()"
   ]
  },
  {
   "cell_type": "code",
   "execution_count": 37,
   "metadata": {},
   "outputs": [],
   "source": [
    "def save_driving_video(test_df):\n",
    "    \n",
    "    # Read steering wheel image\n",
    "    steering_img = cv2.imread('steering_wheel_image.jpg',0)\n",
    "    steering_rows, steering_cols = steering_img.shape\n",
    "    \n",
    "    # set font size for text\n",
    "    font = cv2.FONT_HERSHEY_SIMPLEX\n",
    "    \n",
    "    # padding for steering\n",
    "    padding = np.zeros((8, 240, 3))\n",
    "    height, width, = 256, 695\n",
    "    size = (width, height)\n",
    "    \n",
    "    smoothed_angle = 0\n",
    "    \n",
    "    # declare an videocapture object\n",
    "    vid_out = cv2.VideoWriter(mp4_output_name, cv2.VideoWriter_fourcc(*'DIVX'), 15, size)\n",
    "    \n",
    "    # for \n",
    "    for index, row in test_df.iterrows():\n",
    "        # set road image path\n",
    "        img_road = cv2.imread(row.Path)\n",
    "        # get predicted degree\n",
    "        degrees = row.Predicted_Degree\n",
    "        # rotate the steering\n",
    "        smoothed_angle += (0.2 * pow(abs((degrees - smoothed_angle)), 2.0 / 3.0) * \n",
    "                           (degrees - smoothed_angle) / abs(degrees - smoothed_angle))\n",
    "\n",
    "        M = cv2.getRotationMatrix2D((steering_cols/2,steering_rows/2),-smoothed_angle,1)\n",
    "        dst = cv2.warpAffine(steering_img, M, (steering_cols,steering_rows))\n",
    "        \n",
    "        # padded sequence \n",
    "        stacked_img = np.stack((dst,)*3, axis=-1)\n",
    "        padded_steering = np.concatenate([padding, stacked_img, padding])\n",
    "        \n",
    "        # combine steering & road image\n",
    "        combined_img = np.concatenate([img_road, padded_steering], axis=1)\n",
    "        \n",
    "        # add text to the data\n",
    "        cv2.putText(img=combined_img, text='{0:.4f} o'.format(degrees), org=(500,128), \n",
    "                    fontFace=font, fontScale=1.0, \n",
    "                    color=(0, 0, 255), thickness=5)\n",
    "        \n",
    "        # write & read the image back\n",
    "        cv2.imwrite('temp.jpg', combined_img)\n",
    "        combined_img = cv2.imread('temp.jpg')\n",
    "        \n",
    "        #print(combined_img.shape)\n",
    "        vid_out.write(combined_img)\n",
    "        \n",
    "    vid_out.release()"
   ]
  },
  {
   "cell_type": "code",
   "execution_count": 38,
   "metadata": {},
   "outputs": [],
   "source": [
    "save_driving_video(test_df)"
   ]
  },
  {
   "cell_type": "markdown",
   "metadata": {},
   "source": [
    "# Results"
   ]
  },
  {
   "cell_type": "code",
   "execution_count": 39,
   "metadata": {},
   "outputs": [],
   "source": [
    "# get CNN mean value of loss train, validation\n",
    "cnn_train_loss = round(np.mean(cnn_tr_loss_list), 8)\n",
    "cnn_val_loss = round(np.mean(cnn_val_loss_list), 8)\n",
    "\n",
    "row_mean_model = ('Mean Model', 'array size:N', mean_model_train_loss, mean_model_val_loss, \n",
    "                  mean_model_test_loss,)\n",
    "row_cnn_model = ('CNN Model', '5 Convs, 5 FCL,\\n Linear output', cnn_train_loss, \n",
    "                 cnn_val_loss, cnn_test_loss,)"
   ]
  },
  {
   "cell_type": "code",
   "execution_count": 40,
   "metadata": {},
   "outputs": [
    {
     "name": "stdout",
     "output_type": "stream",
     "text": [
      "+--------------------------------------------------------------------------+\n",
      "|                     Self Driving Car - MSE of Models                     |\n",
      "+-------------+-----------------+------------+----------------+------------+\n",
      "|    Model    |   Hyper Param   | Train MSE  | Validation MSE |  Test MSE  |\n",
      "+-------------+-----------------+------------+----------------+------------+\n",
      "|  Mean Model |   array size:N  | 0.31070876 |   0.32028271   | 0.24224142 |\n",
      "|  Simple-MA  |     Window=3    | 0.04835476 |   0.07172848   | 0.05245807 |\n",
      "| Weighted-MA |     Window=1    | 0.05280013 |   0.07598096   | 0.05513379 |\n",
      "|   Exp-WMA   |  Alpha=0.500000 | 0.04894741 |   0.07135225   | 0.05315572 |\n",
      "|  CNN Model  | 5 Convs, 5 FCL, | 0.3111167  |   0.31766912   | 0.23867664 |\n",
      "|             |   Linear output |            |                |            |\n",
      "+-------------+-----------------+------------+----------------+------------+\n"
     ]
    }
   ],
   "source": [
    "Pret_table = PrettyTable()\n",
    "Pret_table.field_names = ['Model', 'Hyper Param', 'Train MSE', 'Validation MSE', 'Test MSE']\n",
    "Pret_table.title = 'Self Driving Car - MSE of Models'\n",
    "\n",
    "# basic time series model results\n",
    "Pret_table.add_row(row_mean_model)\n",
    "Pret_table.add_row(row_sma_model)\n",
    "Pret_table.add_row(row_wma_model)\n",
    "Pret_table.add_row(row_ewma_model)\n",
    "\n",
    "# CNN model result\n",
    "Pret_table.add_row(row_cnn_model)\n",
    "print(Pret_table)"
   ]
  },
  {
   "cell_type": "markdown",
   "metadata": {},
   "source": [
    "# Procedure Summary"
   ]
  },
  {
   "cell_type": "markdown",
   "metadata": {},
   "source": [
    "<ul>\n",
    "<li> Basic EDA is done on the steering anlge </li>\n",
    "<li> Classical time series models such as simple moving average, weigted moving averge\n",
    "     exponentially weighted moving average are used as reference models. </li>\n",
    "<li> The dataset is partioned into batches considering the timestamp order </li>\n",
    "<li> CNN Architecute is designed </li>\n",
    "<li> The angle is conveted into radian (number format) from degrees .</li>\n",
    "<li> Hyperparam tuning is done for classical time series models</li>\n",
    "<li> Testing of classical time series models are done </li>\n",
    "<li> Training & testing of CNN is done </li>\n",
    "<li> The train, validation loss is plotted for CNN </li>\n",
    "</ul>"
   ]
  },
  {
   "cell_type": "markdown",
   "metadata": {},
   "source": [
    "# Conclusion"
   ]
  },
  {
   "cell_type": "markdown",
   "metadata": {},
   "source": [
    "<li> The classical time series model outperformed CNN model </li>\n",
    "<li> The CNN model is slightly better than mean model </li>\n",
    "<li> The input to CNN is fed based on time step order </li>\n",
    "<li> The performace of CNN is not great when compared to classical time series model, this is \n",
    "     expected as the CNN totally ignores the time sequence inforamtion</li>\n",
    "<li> Given a single image it is difficult to make a decision to turn left or right, we need to consider  \n",
    "     few previous images and also buffer few upcoming images in order to decide whether to turn left or right </li>\n",
    "<li> The models which can handle time series information can be used to improve the MSE further.</li>\n",
    "<li> LSTM model which uses CNN features can be used to improve the performace </li>\n",
    "<li> The architecture & hyperparam of CNN can be tuned to furter improve the results </li>\n",
    "</ul>"
   ]
  }
 ],
 "metadata": {
  "kernelspec": {
   "display_name": "Python 3",
   "language": "python",
   "name": "python3"
  },
  "language_info": {
   "codemirror_mode": {
    "name": "ipython",
    "version": 3
   },
   "file_extension": ".py",
   "mimetype": "text/x-python",
   "name": "python",
   "nbconvert_exporter": "python",
   "pygments_lexer": "ipython3",
   "version": "3.6.5"
  }
 },
 "nbformat": 4,
 "nbformat_minor": 2
}
