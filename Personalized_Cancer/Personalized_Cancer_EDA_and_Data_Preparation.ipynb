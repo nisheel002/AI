{
 "cells": [
  {
   "cell_type": "markdown",
   "metadata": {},
   "source": [
    "<p style=\"font-size:36px;text-align:center\"> <b>Personalized cancer diagnosis</b> </p>"
   ]
  },
  {
   "cell_type": "markdown",
   "metadata": {},
   "source": [
    "<h1>1. Business Problem</h1>"
   ]
  },
  {
   "cell_type": "markdown",
   "metadata": {},
   "source": [
    "<h2>1.1. Description</h2>"
   ]
  },
  {
   "cell_type": "markdown",
   "metadata": {},
   "source": [
    "<p> Source: https://www.kaggle.com/c/msk-redefining-cancer-treatment/ </p>\n",
    "<p> Data: Memorial Sloan Kettering Cancer Center (MSKCC)</p>\n",
    "<p> Download training_variants.zip and training_text.zip from Kaggle.</p> \n",
    "\n",
    "<h6> Context:</h6>\n",
    "<p> Source: https://www.kaggle.com/c/msk-redefining-cancer-treatment/discussion/35336#198462</p>\n",
    "\n",
    "<h6> Problem statement : </h6>\n",
    "<p> Classify the given genetic variations/mutations based on evidence from text-based clinical literature. </p>"
   ]
  },
  {
   "cell_type": "markdown",
   "metadata": {},
   "source": [
    "<h2>1.2. Source/Useful Links</h2>"
   ]
  },
  {
   "cell_type": "markdown",
   "metadata": {},
   "source": [
    " Some articles and reference blogs about the problem statement"
   ]
  },
  {
   "cell_type": "markdown",
   "metadata": {},
   "source": [
    "1. https://www.forbes.com/sites/matthewherper/2017/06/03/a-new-cancer-drug-helped-almost-everyone-who-took-it-almost-heres-what-it-teaches-us/#2a44ee2f6b25\n",
    "2. https://www.youtube.com/watch?v=UwbuW7oK8rk \n",
    "3. https://www.youtube.com/watch?v=qxXRKVompI8"
   ]
  },
  {
   "cell_type": "markdown",
   "metadata": {},
   "source": [
    "<h2>1.3. Real-world/Business objectives and constraints.</h2>"
   ]
  },
  {
   "cell_type": "markdown",
   "metadata": {},
   "source": [
    "* No low-latency requirement.\n",
    "* Interpretability is important.\n",
    "* Errors can be very costly.\n",
    "* Probability of a data-point belonging to each class is needed."
   ]
  },
  {
   "cell_type": "markdown",
   "metadata": {},
   "source": [
    "<h1>2. Machine Learning Problem Formulation</h1>"
   ]
  },
  {
   "cell_type": "markdown",
   "metadata": {},
   "source": [
    "<h2>2.1. Data</h2>"
   ]
  },
  {
   "cell_type": "markdown",
   "metadata": {},
   "source": [
    "<h3>2.1.1. Data Overview</h3>"
   ]
  },
  {
   "cell_type": "markdown",
   "metadata": {},
   "source": [
    "- Source: https://www.kaggle.com/c/msk-redefining-cancer-treatment/data\n",
    "- We have two data files: one conatins the information about the genetic mutations and the other contains the clinical evidence (text) that  human experts/pathologists use to classify the genetic mutations. \n",
    "- Both these data files are have a common column called ID\n",
    "- <p> \n",
    "    Data file's information:\n",
    "    <ul> \n",
    "        <li>\n",
    "        training_variants (ID , Gene, Variations, Class)\n",
    "        </li>\n",
    "        <li>\n",
    "        training_text (ID, Text)\n",
    "        </li>\n",
    "    </ul>\n",
    "</p>"
   ]
  },
  {
   "cell_type": "markdown",
   "metadata": {},
   "source": [
    "<h3>2.1.2. Example Data Point</h3>"
   ]
  },
  {
   "cell_type": "markdown",
   "metadata": {},
   "source": [
    "<h6>training_variants</h6>\n",
    "<hr>\n",
    "ID,Gene,Variation,Class<br>\n",
    "0,FAM58A,Truncating Mutations,1 <br>\n",
    "1,CBL,W802*,2 <br>\n",
    "2,CBL,Q249E,2 <br>\n",
    "...\n",
    "\n",
    "<h6> training_text</h6>\n",
    "<hr>\n",
    "ID,Text <br>\n",
    "0||Cyclin-dependent kinases (CDKs) regulate a variety of fundamental cellular processes. CDK10 stands out as one of the last orphan CDKs for which no activating cyclin has been identified and no kinase activity revealed. Previous work has shown that CDK10 silencing increases ETS2 (v-ets erythroblastosis virus E26 oncogene homolog 2)-driven activation of the MAPK pathway, which confers tamoxifen resistance to breast cancer cells. The precise mechanisms by which CDK10 modulates ETS2 activity, and more generally the functions of CDK10, remain elusive. Here we demonstrate that CDK10 is a cyclin-dependent kinase by identifying cyclin M as an activating cyclin. Cyclin M, an orphan cyclin, is the product of FAM58A, whose mutations cause STAR syndrome, a human developmental anomaly whose features include toe syndactyly, telecanthus, and anogenital and renal malformations. We show that STAR syndrome-associated cyclin M mutants are unable to interact with CDK10. Cyclin M silencing phenocopies CDK10 silencing in increasing c-Raf and in conferring tamoxifen resistance to breast cancer cells. CDK10/cyclin M phosphorylates ETS2 in vitro, and in cells it positively controls ETS2 degradation by the proteasome. ETS2 protein levels are increased in cells derived from a STAR patient, and this increase is attributable to decreased cyclin M levels. Altogether, our results reveal an additional regulatory mechanism for ETS2, which plays key roles in cancer and development. They also shed light on the molecular mechanisms underlying STAR syndrome.Cyclin-dependent kinases (CDKs) play a pivotal role in the control of a number of fundamental cellular processes (1). The human genome contains 21 genes encoding proteins that can be considered as members of the CDK family owing to their sequence similarity with bona fide CDKs, those known to be activated by cyclins (2). Although discovered almost 20 y ago (3, 4), CDK10 remains one of the two CDKs without an identified cyclin partner. This knowledge gap has largely impeded the exploration of its biological functions. CDK10 can act as a positive cell cycle regulator in some cells (5, 6) or as a tumor suppressor in others (7, 8). CDK10 interacts with the ETS2 (v-ets erythroblastosis virus E26 oncogene homolog 2) transcription factor and inhibits its transcriptional activity through an unknown mechanism (9). CDK10 knockdown derepresses ETS2, which increases the expression of the c-Raf protein kinase, activates the MAPK pathway, and induces resistance of MCF7 cells to tamoxifen (6). ... "
   ]
  },
  {
   "cell_type": "markdown",
   "metadata": {},
   "source": [
    "<h2>2.2. Mapping the real-world problem to an ML problem</h2>"
   ]
  },
  {
   "cell_type": "markdown",
   "metadata": {},
   "source": [
    "<h3>2.2.1. Type of Machine Learning Problem</h3>"
   ]
  },
  {
   "cell_type": "markdown",
   "metadata": {},
   "source": [
    "<p>\n",
    "    \n",
    "            There are nine different classes a genetic mutation can be classified into => Multi class classification problem\n",
    "   \n",
    "      \n",
    "    \n",
    "</p>"
   ]
  },
  {
   "cell_type": "markdown",
   "metadata": {},
   "source": [
    "<h3>2.2.2. Performance Metric</h3>"
   ]
  },
  {
   "cell_type": "markdown",
   "metadata": {},
   "source": [
    "Source: https://www.kaggle.com/c/msk-redefining-cancer-treatment#evaluation\n",
    "\n",
    "Metric(s): \n",
    "* Multi class log-loss \n",
    "* Confusion matrix \n"
   ]
  },
  {
   "cell_type": "markdown",
   "metadata": {},
   "source": [
    "<h3>2.2.3. Machine Learing Objectives and Constraints</h3>"
   ]
  },
  {
   "cell_type": "markdown",
   "metadata": {},
   "source": [
    "<p> Objective: Predict the probability of each data-point belonging to each of the nine classes.\n",
    "</p>\n",
    "<p> Constraints:\n",
    "</p>\n",
    "* Interpretability\n",
    "* Class probabilities are needed.\n",
    "* Penalize the errors in class probabilites => Metric is Log-loss.\n",
    "* No Latency constraints."
   ]
  },
  {
   "cell_type": "markdown",
   "metadata": {},
   "source": [
    "<h2>2.3. Train, CV and Test Datasets</h2>"
   ]
  },
  {
   "cell_type": "markdown",
   "metadata": {},
   "source": [
    " Split the dataset randomly into three parts train, cross validation and test with 64%,16%, 20% of data respectively"
   ]
  },
  {
   "cell_type": "markdown",
   "metadata": {},
   "source": [
    "<h1>3. Exploratory Data Analysis</h1>"
   ]
  },
  {
   "cell_type": "code",
   "execution_count": 1,
   "metadata": {},
   "outputs": [],
   "source": [
    "# General purpose related packages\n",
    "import pandas as pd\n",
    "import numpy as np\n",
    "import re\n",
    "import math\n",
    "import os\n",
    "import sys\n",
    "from datetime import datetime\n",
    "import pickle\n",
    "\n",
    "\n",
    "# import Visualization related packages\n",
    "import matplotlib.pyplot as plt\n",
    "import seaborn as sns\n",
    "sns.set()\n",
    "from sklearn.manifold import TSNE\n",
    "from wordcloud import WordCloud\n",
    "\n",
    "\n",
    "# Data Preprocessing related packages\n",
    "from nltk.corpus import stopwords\n",
    "from sklearn.preprocessing import normalize\n",
    "from sklearn.preprocessing import StandardScaler\n",
    "\n",
    "# Dim reduction related packages\n",
    "from sklearn.decomposition import TruncatedSVD\n",
    "\n",
    "# Feature Extraction related pacakages\n",
    "from sklearn.feature_extraction.text import TfidfVectorizer\n",
    "from sklearn.feature_extraction.text import CountVectorizer\n",
    "\n",
    "\n",
    "# Evaluation metrics related packages\n",
    "from sklearn.metrics import confusion_matrix\n",
    "from sklearn.metrics.classification import accuracy_score, log_loss\n",
    "\n",
    "\n",
    "# Model selection related packages\n",
    "from sklearn.model_selection import train_test_split\n",
    "from sklearn.model_selection import GridSearchCV\n",
    "\n",
    "# Model related packages\n",
    "from sklearn.linear_model import LogisticRegression"
   ]
  },
  {
   "cell_type": "markdown",
   "metadata": {},
   "source": [
    "# Confings"
   ]
  },
  {
   "cell_type": "code",
   "execution_count": 2,
   "metadata": {},
   "outputs": [],
   "source": [
    "base_dir = '/media/amd_3/20DAD539DAD50BC2/DSET_REPO/DataSets/CS02-PEARSON_CANCER/'\n",
    "sample_size = -1 # set sample size for test -1 for full data"
   ]
  },
  {
   "cell_type": "markdown",
   "metadata": {},
   "source": [
    "<h2>3.1. Reading Data</h2>"
   ]
  },
  {
   "cell_type": "markdown",
   "metadata": {},
   "source": [
    "<h3>3.1.1. Reading Gene and Variation Data</h3>"
   ]
  },
  {
   "cell_type": "code",
   "execution_count": 3,
   "metadata": {},
   "outputs": [
    {
     "name": "stdout",
     "output_type": "stream",
     "text": [
      "Number of data points :  3321\n",
      "Number of features :  4\n"
     ]
    },
    {
     "data": {
      "text/html": [
       "<div>\n",
       "<style scoped>\n",
       "    .dataframe tbody tr th:only-of-type {\n",
       "        vertical-align: middle;\n",
       "    }\n",
       "\n",
       "    .dataframe tbody tr th {\n",
       "        vertical-align: top;\n",
       "    }\n",
       "\n",
       "    .dataframe thead th {\n",
       "        text-align: right;\n",
       "    }\n",
       "</style>\n",
       "<table border=\"1\" class=\"dataframe\">\n",
       "  <thead>\n",
       "    <tr style=\"text-align: right;\">\n",
       "      <th></th>\n",
       "      <th>ID</th>\n",
       "      <th>Gene</th>\n",
       "      <th>Variation</th>\n",
       "      <th>Class</th>\n",
       "    </tr>\n",
       "  </thead>\n",
       "  <tbody>\n",
       "    <tr>\n",
       "      <th>0</th>\n",
       "      <td>0</td>\n",
       "      <td>FAM58A</td>\n",
       "      <td>Truncating Mutations</td>\n",
       "      <td>1</td>\n",
       "    </tr>\n",
       "    <tr>\n",
       "      <th>1</th>\n",
       "      <td>1</td>\n",
       "      <td>CBL</td>\n",
       "      <td>W802*</td>\n",
       "      <td>2</td>\n",
       "    </tr>\n",
       "    <tr>\n",
       "      <th>2</th>\n",
       "      <td>2</td>\n",
       "      <td>CBL</td>\n",
       "      <td>Q249E</td>\n",
       "      <td>2</td>\n",
       "    </tr>\n",
       "    <tr>\n",
       "      <th>3</th>\n",
       "      <td>3</td>\n",
       "      <td>CBL</td>\n",
       "      <td>N454D</td>\n",
       "      <td>3</td>\n",
       "    </tr>\n",
       "    <tr>\n",
       "      <th>4</th>\n",
       "      <td>4</td>\n",
       "      <td>CBL</td>\n",
       "      <td>L399V</td>\n",
       "      <td>4</td>\n",
       "    </tr>\n",
       "  </tbody>\n",
       "</table>\n",
       "</div>"
      ],
      "text/plain": [
       "   ID    Gene             Variation  Class\n",
       "0   0  FAM58A  Truncating Mutations      1\n",
       "1   1     CBL                 W802*      2\n",
       "2   2     CBL                 Q249E      2\n",
       "3   3     CBL                 N454D      3\n",
       "4   4     CBL                 L399V      4"
      ]
     },
     "execution_count": 3,
     "metadata": {},
     "output_type": "execute_result"
    }
   ],
   "source": [
    "data = pd.read_csv(os.path.join(base_dir, 'training_variants'))\n",
    "print('Number of data points : ', data.shape[0])\n",
    "print('Number of features : ', data.shape[1])\n",
    "data.head()"
   ]
  },
  {
   "cell_type": "markdown",
   "metadata": {},
   "source": [
    "<p>\n",
    "    training/training_variants is a comma separated file containing the description of the genetic mutations used for training. <br>\n",
    "    Fields are \n",
    "    <ul>\n",
    "        <li><b>ID : </b>the id of the row used to link the mutation to the clinical evidence</li>\n",
    "        <li><b>Gene : </b>the gene where this genetic mutation is located </li>\n",
    "        <li><b>Variation : </b>the aminoacid change for this mutations </li>\n",
    "        <li><b>Class :</b> 1-9 the class this genetic mutation has been classified on</li>\n",
    "    </ul>"
   ]
  },
  {
   "cell_type": "markdown",
   "metadata": {},
   "source": [
    "<h3>3.1.2. Reading Text Data</h3>"
   ]
  },
  {
   "cell_type": "code",
   "execution_count": 4,
   "metadata": {},
   "outputs": [
    {
     "name": "stdout",
     "output_type": "stream",
     "text": [
      "Number of data point :  3321\n",
      "Number of features :  2\n"
     ]
    },
    {
     "data": {
      "text/html": [
       "<div>\n",
       "<style scoped>\n",
       "    .dataframe tbody tr th:only-of-type {\n",
       "        vertical-align: middle;\n",
       "    }\n",
       "\n",
       "    .dataframe tbody tr th {\n",
       "        vertical-align: top;\n",
       "    }\n",
       "\n",
       "    .dataframe thead th {\n",
       "        text-align: right;\n",
       "    }\n",
       "</style>\n",
       "<table border=\"1\" class=\"dataframe\">\n",
       "  <thead>\n",
       "    <tr style=\"text-align: right;\">\n",
       "      <th></th>\n",
       "      <th>ID</th>\n",
       "      <th>TEXT</th>\n",
       "    </tr>\n",
       "  </thead>\n",
       "  <tbody>\n",
       "    <tr>\n",
       "      <th>0</th>\n",
       "      <td>0</td>\n",
       "      <td>Cyclin-dependent kinases (CDKs) regulate a var...</td>\n",
       "    </tr>\n",
       "    <tr>\n",
       "      <th>1</th>\n",
       "      <td>1</td>\n",
       "      <td>Abstract Background  Non-small cell lung canc...</td>\n",
       "    </tr>\n",
       "    <tr>\n",
       "      <th>2</th>\n",
       "      <td>2</td>\n",
       "      <td>Abstract Background  Non-small cell lung canc...</td>\n",
       "    </tr>\n",
       "    <tr>\n",
       "      <th>3</th>\n",
       "      <td>3</td>\n",
       "      <td>Recent evidence has demonstrated that acquired...</td>\n",
       "    </tr>\n",
       "    <tr>\n",
       "      <th>4</th>\n",
       "      <td>4</td>\n",
       "      <td>Oncogenic mutations in the monomeric Casitas B...</td>\n",
       "    </tr>\n",
       "  </tbody>\n",
       "</table>\n",
       "</div>"
      ],
      "text/plain": [
       "   ID                                               TEXT\n",
       "0   0  Cyclin-dependent kinases (CDKs) regulate a var...\n",
       "1   1   Abstract Background  Non-small cell lung canc...\n",
       "2   2   Abstract Background  Non-small cell lung canc...\n",
       "3   3  Recent evidence has demonstrated that acquired...\n",
       "4   4  Oncogenic mutations in the monomeric Casitas B..."
      ]
     },
     "execution_count": 4,
     "metadata": {},
     "output_type": "execute_result"
    }
   ],
   "source": [
    "# note the seprator in this file\n",
    "data_text =pd.read_csv(os.path.join(base_dir,'training_text'),\n",
    "                       sep='\\|\\|',engine='python',names=['ID','TEXT'], skiprows=1)\n",
    "print('Number of data point : ', data_text.shape[0])\n",
    "print('Number of features : ', data_text.shape[1])\n",
    "data_text.head()"
   ]
  },
  {
   "cell_type": "markdown",
   "metadata": {},
   "source": [
    "<h3>3.1.3. Preprocessing of text</h3>"
   ]
  },
  {
   "cell_type": "code",
   "execution_count": 5,
   "metadata": {},
   "outputs": [],
   "source": [
    "# loading stop words from nltk library\n",
    "stop_words = set(stopwords.words('english'))"
   ]
  },
  {
   "cell_type": "code",
   "execution_count": 6,
   "metadata": {},
   "outputs": [],
   "source": [
    "def clean_text(text_str):\n",
    "    \"\"\"\n",
    "    This function does cleaning of the text. IT \n",
    "    \"\"\"\n",
    "    \n",
    "    if  type(text_str) is not str:\n",
    "        print('There is no text description ',text_str)\n",
    "        return str()\n",
    "    \n",
    "    # STEP 1: replace every special char with space\n",
    "    text_str = re.sub('[^a-zA-Z0-9\\n]', ' ', text_str)\n",
    "    # STEP 2: converting all the chars into lower-case.\n",
    "    text_str = text_str.lower()\n",
    "    # STEP 3: Remove stop words\n",
    "    text_str = ' '.join(list(filter(lambda x : x not in stop_words, text_str.split())))\n",
    "    \n",
    "    return text_str"
   ]
  },
  {
   "cell_type": "code",
   "execution_count": 7,
   "metadata": {},
   "outputs": [
    {
     "name": "stdout",
     "output_type": "stream",
     "text": [
      "There is no text description  nan\n",
      "There is no text description  nan\n",
      "There is no text description  nan\n",
      "There is no text description  nan\n",
      "There is no text description  nan\n"
     ]
    },
    {
     "data": {
      "text/html": [
       "<div>\n",
       "<style scoped>\n",
       "    .dataframe tbody tr th:only-of-type {\n",
       "        vertical-align: middle;\n",
       "    }\n",
       "\n",
       "    .dataframe tbody tr th {\n",
       "        vertical-align: top;\n",
       "    }\n",
       "\n",
       "    .dataframe thead th {\n",
       "        text-align: right;\n",
       "    }\n",
       "</style>\n",
       "<table border=\"1\" class=\"dataframe\">\n",
       "  <thead>\n",
       "    <tr style=\"text-align: right;\">\n",
       "      <th></th>\n",
       "      <th>ID</th>\n",
       "      <th>TEXT</th>\n",
       "    </tr>\n",
       "  </thead>\n",
       "  <tbody>\n",
       "    <tr>\n",
       "      <th>0</th>\n",
       "      <td>0</td>\n",
       "      <td>cyclin dependent kinases cdks regulate variety...</td>\n",
       "    </tr>\n",
       "    <tr>\n",
       "      <th>1</th>\n",
       "      <td>1</td>\n",
       "      <td>abstract background non small cell lung cancer...</td>\n",
       "    </tr>\n",
       "    <tr>\n",
       "      <th>2</th>\n",
       "      <td>2</td>\n",
       "      <td>abstract background non small cell lung cancer...</td>\n",
       "    </tr>\n",
       "    <tr>\n",
       "      <th>3</th>\n",
       "      <td>3</td>\n",
       "      <td>recent evidence demonstrated acquired uniparen...</td>\n",
       "    </tr>\n",
       "    <tr>\n",
       "      <th>4</th>\n",
       "      <td>4</td>\n",
       "      <td>oncogenic mutations monomeric casitas b lineag...</td>\n",
       "    </tr>\n",
       "  </tbody>\n",
       "</table>\n",
       "</div>"
      ],
      "text/plain": [
       "   ID                                               TEXT\n",
       "0   0  cyclin dependent kinases cdks regulate variety...\n",
       "1   1  abstract background non small cell lung cancer...\n",
       "2   2  abstract background non small cell lung cancer...\n",
       "3   3  recent evidence demonstrated acquired uniparen...\n",
       "4   4  oncogenic mutations monomeric casitas b lineag..."
      ]
     },
     "execution_count": 7,
     "metadata": {},
     "output_type": "execute_result"
    }
   ],
   "source": [
    "data_text['TEXT'] = data_text['TEXT'].apply(clean_text)\n",
    "data_text.head()"
   ]
  },
  {
   "cell_type": "code",
   "execution_count": 8,
   "metadata": {},
   "outputs": [
    {
     "data": {
      "text/html": [
       "<div>\n",
       "<style scoped>\n",
       "    .dataframe tbody tr th:only-of-type {\n",
       "        vertical-align: middle;\n",
       "    }\n",
       "\n",
       "    .dataframe tbody tr th {\n",
       "        vertical-align: top;\n",
       "    }\n",
       "\n",
       "    .dataframe thead th {\n",
       "        text-align: right;\n",
       "    }\n",
       "</style>\n",
       "<table border=\"1\" class=\"dataframe\">\n",
       "  <thead>\n",
       "    <tr style=\"text-align: right;\">\n",
       "      <th></th>\n",
       "      <th>ID</th>\n",
       "      <th>Gene</th>\n",
       "      <th>Variation</th>\n",
       "      <th>TEXT</th>\n",
       "      <th>Class</th>\n",
       "    </tr>\n",
       "  </thead>\n",
       "  <tbody>\n",
       "    <tr>\n",
       "      <th>0</th>\n",
       "      <td>0</td>\n",
       "      <td>FAM58A</td>\n",
       "      <td>Truncating Mutations</td>\n",
       "      <td>cyclin dependent kinases cdks regulate variety...</td>\n",
       "      <td>1</td>\n",
       "    </tr>\n",
       "    <tr>\n",
       "      <th>1</th>\n",
       "      <td>1</td>\n",
       "      <td>CBL</td>\n",
       "      <td>W802*</td>\n",
       "      <td>abstract background non small cell lung cancer...</td>\n",
       "      <td>2</td>\n",
       "    </tr>\n",
       "    <tr>\n",
       "      <th>2</th>\n",
       "      <td>2</td>\n",
       "      <td>CBL</td>\n",
       "      <td>Q249E</td>\n",
       "      <td>abstract background non small cell lung cancer...</td>\n",
       "      <td>2</td>\n",
       "    </tr>\n",
       "    <tr>\n",
       "      <th>3</th>\n",
       "      <td>3</td>\n",
       "      <td>CBL</td>\n",
       "      <td>N454D</td>\n",
       "      <td>recent evidence demonstrated acquired uniparen...</td>\n",
       "      <td>3</td>\n",
       "    </tr>\n",
       "    <tr>\n",
       "      <th>4</th>\n",
       "      <td>4</td>\n",
       "      <td>CBL</td>\n",
       "      <td>L399V</td>\n",
       "      <td>oncogenic mutations monomeric casitas b lineag...</td>\n",
       "      <td>4</td>\n",
       "    </tr>\n",
       "  </tbody>\n",
       "</table>\n",
       "</div>"
      ],
      "text/plain": [
       "   ID    Gene             Variation  \\\n",
       "0   0  FAM58A  Truncating Mutations   \n",
       "1   1     CBL                 W802*   \n",
       "2   2     CBL                 Q249E   \n",
       "3   3     CBL                 N454D   \n",
       "4   4     CBL                 L399V   \n",
       "\n",
       "                                                TEXT  Class  \n",
       "0  cyclin dependent kinases cdks regulate variety...      1  \n",
       "1  abstract background non small cell lung cancer...      2  \n",
       "2  abstract background non small cell lung cancer...      2  \n",
       "3  recent evidence demonstrated acquired uniparen...      3  \n",
       "4  oncogenic mutations monomeric casitas b lineag...      4  "
      ]
     },
     "execution_count": 8,
     "metadata": {},
     "output_type": "execute_result"
    }
   ],
   "source": [
    "#merging both gene_variations and text data based on ID\n",
    "combined_df = pd.merge(data, data_text, on='ID', how='left')\n",
    "combined_df = combined_df[['ID', 'Gene', 'Variation', 'TEXT', 'Class']]\n",
    "combined_df.head()"
   ]
  },
  {
   "cell_type": "code",
   "execution_count": 9,
   "metadata": {},
   "outputs": [
    {
     "data": {
      "text/html": [
       "<div>\n",
       "<style scoped>\n",
       "    .dataframe tbody tr th:only-of-type {\n",
       "        vertical-align: middle;\n",
       "    }\n",
       "\n",
       "    .dataframe tbody tr th {\n",
       "        vertical-align: top;\n",
       "    }\n",
       "\n",
       "    .dataframe thead th {\n",
       "        text-align: right;\n",
       "    }\n",
       "</style>\n",
       "<table border=\"1\" class=\"dataframe\">\n",
       "  <thead>\n",
       "    <tr style=\"text-align: right;\">\n",
       "      <th></th>\n",
       "      <th>ID</th>\n",
       "      <th>Gene</th>\n",
       "      <th>Variation</th>\n",
       "      <th>TEXT</th>\n",
       "      <th>Class</th>\n",
       "    </tr>\n",
       "  </thead>\n",
       "  <tbody>\n",
       "    <tr>\n",
       "      <th>1109</th>\n",
       "      <td>1109</td>\n",
       "      <td>FANCA</td>\n",
       "      <td>S1088F</td>\n",
       "      <td></td>\n",
       "      <td>1</td>\n",
       "    </tr>\n",
       "    <tr>\n",
       "      <th>1277</th>\n",
       "      <td>1277</td>\n",
       "      <td>ARID5B</td>\n",
       "      <td>Truncating Mutations</td>\n",
       "      <td></td>\n",
       "      <td>1</td>\n",
       "    </tr>\n",
       "    <tr>\n",
       "      <th>1407</th>\n",
       "      <td>1407</td>\n",
       "      <td>FGFR3</td>\n",
       "      <td>K508M</td>\n",
       "      <td></td>\n",
       "      <td>6</td>\n",
       "    </tr>\n",
       "    <tr>\n",
       "      <th>1639</th>\n",
       "      <td>1639</td>\n",
       "      <td>FLT1</td>\n",
       "      <td>Amplification</td>\n",
       "      <td></td>\n",
       "      <td>6</td>\n",
       "    </tr>\n",
       "    <tr>\n",
       "      <th>2755</th>\n",
       "      <td>2755</td>\n",
       "      <td>BRAF</td>\n",
       "      <td>G596C</td>\n",
       "      <td></td>\n",
       "      <td>7</td>\n",
       "    </tr>\n",
       "  </tbody>\n",
       "</table>\n",
       "</div>"
      ],
      "text/plain": [
       "        ID    Gene             Variation TEXT  Class\n",
       "1109  1109   FANCA                S1088F           1\n",
       "1277  1277  ARID5B  Truncating Mutations           1\n",
       "1407  1407   FGFR3                 K508M           6\n",
       "1639  1639    FLT1         Amplification           6\n",
       "2755  2755    BRAF                 G596C           7"
      ]
     },
     "execution_count": 9,
     "metadata": {},
     "output_type": "execute_result"
    }
   ],
   "source": [
    "# display all rows where the text is empty\n",
    "text_empty_df = combined_df[combined_df['TEXT'].apply(len) == 0]\n",
    "empy_ids = text_empty_df.index.tolist()\n",
    "text_empty_df"
   ]
  },
  {
   "cell_type": "code",
   "execution_count": 10,
   "metadata": {},
   "outputs": [
    {
     "data": {
      "text/html": [
       "<div>\n",
       "<style scoped>\n",
       "    .dataframe tbody tr th:only-of-type {\n",
       "        vertical-align: middle;\n",
       "    }\n",
       "\n",
       "    .dataframe tbody tr th {\n",
       "        vertical-align: top;\n",
       "    }\n",
       "\n",
       "    .dataframe thead th {\n",
       "        text-align: right;\n",
       "    }\n",
       "</style>\n",
       "<table border=\"1\" class=\"dataframe\">\n",
       "  <thead>\n",
       "    <tr style=\"text-align: right;\">\n",
       "      <th></th>\n",
       "      <th>ID</th>\n",
       "      <th>Gene</th>\n",
       "      <th>Variation</th>\n",
       "      <th>TEXT</th>\n",
       "      <th>Class</th>\n",
       "    </tr>\n",
       "  </thead>\n",
       "  <tbody>\n",
       "    <tr>\n",
       "      <th>0</th>\n",
       "      <td>0</td>\n",
       "      <td>FAM58A</td>\n",
       "      <td>Truncating Mutations</td>\n",
       "      <td>cyclin dependent kinases cdks regulate variety...</td>\n",
       "      <td>1</td>\n",
       "    </tr>\n",
       "    <tr>\n",
       "      <th>1</th>\n",
       "      <td>1</td>\n",
       "      <td>CBL</td>\n",
       "      <td>W802*</td>\n",
       "      <td>abstract background non small cell lung cancer...</td>\n",
       "      <td>2</td>\n",
       "    </tr>\n",
       "    <tr>\n",
       "      <th>2</th>\n",
       "      <td>2</td>\n",
       "      <td>CBL</td>\n",
       "      <td>Q249E</td>\n",
       "      <td>abstract background non small cell lung cancer...</td>\n",
       "      <td>2</td>\n",
       "    </tr>\n",
       "    <tr>\n",
       "      <th>3</th>\n",
       "      <td>3</td>\n",
       "      <td>CBL</td>\n",
       "      <td>N454D</td>\n",
       "      <td>recent evidence demonstrated acquired uniparen...</td>\n",
       "      <td>3</td>\n",
       "    </tr>\n",
       "    <tr>\n",
       "      <th>4</th>\n",
       "      <td>4</td>\n",
       "      <td>CBL</td>\n",
       "      <td>L399V</td>\n",
       "      <td>oncogenic mutations monomeric casitas b lineag...</td>\n",
       "      <td>4</td>\n",
       "    </tr>\n",
       "  </tbody>\n",
       "</table>\n",
       "</div>"
      ],
      "text/plain": [
       "   ID    Gene             Variation  \\\n",
       "0   0  FAM58A  Truncating Mutations   \n",
       "1   1     CBL                 W802*   \n",
       "2   2     CBL                 Q249E   \n",
       "3   3     CBL                 N454D   \n",
       "4   4     CBL                 L399V   \n",
       "\n",
       "                                                TEXT  Class  \n",
       "0  cyclin dependent kinases cdks regulate variety...      1  \n",
       "1  abstract background non small cell lung cancer...      2  \n",
       "2  abstract background non small cell lung cancer...      2  \n",
       "3  recent evidence demonstrated acquired uniparen...      3  \n",
       "4  oncogenic mutations monomeric casitas b lineag...      4  "
      ]
     },
     "execution_count": 10,
     "metadata": {},
     "output_type": "execute_result"
    }
   ],
   "source": [
    "# replace nan values gene + variation string \n",
    "combined_df.loc[empy_ids, 'TEXT'] =  combined_df['Gene'] + ' ' + combined_df['Variation']\n",
    "combined_df.head()"
   ]
  },
  {
   "cell_type": "code",
   "execution_count": 11,
   "metadata": {},
   "outputs": [
    {
     "data": {
      "text/plain": [
       "1109                   FANCA S1088F\n",
       "1277    ARID5B Truncating Mutations\n",
       "1407                    FGFR3 K508M\n",
       "1639             FLT1 Amplification\n",
       "2755                     BRAF G596C\n",
       "Name: TEXT, dtype: object"
      ]
     },
     "execution_count": 11,
     "metadata": {},
     "output_type": "execute_result"
    }
   ],
   "source": [
    "combined_df.loc[empy_ids, 'TEXT']"
   ]
  },
  {
   "cell_type": "code",
   "execution_count": 12,
   "metadata": {},
   "outputs": [
    {
     "data": {
      "text/plain": [
       "ID            int64\n",
       "Gene         object\n",
       "Variation    object\n",
       "TEXT         object\n",
       "Class         int64\n",
       "dtype: object"
      ]
     },
     "execution_count": 12,
     "metadata": {},
     "output_type": "execute_result"
    }
   ],
   "source": [
    "combined_df.dtypes"
   ]
  },
  {
   "cell_type": "markdown",
   "metadata": {},
   "source": [
    "### Remove extra spaces and join two words with an underscore"
   ]
  },
  {
   "cell_type": "code",
   "execution_count": 13,
   "metadata": {},
   "outputs": [
    {
     "data": {
      "text/html": [
       "<div>\n",
       "<style scoped>\n",
       "    .dataframe tbody tr th:only-of-type {\n",
       "        vertical-align: middle;\n",
       "    }\n",
       "\n",
       "    .dataframe tbody tr th {\n",
       "        vertical-align: top;\n",
       "    }\n",
       "\n",
       "    .dataframe thead th {\n",
       "        text-align: right;\n",
       "    }\n",
       "</style>\n",
       "<table border=\"1\" class=\"dataframe\">\n",
       "  <thead>\n",
       "    <tr style=\"text-align: right;\">\n",
       "      <th></th>\n",
       "      <th>ID</th>\n",
       "      <th>Gene</th>\n",
       "      <th>Variation</th>\n",
       "      <th>TEXT</th>\n",
       "      <th>Class</th>\n",
       "    </tr>\n",
       "  </thead>\n",
       "  <tbody>\n",
       "    <tr>\n",
       "      <th>0</th>\n",
       "      <td>0</td>\n",
       "      <td>FAM58A</td>\n",
       "      <td>Truncating_Mutations</td>\n",
       "      <td>cyclin dependent kinases cdks regulate variety...</td>\n",
       "      <td>1</td>\n",
       "    </tr>\n",
       "    <tr>\n",
       "      <th>1</th>\n",
       "      <td>1</td>\n",
       "      <td>CBL</td>\n",
       "      <td>W802*</td>\n",
       "      <td>abstract background non small cell lung cancer...</td>\n",
       "      <td>2</td>\n",
       "    </tr>\n",
       "    <tr>\n",
       "      <th>2</th>\n",
       "      <td>2</td>\n",
       "      <td>CBL</td>\n",
       "      <td>Q249E</td>\n",
       "      <td>abstract background non small cell lung cancer...</td>\n",
       "      <td>2</td>\n",
       "    </tr>\n",
       "    <tr>\n",
       "      <th>3</th>\n",
       "      <td>3</td>\n",
       "      <td>CBL</td>\n",
       "      <td>N454D</td>\n",
       "      <td>recent evidence demonstrated acquired uniparen...</td>\n",
       "      <td>3</td>\n",
       "    </tr>\n",
       "    <tr>\n",
       "      <th>4</th>\n",
       "      <td>4</td>\n",
       "      <td>CBL</td>\n",
       "      <td>L399V</td>\n",
       "      <td>oncogenic mutations monomeric casitas b lineag...</td>\n",
       "      <td>4</td>\n",
       "    </tr>\n",
       "  </tbody>\n",
       "</table>\n",
       "</div>"
      ],
      "text/plain": [
       "   ID    Gene             Variation  \\\n",
       "0   0  FAM58A  Truncating_Mutations   \n",
       "1   1     CBL                 W802*   \n",
       "2   2     CBL                 Q249E   \n",
       "3   3     CBL                 N454D   \n",
       "4   4     CBL                 L399V   \n",
       "\n",
       "                                                TEXT  Class  \n",
       "0  cyclin dependent kinases cdks regulate variety...      1  \n",
       "1  abstract background non small cell lung cancer...      2  \n",
       "2  abstract background non small cell lung cancer...      2  \n",
       "3  recent evidence demonstrated acquired uniparen...      3  \n",
       "4  oncogenic mutations monomeric casitas b lineag...      4  "
      ]
     },
     "execution_count": 13,
     "metadata": {},
     "output_type": "execute_result"
    }
   ],
   "source": [
    "combined_df['Gene'] = combined_df['Gene'].apply(lambda x : '_'.join(x.split()))\n",
    "combined_df['Variation'] = combined_df['Variation'].apply(lambda x : '_'.join(x.split()))\n",
    "combined_df.head()"
   ]
  },
  {
   "cell_type": "markdown",
   "metadata": {},
   "source": [
    "<h3>3.1.4 Train, Validationand  and Test Split</h3>"
   ]
  },
  {
   "cell_type": "code",
   "execution_count": 14,
   "metadata": {},
   "outputs": [
    {
     "data": {
      "text/plain": [
       "7    953\n",
       "4    686\n",
       "1    568\n",
       "2    452\n",
       "6    275\n",
       "5    242\n",
       "3     89\n",
       "9     37\n",
       "8     19\n",
       "Name: Class, dtype: int64"
      ]
     },
     "execution_count": 14,
     "metadata": {},
     "output_type": "execute_result"
    }
   ],
   "source": [
    "if sample_size > 0:\n",
    "    combined_df = combined_df.groupby(['Class']).apply(lambda x : x.sample(n= min(sample_size, \n",
    "                    x.shape[0])))\n",
    "    \n",
    "combined_df['Class'].value_counts()"
   ]
  },
  {
   "cell_type": "markdown",
   "metadata": {},
   "source": [
    "<h4>3.1.4.1. Splitting data into train, test and cross validation (64:20:16)</h4>"
   ]
  },
  {
   "cell_type": "code",
   "execution_count": 15,
   "metadata": {},
   "outputs": [],
   "source": [
    "# split the data into train and test by maintaining same distribution of class\n",
    "train_df, test_df  = train_test_split(combined_df, stratify=combined_df['Class'], \n",
    "                                      test_size=0.3, shuffle=True)\n",
    "\n",
    "# reset index\n",
    "train_df = train_df.reset_index(drop=True)\n",
    "test_df = test_df.reset_index(drop=True)"
   ]
  },
  {
   "cell_type": "markdown",
   "metadata": {},
   "source": [
    "<p> We split the data into train, test and cross validation data sets, preserving the ratio of class distribution in the original data set  </p>"
   ]
  },
  {
   "cell_type": "code",
   "execution_count": 16,
   "metadata": {},
   "outputs": [
    {
     "name": "stdout",
     "output_type": "stream",
     "text": [
      "Number of data points in train data: 2324\n",
      "Number of data points in test data: 997\n"
     ]
    },
    {
     "data": {
      "text/html": [
       "<div>\n",
       "<style scoped>\n",
       "    .dataframe tbody tr th:only-of-type {\n",
       "        vertical-align: middle;\n",
       "    }\n",
       "\n",
       "    .dataframe tbody tr th {\n",
       "        vertical-align: top;\n",
       "    }\n",
       "\n",
       "    .dataframe thead th {\n",
       "        text-align: right;\n",
       "    }\n",
       "</style>\n",
       "<table border=\"1\" class=\"dataframe\">\n",
       "  <thead>\n",
       "    <tr style=\"text-align: right;\">\n",
       "      <th></th>\n",
       "      <th>ID</th>\n",
       "      <th>Gene</th>\n",
       "      <th>Variation</th>\n",
       "      <th>TEXT</th>\n",
       "      <th>Class</th>\n",
       "    </tr>\n",
       "  </thead>\n",
       "  <tbody>\n",
       "    <tr>\n",
       "      <th>0</th>\n",
       "      <td>837</td>\n",
       "      <td>ABL1</td>\n",
       "      <td>BCR-ABL1_Fusion</td>\n",
       "      <td>bcr abl oncogene generated philadelphia chromo...</td>\n",
       "      <td>7</td>\n",
       "    </tr>\n",
       "    <tr>\n",
       "      <th>1</th>\n",
       "      <td>493</td>\n",
       "      <td>TP53</td>\n",
       "      <td>R156C</td>\n",
       "      <td>tumor suppressor p53 dependent apoptosis thoug...</td>\n",
       "      <td>1</td>\n",
       "    </tr>\n",
       "    <tr>\n",
       "      <th>2</th>\n",
       "      <td>1376</td>\n",
       "      <td>AKT2</td>\n",
       "      <td>Amplification</td>\n",
       "      <td>previously demonstrated putative oncogene akt2...</td>\n",
       "      <td>7</td>\n",
       "    </tr>\n",
       "    <tr>\n",
       "      <th>3</th>\n",
       "      <td>3283</td>\n",
       "      <td>RET</td>\n",
       "      <td>E768D</td>\n",
       "      <td>several mutations identi ed kinase domain ret ...</td>\n",
       "      <td>2</td>\n",
       "    </tr>\n",
       "    <tr>\n",
       "      <th>4</th>\n",
       "      <td>2708</td>\n",
       "      <td>BRAF</td>\n",
       "      <td>FAM131B-BRAF_Fusion</td>\n",
       "      <td>genes crucial cancer development mutated via v...</td>\n",
       "      <td>7</td>\n",
       "    </tr>\n",
       "  </tbody>\n",
       "</table>\n",
       "</div>"
      ],
      "text/plain": [
       "     ID  Gene            Variation  \\\n",
       "0   837  ABL1      BCR-ABL1_Fusion   \n",
       "1   493  TP53                R156C   \n",
       "2  1376  AKT2        Amplification   \n",
       "3  3283   RET                E768D   \n",
       "4  2708  BRAF  FAM131B-BRAF_Fusion   \n",
       "\n",
       "                                                TEXT  Class  \n",
       "0  bcr abl oncogene generated philadelphia chromo...      7  \n",
       "1  tumor suppressor p53 dependent apoptosis thoug...      1  \n",
       "2  previously demonstrated putative oncogene akt2...      7  \n",
       "3  several mutations identi ed kinase domain ret ...      2  \n",
       "4  genes crucial cancer development mutated via v...      7  "
      ]
     },
     "execution_count": 16,
     "metadata": {},
     "output_type": "execute_result"
    }
   ],
   "source": [
    "print('Number of data points in train data:', train_df.shape[0])\n",
    "print('Number of data points in test data:', test_df.shape[0])\n",
    "train_df.head()"
   ]
  },
  {
   "cell_type": "code",
   "execution_count": 17,
   "metadata": {},
   "outputs": [],
   "source": [
    "def show_class_distribution(df, title):\n",
    "    \"\"\"\n",
    "    This function displays the distribution of each class as a barchart\n",
    "    \"\"\"\n",
    "    count_df = pd.DataFrame(list(dict(df['Class'].value_counts()).items()), \n",
    "                            columns=['Class', 'Count'])\n",
    "    \n",
    "    plt.title('Class Distribution of '+ title + ' Data')\n",
    "    plt.xlabel('Class')\n",
    "    plt.ylabel('Count')\n",
    "    sns.barplot(x='Class', y =count_df['Count'], data=count_df)\n",
    "    \n",
    "    plt.show()"
   ]
  },
  {
   "cell_type": "code",
   "execution_count": 18,
   "metadata": {},
   "outputs": [
    {
     "data": {
      "image/png": "[encoded data removed]",
      "text/plain": [
       "<Figure size 432x288 with 1 Axes>"
      ]
     },
     "metadata": {},
     "output_type": "display_data"
    }
   ],
   "source": [
    "show_class_distribution(train_df, 'train')"
   ]
  },
  {
   "cell_type": "code",
   "execution_count": 19,
   "metadata": {},
   "outputs": [
    {
     "data": {
      "image/png": "[encoded data removed]",
      "text/plain": [
       "<Figure size 432x288 with 1 Axes>"
      ]
     },
     "metadata": {},
     "output_type": "display_data"
    }
   ],
   "source": [
    "show_class_distribution(test_df, 'test')"
   ]
  },
  {
   "cell_type": "markdown",
   "metadata": {},
   "source": [
    "<h4> Observations </h4>\n",
    "<ul>\n",
    "<li> The dataset is not a balanced dataset </li>\n",
    "<li> The number of samples in class 3,8,9 is very less compared to others </li>\n",
    "</ul>"
   ]
  },
  {
   "cell_type": "markdown",
   "metadata": {},
   "source": [
    "<h2>3.2 Prediction using a 'Random' Model</h2>"
   ]
  },
  {
   "cell_type": "markdown",
   "metadata": {},
   "source": [
    "<p style=\"font-size:16px\"> In a 'Random' Model, we generate the NINE class probabilites randomly such that they sum to 1. </p>"
   ]
  },
  {
   "cell_type": "code",
   "execution_count": 20,
   "metadata": {},
   "outputs": [],
   "source": [
    "def plot_confusion_matrix(test_y, predict_y):\n",
    "    \n",
    "    # declarea all possible labels\n",
    "    num_class = 9\n",
    "    labels_list = range(1, num_class + 1)\n",
    "    \n",
    "    # get confusion matrix\n",
    "    conf_matrix = confusion_matrix(test_y, predict_y, labels=labels_list)\n",
    "    conf_matrix = pd.DataFrame(conf_matrix)\n",
    "\n",
    "    # get precision matrix\n",
    "    precision_matrix = conf_matrix.div(conf_matrix.sum(axis=0), axis=0) \n",
    "    \n",
    "    # get recall matrix\n",
    "    recall_matrix = conf_matrix.div(conf_matrix.sum(axis=1), axis=0)\n",
    "\n",
    "    # representing Confusion matrix\n",
    "    print(\"=\"*100)\n",
    "    plt.figure(figsize=(20,7))\n",
    "    sns.heatmap(conf_matrix, annot=True, cmap='YlGnBu', fmt='g', xticklabels=labels_list, \n",
    "                yticklabels=labels_list)\n",
    "    plt.xlabel('Predicted Class')\n",
    "    plt.ylabel('True Class')\n",
    "    plt.title('Confusion Matrix')\n",
    "    plt.show()\n",
    "\n",
    "    \n",
    "    # Representing Precision Matrix\n",
    "    print(\"=\"*100)\n",
    "    plt.figure(figsize=(20,7))\n",
    "    sns.heatmap(precision_matrix, annot=True, cmap='YlGnBu', fmt='.3f', xticklabels=labels_list, \n",
    "                yticklabels=labels_list)\n",
    "    plt.xlabel('Predicted Class')\n",
    "    plt.ylabel('True Class')\n",
    "    plt.title('Precision Matrix')\n",
    "    plt.show()\n",
    "    \n",
    "    # representing Recall Matrix\n",
    "    print(\"-\"*100)\n",
    "    plt.figure(figsize=(20,7))\n",
    "    sns.heatmap(recall_matrix, annot=True, cmap='YlGnBu', fmt='.3f', xticklabels=labels_list,\n",
    "                yticklabels=labels_list)\n",
    "    plt.xlabel('Predicted Class')\n",
    "    plt.ylabel('True Class')\n",
    "    plt.title('Recall Matrix')\n",
    "    plt.show()"
   ]
  },
  {
   "cell_type": "markdown",
   "metadata": {},
   "source": [
    "## Loss from the random model on validation, test data"
   ]
  },
  {
   "cell_type": "code",
   "execution_count": 21,
   "metadata": {},
   "outputs": [],
   "source": [
    "def predict_using_random_model(df, df_type):\n",
    "\n",
    "    # create a random prediction dataframe\n",
    "    rand_df = pd.DataFrame(np.random.rand(df.shape[0], 9))\n",
    "\n",
    "    # convert each row into a probability distribution\n",
    "    rand_df = rand_df.div(rand_df.sum(axis=1), axis=0)\n",
    "    \n",
    "    # compute log loss\n",
    "    log_loss_val = log_loss(df['Class'], rand_df.values, eps=1e-15)\n",
    "\n",
    "    # get log loss on validation from the random model prediction\n",
    "    print('Log loss on %s data using Random Model : %f'%(df_type, log_loss_val,))\n",
    "    \n",
    "    return rand_df"
   ]
  },
  {
   "cell_type": "code",
   "execution_count": 22,
   "metadata": {},
   "outputs": [
    {
     "name": "stdout",
     "output_type": "stream",
     "text": [
      "Log loss on Test data using Random Model : 2.506966\n"
     ]
    }
   ],
   "source": [
    "rand_df_test = predict_using_random_model(test_df, 'Test')"
   ]
  },
  {
   "cell_type": "markdown",
   "metadata": {},
   "source": [
    "## Plot random model confusion matrix, precision matrix, recall matrix on test data"
   ]
  },
  {
   "cell_type": "code",
   "execution_count": 23,
   "metadata": {},
   "outputs": [
    {
     "name": "stdout",
     "output_type": "stream",
     "text": [
      "====================================================================================================\n"
     ]
    },
    {
     "data": {
      "image/png": "[encoded data removed]",
      "text/plain": [
       "<Figure size 1440x504 with 2 Axes>"
      ]
     },
     "metadata": {},
     "output_type": "display_data"
    },
    {
     "name": "stdout",
     "output_type": "stream",
     "text": [
      "====================================================================================================\n"
     ]
    },
    {
     "data": {
      "image/png": "[encoded data removed]",
      "text/plain": [
       "<Figure size 1440x504 with 2 Axes>"
      ]
     },
     "metadata": {},
     "output_type": "display_data"
    },
    {
     "name": "stdout",
     "output_type": "stream",
     "text": [
      "----------------------------------------------------------------------------------------------------\n"
     ]
    },
    {
     "data": {
      "image/png": "[encoded data removed]",
      "text/plain": [
       "<Figure size 1440x504 with 2 Axes>"
      ]
     },
     "metadata": {},
     "output_type": "display_data"
    }
   ],
   "source": [
    "predicted_y_test = np.argmax(rand_df_test.values, axis=1)\n",
    "plot_confusion_matrix(test_df['Class'], predicted_y_test)"
   ]
  },
  {
   "cell_type": "markdown",
   "metadata": {},
   "source": [
    "<h3> Observations </h3>\n",
    "<ul>\n",
    "<li> Rnadom model has test log loss of 2.5069 </li>\n",
    "<li> Random model did not predict any instance as class 9</li>\n",
    "</ul>"
   ]
  },
  {
   "cell_type": "markdown",
   "metadata": {},
   "source": [
    "## Encoding of Categorical Values"
   ]
  },
  {
   "cell_type": "markdown",
   "metadata": {},
   "source": [
    "<p style=\"font-size:18px;\"> <b>Q3.</b> How to featurize this Gene feature ?</p>\n",
    "\n",
    "<p style=\"font-size:16px;\"><b>Ans.</b>there are two ways we can featurize this variable\n",
    "check out this video: https://www.appliedaicourse.com/course/applied-ai-course-online/lessons/handling-categorical-and-numerical-features/\n",
    "<ol><li>One hot Encoding</li><li>Response coding</li></ol></p>\n",
    "<p> We will choose the appropriate featurization based on the ML model we use.  For this problem of multi-class classification with categorical features, one-hot encoding is better for Logistic regression while response coding is better for Random Forests. </p>"
   ]
  },
  {
   "cell_type": "markdown",
   "metadata": {},
   "source": [
    "### a) Response encoding of categorical values (Gene & Variation)"
   ]
  },
  {
   "cell_type": "code",
   "execution_count": 24,
   "metadata": {},
   "outputs": [],
   "source": [
    "def get_response_encoded_dict(df, feat_name, alpha_val):\n",
    "    \n",
    "    # set labels list\n",
    "    labels_list = list(range(1,10)) # we have 9 clasess (1 to 9)\n",
    "    \n",
    "    # get the total count for each categorical value as a dictionary\n",
    "    value_counts = dict(df[feat_name].value_counts())\n",
    "    \n",
    "    # declare a dictionary for response encoded vectors\n",
    "    response_coded_dict = dict()\n",
    "    \n",
    "    # group by on feature column\n",
    "    for category_name, feat_df in df.groupby([feat_name]):\n",
    "        \n",
    "        # declare a vector for this category name\n",
    "        responde_encoding_vec = list()\n",
    "        \n",
    "        for label in labels_list:\n",
    "            # set numerator for each label\n",
    "            numerator = feat_df[feat_df['Class'] == label].shape[0]\n",
    "            denominator = value_counts[category_name]\n",
    "            # append it to list\n",
    "            responde_encoding_vec.append((numerator + 10 * alpha_val) / \n",
    "                                     (denominator + 90 * alpha_val))\n",
    "\n",
    "        # save the response encoded vector for this category\n",
    "        response_coded_dict[category_name] = responde_encoding_vec\n",
    "        \n",
    "        \n",
    "    return response_coded_dict"
   ]
  },
  {
   "cell_type": "code",
   "execution_count": 25,
   "metadata": {},
   "outputs": [],
   "source": [
    "def get_response_encoded_data(df, response_coded_dict, feat_name):\n",
    "    \n",
    "    # set number of clasess\n",
    "    num_clasess = 9\n",
    "    \n",
    "    # declare a data list for encoded data\n",
    "    encoded_data_list = list()\n",
    "    \n",
    "    # encode each category\n",
    "    for category in df[feat_name]:\n",
    "        \n",
    "        try:\n",
    "            vector = response_coded_dict[category]\n",
    "            encoded_data_list.append(vector)\n",
    "            \n",
    "        except: # in case the feature is not present in train df assign equal values\n",
    "                # to all dimensions\n",
    "            encoded_data_list.append([1 / num_clasess] * num_clasess )\n",
    "        \n",
    "    # create encoded data df\n",
    "    col_names = [feat_name + '_cls_' + str(item) for item in range(1, num_clasess + 1)]\n",
    "    encoded_df = pd.DataFrame(encoded_data_list, columns=col_names)\n",
    "    \n",
    "    # normalize the data frame\n",
    "    encoded_df = pd.DataFrame(normalize(encoded_df.values, norm='l2', axis=1), \n",
    "                              columns=col_names)\n",
    "    \n",
    "    return encoded_df"
   ]
  },
  {
   "cell_type": "code",
   "execution_count": 26,
   "metadata": {},
   "outputs": [
    {
     "name": "stdout",
     "output_type": "stream",
     "text": [
      "Number of different gene values : 243\n",
      "Number of different variation values : 2094\n"
     ]
    }
   ],
   "source": [
    "alpha_val = 1.0\n",
    "res_gene_encoded_dict = get_response_encoded_dict(train_df, 'Gene', alpha_val)\n",
    "res_variation_encoded_dict = get_response_encoded_dict(train_df, 'Variation', alpha_val)\n",
    "print('Number of different gene values :', len(res_gene_encoded_dict))\n",
    "print('Number of different variation values :', len(res_variation_encoded_dict))"
   ]
  },
  {
   "cell_type": "markdown",
   "metadata": {},
   "source": [
    "### a1) Get response encoded Gene data"
   ]
  },
  {
   "cell_type": "code",
   "execution_count": 27,
   "metadata": {},
   "outputs": [
    {
     "data": {
      "text/html": [
       "<div>\n",
       "<style scoped>\n",
       "    .dataframe tbody tr th:only-of-type {\n",
       "        vertical-align: middle;\n",
       "    }\n",
       "\n",
       "    .dataframe tbody tr th {\n",
       "        vertical-align: top;\n",
       "    }\n",
       "\n",
       "    .dataframe thead th {\n",
       "        text-align: right;\n",
       "    }\n",
       "</style>\n",
       "<table border=\"1\" class=\"dataframe\">\n",
       "  <thead>\n",
       "    <tr style=\"text-align: right;\">\n",
       "      <th></th>\n",
       "      <th>Gene_cls_1</th>\n",
       "      <th>Gene_cls_2</th>\n",
       "      <th>Gene_cls_3</th>\n",
       "      <th>Gene_cls_4</th>\n",
       "      <th>Gene_cls_5</th>\n",
       "      <th>Gene_cls_6</th>\n",
       "      <th>Gene_cls_7</th>\n",
       "      <th>Gene_cls_8</th>\n",
       "      <th>Gene_cls_9</th>\n",
       "    </tr>\n",
       "  </thead>\n",
       "  <tbody>\n",
       "    <tr>\n",
       "      <th>0</th>\n",
       "      <td>0.133363</td>\n",
       "      <td>0.102587</td>\n",
       "      <td>0.153881</td>\n",
       "      <td>0.943801</td>\n",
       "      <td>0.123104</td>\n",
       "      <td>0.102587</td>\n",
       "      <td>0.102587</td>\n",
       "      <td>0.102587</td>\n",
       "      <td>0.102587</td>\n",
       "    </tr>\n",
       "    <tr>\n",
       "      <th>1</th>\n",
       "      <td>0.527026</td>\n",
       "      <td>0.087838</td>\n",
       "      <td>0.210810</td>\n",
       "      <td>0.324999</td>\n",
       "      <td>0.614864</td>\n",
       "      <td>0.404053</td>\n",
       "      <td>0.087838</td>\n",
       "      <td>0.087838</td>\n",
       "      <td>0.087838</td>\n",
       "    </tr>\n",
       "    <tr>\n",
       "      <th>2</th>\n",
       "      <td>0.298829</td>\n",
       "      <td>0.353162</td>\n",
       "      <td>0.271663</td>\n",
       "      <td>0.298829</td>\n",
       "      <td>0.271663</td>\n",
       "      <td>0.325995</td>\n",
       "      <td>0.543326</td>\n",
       "      <td>0.271663</td>\n",
       "      <td>0.271663</td>\n",
       "    </tr>\n",
       "    <tr>\n",
       "      <th>3</th>\n",
       "      <td>0.192095</td>\n",
       "      <td>0.268933</td>\n",
       "      <td>0.345770</td>\n",
       "      <td>0.192095</td>\n",
       "      <td>0.249723</td>\n",
       "      <td>0.192095</td>\n",
       "      <td>0.749169</td>\n",
       "      <td>0.192095</td>\n",
       "      <td>0.192095</td>\n",
       "    </tr>\n",
       "    <tr>\n",
       "      <th>4</th>\n",
       "      <td>0.147154</td>\n",
       "      <td>0.529756</td>\n",
       "      <td>0.147154</td>\n",
       "      <td>0.147154</td>\n",
       "      <td>0.147154</td>\n",
       "      <td>0.161870</td>\n",
       "      <td>0.750487</td>\n",
       "      <td>0.147154</td>\n",
       "      <td>0.147154</td>\n",
       "    </tr>\n",
       "  </tbody>\n",
       "</table>\n",
       "</div>"
      ],
      "text/plain": [
       "   Gene_cls_1  Gene_cls_2  Gene_cls_3  Gene_cls_4  Gene_cls_5  Gene_cls_6  \\\n",
       "0    0.133363    0.102587    0.153881    0.943801    0.123104    0.102587   \n",
       "1    0.527026    0.087838    0.210810    0.324999    0.614864    0.404053   \n",
       "2    0.298829    0.353162    0.271663    0.298829    0.271663    0.325995   \n",
       "3    0.192095    0.268933    0.345770    0.192095    0.249723    0.192095   \n",
       "4    0.147154    0.529756    0.147154    0.147154    0.147154    0.161870   \n",
       "\n",
       "   Gene_cls_7  Gene_cls_8  Gene_cls_9  \n",
       "0    0.102587    0.102587    0.102587  \n",
       "1    0.087838    0.087838    0.087838  \n",
       "2    0.543326    0.271663    0.271663  \n",
       "3    0.749169    0.192095    0.192095  \n",
       "4    0.750487    0.147154    0.147154  "
      ]
     },
     "execution_count": 27,
     "metadata": {},
     "output_type": "execute_result"
    }
   ],
   "source": [
    "res_encoded_gene_train = get_response_encoded_data(train_df, res_gene_encoded_dict, 'Gene')\n",
    "res_encoded_gene_test = get_response_encoded_data(test_df, res_gene_encoded_dict, 'Gene')\n",
    "res_encoded_gene_test.head()"
   ]
  },
  {
   "cell_type": "markdown",
   "metadata": {},
   "source": [
    "### a2) Get response encoded variation data"
   ]
  },
  {
   "cell_type": "code",
   "execution_count": 28,
   "metadata": {},
   "outputs": [
    {
     "data": {
      "text/html": [
       "<div>\n",
       "<style scoped>\n",
       "    .dataframe tbody tr th:only-of-type {\n",
       "        vertical-align: middle;\n",
       "    }\n",
       "\n",
       "    .dataframe tbody tr th {\n",
       "        vertical-align: top;\n",
       "    }\n",
       "\n",
       "    .dataframe thead th {\n",
       "        text-align: right;\n",
       "    }\n",
       "</style>\n",
       "<table border=\"1\" class=\"dataframe\">\n",
       "  <thead>\n",
       "    <tr style=\"text-align: right;\">\n",
       "      <th></th>\n",
       "      <th>Variation_cls_1</th>\n",
       "      <th>Variation_cls_2</th>\n",
       "      <th>Variation_cls_3</th>\n",
       "      <th>Variation_cls_4</th>\n",
       "      <th>Variation_cls_5</th>\n",
       "      <th>Variation_cls_6</th>\n",
       "      <th>Variation_cls_7</th>\n",
       "      <th>Variation_cls_8</th>\n",
       "      <th>Variation_cls_9</th>\n",
       "    </tr>\n",
       "  </thead>\n",
       "  <tbody>\n",
       "    <tr>\n",
       "      <th>0</th>\n",
       "      <td>0.333333</td>\n",
       "      <td>0.333333</td>\n",
       "      <td>0.333333</td>\n",
       "      <td>0.333333</td>\n",
       "      <td>0.333333</td>\n",
       "      <td>0.333333</td>\n",
       "      <td>0.333333</td>\n",
       "      <td>0.333333</td>\n",
       "      <td>0.333333</td>\n",
       "    </tr>\n",
       "    <tr>\n",
       "      <th>1</th>\n",
       "      <td>0.333333</td>\n",
       "      <td>0.333333</td>\n",
       "      <td>0.333333</td>\n",
       "      <td>0.333333</td>\n",
       "      <td>0.333333</td>\n",
       "      <td>0.333333</td>\n",
       "      <td>0.333333</td>\n",
       "      <td>0.333333</td>\n",
       "      <td>0.333333</td>\n",
       "    </tr>\n",
       "    <tr>\n",
       "      <th>2</th>\n",
       "      <td>0.333333</td>\n",
       "      <td>0.333333</td>\n",
       "      <td>0.333333</td>\n",
       "      <td>0.333333</td>\n",
       "      <td>0.333333</td>\n",
       "      <td>0.333333</td>\n",
       "      <td>0.333333</td>\n",
       "      <td>0.333333</td>\n",
       "      <td>0.333333</td>\n",
       "    </tr>\n",
       "    <tr>\n",
       "      <th>3</th>\n",
       "      <td>0.333333</td>\n",
       "      <td>0.333333</td>\n",
       "      <td>0.333333</td>\n",
       "      <td>0.333333</td>\n",
       "      <td>0.333333</td>\n",
       "      <td>0.333333</td>\n",
       "      <td>0.333333</td>\n",
       "      <td>0.333333</td>\n",
       "      <td>0.333333</td>\n",
       "    </tr>\n",
       "    <tr>\n",
       "      <th>4</th>\n",
       "      <td>0.333333</td>\n",
       "      <td>0.333333</td>\n",
       "      <td>0.333333</td>\n",
       "      <td>0.333333</td>\n",
       "      <td>0.333333</td>\n",
       "      <td>0.333333</td>\n",
       "      <td>0.333333</td>\n",
       "      <td>0.333333</td>\n",
       "      <td>0.333333</td>\n",
       "    </tr>\n",
       "  </tbody>\n",
       "</table>\n",
       "</div>"
      ],
      "text/plain": [
       "   Variation_cls_1  Variation_cls_2  Variation_cls_3  Variation_cls_4  \\\n",
       "0         0.333333         0.333333         0.333333         0.333333   \n",
       "1         0.333333         0.333333         0.333333         0.333333   \n",
       "2         0.333333         0.333333         0.333333         0.333333   \n",
       "3         0.333333         0.333333         0.333333         0.333333   \n",
       "4         0.333333         0.333333         0.333333         0.333333   \n",
       "\n",
       "   Variation_cls_5  Variation_cls_6  Variation_cls_7  Variation_cls_8  \\\n",
       "0         0.333333         0.333333         0.333333         0.333333   \n",
       "1         0.333333         0.333333         0.333333         0.333333   \n",
       "2         0.333333         0.333333         0.333333         0.333333   \n",
       "3         0.333333         0.333333         0.333333         0.333333   \n",
       "4         0.333333         0.333333         0.333333         0.333333   \n",
       "\n",
       "   Variation_cls_9  \n",
       "0         0.333333  \n",
       "1         0.333333  \n",
       "2         0.333333  \n",
       "3         0.333333  \n",
       "4         0.333333  "
      ]
     },
     "execution_count": 28,
     "metadata": {},
     "output_type": "execute_result"
    }
   ],
   "source": [
    "res_encoded_var_train = get_response_encoded_data(train_df, res_variation_encoded_dict, 'Variation')\n",
    "res_encoded_var_test = get_response_encoded_data(test_df, res_variation_encoded_dict, 'Variation')\n",
    "res_encoded_var_test.head()"
   ]
  },
  {
   "cell_type": "markdown",
   "metadata": {},
   "source": [
    "### b)  Onehot encoding of Categorical features (b1. Gene & b2. Variation)"
   ]
  },
  {
   "cell_type": "code",
   "execution_count": 29,
   "metadata": {},
   "outputs": [
    {
     "name": "stdout",
     "output_type": "stream",
     "text": [
      "Shape of count encoded gene feature for validation : (997, 242)\n",
      "Shape of count encoded variation feature for validation : (997, 2125)\n"
     ]
    }
   ],
   "source": [
    "# declare a count vectorizer object\n",
    "count_vec= CountVectorizer()\n",
    "\n",
    "# fit to the Gene feature\n",
    "count_vec.fit(train_df['Gene'])\n",
    "col_name_list = count_vec.get_feature_names()\n",
    "\n",
    "# featurize the Gene column\n",
    "gene_count_feat_train = pd.DataFrame(count_vec.transform(train_df['Gene']).toarray(), \n",
    "                                     columns=col_name_list)\n",
    "gene_count_feat_test = pd.DataFrame(count_vec.transform(test_df['Gene']).toarray(),\n",
    "                                     columns=col_name_list)\n",
    "\n",
    "# featurize the Variation info\n",
    "count_vec.fit(train_df['Variation'])\n",
    "col_name_list = count_vec.get_feature_names()\n",
    "\n",
    "# featurize the Variation column\n",
    "var_count_feat_train = pd.DataFrame(count_vec.transform(train_df['Variation']).toarray(),\n",
    "                                                       columns=col_name_list)\n",
    "var_count_feat_test = pd.DataFrame(count_vec.transform(test_df['Variation']).toarray(),\n",
    "                                                      columns=col_name_list)\n",
    "\n",
    "\n",
    "print('Shape of count encoded gene feature for validation :', gene_count_feat_test.shape)\n",
    "print('Shape of count encoded variation feature for validation :', var_count_feat_test.shape)"
   ]
  },
  {
   "cell_type": "markdown",
   "metadata": {},
   "source": [
    "<h2>3.3 Univariate Analysis</h2>"
   ]
  },
  {
   "cell_type": "markdown",
   "metadata": {},
   "source": [
    "when we caculate the probability of a feature belongs to any particular class, we apply laplace smoothing\n",
    "<li>(numerator + 10\\*alpha) / (denominator + 90\\*alpha) </li>"
   ]
  },
  {
   "cell_type": "code",
   "execution_count": 30,
   "metadata": {},
   "outputs": [],
   "source": [
    "def plot_feature_distributions(df, feat_name, text_mode=False):\n",
    "    \n",
    "    # get the value count of features\n",
    "    \n",
    "    if text_mode:\n",
    "        # combine text of all \n",
    "        full_text = ' '.join(df[feat_name])\n",
    "        count_vectorizer = CountVectorizer()\n",
    "        count_vectorizer.fit([full_text])\n",
    "    \n",
    "        # get feature names\n",
    "        cat_value_counts = pd.Series(count_vectorizer.transform([full_text]).toarray()[0])\n",
    "        cat_value_counts.index = count_vectorizer.get_feature_names()\n",
    "    \n",
    "    else:\n",
    "        # get value count of each categorical variable\n",
    "        cat_value_counts = df[feat_name].value_counts()\n",
    "    \n",
    "    # print required information\n",
    "    print('Number of unique ' + feat_name + ' features : ', len(cat_value_counts))\n",
    "    print('The features are distributed as below: \\n')\n",
    "    \n",
    "    # plot PDF & CDF of the categorical feature\n",
    "    s = sum(cat_value_counts.values);\n",
    "    h = cat_value_counts.values/s;\n",
    "    c = np.cumsum(h)\n",
    "    \n",
    "    # plot PDF & CDF\n",
    "    plt.plot(h, label='Histrogram: ' + feat_name + ' feature')\n",
    "    plt.plot(c,label='CDF of ' + feat_name + ' feature')\n",
    "    \n",
    "    # set axis labels and plot it\n",
    "    plt.xlabel(feat_name + ' Indices')\n",
    "    plt.ylabel('Frequency')\n",
    "    plt.legend()\n",
    "    plt.grid()\n",
    "    plt.show()"
   ]
  },
  {
   "cell_type": "markdown",
   "metadata": {},
   "source": [
    "<h3>3.2.1 Univariate Analysis on Gene Feature</h3>"
   ]
  },
  {
   "cell_type": "markdown",
   "metadata": {},
   "source": [
    "<p style=\"font-size:18px;\"> <b>Q1.</b> Gene, What type of feature it is ?</p>\n",
    "<p style=\"font-size:16px;\"><b>Ans.</b> Gene is a categorical variable </p>\n",
    "<p style=\"font-size:18px;\"> <b>Q2.</b> How many categories are there and How they are distributed?</p>"
   ]
  },
  {
   "cell_type": "code",
   "execution_count": 31,
   "metadata": {},
   "outputs": [
    {
     "name": "stdout",
     "output_type": "stream",
     "text": [
      "Number of unique Gene features :  243\n",
      "The features are distributed as below: \n",
      "\n"
     ]
    },
    {
     "data": {
      "image/png": "[encoded data removed]",
      "text/plain": [
       "<Figure size 432x288 with 1 Axes>"
      ]
     },
     "metadata": {},
     "output_type": "display_data"
    }
   ],
   "source": [
    "plot_feature_distributions(train_df, 'Gene')"
   ]
  },
  {
   "cell_type": "markdown",
   "metadata": {},
   "source": [
    "<p style=\"font-size:18px;\"> <b>Q4.</b> How good is this gene feature  in predicting y_i?</p>"
   ]
  },
  {
   "cell_type": "markdown",
   "metadata": {},
   "source": [
    "There are many ways to estimate how good a feature is, in predicting y_i. One of the good methods is to build a proper ML model using just this feature. In this case, we will build a logistic regression model using only Gene feature (one hot encoded) to predict y_i."
   ]
  },
  {
   "cell_type": "code",
   "execution_count": 32,
   "metadata": {},
   "outputs": [],
   "source": [
    "def find_best_hyperparam_logreg(model, param_dict, X, y):\n",
    "\n",
    "    # create a grid search object to find the best hyperparam\n",
    "    grid_search_obj = GridSearchCV(estimator=model, param_grid=param_dict, \n",
    "                                  scoring='neg_log_loss', cv=3, n_jobs=-1, refit=False,\n",
    "                                  return_train_score=True)\n",
    "    \n",
    "    # fit to the data\n",
    "    grid_search_obj.fit(X, y)\n",
    "    \n",
    "    # get best hyperparam\n",
    "    best_hyp_value = grid_search_obj.best_params_\n",
    "    \n",
    "    # get complete information of this training\n",
    "    cv_info_df = pd.DataFrame(grid_search_obj.cv_results_, index=range(6))\n",
    "    \n",
    "    # get mean performace matrices\n",
    "    param_list = [ item['C'] for item in cv_info_df['params']]\n",
    "    score_list_tr = -cv_info_df['mean_test_score']\n",
    "    score_list_val = -cv_info_df['mean_train_score']\n",
    "                  \n",
    "    # plot the hyper params              \n",
    "    plt.plot(np.log10(param_list), score_list_tr, label='Train')\n",
    "    plt.plot(np.log10(param_list), score_list_val, label='Validation')\n",
    "    plt.legend()\n",
    "    plt.xlabel('Log C Values')\n",
    "    plt.ylabel('Multi Class Log Loss')\n",
    "    plt.title('Logistic Regression')\n",
    "    plt.show()\n",
    "    \n",
    "    print('Best hyperparam value: C', best_hyp_value)\n",
    "    \n",
    "    # return the best hyper param found\n",
    "    return best_hyp_value"
   ]
  },
  {
   "cell_type": "code",
   "execution_count": 33,
   "metadata": {},
   "outputs": [],
   "source": [
    "# get features & labels separately\n",
    "X_train = gene_count_feat_train\n",
    "y_train = train_df['Class']\n",
    "X_test = gene_count_feat_test\n",
    "y_test = test_df['Class']"
   ]
  },
  {
   "cell_type": "code",
   "execution_count": 34,
   "metadata": {},
   "outputs": [
    {
     "data": {
      "image/png": "[encoded data removed]",
      "text/plain": [
       "<Figure size 432x288 with 1 Axes>"
      ]
     },
     "metadata": {},
     "output_type": "display_data"
    },
    {
     "name": "stdout",
     "output_type": "stream",
     "text": [
      "Best hyperparam value: C {'C': 10.0}\n"
     ]
    }
   ],
   "source": [
    "# declare models & its hyper params\n",
    "clf = LogisticRegression(penalty='l2')\n",
    "hyp_grid = {'C' : [0.0001, 0.001, 0.01, 0.1, 1.0, 10.0]}\n",
    "\n",
    "# get best hyper param from cross validation dataset\n",
    "best_hyper_param = find_best_hyperparam_logreg(clf, hyp_grid, X_train, y_train)"
   ]
  },
  {
   "cell_type": "code",
   "execution_count": 35,
   "metadata": {},
   "outputs": [
    {
     "name": "stdout",
     "output_type": "stream",
     "text": [
      "Log loss on train data with best hyperparam:  0.9154303216551769\n",
      "Log loss on test data with best hyperparam:  1.1930723755523691\n"
     ]
    }
   ],
   "source": [
    "# train the model using the best hyper param\n",
    "clf = LogisticRegression(penalty='l2', C=best_hyper_param['C'])\n",
    "clf.fit(X_train, y_train)\n",
    "predicted_probs_tr = clf.predict_proba(X_train)\n",
    "log_los_tr = log_loss(y_train, predicted_probs_tr)\n",
    "print('Log loss on train data with best hyperparam: ', log_los_tr)\n",
    "\n",
    "# Evaluate the model on Test dataset\n",
    "predicted_probs_ts = clf.predict_proba(X_test)\n",
    "log_los_ts = log_loss(y_test, predicted_probs_ts)\n",
    "print('Log loss on test data with best hyperparam: ', log_los_ts)"
   ]
  },
  {
   "cell_type": "markdown",
   "metadata": {},
   "source": [
    "<p style=\"font-size:18px;\"> <b>Q5.</b> Is the Gene feature stable across all the data sets (Test, Train, Cross validation)?</p>\n",
    "<p style=\"font-size:16px;\"> <b>Ans.</b> Yes, it is. Otherwise, the Test errors would be significantly more than train error. </p>"
   ]
  },
  {
   "cell_type": "code",
   "execution_count": 36,
   "metadata": {},
   "outputs": [
    {
     "name": "stdout",
     "output_type": "stream",
     "text": [
      "151 genes of total 243 train genes are covered by test set : 62.139918\n"
     ]
    }
   ],
   "source": [
    "gene_feat_tr_set = set(train_df['Gene'])\n",
    "gene_feat_ts_set = set(test_df['Gene'])\n",
    "\n",
    "common_ts_genes = gene_feat_tr_set & gene_feat_ts_set\n",
    "\n",
    "per_cov_ts = (len(common_ts_genes) * 100.0) / len(gene_feat_tr_set)\n",
    "print('%d genes of total %d train genes are covered by test set : %f'%(len(common_ts_genes) , \n",
    "                                                                       len(gene_feat_tr_set),\n",
    "                                                                        per_cov_ts,))"
   ]
  },
  {
   "cell_type": "markdown",
   "metadata": {},
   "source": [
    "<h3>3.2.2 Univariate Analysis on Variation Feature</h3>"
   ]
  },
  {
   "cell_type": "markdown",
   "metadata": {},
   "source": [
    "<p style=\"font-size:18px;\"> <b>Q7.</b> Variation, What type of feature is it ?</p>\n",
    "<p style=\"font-size:16px;\"><b>Ans.</b> Variation is a categorical variable </p>\n",
    "<p style=\"font-size:18px;\"> <b>Q8.</b> How many categories are there?</p>"
   ]
  },
  {
   "cell_type": "code",
   "execution_count": 37,
   "metadata": {},
   "outputs": [
    {
     "name": "stdout",
     "output_type": "stream",
     "text": [
      "Number of unique Variation features :  2094\n",
      "The features are distributed as below: \n",
      "\n"
     ]
    },
    {
     "data": {
      "image/png": "[encoded data removed]",
      "text/plain": [
       "<Figure size 432x288 with 1 Axes>"
      ]
     },
     "metadata": {},
     "output_type": "display_data"
    }
   ],
   "source": [
    "plot_feature_distributions(train_df, 'Variation')"
   ]
  },
  {
   "cell_type": "markdown",
   "metadata": {},
   "source": [
    "<p style=\"font-size:18px;\"> <b>Q10.</b> How good is this Variation feature  in predicting y_i?</p>"
   ]
  },
  {
   "cell_type": "code",
   "execution_count": 38,
   "metadata": {
    "scrolled": false
   },
   "outputs": [],
   "source": [
    "# get features & labels separately\n",
    "X_train = var_count_feat_train\n",
    "y_train = train_df['Class']\n",
    "X_test = var_count_feat_test\n",
    "y_test = test_df['Class']"
   ]
  },
  {
   "cell_type": "code",
   "execution_count": 39,
   "metadata": {},
   "outputs": [
    {
     "data": {
      "image/png": "[encoded data removed]",
      "text/plain": [
       "<Figure size 432x288 with 1 Axes>"
      ]
     },
     "metadata": {},
     "output_type": "display_data"
    },
    {
     "name": "stdout",
     "output_type": "stream",
     "text": [
      "Best hyperparam value: C {'C': 10.0}\n"
     ]
    }
   ],
   "source": [
    "# declare models & its hyper params\n",
    "clf = LogisticRegression(penalty='l2')\n",
    "hyp_grid = {'C' : [0.0001, 0.001, 0.01, 0.1, 1.0, 10.0]}\n",
    "\n",
    "# get best hyper param from cross validation dataset\n",
    "best_hyper_param = find_best_hyperparam_logreg(clf, hyp_grid, X_train, y_train)"
   ]
  },
  {
   "cell_type": "code",
   "execution_count": 40,
   "metadata": {},
   "outputs": [
    {
     "name": "stdout",
     "output_type": "stream",
     "text": [
      "Log loss on train data with best hyperparam:  0.3751549003222865\n",
      "Log loss on test data with best hyperparam:  1.7260262307477015\n"
     ]
    }
   ],
   "source": [
    "# train the model using the best hyper param\n",
    "clf = LogisticRegression(penalty='l2', C=best_hyper_param['C'])\n",
    "clf.fit(X_train, y_train)\n",
    "predicted_probs_tr = clf.predict_proba(X_train)\n",
    "log_los_tr = log_loss(y_train, predicted_probs_tr)\n",
    "print('Log loss on train data with best hyperparam: ', log_los_tr)\n",
    "\n",
    "# Evaluate the model on Test dataset\n",
    "predicted_probs_ts = clf.predict_proba(X_test)\n",
    "log_los_ts = log_loss(y_test, predicted_probs_ts)\n",
    "print('Log loss on test data with best hyperparam: ', log_los_ts)"
   ]
  },
  {
   "cell_type": "markdown",
   "metadata": {},
   "source": [
    "<p style=\"font-size:18px;\"> <b>Q11.</b> Is the Variation feature stable across all the data sets (Test, Train, Cross validation)?</p>\n",
    "<p style=\"font-size:16px;\"> <b>Ans.</b> Not sure! But lets be very sure using the below analysis. </p>"
   ]
  },
  {
   "cell_type": "code",
   "execution_count": 41,
   "metadata": {
    "scrolled": true
   },
   "outputs": [
    {
     "name": "stdout",
     "output_type": "stream",
     "text": [
      "20 Variation of total 2094 train Variation are covered by test set : 2.169197\n"
     ]
    }
   ],
   "source": [
    "var_feat_tr_set = set(train_df['Variation'])\n",
    "var_feat_ts_set = set(test_df['Variation'])\n",
    "\n",
    "common_ts_var = var_feat_tr_set & var_feat_ts_set\n",
    "\n",
    "\n",
    "per_cov_ts = (len(common_ts_var) * 100.0) / len(var_feat_ts_set)\n",
    "print('%d Variation of total %d train Variation are covered by test set : %f'%(len(common_ts_var) , \n",
    "                                                                       len(var_feat_tr_set),\n",
    "                                                                        per_cov_ts,))"
   ]
  },
  {
   "cell_type": "markdown",
   "metadata": {},
   "source": [
    "<h3>3.2.3 Univariate Analysis on Text Feature</h3>"
   ]
  },
  {
   "cell_type": "markdown",
   "metadata": {},
   "source": [
    "1. How many unique words are present in train data?\n",
    "2. How are word frequencies distributed?\n",
    "3. How to featurize text field?\n",
    "4. Is the text feature useful in predicitng y_i?\n",
    "5. Is the text feature stable across train, test and CV datasets?"
   ]
  },
  {
   "cell_type": "code",
   "execution_count": 42,
   "metadata": {},
   "outputs": [],
   "source": [
    "def get_classwise_whole_count_dictionaries(df, feat_name):\n",
    "    \n",
    "    # join each string to form a big string\n",
    "    full_text = ' '.join(df[feat_name].tolist())\n",
    "    \n",
    "    # get text full count dictionary\n",
    "    count_vec_obj = CountVectorizer()\n",
    "    \n",
    "    # fit to the big string\n",
    "    count_vec_obj.fit([full_text])\n",
    "    \n",
    "    \n",
    "    # get the bow count representation\n",
    "    count_array = (count_vec_obj.transform([full_text]).toarray())[0]\n",
    "    \n",
    "    # get word:count dictionary\n",
    "    full_dict = dict(zip(count_vec_obj.get_feature_names(), count_array))\n",
    "    \n",
    "    \n",
    "    # get classwise dictionary\n",
    "    class_dict = dict()\n",
    "    \n",
    "    # do for each class\n",
    "    for gid, gdf in df.groupby(['Class']):\n",
    "        \n",
    "        full_text = ' '.join(gdf[feat_name].tolist())\n",
    "        \n",
    "        count_vec_obj.fit([full_text])\n",
    "        count_array = (count_vec_obj.transform([full_text]).toarray())[0]\n",
    "    \n",
    "        full_dict = dict(zip(count_vec_obj.get_feature_names(), count_array))\n",
    "        \n",
    "        class_dict[gid] = full_dict\n",
    "        \n",
    "        \n",
    "    print('Number of class dictionaries :', len(class_dict))\n",
    "\n",
    "    return full_dict, class_dict    "
   ]
  },
  {
   "cell_type": "code",
   "execution_count": 43,
   "metadata": {},
   "outputs": [],
   "source": [
    "def response_encoding_text(df, feat_name, full_dict, class_dict):\n",
    "    \n",
    "    num_class = 9\n",
    "    alpha = 1.0\n",
    "    class_labels_list = list(range(1, num_class + 1))\n",
    "    \n",
    "    # do for every text\n",
    "    all_text_enc_list = list()\n",
    "    \n",
    "    # process each individual row one by one\n",
    "    for text in df[feat_name]:\n",
    "        \n",
    "        # declare a vector for encoding initialize as zero vector\n",
    "        encoded_list = [0.0] * num_class\n",
    "        \n",
    "        # get the list of words in the text\n",
    "        words_list = text.split()\n",
    "        total_words = len(words_list)\n",
    "        \n",
    "        # process for every word\n",
    "        for word in words_list:\n",
    "            \n",
    "            # get the count of word from the full dict, if word is not present return 0\n",
    "            denominator =  full_dict.get(word, 0)\n",
    "                \n",
    "            # do for every class \n",
    "            for index, class_no in enumerate(class_labels_list):\n",
    "                # get the count of word from the class dict, if word is not present return 0\n",
    "                numerator = class_dict[class_no].get(word, 0)\n",
    "                # update the encoded list\n",
    "                encoded_list[index] += np.log((numerator + alpha * 10) / (denominator + alpha * 90))\n",
    "                \n",
    "        \n",
    "        # append to encoded list\n",
    "        encoded_list = list(np.exp(np.array(encoded_list) / total_words))\n",
    "        all_text_enc_list.append(encoded_list)\n",
    "        \n",
    "    # create encoded data frame\n",
    "    col_list = ['txt_cls_' + str(i) for i in class_labels_list]\n",
    "    encoded_df = pd.DataFrame(all_text_enc_list, columns=col_list)\n",
    "        \n",
    "    # nomalize the row vectors\n",
    "    encoded_df = pd.DataFrame(normalize(encoded_df.values, norm='l2', axis=1), columns=col_list)\n",
    "        \n",
    "        \n",
    "    return encoded_df    "
   ]
  },
  {
   "cell_type": "code",
   "execution_count": 44,
   "metadata": {},
   "outputs": [
    {
     "data": {
      "text/html": [
       "<div>\n",
       "<style scoped>\n",
       "    .dataframe tbody tr th:only-of-type {\n",
       "        vertical-align: middle;\n",
       "    }\n",
       "\n",
       "    .dataframe tbody tr th {\n",
       "        vertical-align: top;\n",
       "    }\n",
       "\n",
       "    .dataframe thead th {\n",
       "        text-align: right;\n",
       "    }\n",
       "</style>\n",
       "<table border=\"1\" class=\"dataframe\">\n",
       "  <thead>\n",
       "    <tr style=\"text-align: right;\">\n",
       "      <th></th>\n",
       "      <th>ID</th>\n",
       "      <th>Gene</th>\n",
       "      <th>Variation</th>\n",
       "      <th>TEXT</th>\n",
       "      <th>Class</th>\n",
       "    </tr>\n",
       "  </thead>\n",
       "  <tbody>\n",
       "    <tr>\n",
       "      <th>0</th>\n",
       "      <td>837</td>\n",
       "      <td>ABL1</td>\n",
       "      <td>BCR-ABL1_Fusion</td>\n",
       "      <td>bcr abl oncogene generated philadelphia chromo...</td>\n",
       "      <td>7</td>\n",
       "    </tr>\n",
       "    <tr>\n",
       "      <th>1</th>\n",
       "      <td>493</td>\n",
       "      <td>TP53</td>\n",
       "      <td>R156C</td>\n",
       "      <td>tumor suppressor p53 dependent apoptosis thoug...</td>\n",
       "      <td>1</td>\n",
       "    </tr>\n",
       "    <tr>\n",
       "      <th>2</th>\n",
       "      <td>1376</td>\n",
       "      <td>AKT2</td>\n",
       "      <td>Amplification</td>\n",
       "      <td>previously demonstrated putative oncogene akt2...</td>\n",
       "      <td>7</td>\n",
       "    </tr>\n",
       "    <tr>\n",
       "      <th>3</th>\n",
       "      <td>3283</td>\n",
       "      <td>RET</td>\n",
       "      <td>E768D</td>\n",
       "      <td>several mutations identi ed kinase domain ret ...</td>\n",
       "      <td>2</td>\n",
       "    </tr>\n",
       "    <tr>\n",
       "      <th>4</th>\n",
       "      <td>2708</td>\n",
       "      <td>BRAF</td>\n",
       "      <td>FAM131B-BRAF_Fusion</td>\n",
       "      <td>genes crucial cancer development mutated via v...</td>\n",
       "      <td>7</td>\n",
       "    </tr>\n",
       "  </tbody>\n",
       "</table>\n",
       "</div>"
      ],
      "text/plain": [
       "     ID  Gene            Variation  \\\n",
       "0   837  ABL1      BCR-ABL1_Fusion   \n",
       "1   493  TP53                R156C   \n",
       "2  1376  AKT2        Amplification   \n",
       "3  3283   RET                E768D   \n",
       "4  2708  BRAF  FAM131B-BRAF_Fusion   \n",
       "\n",
       "                                                TEXT  Class  \n",
       "0  bcr abl oncogene generated philadelphia chromo...      7  \n",
       "1  tumor suppressor p53 dependent apoptosis thoug...      1  \n",
       "2  previously demonstrated putative oncogene akt2...      7  \n",
       "3  several mutations identi ed kinase domain ret ...      2  \n",
       "4  genes crucial cancer development mutated via v...      7  "
      ]
     },
     "execution_count": 44,
     "metadata": {},
     "output_type": "execute_result"
    }
   ],
   "source": [
    "train_df.head()"
   ]
  },
  {
   "cell_type": "code",
   "execution_count": 45,
   "metadata": {},
   "outputs": [
    {
     "name": "stdout",
     "output_type": "stream",
     "text": [
      "Number of class dictionaries : 9\n"
     ]
    }
   ],
   "source": [
    "full_dict, class_dict = get_classwise_whole_count_dictionaries(train_df, 'TEXT')"
   ]
  },
  {
   "cell_type": "code",
   "execution_count": 46,
   "metadata": {},
   "outputs": [],
   "source": [
    "#response coding of text features\n",
    "text_response_coding_train  = response_encoding_text(train_df, 'TEXT', full_dict, class_dict)\n",
    "text_response_coding_test  = response_encoding_text(test_df, 'TEXT', full_dict, class_dict)"
   ]
  },
  {
   "cell_type": "code",
   "execution_count": 47,
   "metadata": {},
   "outputs": [
    {
     "data": {
      "text/html": [
       "<div>\n",
       "<style scoped>\n",
       "    .dataframe tbody tr th:only-of-type {\n",
       "        vertical-align: middle;\n",
       "    }\n",
       "\n",
       "    .dataframe tbody tr th {\n",
       "        vertical-align: top;\n",
       "    }\n",
       "\n",
       "    .dataframe thead th {\n",
       "        text-align: right;\n",
       "    }\n",
       "</style>\n",
       "<table border=\"1\" class=\"dataframe\">\n",
       "  <thead>\n",
       "    <tr style=\"text-align: right;\">\n",
       "      <th></th>\n",
       "      <th>txt_cls_1</th>\n",
       "      <th>txt_cls_2</th>\n",
       "      <th>txt_cls_3</th>\n",
       "      <th>txt_cls_4</th>\n",
       "      <th>txt_cls_5</th>\n",
       "      <th>txt_cls_6</th>\n",
       "      <th>txt_cls_7</th>\n",
       "      <th>txt_cls_8</th>\n",
       "      <th>txt_cls_9</th>\n",
       "    </tr>\n",
       "  </thead>\n",
       "  <tbody>\n",
       "    <tr>\n",
       "      <th>0</th>\n",
       "      <td>0.310007</td>\n",
       "      <td>0.322107</td>\n",
       "      <td>0.052857</td>\n",
       "      <td>0.383367</td>\n",
       "      <td>0.117426</td>\n",
       "      <td>0.137037</td>\n",
       "      <td>0.784390</td>\n",
       "      <td>0.026984</td>\n",
       "      <td>0.042601</td>\n",
       "    </tr>\n",
       "    <tr>\n",
       "      <th>1</th>\n",
       "      <td>0.497635</td>\n",
       "      <td>0.285996</td>\n",
       "      <td>0.054467</td>\n",
       "      <td>0.519657</td>\n",
       "      <td>0.132252</td>\n",
       "      <td>0.164782</td>\n",
       "      <td>0.591402</td>\n",
       "      <td>0.027305</td>\n",
       "      <td>0.049102</td>\n",
       "    </tr>\n",
       "    <tr>\n",
       "      <th>2</th>\n",
       "      <td>0.336888</td>\n",
       "      <td>0.302474</td>\n",
       "      <td>0.065920</td>\n",
       "      <td>0.365679</td>\n",
       "      <td>0.129038</td>\n",
       "      <td>0.134495</td>\n",
       "      <td>0.784854</td>\n",
       "      <td>0.037657</td>\n",
       "      <td>0.069250</td>\n",
       "    </tr>\n",
       "    <tr>\n",
       "      <th>3</th>\n",
       "      <td>0.296638</td>\n",
       "      <td>0.350547</td>\n",
       "      <td>0.060826</td>\n",
       "      <td>0.381435</td>\n",
       "      <td>0.139218</td>\n",
       "      <td>0.121461</td>\n",
       "      <td>0.776456</td>\n",
       "      <td>0.027782</td>\n",
       "      <td>0.046263</td>\n",
       "    </tr>\n",
       "    <tr>\n",
       "      <th>4</th>\n",
       "      <td>0.311841</td>\n",
       "      <td>0.356645</td>\n",
       "      <td>0.052052</td>\n",
       "      <td>0.343076</td>\n",
       "      <td>0.121950</td>\n",
       "      <td>0.130782</td>\n",
       "      <td>0.787546</td>\n",
       "      <td>0.029820</td>\n",
       "      <td>0.045347</td>\n",
       "    </tr>\n",
       "  </tbody>\n",
       "</table>\n",
       "</div>"
      ],
      "text/plain": [
       "   txt_cls_1  txt_cls_2  txt_cls_3  txt_cls_4  txt_cls_5  txt_cls_6  \\\n",
       "0   0.310007   0.322107   0.052857   0.383367   0.117426   0.137037   \n",
       "1   0.497635   0.285996   0.054467   0.519657   0.132252   0.164782   \n",
       "2   0.336888   0.302474   0.065920   0.365679   0.129038   0.134495   \n",
       "3   0.296638   0.350547   0.060826   0.381435   0.139218   0.121461   \n",
       "4   0.311841   0.356645   0.052052   0.343076   0.121950   0.130782   \n",
       "\n",
       "   txt_cls_7  txt_cls_8  txt_cls_9  \n",
       "0   0.784390   0.026984   0.042601  \n",
       "1   0.591402   0.027305   0.049102  \n",
       "2   0.784854   0.037657   0.069250  \n",
       "3   0.776456   0.027782   0.046263  \n",
       "4   0.787546   0.029820   0.045347  "
      ]
     },
     "execution_count": 47,
     "metadata": {},
     "output_type": "execute_result"
    }
   ],
   "source": [
    "text_response_coding_train.head()"
   ]
  },
  {
   "cell_type": "markdown",
   "metadata": {},
   "source": [
    "## B) BoW representation & TF-IDF representation of TEXT"
   ]
  },
  {
   "cell_type": "code",
   "execution_count": 48,
   "metadata": {},
   "outputs": [],
   "source": [
    "# 1) Encode text data using TF-IDF Representation\n",
    "tfidf_vec_obj = TfidfVectorizer(min_df=0.005, max_df=0.95, max_features=3000, \n",
    "                                ngram_range=(1,4))\n",
    "tfidf_vec_obj.fit(train_df['TEXT'])\n",
    "\n",
    "# get feature names as a list\n",
    "feat_names_list = tfidf_vec_obj.get_feature_names()\n",
    "\n",
    "# don't forget to normalize every feature\n",
    "text_tfidf_coding_train = tfidf_vec_obj.transform(train_df['TEXT'])\n",
    "text_tfidf_coding_train = pd.DataFrame(text_tfidf_coding_train.toarray(),\n",
    "                                       columns=feat_names_list)\n",
    "# we use the same vectorizer that was trained on train data\n",
    "text_tfidf_coding_test = tfidf_vec_obj.transform(test_df['TEXT'])\n",
    "text_tfidf_coding_test = pd.DataFrame(text_tfidf_coding_test.toarray(),\n",
    "                                      columns=feat_names_list)\n",
    "\n",
    "\n",
    "# 2) Bi gram features for Logistic Regression model\n",
    "count_vec_bgram_obj = CountVectorizer(ngram_range=(1,2), min_df=0.005, max_df=0.95,\n",
    "                                      max_features=3000)\n",
    "count_vec_bgram_obj.fit(train_df['TEXT'])\n",
    "\n",
    "# get feature names as a list\n",
    "feat_names_list = count_vec_bgram_obj.get_feature_names()\n",
    "\n",
    "# don't forget to normalize every feature\n",
    "text_bibow_coding_train = count_vec_bgram_obj.transform(train_df['TEXT'])\n",
    "text_bibow_coding_train = pd.DataFrame(text_bibow_coding_train.toarray(),\n",
    "                                       columns=feat_names_list)\n",
    "# we use the same vectorizer that was trained on train data\n",
    "text_bibow_coding_test = count_vec_bgram_obj.transform(test_df['TEXT'])\n",
    "text_bibow_coding_test = pd.DataFrame(text_bibow_coding_test.toarray(),\n",
    "                                      columns=feat_names_list)"
   ]
  },
  {
   "cell_type": "code",
   "execution_count": 49,
   "metadata": {},
   "outputs": [
    {
     "name": "stdout",
     "output_type": "stream",
     "text": [
      "Number of unique TEXT features :  131487\n",
      "The features are distributed as below: \n",
      "\n"
     ]
    },
    {
     "data": {
      "image/png": "[encoded data removed]",
      "text/plain": [
       "<Figure size 432x288 with 1 Axes>"
      ]
     },
     "metadata": {},
     "output_type": "display_data"
    }
   ],
   "source": [
    "plot_feature_distributions(train_df, 'TEXT', text_mode=True)"
   ]
  },
  {
   "cell_type": "code",
   "execution_count": 50,
   "metadata": {},
   "outputs": [],
   "source": [
    "# get features & labels separately\n",
    "X_train = text_bibow_coding_train\n",
    "y_train = train_df['Class']\n",
    "X_test = text_bibow_coding_test\n",
    "y_test = test_df['Class']"
   ]
  },
  {
   "cell_type": "code",
   "execution_count": 51,
   "metadata": {},
   "outputs": [
    {
     "name": "stderr",
     "output_type": "stream",
     "text": [
      "/home/amd_3/anaconda3/lib/python3.6/site-packages/sklearn/linear_model/base.py:340: RuntimeWarning: overflow encountered in exp\n",
      "  np.exp(prob, prob)\n",
      "/home/amd_3/anaconda3/lib/python3.6/site-packages/sklearn/linear_model/base.py:340: RuntimeWarning: overflow encountered in exp\n",
      "  np.exp(prob, prob)\n"
     ]
    },
    {
     "data": {
      "image/png": "[encoded data removed]",
      "text/plain": [
       "<Figure size 432x288 with 1 Axes>"
      ]
     },
     "metadata": {},
     "output_type": "display_data"
    },
    {
     "name": "stdout",
     "output_type": "stream",
     "text": [
      "Best hyperparam value: C {'C': 0.0001}\n"
     ]
    }
   ],
   "source": [
    "# declare models & its hyper params\n",
    "clf = LogisticRegression(penalty='l2')\n",
    "hyp_grid = {'C' : [0.0001, 0.001, 0.01, 0.1, 1.0, 10.0]}\n",
    "\n",
    "# get best hyper param from cross validation dataset\n",
    "best_hyper_param = find_best_hyperparam_logreg(clf, hyp_grid, X_train, y_train)"
   ]
  },
  {
   "cell_type": "code",
   "execution_count": 52,
   "metadata": {},
   "outputs": [
    {
     "name": "stdout",
     "output_type": "stream",
     "text": [
      "Log loss on train data with best hyperparam:  0.737860934109062\n"
     ]
    }
   ],
   "source": [
    "# train the model using the best hyper param\n",
    "clf = LogisticRegression(penalty='l2', C=best_hyper_param['C'])\n",
    "clf.fit(X_train, y_train)\n",
    "predicted_probs_tr = clf.predict_proba(X_train)\n",
    "log_los_tr = log_loss(y_train, predicted_probs_tr)\n",
    "print('Log loss on train data with best hyperparam: ', log_los_tr)"
   ]
  },
  {
   "cell_type": "code",
   "execution_count": 53,
   "metadata": {},
   "outputs": [
    {
     "name": "stdout",
     "output_type": "stream",
     "text": [
      "Log loss on test data with best hyperparam:  1.1902999552349864\n"
     ]
    }
   ],
   "source": [
    "# Evaluate the model on Test dataset\n",
    "predicted_probs_ts = clf.predict_proba(X_test)\n",
    "log_los_ts = log_loss(y_test, predicted_probs_ts)\n",
    "print('Log loss on test data with best hyperparam: ', log_los_ts)"
   ]
  },
  {
   "cell_type": "markdown",
   "metadata": {},
   "source": [
    "<p style=\"font-size:18px;\"> <b>Q.</b> Is the Text feature stable across all the data sets (Test, Train, Cross validation)?</p>\n",
    "<p style=\"font-size:16px;\"> <b>Ans.</b> Yes, it seems like! </p>"
   ]
  },
  {
   "cell_type": "code",
   "execution_count": 54,
   "metadata": {},
   "outputs": [],
   "source": [
    "def get_intersec_text(trian_df, other_df):\n",
    "    \n",
    "    # get vectorizer\n",
    "    count_vec = CountVectorizer(min_df=0.005, max_df=0.95, max_features=3000)\n",
    "    \n",
    "    # get unique words of train data\n",
    "    count_vec.fit(trian_df['TEXT'])\n",
    "    train_features = set(count_vec.get_feature_names())\n",
    "    \n",
    "    # get unique words of other data\n",
    "    count_vec.fit(other_df['TEXT'])\n",
    "    other_features = set(count_vec.get_feature_names())\n",
    "    \n",
    "    # get commmon words\n",
    "    common_words_set = train_features & other_features\n",
    "    \n",
    "    # get feature count of each type of data\n",
    "    num_train_features = len(train_features)\n",
    "    num_other_features = len(other_features)\n",
    "    num_common_words = len(common_words_set)\n",
    "    \n",
    "    ret_tuple = (num_train_features, num_other_features, num_common_words,)\n",
    "    \n",
    "    #coverage = (num_common_words * 100.0) / num_other_features\n",
    "    print('# train features(words):%d, Other df words:%d, common words:%d'%ret_tuple)\n",
    "    \n",
    "    return ret_tuple"
   ]
  },
  {
   "cell_type": "code",
   "execution_count": 55,
   "metadata": {},
   "outputs": [
    {
     "name": "stdout",
     "output_type": "stream",
     "text": [
      "# train features(words):3000, Other df words:3000, common words:2831\n"
     ]
    }
   ],
   "source": [
    "test_counts_info = get_intersec_text(train_df, test_df)"
   ]
  },
  {
   "cell_type": "markdown",
   "metadata": {},
   "source": [
    "<p style=\"font-size:24px;text-align:Center\"> <b>Stacking the three types of features </b><p>"
   ]
  },
  {
   "cell_type": "markdown",
   "metadata": {},
   "source": [
    "### a) Response encoded Text, Gene, Variation"
   ]
  },
  {
   "cell_type": "code",
   "execution_count": 56,
   "metadata": {},
   "outputs": [],
   "source": [
    "res_enc_train = pd.concat([res_encoded_gene_train, res_encoded_var_train, \n",
    "                           text_response_coding_train], axis=1)\n",
    "res_enc_train['Label'] = y_train\n",
    "res_enc_train['ID'] = train_df['ID']\n",
    "\n",
    "\n",
    "res_enc_test = pd.concat([res_encoded_gene_test, res_encoded_var_test, \n",
    "                          text_response_coding_test], axis=1)\n",
    "res_enc_test['Label'] = y_test\n",
    "res_enc_test['ID'] = test_df['ID']"
   ]
  },
  {
   "cell_type": "code",
   "execution_count": 57,
   "metadata": {},
   "outputs": [
    {
     "data": {
      "text/html": [
       "<div>\n",
       "<style scoped>\n",
       "    .dataframe tbody tr th:only-of-type {\n",
       "        vertical-align: middle;\n",
       "    }\n",
       "\n",
       "    .dataframe tbody tr th {\n",
       "        vertical-align: top;\n",
       "    }\n",
       "\n",
       "    .dataframe thead th {\n",
       "        text-align: right;\n",
       "    }\n",
       "</style>\n",
       "<table border=\"1\" class=\"dataframe\">\n",
       "  <thead>\n",
       "    <tr style=\"text-align: right;\">\n",
       "      <th></th>\n",
       "      <th>Gene_cls_1</th>\n",
       "      <th>Gene_cls_2</th>\n",
       "      <th>Gene_cls_3</th>\n",
       "      <th>Gene_cls_4</th>\n",
       "      <th>Gene_cls_5</th>\n",
       "      <th>Gene_cls_6</th>\n",
       "      <th>Gene_cls_7</th>\n",
       "      <th>Gene_cls_8</th>\n",
       "      <th>Gene_cls_9</th>\n",
       "      <th>Variation_cls_1</th>\n",
       "      <th>...</th>\n",
       "      <th>txt_cls_2</th>\n",
       "      <th>txt_cls_3</th>\n",
       "      <th>txt_cls_4</th>\n",
       "      <th>txt_cls_5</th>\n",
       "      <th>txt_cls_6</th>\n",
       "      <th>txt_cls_7</th>\n",
       "      <th>txt_cls_8</th>\n",
       "      <th>txt_cls_9</th>\n",
       "      <th>Label</th>\n",
       "      <th>ID</th>\n",
       "    </tr>\n",
       "  </thead>\n",
       "  <tbody>\n",
       "    <tr>\n",
       "      <th>0</th>\n",
       "      <td>0.133363</td>\n",
       "      <td>0.102587</td>\n",
       "      <td>0.153881</td>\n",
       "      <td>0.943801</td>\n",
       "      <td>0.123104</td>\n",
       "      <td>0.102587</td>\n",
       "      <td>0.102587</td>\n",
       "      <td>0.102587</td>\n",
       "      <td>0.102587</td>\n",
       "      <td>0.333333</td>\n",
       "      <td>...</td>\n",
       "      <td>0.241903</td>\n",
       "      <td>0.081329</td>\n",
       "      <td>0.673463</td>\n",
       "      <td>0.135594</td>\n",
       "      <td>0.138891</td>\n",
       "      <td>0.571859</td>\n",
       "      <td>0.029039</td>\n",
       "      <td>0.049997</td>\n",
       "      <td>4</td>\n",
       "      <td>2160</td>\n",
       "    </tr>\n",
       "    <tr>\n",
       "      <th>1</th>\n",
       "      <td>0.527026</td>\n",
       "      <td>0.087838</td>\n",
       "      <td>0.210810</td>\n",
       "      <td>0.324999</td>\n",
       "      <td>0.614864</td>\n",
       "      <td>0.404053</td>\n",
       "      <td>0.087838</td>\n",
       "      <td>0.087838</td>\n",
       "      <td>0.087838</td>\n",
       "      <td>0.333333</td>\n",
       "      <td>...</td>\n",
       "      <td>0.208513</td>\n",
       "      <td>0.098989</td>\n",
       "      <td>0.585623</td>\n",
       "      <td>0.184118</td>\n",
       "      <td>0.385307</td>\n",
       "      <td>0.498507</td>\n",
       "      <td>0.026397</td>\n",
       "      <td>0.045978</td>\n",
       "      <td>6</td>\n",
       "      <td>2517</td>\n",
       "    </tr>\n",
       "    <tr>\n",
       "      <th>2</th>\n",
       "      <td>0.298829</td>\n",
       "      <td>0.353162</td>\n",
       "      <td>0.271663</td>\n",
       "      <td>0.298829</td>\n",
       "      <td>0.271663</td>\n",
       "      <td>0.325995</td>\n",
       "      <td>0.543326</td>\n",
       "      <td>0.271663</td>\n",
       "      <td>0.271663</td>\n",
       "      <td>0.333333</td>\n",
       "      <td>...</td>\n",
       "      <td>0.295147</td>\n",
       "      <td>0.067328</td>\n",
       "      <td>0.430490</td>\n",
       "      <td>0.136399</td>\n",
       "      <td>0.174333</td>\n",
       "      <td>0.719943</td>\n",
       "      <td>0.034165</td>\n",
       "      <td>0.059677</td>\n",
       "      <td>4</td>\n",
       "      <td>2381</td>\n",
       "    </tr>\n",
       "    <tr>\n",
       "      <th>3</th>\n",
       "      <td>0.192095</td>\n",
       "      <td>0.268933</td>\n",
       "      <td>0.345770</td>\n",
       "      <td>0.192095</td>\n",
       "      <td>0.249723</td>\n",
       "      <td>0.192095</td>\n",
       "      <td>0.749169</td>\n",
       "      <td>0.192095</td>\n",
       "      <td>0.192095</td>\n",
       "      <td>0.333333</td>\n",
       "      <td>...</td>\n",
       "      <td>0.311618</td>\n",
       "      <td>0.063975</td>\n",
       "      <td>0.238983</td>\n",
       "      <td>0.117999</td>\n",
       "      <td>0.119678</td>\n",
       "      <td>0.871482</td>\n",
       "      <td>0.022833</td>\n",
       "      <td>0.034372</td>\n",
       "      <td>7</td>\n",
       "      <td>1528</td>\n",
       "    </tr>\n",
       "    <tr>\n",
       "      <th>4</th>\n",
       "      <td>0.147154</td>\n",
       "      <td>0.529756</td>\n",
       "      <td>0.147154</td>\n",
       "      <td>0.147154</td>\n",
       "      <td>0.147154</td>\n",
       "      <td>0.161870</td>\n",
       "      <td>0.750487</td>\n",
       "      <td>0.147154</td>\n",
       "      <td>0.147154</td>\n",
       "      <td>0.333333</td>\n",
       "      <td>...</td>\n",
       "      <td>0.296605</td>\n",
       "      <td>0.063341</td>\n",
       "      <td>0.233855</td>\n",
       "      <td>0.095713</td>\n",
       "      <td>0.111868</td>\n",
       "      <td>0.887650</td>\n",
       "      <td>0.024259</td>\n",
       "      <td>0.037644</td>\n",
       "      <td>3</td>\n",
       "      <td>2968</td>\n",
       "    </tr>\n",
       "  </tbody>\n",
       "</table>\n",
       "<p>5 rows × 29 columns</p>\n",
       "</div>"
      ],
      "text/plain": [
       "   Gene_cls_1  Gene_cls_2  Gene_cls_3  Gene_cls_4  Gene_cls_5  Gene_cls_6  \\\n",
       "0    0.133363    0.102587    0.153881    0.943801    0.123104    0.102587   \n",
       "1    0.527026    0.087838    0.210810    0.324999    0.614864    0.404053   \n",
       "2    0.298829    0.353162    0.271663    0.298829    0.271663    0.325995   \n",
       "3    0.192095    0.268933    0.345770    0.192095    0.249723    0.192095   \n",
       "4    0.147154    0.529756    0.147154    0.147154    0.147154    0.161870   \n",
       "\n",
       "   Gene_cls_7  Gene_cls_8  Gene_cls_9  Variation_cls_1  ...   txt_cls_2  \\\n",
       "0    0.102587    0.102587    0.102587         0.333333  ...    0.241903   \n",
       "1    0.087838    0.087838    0.087838         0.333333  ...    0.208513   \n",
       "2    0.543326    0.271663    0.271663         0.333333  ...    0.295147   \n",
       "3    0.749169    0.192095    0.192095         0.333333  ...    0.311618   \n",
       "4    0.750487    0.147154    0.147154         0.333333  ...    0.296605   \n",
       "\n",
       "   txt_cls_3  txt_cls_4  txt_cls_5  txt_cls_6  txt_cls_7  txt_cls_8  \\\n",
       "0   0.081329   0.673463   0.135594   0.138891   0.571859   0.029039   \n",
       "1   0.098989   0.585623   0.184118   0.385307   0.498507   0.026397   \n",
       "2   0.067328   0.430490   0.136399   0.174333   0.719943   0.034165   \n",
       "3   0.063975   0.238983   0.117999   0.119678   0.871482   0.022833   \n",
       "4   0.063341   0.233855   0.095713   0.111868   0.887650   0.024259   \n",
       "\n",
       "   txt_cls_9  Label    ID  \n",
       "0   0.049997      4  2160  \n",
       "1   0.045978      6  2517  \n",
       "2   0.059677      4  2381  \n",
       "3   0.034372      7  1528  \n",
       "4   0.037644      3  2968  \n",
       "\n",
       "[5 rows x 29 columns]"
      ]
     },
     "execution_count": 57,
     "metadata": {},
     "output_type": "execute_result"
    }
   ],
   "source": [
    "res_enc_test.head()"
   ]
  },
  {
   "cell_type": "markdown",
   "metadata": {},
   "source": [
    "### b) Bow & TF-IDF Text features, onehot encoded gene, variation"
   ]
  },
  {
   "cell_type": "code",
   "execution_count": 58,
   "metadata": {},
   "outputs": [
    {
     "name": "stdout",
     "output_type": "stream",
     "text": [
      "TF-IDF encoded train data shape:  (2324, 5369)\n",
      "BoW bigram encoded train data shape:  (2324, 5369)\n"
     ]
    }
   ],
   "source": [
    "# 1) TFIDF Features DF \n",
    "tfidf_df_train = pd.concat([gene_count_feat_train, var_count_feat_train, \n",
    "                           text_tfidf_coding_train], axis=1)\n",
    "# add label & id column\n",
    "tfidf_df_train['Label'] = y_train\n",
    "tfidf_df_train['ID'] = train_df['ID']\n",
    "\n",
    "\n",
    "tfidf_df_test = pd.concat([gene_count_feat_test, var_count_feat_test,\n",
    "                           text_tfidf_coding_test], axis=1)\n",
    "tfidf_df_test['Label'] = y_test\n",
    "tfidf_df_test['ID'] = test_df['ID']\n",
    "\n",
    "print('TF-IDF encoded train data shape: ', tfidf_df_train.shape)\n",
    "\n",
    "\n",
    "\n",
    "# 2) Bow Bigram Features DF (both unigram & bi-gram)\n",
    "bow_bi_df_train = pd.concat([gene_count_feat_train, var_count_feat_train,\n",
    "                             text_bibow_coding_train], axis=1)\n",
    "bow_bi_df_train['Label'] = y_train\n",
    "bow_bi_df_train['ID'] = train_df['ID']\n",
    "\n",
    "\n",
    "bow_bi_df_test = pd.concat([gene_count_feat_test, var_count_feat_test, \n",
    "                            text_bibow_coding_test], axis=1)\n",
    "bow_bi_df_test['Label'] = y_test\n",
    "bow_bi_df_test['ID'] = test_df['ID']\n",
    "\n",
    "print('BoW bigram encoded train data shape: ', bow_bi_df_train.shape)"
   ]
  },
  {
   "cell_type": "code",
   "execution_count": 59,
   "metadata": {},
   "outputs": [
    {
     "data": {
      "text/html": [
       "<div>\n",
       "<style scoped>\n",
       "    .dataframe tbody tr th:only-of-type {\n",
       "        vertical-align: middle;\n",
       "    }\n",
       "\n",
       "    .dataframe tbody tr th {\n",
       "        vertical-align: top;\n",
       "    }\n",
       "\n",
       "    .dataframe thead th {\n",
       "        text-align: right;\n",
       "    }\n",
       "</style>\n",
       "<table border=\"1\" class=\"dataframe\">\n",
       "  <thead>\n",
       "    <tr style=\"text-align: right;\">\n",
       "      <th></th>\n",
       "      <th>abl1</th>\n",
       "      <th>acvr1</th>\n",
       "      <th>ago2</th>\n",
       "      <th>akt1</th>\n",
       "      <th>akt2</th>\n",
       "      <th>akt3</th>\n",
       "      <th>alk</th>\n",
       "      <th>apc</th>\n",
       "      <th>ar</th>\n",
       "      <th>araf</th>\n",
       "      <th>...</th>\n",
       "      <th>xl</th>\n",
       "      <th>year</th>\n",
       "      <th>years</th>\n",
       "      <th>yeast</th>\n",
       "      <th>yellow</th>\n",
       "      <th>yes</th>\n",
       "      <th>yet</th>\n",
       "      <th>zinc</th>\n",
       "      <th>Label</th>\n",
       "      <th>ID</th>\n",
       "    </tr>\n",
       "  </thead>\n",
       "  <tbody>\n",
       "    <tr>\n",
       "      <th>0</th>\n",
       "      <td>0</td>\n",
       "      <td>0</td>\n",
       "      <td>0</td>\n",
       "      <td>0</td>\n",
       "      <td>0</td>\n",
       "      <td>0</td>\n",
       "      <td>0</td>\n",
       "      <td>0</td>\n",
       "      <td>0</td>\n",
       "      <td>0</td>\n",
       "      <td>...</td>\n",
       "      <td>0.0</td>\n",
       "      <td>0.0</td>\n",
       "      <td>0.0</td>\n",
       "      <td>0.00000</td>\n",
       "      <td>0.0</td>\n",
       "      <td>0.0</td>\n",
       "      <td>0.000000</td>\n",
       "      <td>0.0</td>\n",
       "      <td>4</td>\n",
       "      <td>2160</td>\n",
       "    </tr>\n",
       "    <tr>\n",
       "      <th>1</th>\n",
       "      <td>0</td>\n",
       "      <td>0</td>\n",
       "      <td>0</td>\n",
       "      <td>0</td>\n",
       "      <td>0</td>\n",
       "      <td>0</td>\n",
       "      <td>0</td>\n",
       "      <td>0</td>\n",
       "      <td>0</td>\n",
       "      <td>0</td>\n",
       "      <td>...</td>\n",
       "      <td>0.0</td>\n",
       "      <td>0.0</td>\n",
       "      <td>0.0</td>\n",
       "      <td>0.00908</td>\n",
       "      <td>0.0</td>\n",
       "      <td>0.0</td>\n",
       "      <td>0.001994</td>\n",
       "      <td>0.0</td>\n",
       "      <td>6</td>\n",
       "      <td>2517</td>\n",
       "    </tr>\n",
       "    <tr>\n",
       "      <th>2</th>\n",
       "      <td>0</td>\n",
       "      <td>0</td>\n",
       "      <td>0</td>\n",
       "      <td>0</td>\n",
       "      <td>0</td>\n",
       "      <td>0</td>\n",
       "      <td>0</td>\n",
       "      <td>0</td>\n",
       "      <td>0</td>\n",
       "      <td>0</td>\n",
       "      <td>...</td>\n",
       "      <td>0.0</td>\n",
       "      <td>0.0</td>\n",
       "      <td>0.0</td>\n",
       "      <td>0.00000</td>\n",
       "      <td>0.0</td>\n",
       "      <td>0.0</td>\n",
       "      <td>0.001287</td>\n",
       "      <td>0.0</td>\n",
       "      <td>4</td>\n",
       "      <td>2381</td>\n",
       "    </tr>\n",
       "    <tr>\n",
       "      <th>3</th>\n",
       "      <td>0</td>\n",
       "      <td>0</td>\n",
       "      <td>0</td>\n",
       "      <td>0</td>\n",
       "      <td>0</td>\n",
       "      <td>0</td>\n",
       "      <td>1</td>\n",
       "      <td>0</td>\n",
       "      <td>0</td>\n",
       "      <td>0</td>\n",
       "      <td>...</td>\n",
       "      <td>0.0</td>\n",
       "      <td>0.0</td>\n",
       "      <td>0.0</td>\n",
       "      <td>0.00000</td>\n",
       "      <td>0.0</td>\n",
       "      <td>0.0</td>\n",
       "      <td>0.000000</td>\n",
       "      <td>0.0</td>\n",
       "      <td>7</td>\n",
       "      <td>1528</td>\n",
       "    </tr>\n",
       "    <tr>\n",
       "      <th>4</th>\n",
       "      <td>0</td>\n",
       "      <td>0</td>\n",
       "      <td>0</td>\n",
       "      <td>0</td>\n",
       "      <td>0</td>\n",
       "      <td>0</td>\n",
       "      <td>0</td>\n",
       "      <td>0</td>\n",
       "      <td>0</td>\n",
       "      <td>0</td>\n",
       "      <td>...</td>\n",
       "      <td>0.0</td>\n",
       "      <td>0.0</td>\n",
       "      <td>0.0</td>\n",
       "      <td>0.00000</td>\n",
       "      <td>0.0</td>\n",
       "      <td>0.0</td>\n",
       "      <td>0.000000</td>\n",
       "      <td>0.0</td>\n",
       "      <td>3</td>\n",
       "      <td>2968</td>\n",
       "    </tr>\n",
       "  </tbody>\n",
       "</table>\n",
       "<p>5 rows × 5369 columns</p>\n",
       "</div>"
      ],
      "text/plain": [
       "   abl1  acvr1  ago2  akt1  akt2  akt3  alk  apc  ar  araf  ...    xl  year  \\\n",
       "0     0      0     0     0     0     0    0    0   0     0  ...   0.0   0.0   \n",
       "1     0      0     0     0     0     0    0    0   0     0  ...   0.0   0.0   \n",
       "2     0      0     0     0     0     0    0    0   0     0  ...   0.0   0.0   \n",
       "3     0      0     0     0     0     0    1    0   0     0  ...   0.0   0.0   \n",
       "4     0      0     0     0     0     0    0    0   0     0  ...   0.0   0.0   \n",
       "\n",
       "   years    yeast  yellow  yes       yet  zinc  Label    ID  \n",
       "0    0.0  0.00000     0.0  0.0  0.000000   0.0      4  2160  \n",
       "1    0.0  0.00908     0.0  0.0  0.001994   0.0      6  2517  \n",
       "2    0.0  0.00000     0.0  0.0  0.001287   0.0      4  2381  \n",
       "3    0.0  0.00000     0.0  0.0  0.000000   0.0      7  1528  \n",
       "4    0.0  0.00000     0.0  0.0  0.000000   0.0      3  2968  \n",
       "\n",
       "[5 rows x 5369 columns]"
      ]
     },
     "execution_count": 59,
     "metadata": {},
     "output_type": "execute_result"
    }
   ],
   "source": [
    "tfidf_df_test.head()"
   ]
  },
  {
   "cell_type": "code",
   "execution_count": 60,
   "metadata": {},
   "outputs": [
    {
     "data": {
      "text/html": [
       "<div>\n",
       "<style scoped>\n",
       "    .dataframe tbody tr th:only-of-type {\n",
       "        vertical-align: middle;\n",
       "    }\n",
       "\n",
       "    .dataframe tbody tr th {\n",
       "        vertical-align: top;\n",
       "    }\n",
       "\n",
       "    .dataframe thead th {\n",
       "        text-align: right;\n",
       "    }\n",
       "</style>\n",
       "<table border=\"1\" class=\"dataframe\">\n",
       "  <thead>\n",
       "    <tr style=\"text-align: right;\">\n",
       "      <th></th>\n",
       "      <th>abl1</th>\n",
       "      <th>acvr1</th>\n",
       "      <th>ago2</th>\n",
       "      <th>akt1</th>\n",
       "      <th>akt2</th>\n",
       "      <th>akt3</th>\n",
       "      <th>alk</th>\n",
       "      <th>apc</th>\n",
       "      <th>ar</th>\n",
       "      <th>araf</th>\n",
       "      <th>...</th>\n",
       "      <th>xl</th>\n",
       "      <th>year</th>\n",
       "      <th>years</th>\n",
       "      <th>yeast</th>\n",
       "      <th>yellow</th>\n",
       "      <th>yes</th>\n",
       "      <th>yet</th>\n",
       "      <th>zinc</th>\n",
       "      <th>Label</th>\n",
       "      <th>ID</th>\n",
       "    </tr>\n",
       "  </thead>\n",
       "  <tbody>\n",
       "    <tr>\n",
       "      <th>0</th>\n",
       "      <td>0</td>\n",
       "      <td>0</td>\n",
       "      <td>0</td>\n",
       "      <td>0</td>\n",
       "      <td>0</td>\n",
       "      <td>0</td>\n",
       "      <td>0</td>\n",
       "      <td>0</td>\n",
       "      <td>0</td>\n",
       "      <td>0</td>\n",
       "      <td>...</td>\n",
       "      <td>0</td>\n",
       "      <td>0</td>\n",
       "      <td>0</td>\n",
       "      <td>0</td>\n",
       "      <td>0</td>\n",
       "      <td>0</td>\n",
       "      <td>0</td>\n",
       "      <td>0</td>\n",
       "      <td>4</td>\n",
       "      <td>2160</td>\n",
       "    </tr>\n",
       "    <tr>\n",
       "      <th>1</th>\n",
       "      <td>0</td>\n",
       "      <td>0</td>\n",
       "      <td>0</td>\n",
       "      <td>0</td>\n",
       "      <td>0</td>\n",
       "      <td>0</td>\n",
       "      <td>0</td>\n",
       "      <td>0</td>\n",
       "      <td>0</td>\n",
       "      <td>0</td>\n",
       "      <td>...</td>\n",
       "      <td>0</td>\n",
       "      <td>0</td>\n",
       "      <td>0</td>\n",
       "      <td>3</td>\n",
       "      <td>0</td>\n",
       "      <td>0</td>\n",
       "      <td>1</td>\n",
       "      <td>0</td>\n",
       "      <td>6</td>\n",
       "      <td>2517</td>\n",
       "    </tr>\n",
       "    <tr>\n",
       "      <th>2</th>\n",
       "      <td>0</td>\n",
       "      <td>0</td>\n",
       "      <td>0</td>\n",
       "      <td>0</td>\n",
       "      <td>0</td>\n",
       "      <td>0</td>\n",
       "      <td>0</td>\n",
       "      <td>0</td>\n",
       "      <td>0</td>\n",
       "      <td>0</td>\n",
       "      <td>...</td>\n",
       "      <td>0</td>\n",
       "      <td>0</td>\n",
       "      <td>0</td>\n",
       "      <td>0</td>\n",
       "      <td>0</td>\n",
       "      <td>0</td>\n",
       "      <td>1</td>\n",
       "      <td>0</td>\n",
       "      <td>4</td>\n",
       "      <td>2381</td>\n",
       "    </tr>\n",
       "    <tr>\n",
       "      <th>3</th>\n",
       "      <td>0</td>\n",
       "      <td>0</td>\n",
       "      <td>0</td>\n",
       "      <td>0</td>\n",
       "      <td>0</td>\n",
       "      <td>0</td>\n",
       "      <td>1</td>\n",
       "      <td>0</td>\n",
       "      <td>0</td>\n",
       "      <td>0</td>\n",
       "      <td>...</td>\n",
       "      <td>0</td>\n",
       "      <td>0</td>\n",
       "      <td>0</td>\n",
       "      <td>0</td>\n",
       "      <td>0</td>\n",
       "      <td>0</td>\n",
       "      <td>0</td>\n",
       "      <td>0</td>\n",
       "      <td>7</td>\n",
       "      <td>1528</td>\n",
       "    </tr>\n",
       "    <tr>\n",
       "      <th>4</th>\n",
       "      <td>0</td>\n",
       "      <td>0</td>\n",
       "      <td>0</td>\n",
       "      <td>0</td>\n",
       "      <td>0</td>\n",
       "      <td>0</td>\n",
       "      <td>0</td>\n",
       "      <td>0</td>\n",
       "      <td>0</td>\n",
       "      <td>0</td>\n",
       "      <td>...</td>\n",
       "      <td>0</td>\n",
       "      <td>0</td>\n",
       "      <td>0</td>\n",
       "      <td>0</td>\n",
       "      <td>0</td>\n",
       "      <td>0</td>\n",
       "      <td>0</td>\n",
       "      <td>0</td>\n",
       "      <td>3</td>\n",
       "      <td>2968</td>\n",
       "    </tr>\n",
       "  </tbody>\n",
       "</table>\n",
       "<p>5 rows × 5369 columns</p>\n",
       "</div>"
      ],
      "text/plain": [
       "   abl1  acvr1  ago2  akt1  akt2  akt3  alk  apc  ar  araf  ...   xl  year  \\\n",
       "0     0      0     0     0     0     0    0    0   0     0  ...    0     0   \n",
       "1     0      0     0     0     0     0    0    0   0     0  ...    0     0   \n",
       "2     0      0     0     0     0     0    0    0   0     0  ...    0     0   \n",
       "3     0      0     0     0     0     0    1    0   0     0  ...    0     0   \n",
       "4     0      0     0     0     0     0    0    0   0     0  ...    0     0   \n",
       "\n",
       "   years  yeast  yellow  yes  yet  zinc  Label    ID  \n",
       "0      0      0       0    0    0     0      4  2160  \n",
       "1      0      3       0    0    1     0      6  2517  \n",
       "2      0      0       0    0    1     0      4  2381  \n",
       "3      0      0       0    0    0     0      7  1528  \n",
       "4      0      0       0    0    0     0      3  2968  \n",
       "\n",
       "[5 rows x 5369 columns]"
      ]
     },
     "execution_count": 60,
     "metadata": {},
     "output_type": "execute_result"
    }
   ],
   "source": [
    "bow_bi_df_test.head()"
   ]
  },
  {
   "cell_type": "markdown",
   "metadata": {},
   "source": [
    "# Save all the dataframes to disk"
   ]
  },
  {
   "cell_type": "code",
   "execution_count": 61,
   "metadata": {},
   "outputs": [],
   "source": [
    "# Save Response Encoded Data\n",
    "res_enc_train.to_csv('./data/Response_Encoded_train.csv', index=False)\n",
    "res_enc_test.to_csv('./data/Response_Encoded_test.csv', index=False)\n",
    "\n",
    "# Save TF-IDF related features\n",
    "tfidf_df_train.to_csv('./data/TF_IDF_train.csv', index=False)\n",
    "tfidf_df_test.to_csv('./data/TF_IDF_test.csv', index=False)\n",
    "\n",
    "# Save BoW related features\n",
    "bow_bi_df_train.to_csv('./data/BoW_bigram_train.csv', index=False)\n",
    "bow_bi_df_test.to_csv('./data/BoW_bigram_test.csv', index=False)"
   ]
  },
  {
   "cell_type": "markdown",
   "metadata": {},
   "source": [
    "# Procedure Summary"
   ]
  },
  {
   "cell_type": "markdown",
   "metadata": {},
   "source": [
    "<ul>\n",
    "<li> Data cleaning and preprocessing of all the three fields gene, variation & text </li>\n",
    "<li> Converted the fields to vectors using multiple methods </li>\n",
    "<li> Vectoried data using Bag of Words method </li>\n",
    "<li> Vectoried data using TF-IDF method </li>\n",
    "<li> Vectoried data using response encoding method method</li>\n",
    "</ul>"
   ]
  },
  {
   "cell_type": "markdown",
   "metadata": {},
   "source": [
    "# Conclusion"
   ]
  },
  {
   "cell_type": "markdown",
   "metadata": {},
   "source": [
    "<ul>\n",
    "<li> Prepared the dataset from raw data </li>\n",
    "<li> Basic Analysis is done on all three types of features and results are plotted </li>\n",
    "<li> Obtained statistical results such as the distribution of data points, </li>\n",
    "<li> Identified that the gene feature is really useful in prediction train loss: 0.9154\n",
    "     and test log loss 1.1930.</li>\n",
    "<li> The coverage of variation feature in test data is very less 2.16%, train log loss :0.3751\n",
    "     and test log loss 1.7260 showed deviation</li>\n",
    "<li> Identified that the text data is also useful in deciding the class train log loss: 0.73786\n",
    "     and test log loss 1.1902. Also the coverage of words in test data is 2831/3000</li>\n",
    "<li> Random model showed a test log loss of 2.5032, so our model needs to give a log loss \n",
    "     better than 2.5032 </li>\n",
    "</ul>"
   ]
  }
 ],
 "metadata": {
  "anaconda-cloud": {},
  "kernelspec": {
   "display_name": "Python 3",
   "language": "python",
   "name": "python3"
  },
  "language_info": {
   "codemirror_mode": {
    "name": "ipython",
    "version": 3
   },
   "file_extension": ".py",
   "mimetype": "text/x-python",
   "name": "python",
   "nbconvert_exporter": "python",
   "pygments_lexer": "ipython3",
   "version": "3.6.5"
  }
 },
 "nbformat": 4,
 "nbformat_minor": 2
}
